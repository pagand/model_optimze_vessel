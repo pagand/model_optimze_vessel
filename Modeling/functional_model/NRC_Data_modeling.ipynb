{
  "cells": [
    {
      "cell_type": "markdown",
      "metadata": {
        "id": "view-in-github",
        "colab_type": "text"
      },
      "source": [
        "<a href=\"https://colab.research.google.com/github/pagand/NRC/blob/main/Modeling/NRC_Data_modeling.ipynb\" target=\"_parent\"><img src=\"https://colab.research.google.com/assets/colab-badge.svg\" alt=\"Open In Colab\"/></a>"
      ]
    },
    {
      "cell_type": "markdown",
      "metadata": {
        "id": "NS-sZwSnPK09"
      },
      "source": [
        "# Predicting Vessel Model"
      ]
    },
    {
      "cell_type": "code",
      "execution_count": null,
      "metadata": {
        "colab": {
          "base_uri": "https://localhost:8080/"
        },
        "id": "voU1i4FoYIDi",
        "outputId": "80a571ff-d16c-48ba-ab3a-81b4b07327a6"
      },
      "outputs": [
        {
          "output_type": "stream",
          "name": "stdout",
          "text": [
            "Drive already mounted at /content/drive; to attempt to forcibly remount, call drive.mount(\"/content/drive\", force_remount=True).\n"
          ]
        }
      ],
      "source": [
        "from google.colab import drive\n",
        "drive.mount('/content/drive')"
      ]
    },
    {
      "cell_type": "markdown",
      "metadata": {
        "id": "7qWegSy3PK0_"
      },
      "source": [
        "## 2. Data modeling"
      ]
    },
    {
      "cell_type": "code",
      "execution_count": null,
      "metadata": {
        "id": "RFi-j1V2PK0_"
      },
      "outputs": [],
      "source": [
        "# Import libraries\n",
        "import pandas as pd # for data analsysis\n",
        "import numpy as np # to handle data in a vectorized manner\n",
        "import seaborn as sns # for visualization\n",
        "from sklearn.model_selection import RandomizedSearchCV # for hyperparameters tuning\n",
        "from sklearn.model_selection import cross_val_score # for cross-validation evaluation\n",
        "from sklearn.metrics import mean_squared_error # to calculate the RMSE\n",
        "from joblib import dump # to save a model to disk"
      ]
    },
    {
      "cell_type": "markdown",
      "metadata": {
        "id": "Co0K-mhLPK1A"
      },
      "source": [
        "Read the dataframe shaped in the previous step"
      ]
    },
    {
      "cell_type": "code",
      "execution_count": null,
      "metadata": {
        "id": "sjfSVFAcPK1B"
      },
      "outputs": [],
      "source": [
        "# Save the data frame to a file\n",
        "df_dummy = pd.read_pickle('/content/drive/MyDrive/df_dummy.pkl')"
      ]
    },
    {
      "cell_type": "code",
      "execution_count": null,
      "metadata": {
        "colab": {
          "base_uri": "https://localhost:8080/",
          "height": 487
        },
        "id": "mb7KsWjmPK1B",
        "outputId": "393a014e-197d-4e97-c778-de58079e0e9b"
      },
      "outputs": [
        {
          "output_type": "execute_result",
          "data": {
            "text/plain": [
              "                  Dati   DEPTH  ENGINE_1_FLOWRATE  ENGINE_1_FLOWRATEA  \\\n",
              "101      190830_014200  0.0178          -491.7960           2699.4573   \n",
              "102      190830_014300  0.0214          -508.4334           2691.1284   \n",
              "103      190830_014400  0.0224          -526.3786           2676.7666   \n",
              "149      190830_023000  0.0206          -647.2186           2595.2126   \n",
              "150      190830_023100  0.0215          -748.3470           2514.7930   \n",
              "...                ...     ...                ...                 ...   \n",
              "1098603  210930_184800  0.0000          -437.3173           2773.9004   \n",
              "1098604  210930_184900  0.0000          -701.7150           2589.6277   \n",
              "1098605  210930_185000  0.0000          -668.4650           2552.8059   \n",
              "1098606  210930_185100  0.0000          -681.8159           2528.8425   \n",
              "1098607  210930_185200  0.0000          -635.7716           2587.7688   \n",
              "\n",
              "         ENGINE_1_FLOWTEMPA  ENGINE_1_FUEL_CONSUMPTION  ENGINE_2_FLOWRATE  \\\n",
              "101                 25.6667                   433.1773          -488.7158   \n",
              "102                 25.6117                   446.8389          -505.0066   \n",
              "103                 25.6000                   461.7249          -508.8996   \n",
              "149                 25.7867                   561.3356          -619.0157   \n",
              "150                 25.9300                   648.2187          -711.7693   \n",
              "...                     ...                        ...                ...   \n",
              "1098603             28.1483                   384.4809          -548.2856   \n",
              "1098604             27.7500                   610.2312          -770.2502   \n",
              "1098605             26.7733                   582.8834          -775.3284   \n",
              "1098606             27.1217                   593.1966          -798.6168   \n",
              "1098607             27.7767                   552.8069          -729.5177   \n",
              "\n",
              "         ENGINE_2_FLOWRATEA  ENGINE_2_FLOWTEMPA  ENGINE_2_FUEL_CONSUMPTION  \\\n",
              "101               1346.4690             25.7750                   425.8530   \n",
              "102               1360.2504             25.7033                   439.7944   \n",
              "103               1371.9293             25.7000                   443.0702   \n",
              "149               1460.5645             25.7100                   536.0195   \n",
              "150               1551.8956             25.8250                   615.8354   \n",
              "...                     ...                 ...                        ...   \n",
              "1098603           1400.9686             28.1283                   475.5235   \n",
              "1098604           1605.7662             27.7733                   666.4017   \n",
              "1098605           1607.3137             26.9217                   671.4541   \n",
              "1098606           1625.3855             27.1767                   691.1131   \n",
              "1098607           1565.5732             27.7633                   631.1689   \n",
              "\n",
              "         ...  THRUST_2  TORQUE_1  TORQUE_2  TRACK_MADE_GOOD  WIND_ANGLE  \\\n",
              "101      ...       0.0   36.4661       0.0         246.2233       330.0   \n",
              "102      ...       0.0   36.8859       0.0         245.2183       344.0   \n",
              "103      ...       0.0   37.5654       0.0         227.5150         0.0   \n",
              "149      ...       0.0  297.5184       0.0          40.9200        42.0   \n",
              "150      ...       0.0  326.9279       0.0          57.4183        34.0   \n",
              "...      ...       ...       ...       ...              ...         ...   \n",
              "1098603  ...       0.0  190.7087       0.0           0.0000        57.0   \n",
              "1098604  ...       0.0  301.3788       0.0           0.0000        71.0   \n",
              "1098605  ...       0.0  289.5499       0.0           0.0000        76.0   \n",
              "1098606  ...       0.0  294.3107       0.0           0.0000        46.0   \n",
              "1098607  ...       0.0  258.9505       0.0           0.0000         8.0   \n",
              "\n",
              "         WIND_SPEED  WIND_ANGLE_TRUE  WIND_SPEED_TRUE  Mode1  Trip  \n",
              "101          9.1800         -78.0717           6.8517      0     0  \n",
              "102         11.5333         -57.5176           3.7343      0     0  \n",
              "103         11.8067         -17.2299           2.7061      0     0  \n",
              "149          7.4267          60.3045          21.1114      0     0  \n",
              "150         15.6367          71.3253          31.6594      0     0  \n",
              "...             ...              ...              ...    ...   ...  \n",
              "1098603     11.0867          77.1380          25.0563      1     1  \n",
              "1098604      9.2133          82.5716          20.2350      0     1  \n",
              "1098605     12.3350         -65.7418          22.2754      0     1  \n",
              "1098606     25.2217         -35.8626          37.3497      0     1  \n",
              "1098607     26.5300         -23.1360          40.2615      0     1  \n",
              "\n",
              "[317235 rows x 35 columns]"
            ],
            "text/html": [
              "\n",
              "  <div id=\"df-84d859a4-3f3c-40f8-8205-2fd7f0e38d4d\">\n",
              "    <div class=\"colab-df-container\">\n",
              "      <div>\n",
              "<style scoped>\n",
              "    .dataframe tbody tr th:only-of-type {\n",
              "        vertical-align: middle;\n",
              "    }\n",
              "\n",
              "    .dataframe tbody tr th {\n",
              "        vertical-align: top;\n",
              "    }\n",
              "\n",
              "    .dataframe thead th {\n",
              "        text-align: right;\n",
              "    }\n",
              "</style>\n",
              "<table border=\"1\" class=\"dataframe\">\n",
              "  <thead>\n",
              "    <tr style=\"text-align: right;\">\n",
              "      <th></th>\n",
              "      <th>Dati</th>\n",
              "      <th>DEPTH</th>\n",
              "      <th>ENGINE_1_FLOWRATE</th>\n",
              "      <th>ENGINE_1_FLOWRATEA</th>\n",
              "      <th>ENGINE_1_FLOWTEMPA</th>\n",
              "      <th>ENGINE_1_FUEL_CONSUMPTION</th>\n",
              "      <th>ENGINE_2_FLOWRATE</th>\n",
              "      <th>ENGINE_2_FLOWRATEA</th>\n",
              "      <th>ENGINE_2_FLOWTEMPA</th>\n",
              "      <th>ENGINE_2_FUEL_CONSUMPTION</th>\n",
              "      <th>...</th>\n",
              "      <th>THRUST_2</th>\n",
              "      <th>TORQUE_1</th>\n",
              "      <th>TORQUE_2</th>\n",
              "      <th>TRACK_MADE_GOOD</th>\n",
              "      <th>WIND_ANGLE</th>\n",
              "      <th>WIND_SPEED</th>\n",
              "      <th>WIND_ANGLE_TRUE</th>\n",
              "      <th>WIND_SPEED_TRUE</th>\n",
              "      <th>Mode1</th>\n",
              "      <th>Trip</th>\n",
              "    </tr>\n",
              "  </thead>\n",
              "  <tbody>\n",
              "    <tr>\n",
              "      <th>101</th>\n",
              "      <td>190830_014200</td>\n",
              "      <td>0.0178</td>\n",
              "      <td>-491.7960</td>\n",
              "      <td>2699.4573</td>\n",
              "      <td>25.6667</td>\n",
              "      <td>433.1773</td>\n",
              "      <td>-488.7158</td>\n",
              "      <td>1346.4690</td>\n",
              "      <td>25.7750</td>\n",
              "      <td>425.8530</td>\n",
              "      <td>...</td>\n",
              "      <td>0.0</td>\n",
              "      <td>36.4661</td>\n",
              "      <td>0.0</td>\n",
              "      <td>246.2233</td>\n",
              "      <td>330.0</td>\n",
              "      <td>9.1800</td>\n",
              "      <td>-78.0717</td>\n",
              "      <td>6.8517</td>\n",
              "      <td>0</td>\n",
              "      <td>0</td>\n",
              "    </tr>\n",
              "    <tr>\n",
              "      <th>102</th>\n",
              "      <td>190830_014300</td>\n",
              "      <td>0.0214</td>\n",
              "      <td>-508.4334</td>\n",
              "      <td>2691.1284</td>\n",
              "      <td>25.6117</td>\n",
              "      <td>446.8389</td>\n",
              "      <td>-505.0066</td>\n",
              "      <td>1360.2504</td>\n",
              "      <td>25.7033</td>\n",
              "      <td>439.7944</td>\n",
              "      <td>...</td>\n",
              "      <td>0.0</td>\n",
              "      <td>36.8859</td>\n",
              "      <td>0.0</td>\n",
              "      <td>245.2183</td>\n",
              "      <td>344.0</td>\n",
              "      <td>11.5333</td>\n",
              "      <td>-57.5176</td>\n",
              "      <td>3.7343</td>\n",
              "      <td>0</td>\n",
              "      <td>0</td>\n",
              "    </tr>\n",
              "    <tr>\n",
              "      <th>103</th>\n",
              "      <td>190830_014400</td>\n",
              "      <td>0.0224</td>\n",
              "      <td>-526.3786</td>\n",
              "      <td>2676.7666</td>\n",
              "      <td>25.6000</td>\n",
              "      <td>461.7249</td>\n",
              "      <td>-508.8996</td>\n",
              "      <td>1371.9293</td>\n",
              "      <td>25.7000</td>\n",
              "      <td>443.0702</td>\n",
              "      <td>...</td>\n",
              "      <td>0.0</td>\n",
              "      <td>37.5654</td>\n",
              "      <td>0.0</td>\n",
              "      <td>227.5150</td>\n",
              "      <td>0.0</td>\n",
              "      <td>11.8067</td>\n",
              "      <td>-17.2299</td>\n",
              "      <td>2.7061</td>\n",
              "      <td>0</td>\n",
              "      <td>0</td>\n",
              "    </tr>\n",
              "    <tr>\n",
              "      <th>149</th>\n",
              "      <td>190830_023000</td>\n",
              "      <td>0.0206</td>\n",
              "      <td>-647.2186</td>\n",
              "      <td>2595.2126</td>\n",
              "      <td>25.7867</td>\n",
              "      <td>561.3356</td>\n",
              "      <td>-619.0157</td>\n",
              "      <td>1460.5645</td>\n",
              "      <td>25.7100</td>\n",
              "      <td>536.0195</td>\n",
              "      <td>...</td>\n",
              "      <td>0.0</td>\n",
              "      <td>297.5184</td>\n",
              "      <td>0.0</td>\n",
              "      <td>40.9200</td>\n",
              "      <td>42.0</td>\n",
              "      <td>7.4267</td>\n",
              "      <td>60.3045</td>\n",
              "      <td>21.1114</td>\n",
              "      <td>0</td>\n",
              "      <td>0</td>\n",
              "    </tr>\n",
              "    <tr>\n",
              "      <th>150</th>\n",
              "      <td>190830_023100</td>\n",
              "      <td>0.0215</td>\n",
              "      <td>-748.3470</td>\n",
              "      <td>2514.7930</td>\n",
              "      <td>25.9300</td>\n",
              "      <td>648.2187</td>\n",
              "      <td>-711.7693</td>\n",
              "      <td>1551.8956</td>\n",
              "      <td>25.8250</td>\n",
              "      <td>615.8354</td>\n",
              "      <td>...</td>\n",
              "      <td>0.0</td>\n",
              "      <td>326.9279</td>\n",
              "      <td>0.0</td>\n",
              "      <td>57.4183</td>\n",
              "      <td>34.0</td>\n",
              "      <td>15.6367</td>\n",
              "      <td>71.3253</td>\n",
              "      <td>31.6594</td>\n",
              "      <td>0</td>\n",
              "      <td>0</td>\n",
              "    </tr>\n",
              "    <tr>\n",
              "      <th>...</th>\n",
              "      <td>...</td>\n",
              "      <td>...</td>\n",
              "      <td>...</td>\n",
              "      <td>...</td>\n",
              "      <td>...</td>\n",
              "      <td>...</td>\n",
              "      <td>...</td>\n",
              "      <td>...</td>\n",
              "      <td>...</td>\n",
              "      <td>...</td>\n",
              "      <td>...</td>\n",
              "      <td>...</td>\n",
              "      <td>...</td>\n",
              "      <td>...</td>\n",
              "      <td>...</td>\n",
              "      <td>...</td>\n",
              "      <td>...</td>\n",
              "      <td>...</td>\n",
              "      <td>...</td>\n",
              "      <td>...</td>\n",
              "      <td>...</td>\n",
              "    </tr>\n",
              "    <tr>\n",
              "      <th>1098603</th>\n",
              "      <td>210930_184800</td>\n",
              "      <td>0.0000</td>\n",
              "      <td>-437.3173</td>\n",
              "      <td>2773.9004</td>\n",
              "      <td>28.1483</td>\n",
              "      <td>384.4809</td>\n",
              "      <td>-548.2856</td>\n",
              "      <td>1400.9686</td>\n",
              "      <td>28.1283</td>\n",
              "      <td>475.5235</td>\n",
              "      <td>...</td>\n",
              "      <td>0.0</td>\n",
              "      <td>190.7087</td>\n",
              "      <td>0.0</td>\n",
              "      <td>0.0000</td>\n",
              "      <td>57.0</td>\n",
              "      <td>11.0867</td>\n",
              "      <td>77.1380</td>\n",
              "      <td>25.0563</td>\n",
              "      <td>1</td>\n",
              "      <td>1</td>\n",
              "    </tr>\n",
              "    <tr>\n",
              "      <th>1098604</th>\n",
              "      <td>210930_184900</td>\n",
              "      <td>0.0000</td>\n",
              "      <td>-701.7150</td>\n",
              "      <td>2589.6277</td>\n",
              "      <td>27.7500</td>\n",
              "      <td>610.2312</td>\n",
              "      <td>-770.2502</td>\n",
              "      <td>1605.7662</td>\n",
              "      <td>27.7733</td>\n",
              "      <td>666.4017</td>\n",
              "      <td>...</td>\n",
              "      <td>0.0</td>\n",
              "      <td>301.3788</td>\n",
              "      <td>0.0</td>\n",
              "      <td>0.0000</td>\n",
              "      <td>71.0</td>\n",
              "      <td>9.2133</td>\n",
              "      <td>82.5716</td>\n",
              "      <td>20.2350</td>\n",
              "      <td>0</td>\n",
              "      <td>1</td>\n",
              "    </tr>\n",
              "    <tr>\n",
              "      <th>1098605</th>\n",
              "      <td>210930_185000</td>\n",
              "      <td>0.0000</td>\n",
              "      <td>-668.4650</td>\n",
              "      <td>2552.8059</td>\n",
              "      <td>26.7733</td>\n",
              "      <td>582.8834</td>\n",
              "      <td>-775.3284</td>\n",
              "      <td>1607.3137</td>\n",
              "      <td>26.9217</td>\n",
              "      <td>671.4541</td>\n",
              "      <td>...</td>\n",
              "      <td>0.0</td>\n",
              "      <td>289.5499</td>\n",
              "      <td>0.0</td>\n",
              "      <td>0.0000</td>\n",
              "      <td>76.0</td>\n",
              "      <td>12.3350</td>\n",
              "      <td>-65.7418</td>\n",
              "      <td>22.2754</td>\n",
              "      <td>0</td>\n",
              "      <td>1</td>\n",
              "    </tr>\n",
              "    <tr>\n",
              "      <th>1098606</th>\n",
              "      <td>210930_185100</td>\n",
              "      <td>0.0000</td>\n",
              "      <td>-681.8159</td>\n",
              "      <td>2528.8425</td>\n",
              "      <td>27.1217</td>\n",
              "      <td>593.1966</td>\n",
              "      <td>-798.6168</td>\n",
              "      <td>1625.3855</td>\n",
              "      <td>27.1767</td>\n",
              "      <td>691.1131</td>\n",
              "      <td>...</td>\n",
              "      <td>0.0</td>\n",
              "      <td>294.3107</td>\n",
              "      <td>0.0</td>\n",
              "      <td>0.0000</td>\n",
              "      <td>46.0</td>\n",
              "      <td>25.2217</td>\n",
              "      <td>-35.8626</td>\n",
              "      <td>37.3497</td>\n",
              "      <td>0</td>\n",
              "      <td>1</td>\n",
              "    </tr>\n",
              "    <tr>\n",
              "      <th>1098607</th>\n",
              "      <td>210930_185200</td>\n",
              "      <td>0.0000</td>\n",
              "      <td>-635.7716</td>\n",
              "      <td>2587.7688</td>\n",
              "      <td>27.7767</td>\n",
              "      <td>552.8069</td>\n",
              "      <td>-729.5177</td>\n",
              "      <td>1565.5732</td>\n",
              "      <td>27.7633</td>\n",
              "      <td>631.1689</td>\n",
              "      <td>...</td>\n",
              "      <td>0.0</td>\n",
              "      <td>258.9505</td>\n",
              "      <td>0.0</td>\n",
              "      <td>0.0000</td>\n",
              "      <td>8.0</td>\n",
              "      <td>26.5300</td>\n",
              "      <td>-23.1360</td>\n",
              "      <td>40.2615</td>\n",
              "      <td>0</td>\n",
              "      <td>1</td>\n",
              "    </tr>\n",
              "  </tbody>\n",
              "</table>\n",
              "<p>317235 rows × 35 columns</p>\n",
              "</div>\n",
              "      <button class=\"colab-df-convert\" onclick=\"convertToInteractive('df-84d859a4-3f3c-40f8-8205-2fd7f0e38d4d')\"\n",
              "              title=\"Convert this dataframe to an interactive table.\"\n",
              "              style=\"display:none;\">\n",
              "        \n",
              "  <svg xmlns=\"http://www.w3.org/2000/svg\" height=\"24px\"viewBox=\"0 0 24 24\"\n",
              "       width=\"24px\">\n",
              "    <path d=\"M0 0h24v24H0V0z\" fill=\"none\"/>\n",
              "    <path d=\"M18.56 5.44l.94 2.06.94-2.06 2.06-.94-2.06-.94-.94-2.06-.94 2.06-2.06.94zm-11 1L8.5 8.5l.94-2.06 2.06-.94-2.06-.94L8.5 2.5l-.94 2.06-2.06.94zm10 10l.94 2.06.94-2.06 2.06-.94-2.06-.94-.94-2.06-.94 2.06-2.06.94z\"/><path d=\"M17.41 7.96l-1.37-1.37c-.4-.4-.92-.59-1.43-.59-.52 0-1.04.2-1.43.59L10.3 9.45l-7.72 7.72c-.78.78-.78 2.05 0 2.83L4 21.41c.39.39.9.59 1.41.59.51 0 1.02-.2 1.41-.59l7.78-7.78 2.81-2.81c.8-.78.8-2.07 0-2.86zM5.41 20L4 18.59l7.72-7.72 1.47 1.35L5.41 20z\"/>\n",
              "  </svg>\n",
              "      </button>\n",
              "      \n",
              "  <style>\n",
              "    .colab-df-container {\n",
              "      display:flex;\n",
              "      flex-wrap:wrap;\n",
              "      gap: 12px;\n",
              "    }\n",
              "\n",
              "    .colab-df-convert {\n",
              "      background-color: #E8F0FE;\n",
              "      border: none;\n",
              "      border-radius: 50%;\n",
              "      cursor: pointer;\n",
              "      display: none;\n",
              "      fill: #1967D2;\n",
              "      height: 32px;\n",
              "      padding: 0 0 0 0;\n",
              "      width: 32px;\n",
              "    }\n",
              "\n",
              "    .colab-df-convert:hover {\n",
              "      background-color: #E2EBFA;\n",
              "      box-shadow: 0px 1px 2px rgba(60, 64, 67, 0.3), 0px 1px 3px 1px rgba(60, 64, 67, 0.15);\n",
              "      fill: #174EA6;\n",
              "    }\n",
              "\n",
              "    [theme=dark] .colab-df-convert {\n",
              "      background-color: #3B4455;\n",
              "      fill: #D2E3FC;\n",
              "    }\n",
              "\n",
              "    [theme=dark] .colab-df-convert:hover {\n",
              "      background-color: #434B5C;\n",
              "      box-shadow: 0px 1px 3px 1px rgba(0, 0, 0, 0.15);\n",
              "      filter: drop-shadow(0px 1px 2px rgba(0, 0, 0, 0.3));\n",
              "      fill: #FFFFFF;\n",
              "    }\n",
              "  </style>\n",
              "\n",
              "      <script>\n",
              "        const buttonEl =\n",
              "          document.querySelector('#df-84d859a4-3f3c-40f8-8205-2fd7f0e38d4d button.colab-df-convert');\n",
              "        buttonEl.style.display =\n",
              "          google.colab.kernel.accessAllowed ? 'block' : 'none';\n",
              "\n",
              "        async function convertToInteractive(key) {\n",
              "          const element = document.querySelector('#df-84d859a4-3f3c-40f8-8205-2fd7f0e38d4d');\n",
              "          const dataTable =\n",
              "            await google.colab.kernel.invokeFunction('convertToInteractive',\n",
              "                                                     [key], {});\n",
              "          if (!dataTable) return;\n",
              "\n",
              "          const docLinkHtml = 'Like what you see? Visit the ' +\n",
              "            '<a target=\"_blank\" href=https://colab.research.google.com/notebooks/data_table.ipynb>data table notebook</a>'\n",
              "            + ' to learn more about interactive tables.';\n",
              "          element.innerHTML = '';\n",
              "          dataTable['output_type'] = 'display_data';\n",
              "          await google.colab.output.renderOutput(dataTable, element);\n",
              "          const docLink = document.createElement('div');\n",
              "          docLink.innerHTML = docLinkHtml;\n",
              "          element.appendChild(docLink);\n",
              "        }\n",
              "      </script>\n",
              "    </div>\n",
              "  </div>\n",
              "  "
            ]
          },
          "metadata": {},
          "execution_count": 85
        }
      ],
      "source": [
        "df_dummy"
      ]
    },
    {
      "cell_type": "markdown",
      "metadata": {
        "id": "fn2-oFOhPK1C"
      },
      "source": [
        "### Prepare the input and target variables"
      ]
    },
    {
      "cell_type": "markdown",
      "metadata": {
        "id": "fPdyOKtdPK1C"
      },
      "source": [
        "Extract the target variable y"
      ]
    },
    {
      "cell_type": "markdown",
      "metadata": {
        "id": "Ad1ksZO8PK1D"
      },
      "source": [
        "Prepare the input features X"
      ]
    },
    {
      "cell_type": "code",
      "execution_count": null,
      "metadata": {
        "id": "mByfkip-PK1E"
      },
      "outputs": [],
      "source": [
        "X = df_dummy.drop(columns={'ENGINE_1_FUEL_CONSUMPTION','ENGINE_2_FUEL_CONSUMPTION'})\n",
        "X = X.drop(columns={'ENGINE_2_FLOWRATEA','ENGINE_1_FLOWRATE','ENGINE_2_FLOWRATE','ENGINE_1_FLOWRATEA','Dati'})\n",
        "# feature engineering \n",
        "df_dummy = df_dummy.assign(SOGmSTW=lambda x: x.SOG -  x.STW)\n",
        "df_dummy['pLONGITUDE'] = (df_dummy['LONGITUDE'].shift(periods=-1)).fillna(-123.2733)\n",
        "df_dummy['pLATITUDE'] = df_dummy['LATITUDE'].shift(periods=-1).fillna(49.3859 )\n",
        "df_dummy = df_dummy.assign(DISP=lambda x: ((x.LONGITUDE -  x.pLONGITUDE)**2 + (x.LATITUDE-x.pLATITUDE)**2)**(0.5))\n",
        "df_dummy = df_dummy.assign(PITCH=lambda x: (x.PITCH_1 +  x.PITCH_2)/2)\n",
        "df_dummy = df_dummy.assign(SPEED=lambda x: (x.SPEED_1 +  x.SPEED_2)/2)\n",
        "df_dummy = df_dummy.assign(THRUST=lambda x: (x.THRUST_1 +  x.THRUST_2)/2)\n",
        "df_dummy = df_dummy.assign(TORQUE=lambda x: (x.TORQUE_1 +  x.TORQUE_2)/2)\n",
        "df_dummy = (df_dummy.assign(OUT=lambda x: (x.ENGINE_1_FUEL_CONSUMPTION +  x.ENGINE_2_FUEL_CONSUMPTION/2/x.DISP*60/10**6)))\n",
        "#feature selection\n",
        "y = df_dummy['OUT'].clip(upper=1000)\n",
        "X = df_dummy[['DEPTH','PITCH','SPEED','STW','THRUST','TORQUE','WIND_SPEED','WIND_ANGLE','SOG','SOGmSTW','HEADING','DISP']]\n"
      ]
    },
    {
      "cell_type": "code",
      "source": [
        "y"
      ],
      "metadata": {
        "colab": {
          "base_uri": "https://localhost:8080/"
        },
        "id": "9-FZJnJ358P_",
        "outputId": "4b86b1e3-849a-4aea-9292-38f15c42eb44"
      },
      "execution_count": null,
      "outputs": [
        {
          "output_type": "execute_result",
          "data": {
            "text/plain": [
              "101         435.484928\n",
              "102         449.366380\n",
              "103         463.826304\n",
              "149         564.603769\n",
              "150         651.021170\n",
              "              ...     \n",
              "1098603     386.807071\n",
              "1098604     613.483768\n",
              "1098605     586.348208\n",
              "1098606     597.141705\n",
              "1098607    1000.000000\n",
              "Name: OUT, Length: 317235, dtype: float64"
            ]
          },
          "metadata": {},
          "execution_count": 104
        }
      ]
    },
    {
      "cell_type": "code",
      "execution_count": null,
      "metadata": {
        "colab": {
          "base_uri": "https://localhost:8080/",
          "height": 423
        },
        "id": "RIPbz6u9PK1E",
        "outputId": "eeeb82de-f1b5-4a9f-e43c-e83fcb43c257"
      },
      "outputs": [
        {
          "output_type": "execute_result",
          "data": {
            "text/plain": [
              "          DEPTH   PITCH      SPEED      STW     THRUST     TORQUE  WIND_SPEED  \\\n",
              "101      0.0178  70.435  486.01490  13.7067  118.66615   18.23305      9.1800   \n",
              "102      0.0214  70.435  485.04470  12.8117  110.10175   18.44295     11.5333   \n",
              "103      0.0224  70.435  484.19230  12.8200  103.19980   18.78270     11.8067   \n",
              "149      0.0206  70.435  496.29390  14.0983  211.74405  148.75920      7.4267   \n",
              "150      0.0215  70.435  519.03565  16.9433  226.85900  163.46395     15.6367   \n",
              "...         ...     ...        ...      ...        ...        ...         ...   \n",
              "1098603  0.0000   0.000  501.50930  17.9300  134.80865   95.35435     11.0867   \n",
              "1098604  0.0000   0.000  505.86365  15.1700  215.92225  150.68940      9.2133   \n",
              "1098605  0.0000   0.000  510.94530  14.4350  209.88780  144.77495     12.3350   \n",
              "1098606  0.0000   0.000  509.99980  12.3900  216.72550  147.15535     25.2217   \n",
              "1098607  0.0000   0.000  504.94710  13.1350  194.67520  129.47525     26.5300   \n",
              "\n",
              "         WIND_ANGLE      SOG  SOGmSTW  HEADING      DISP  \n",
              "101           330.0  13.6783  -0.0284    248.3  0.005536  \n",
              "102           344.0  13.1050   0.2933    245.2  0.005220  \n",
              "103             0.0  12.7167  -0.1033    239.2  0.006325  \n",
              "149            42.0  14.1650   0.0667    215.1  0.004920  \n",
              "150            34.0  17.0267   0.0834    232.2  0.006592  \n",
              "...             ...      ...      ...      ...       ...  \n",
              "1098603        57.0  17.2200  -0.7100    235.3  0.006133  \n",
              "1098604        71.0  15.0117  -0.1583    235.4  0.006147  \n",
              "1098605        76.0  14.2433  -0.1917    254.1  0.005814  \n",
              "1098606        46.0  13.6867   1.2967    290.0  0.005255  \n",
              "1098607         8.0  13.7683   0.6333    327.1  0.000000  \n",
              "\n",
              "[317235 rows x 12 columns]"
            ],
            "text/html": [
              "\n",
              "  <div id=\"df-ad355624-8971-4944-aa4a-0363f8e50bf7\">\n",
              "    <div class=\"colab-df-container\">\n",
              "      <div>\n",
              "<style scoped>\n",
              "    .dataframe tbody tr th:only-of-type {\n",
              "        vertical-align: middle;\n",
              "    }\n",
              "\n",
              "    .dataframe tbody tr th {\n",
              "        vertical-align: top;\n",
              "    }\n",
              "\n",
              "    .dataframe thead th {\n",
              "        text-align: right;\n",
              "    }\n",
              "</style>\n",
              "<table border=\"1\" class=\"dataframe\">\n",
              "  <thead>\n",
              "    <tr style=\"text-align: right;\">\n",
              "      <th></th>\n",
              "      <th>DEPTH</th>\n",
              "      <th>PITCH</th>\n",
              "      <th>SPEED</th>\n",
              "      <th>STW</th>\n",
              "      <th>THRUST</th>\n",
              "      <th>TORQUE</th>\n",
              "      <th>WIND_SPEED</th>\n",
              "      <th>WIND_ANGLE</th>\n",
              "      <th>SOG</th>\n",
              "      <th>SOGmSTW</th>\n",
              "      <th>HEADING</th>\n",
              "      <th>DISP</th>\n",
              "    </tr>\n",
              "  </thead>\n",
              "  <tbody>\n",
              "    <tr>\n",
              "      <th>101</th>\n",
              "      <td>0.0178</td>\n",
              "      <td>70.435</td>\n",
              "      <td>486.01490</td>\n",
              "      <td>13.7067</td>\n",
              "      <td>118.66615</td>\n",
              "      <td>18.23305</td>\n",
              "      <td>9.1800</td>\n",
              "      <td>330.0</td>\n",
              "      <td>13.6783</td>\n",
              "      <td>-0.0284</td>\n",
              "      <td>248.3</td>\n",
              "      <td>0.005536</td>\n",
              "    </tr>\n",
              "    <tr>\n",
              "      <th>102</th>\n",
              "      <td>0.0214</td>\n",
              "      <td>70.435</td>\n",
              "      <td>485.04470</td>\n",
              "      <td>12.8117</td>\n",
              "      <td>110.10175</td>\n",
              "      <td>18.44295</td>\n",
              "      <td>11.5333</td>\n",
              "      <td>344.0</td>\n",
              "      <td>13.1050</td>\n",
              "      <td>0.2933</td>\n",
              "      <td>245.2</td>\n",
              "      <td>0.005220</td>\n",
              "    </tr>\n",
              "    <tr>\n",
              "      <th>103</th>\n",
              "      <td>0.0224</td>\n",
              "      <td>70.435</td>\n",
              "      <td>484.19230</td>\n",
              "      <td>12.8200</td>\n",
              "      <td>103.19980</td>\n",
              "      <td>18.78270</td>\n",
              "      <td>11.8067</td>\n",
              "      <td>0.0</td>\n",
              "      <td>12.7167</td>\n",
              "      <td>-0.1033</td>\n",
              "      <td>239.2</td>\n",
              "      <td>0.006325</td>\n",
              "    </tr>\n",
              "    <tr>\n",
              "      <th>149</th>\n",
              "      <td>0.0206</td>\n",
              "      <td>70.435</td>\n",
              "      <td>496.29390</td>\n",
              "      <td>14.0983</td>\n",
              "      <td>211.74405</td>\n",
              "      <td>148.75920</td>\n",
              "      <td>7.4267</td>\n",
              "      <td>42.0</td>\n",
              "      <td>14.1650</td>\n",
              "      <td>0.0667</td>\n",
              "      <td>215.1</td>\n",
              "      <td>0.004920</td>\n",
              "    </tr>\n",
              "    <tr>\n",
              "      <th>150</th>\n",
              "      <td>0.0215</td>\n",
              "      <td>70.435</td>\n",
              "      <td>519.03565</td>\n",
              "      <td>16.9433</td>\n",
              "      <td>226.85900</td>\n",
              "      <td>163.46395</td>\n",
              "      <td>15.6367</td>\n",
              "      <td>34.0</td>\n",
              "      <td>17.0267</td>\n",
              "      <td>0.0834</td>\n",
              "      <td>232.2</td>\n",
              "      <td>0.006592</td>\n",
              "    </tr>\n",
              "    <tr>\n",
              "      <th>...</th>\n",
              "      <td>...</td>\n",
              "      <td>...</td>\n",
              "      <td>...</td>\n",
              "      <td>...</td>\n",
              "      <td>...</td>\n",
              "      <td>...</td>\n",
              "      <td>...</td>\n",
              "      <td>...</td>\n",
              "      <td>...</td>\n",
              "      <td>...</td>\n",
              "      <td>...</td>\n",
              "      <td>...</td>\n",
              "    </tr>\n",
              "    <tr>\n",
              "      <th>1098603</th>\n",
              "      <td>0.0000</td>\n",
              "      <td>0.000</td>\n",
              "      <td>501.50930</td>\n",
              "      <td>17.9300</td>\n",
              "      <td>134.80865</td>\n",
              "      <td>95.35435</td>\n",
              "      <td>11.0867</td>\n",
              "      <td>57.0</td>\n",
              "      <td>17.2200</td>\n",
              "      <td>-0.7100</td>\n",
              "      <td>235.3</td>\n",
              "      <td>0.006133</td>\n",
              "    </tr>\n",
              "    <tr>\n",
              "      <th>1098604</th>\n",
              "      <td>0.0000</td>\n",
              "      <td>0.000</td>\n",
              "      <td>505.86365</td>\n",
              "      <td>15.1700</td>\n",
              "      <td>215.92225</td>\n",
              "      <td>150.68940</td>\n",
              "      <td>9.2133</td>\n",
              "      <td>71.0</td>\n",
              "      <td>15.0117</td>\n",
              "      <td>-0.1583</td>\n",
              "      <td>235.4</td>\n",
              "      <td>0.006147</td>\n",
              "    </tr>\n",
              "    <tr>\n",
              "      <th>1098605</th>\n",
              "      <td>0.0000</td>\n",
              "      <td>0.000</td>\n",
              "      <td>510.94530</td>\n",
              "      <td>14.4350</td>\n",
              "      <td>209.88780</td>\n",
              "      <td>144.77495</td>\n",
              "      <td>12.3350</td>\n",
              "      <td>76.0</td>\n",
              "      <td>14.2433</td>\n",
              "      <td>-0.1917</td>\n",
              "      <td>254.1</td>\n",
              "      <td>0.005814</td>\n",
              "    </tr>\n",
              "    <tr>\n",
              "      <th>1098606</th>\n",
              "      <td>0.0000</td>\n",
              "      <td>0.000</td>\n",
              "      <td>509.99980</td>\n",
              "      <td>12.3900</td>\n",
              "      <td>216.72550</td>\n",
              "      <td>147.15535</td>\n",
              "      <td>25.2217</td>\n",
              "      <td>46.0</td>\n",
              "      <td>13.6867</td>\n",
              "      <td>1.2967</td>\n",
              "      <td>290.0</td>\n",
              "      <td>0.005255</td>\n",
              "    </tr>\n",
              "    <tr>\n",
              "      <th>1098607</th>\n",
              "      <td>0.0000</td>\n",
              "      <td>0.000</td>\n",
              "      <td>504.94710</td>\n",
              "      <td>13.1350</td>\n",
              "      <td>194.67520</td>\n",
              "      <td>129.47525</td>\n",
              "      <td>26.5300</td>\n",
              "      <td>8.0</td>\n",
              "      <td>13.7683</td>\n",
              "      <td>0.6333</td>\n",
              "      <td>327.1</td>\n",
              "      <td>0.000000</td>\n",
              "    </tr>\n",
              "  </tbody>\n",
              "</table>\n",
              "<p>317235 rows × 12 columns</p>\n",
              "</div>\n",
              "      <button class=\"colab-df-convert\" onclick=\"convertToInteractive('df-ad355624-8971-4944-aa4a-0363f8e50bf7')\"\n",
              "              title=\"Convert this dataframe to an interactive table.\"\n",
              "              style=\"display:none;\">\n",
              "        \n",
              "  <svg xmlns=\"http://www.w3.org/2000/svg\" height=\"24px\"viewBox=\"0 0 24 24\"\n",
              "       width=\"24px\">\n",
              "    <path d=\"M0 0h24v24H0V0z\" fill=\"none\"/>\n",
              "    <path d=\"M18.56 5.44l.94 2.06.94-2.06 2.06-.94-2.06-.94-.94-2.06-.94 2.06-2.06.94zm-11 1L8.5 8.5l.94-2.06 2.06-.94-2.06-.94L8.5 2.5l-.94 2.06-2.06.94zm10 10l.94 2.06.94-2.06 2.06-.94-2.06-.94-.94-2.06-.94 2.06-2.06.94z\"/><path d=\"M17.41 7.96l-1.37-1.37c-.4-.4-.92-.59-1.43-.59-.52 0-1.04.2-1.43.59L10.3 9.45l-7.72 7.72c-.78.78-.78 2.05 0 2.83L4 21.41c.39.39.9.59 1.41.59.51 0 1.02-.2 1.41-.59l7.78-7.78 2.81-2.81c.8-.78.8-2.07 0-2.86zM5.41 20L4 18.59l7.72-7.72 1.47 1.35L5.41 20z\"/>\n",
              "  </svg>\n",
              "      </button>\n",
              "      \n",
              "  <style>\n",
              "    .colab-df-container {\n",
              "      display:flex;\n",
              "      flex-wrap:wrap;\n",
              "      gap: 12px;\n",
              "    }\n",
              "\n",
              "    .colab-df-convert {\n",
              "      background-color: #E8F0FE;\n",
              "      border: none;\n",
              "      border-radius: 50%;\n",
              "      cursor: pointer;\n",
              "      display: none;\n",
              "      fill: #1967D2;\n",
              "      height: 32px;\n",
              "      padding: 0 0 0 0;\n",
              "      width: 32px;\n",
              "    }\n",
              "\n",
              "    .colab-df-convert:hover {\n",
              "      background-color: #E2EBFA;\n",
              "      box-shadow: 0px 1px 2px rgba(60, 64, 67, 0.3), 0px 1px 3px 1px rgba(60, 64, 67, 0.15);\n",
              "      fill: #174EA6;\n",
              "    }\n",
              "\n",
              "    [theme=dark] .colab-df-convert {\n",
              "      background-color: #3B4455;\n",
              "      fill: #D2E3FC;\n",
              "    }\n",
              "\n",
              "    [theme=dark] .colab-df-convert:hover {\n",
              "      background-color: #434B5C;\n",
              "      box-shadow: 0px 1px 3px 1px rgba(0, 0, 0, 0.15);\n",
              "      filter: drop-shadow(0px 1px 2px rgba(0, 0, 0, 0.3));\n",
              "      fill: #FFFFFF;\n",
              "    }\n",
              "  </style>\n",
              "\n",
              "      <script>\n",
              "        const buttonEl =\n",
              "          document.querySelector('#df-ad355624-8971-4944-aa4a-0363f8e50bf7 button.colab-df-convert');\n",
              "        buttonEl.style.display =\n",
              "          google.colab.kernel.accessAllowed ? 'block' : 'none';\n",
              "\n",
              "        async function convertToInteractive(key) {\n",
              "          const element = document.querySelector('#df-ad355624-8971-4944-aa4a-0363f8e50bf7');\n",
              "          const dataTable =\n",
              "            await google.colab.kernel.invokeFunction('convertToInteractive',\n",
              "                                                     [key], {});\n",
              "          if (!dataTable) return;\n",
              "\n",
              "          const docLinkHtml = 'Like what you see? Visit the ' +\n",
              "            '<a target=\"_blank\" href=https://colab.research.google.com/notebooks/data_table.ipynb>data table notebook</a>'\n",
              "            + ' to learn more about interactive tables.';\n",
              "          element.innerHTML = '';\n",
              "          dataTable['output_type'] = 'display_data';\n",
              "          await google.colab.output.renderOutput(dataTable, element);\n",
              "          const docLink = document.createElement('div');\n",
              "          docLink.innerHTML = docLinkHtml;\n",
              "          element.appendChild(docLink);\n",
              "        }\n",
              "      </script>\n",
              "    </div>\n",
              "  </div>\n",
              "  "
            ]
          },
          "metadata": {},
          "execution_count": 105
        }
      ],
      "source": [
        "X"
      ]
    },
    {
      "cell_type": "markdown",
      "metadata": {
        "id": "9o6WR2j5PK1F"
      },
      "source": [
        "### Split training and test tests"
      ]
    },
    {
      "cell_type": "markdown",
      "metadata": {
        "id": "NLpaZnpHPK1F"
      },
      "source": [
        "70 % of data will be used for training (and validation), 30 % for test"
      ]
    },
    {
      "cell_type": "code",
      "execution_count": null,
      "metadata": {
        "id": "n3fWVlVdPK1F"
      },
      "outputs": [],
      "source": [
        "from sklearn.model_selection import train_test_split\n",
        "X_train, X_test, y_train, y_test = train_test_split(X, y, test_size=0.3, random_state=2)"
      ]
    },
    {
      "cell_type": "markdown",
      "metadata": {
        "id": "8WX46Gm8PK1G"
      },
      "source": [
        "### Scale features (for linear regression)"
      ]
    },
    {
      "cell_type": "markdown",
      "metadata": {
        "id": "-mZGvGtKPK1G"
      },
      "source": [
        "Feature scaling :\n",
        "- Range from 0 to 1\n",
        "- 'Fit' on training data only\n",
        "- 'Transform' on training and test data"
      ]
    },
    {
      "cell_type": "code",
      "execution_count": null,
      "metadata": {
        "id": "60jaySLYPK1H"
      },
      "outputs": [],
      "source": [
        "from sklearn.preprocessing import MinMaxScaler\n",
        "\n",
        "# Scaler for X\n",
        "scaler_x = MinMaxScaler(feature_range=(0,1))\n",
        "X_train_scaled = scaler_x.fit_transform(X_train)\n",
        "X_test_scaled = scaler_x.transform(X_test)"
      ]
    },
    {
      "cell_type": "markdown",
      "metadata": {
        "id": "wSKcQztzPK1H"
      },
      "source": [
        "### 1. Linear regression"
      ]
    },
    {
      "cell_type": "code",
      "execution_count": null,
      "metadata": {
        "colab": {
          "base_uri": "https://localhost:8080/"
        },
        "id": "PDU9P-A3PK1I",
        "outputId": "438adc0f-9709-4cff-cabf-4df6a0efecb5"
      },
      "outputs": [
        {
          "output_type": "stream",
          "name": "stderr",
          "text": [
            "[Parallel(n_jobs=1)]: Using backend SequentialBackend with 1 concurrent workers.\n",
            "[Parallel(n_jobs=1)]: Done   1 out of   1 | elapsed:    0.1s remaining:    0.0s\n"
          ]
        },
        {
          "output_type": "stream",
          "name": "stdout",
          "text": [
            "[CV] END .................................................... total time=   0.1s\n",
            "[CV] END .................................................... total time=   0.2s\n",
            "[CV] END .................................................... total time=   0.1s\n",
            "[CV] END .................................................... total time=   0.1s\n",
            "[CV] END .................................................... total time=   0.1s\n",
            "R^2 Validation: 0.7160890225143909\n"
          ]
        },
        {
          "output_type": "stream",
          "name": "stderr",
          "text": [
            "[Parallel(n_jobs=1)]: Done   5 out of   5 | elapsed:    0.6s finished\n"
          ]
        }
      ],
      "source": [
        "from sklearn.linear_model import LinearRegression, Lasso, Ridge\n",
        "\n",
        "lin_reg = LinearRegression()\n",
        "#lin_reg = Lasso(alpha=0.1)\n",
        "#lin_reg = Ridge(alpha=0.1)\n",
        "\n",
        "\n",
        "# Model evaluation by cross-validation\n",
        "lin_reg_score = cross_val_score(lin_reg, X_train_scaled, y_train, verbose = 2)\n",
        "\n",
        "# Average Coefficient of determination (R^2) on the validation set\n",
        "print(f'R^2 Validation: {lin_reg_score.mean()}')"
      ]
    },
    {
      "cell_type": "code",
      "execution_count": null,
      "metadata": {
        "colab": {
          "base_uri": "https://localhost:8080/"
        },
        "id": "ltIdeejfPK1I",
        "outputId": "be2ac997-e740-4049-d561-6a334e79949d"
      },
      "outputs": [
        {
          "output_type": "execute_result",
          "data": {
            "text/plain": [
              "LinearRegression()"
            ]
          },
          "metadata": {},
          "execution_count": 109
        }
      ],
      "source": [
        "# Fit the model to the training set\n",
        "lin_reg.fit(X_train_scaled, y_train)"
      ]
    },
    {
      "cell_type": "code",
      "execution_count": null,
      "metadata": {
        "colab": {
          "base_uri": "https://localhost:8080/"
        },
        "id": "aUDtJUzXz7Ig",
        "outputId": "79880e43-89c1-4ad6-dd63-7160128ca9e0"
      },
      "outputs": [
        {
          "output_type": "execute_result",
          "data": {
            "text/plain": [
              "array([ -12.78789989,   34.65540482, -285.55336825,   -3.87846741,\n",
              "        596.81282547,  604.22136117,   15.40686015,   -1.86277319,\n",
              "       -159.54273652, -159.41143814, -145.13305125,   37.93806808])"
            ]
          },
          "metadata": {},
          "execution_count": 110
        }
      ],
      "source": [
        "lin_reg.coef_"
      ]
    },
    {
      "cell_type": "code",
      "execution_count": null,
      "metadata": {
        "id": "Bu4SkHBHPK1J"
      },
      "outputs": [],
      "source": [
        "# Compute predictions from the test set\n",
        "y_pred = lin_reg.predict(X_test_scaled)"
      ]
    },
    {
      "cell_type": "code",
      "execution_count": null,
      "metadata": {
        "colab": {
          "base_uri": "https://localhost:8080/"
        },
        "id": "nLbe6rzuPK1J",
        "outputId": "dec2d112-2abd-4fa9-e6b5-523faeafb90a"
      },
      "outputs": [
        {
          "output_type": "stream",
          "name": "stdout",
          "text": [
            "R^2 Test: 0.709202918163996\n"
          ]
        }
      ],
      "source": [
        "# Coefficient of determination (R^2) on the test set\n",
        "print(f'R^2 Test: {lin_reg.score(X_test_scaled, y_test)}')"
      ]
    },
    {
      "cell_type": "code",
      "execution_count": null,
      "metadata": {
        "colab": {
          "base_uri": "https://localhost:8080/"
        },
        "id": "05Ugmh0dPK1K",
        "outputId": "81e83018-4789-4810-ee76-4b352ba96a3e"
      },
      "outputs": [
        {
          "output_type": "stream",
          "name": "stdout",
          "text": [
            "RMSE Test: 59.23398914382015\n"
          ]
        }
      ],
      "source": [
        "print(f'RMSE Test: {np.sqrt(mean_squared_error(y_test, y_pred))}')"
      ]
    },
    {
      "cell_type": "code",
      "execution_count": null,
      "metadata": {
        "colab": {
          "base_uri": "https://localhost:8080/",
          "height": 370
        },
        "id": "fchZs83zPK1K",
        "outputId": "b51f4241-23db-46c1-f2d1-45b6d4cb3e46"
      },
      "outputs": [
        {
          "output_type": "stream",
          "name": "stderr",
          "text": [
            "/usr/local/lib/python3.7/dist-packages/seaborn/distributions.py:2619: FutureWarning: `distplot` is a deprecated function and will be removed in a future version. Please adapt your code to use either `displot` (a figure-level function with similar flexibility) or `kdeplot` (an axes-level function for kernel density plots).\n",
            "  warnings.warn(msg, FutureWarning)\n",
            "/usr/local/lib/python3.7/dist-packages/seaborn/distributions.py:2619: FutureWarning: `distplot` is a deprecated function and will be removed in a future version. Please adapt your code to use either `displot` (a figure-level function with similar flexibility) or `kdeplot` (an axes-level function for kernel density plots).\n",
            "  warnings.warn(msg, FutureWarning)\n"
          ]
        },
        {
          "output_type": "display_data",
          "data": {
            "text/plain": [
              "<Figure size 432x288 with 1 Axes>"
            ],
            "image/png": "[encoded data removed]"
          },
          "metadata": {
            "needs_background": "light"
          }
        }
      ],
      "source": [
        "# Visualize the predictions (in blue) against the actual values (in red)\n",
        "ax1 = sns.distplot(y_test, hist=False, color='r', label='actual')\n",
        "sns_plot = sns.distplot(y_pred, hist=False, color='b',label='prediction', ax=ax1)\n",
        "\n",
        "# Save the figure to a file\n",
        "sns_plot.get_figure().savefig(\"lin_reg.png\")"
      ]
    },
    {
      "cell_type": "markdown",
      "metadata": {
        "id": "OSOuP5IePK1L"
      },
      "source": [
        "### 2. Polynomial regression"
      ]
    },
    {
      "cell_type": "code",
      "execution_count": null,
      "metadata": {
        "id": "c_hBsTgfPK1L"
      },
      "outputs": [],
      "source": [
        "from sklearn.preprocessing import PolynomialFeatures\n",
        "\n",
        "# Degree 2\n",
        "poly_features = PolynomialFeatures(degree = 2)\n",
        "\n",
        "# Returns a transformed version of X with new combinations of features\n",
        "X_train_scaled_poly = poly_features.fit_transform(X_train_scaled)\n",
        "X_test_scaled_poly = poly_features.fit_transform(X_test_scaled)"
      ]
    },
    {
      "cell_type": "code",
      "execution_count": null,
      "metadata": {
        "colab": {
          "base_uri": "https://localhost:8080/"
        },
        "id": "RpBAivenPK1M",
        "outputId": "528083fe-652f-4871-b56d-c7f139d1cf5c"
      },
      "outputs": [
        {
          "output_type": "stream",
          "name": "stderr",
          "text": [
            "[Parallel(n_jobs=1)]: Using backend SequentialBackend with 1 concurrent workers.\n"
          ]
        },
        {
          "output_type": "stream",
          "name": "stdout",
          "text": [
            "[CV] END .................................................... total time=   1.8s\n"
          ]
        },
        {
          "output_type": "stream",
          "name": "stderr",
          "text": [
            "[Parallel(n_jobs=1)]: Done   1 out of   1 | elapsed:    1.8s remaining:    0.0s\n"
          ]
        },
        {
          "output_type": "stream",
          "name": "stdout",
          "text": [
            "[CV] END .................................................... total time=   1.6s\n",
            "[CV] END .................................................... total time=   1.6s\n",
            "[CV] END .................................................... total time=   1.6s\n",
            "[CV] END .................................................... total time=   1.6s\n",
            "R^2 Validation: 0.9437473566567703\n"
          ]
        },
        {
          "output_type": "stream",
          "name": "stderr",
          "text": [
            "[Parallel(n_jobs=1)]: Done   5 out of   5 | elapsed:    8.2s finished\n"
          ]
        }
      ],
      "source": [
        "poly_reg = LinearRegression()\n",
        "\n",
        "# Model evaluation by cross-validation\n",
        "poly_reg_score = cross_val_score(poly_reg, X_train_scaled_poly, y_train, verbose = 2)\n",
        "\n",
        "# Average Coefficient of determination (R^2) on the validation set\n",
        "print(f'R^2 Validation: {poly_reg_score.mean()}')"
      ]
    },
    {
      "cell_type": "code",
      "execution_count": null,
      "metadata": {
        "colab": {
          "base_uri": "https://localhost:8080/"
        },
        "id": "tI8fg86QPK1M",
        "outputId": "f41f9a23-2e19-4bb8-ad0e-c5d6d487937b"
      },
      "outputs": [
        {
          "output_type": "execute_result",
          "data": {
            "text/plain": [
              "LinearRegression()"
            ]
          },
          "metadata": {},
          "execution_count": 117
        }
      ],
      "source": [
        "# Fit the model to the training set\n",
        "poly_reg.fit(X_train_scaled_poly, y_train)"
      ]
    },
    {
      "cell_type": "code",
      "execution_count": null,
      "metadata": {
        "id": "RzvZq7iLPK1N"
      },
      "outputs": [],
      "source": [
        "# Compute predictions from the test set\n",
        "y_pred = poly_reg.predict(X_test_scaled_poly)"
      ]
    },
    {
      "cell_type": "code",
      "execution_count": null,
      "metadata": {
        "colab": {
          "base_uri": "https://localhost:8080/"
        },
        "id": "4SkFQvRbPK1N",
        "outputId": "54053dd8-4da3-452f-adde-f799644ed78d"
      },
      "outputs": [
        {
          "output_type": "stream",
          "name": "stdout",
          "text": [
            "R^2 Test: 0.9446060072522182\n"
          ]
        }
      ],
      "source": [
        "# Coefficient of determination (R^2) on the test set\n",
        "print(f'R^2 Test: {poly_reg.score(X_test_scaled_poly, y_test)}')"
      ]
    },
    {
      "cell_type": "code",
      "execution_count": null,
      "metadata": {
        "colab": {
          "base_uri": "https://localhost:8080/"
        },
        "id": "UVNB7kLMPK1O",
        "outputId": "51d33bd1-e8c5-45b0-a0e1-fb3d80b3afd2"
      },
      "outputs": [
        {
          "output_type": "stream",
          "name": "stdout",
          "text": [
            "RMSE Test: 25.852782608938764\n"
          ]
        }
      ],
      "source": [
        "print(f'RMSE Test: {np.sqrt(mean_squared_error(y_test, y_pred))}')"
      ]
    },
    {
      "cell_type": "code",
      "execution_count": null,
      "metadata": {
        "colab": {
          "base_uri": "https://localhost:8080/",
          "height": 370
        },
        "id": "GXwTv71dPK1P",
        "outputId": "93557e72-ee0a-4858-a967-1649f72b315f"
      },
      "outputs": [
        {
          "output_type": "stream",
          "name": "stderr",
          "text": [
            "/usr/local/lib/python3.7/dist-packages/seaborn/distributions.py:2619: FutureWarning: `distplot` is a deprecated function and will be removed in a future version. Please adapt your code to use either `displot` (a figure-level function with similar flexibility) or `kdeplot` (an axes-level function for kernel density plots).\n",
            "  warnings.warn(msg, FutureWarning)\n",
            "/usr/local/lib/python3.7/dist-packages/seaborn/distributions.py:2619: FutureWarning: `distplot` is a deprecated function and will be removed in a future version. Please adapt your code to use either `displot` (a figure-level function with similar flexibility) or `kdeplot` (an axes-level function for kernel density plots).\n",
            "  warnings.warn(msg, FutureWarning)\n"
          ]
        },
        {
          "output_type": "display_data",
          "data": {
            "text/plain": [
              "<Figure size 432x288 with 1 Axes>"
            ],
            "image/png": "[encoded data removed]"
          },
          "metadata": {
            "needs_background": "light"
          }
        }
      ],
      "source": [
        "# Visualize the predictions (in blue) against the actual values (in red)\n",
        "ax1 = sns.distplot(y_test, hist=False, color='r', label='actual')\n",
        "sns_plot = sns.distplot(y_pred, hist=False, color='b',label='prediction', ax=ax1)\n",
        "\n",
        "# Save the figure to a file\n",
        "sns_plot.get_figure().savefig(\"poly_reg.png\")"
      ]
    },
    {
      "cell_type": "markdown",
      "metadata": {
        "id": "VhSvaoOGPK1Q"
      },
      "source": [
        "### 3. Decision tree"
      ]
    },
    {
      "cell_type": "code",
      "execution_count": null,
      "metadata": {
        "id": "EFok39VnPK1R"
      },
      "outputs": [],
      "source": [
        "# Hyperparameter values to feed to the RandomizedSearchCV\n",
        "param_grid = {'max_features': ['auto', 'sqrt'], # Number of features to consider at every split\n",
        "               'max_depth': np.arange(5, 21, 5), # Maximum number of levels in tree\n",
        "               'min_samples_split': [5, 10, 20, 40], # Minimum number of samples required to split a node\n",
        "               'min_samples_leaf': [2, 6, 12, 24], # Minimum number of samples required at each leaf node\n",
        "               }"
      ]
    },
    {
      "cell_type": "code",
      "execution_count": null,
      "metadata": {
        "colab": {
          "base_uri": "https://localhost:8080/"
        },
        "id": "Ws51EgJ0PK1R",
        "outputId": "1e312bf3-37f9-49d4-8ea1-18e742ddc177"
      },
      "outputs": [
        {
          "output_type": "stream",
          "name": "stdout",
          "text": [
            "Fitting 5 folds for each of 10 candidates, totalling 50 fits\n"
          ]
        },
        {
          "output_type": "execute_result",
          "data": {
            "text/plain": [
              "RandomizedSearchCV(estimator=DecisionTreeRegressor(), n_jobs=-1,\n",
              "                   param_distributions={'max_depth': array([ 5, 10, 15, 20]),\n",
              "                                        'max_features': ['auto', 'sqrt'],\n",
              "                                        'min_samples_leaf': [2, 6, 12, 24],\n",
              "                                        'min_samples_split': [5, 10, 20, 40]},\n",
              "                   verbose=2)"
            ]
          },
          "metadata": {},
          "execution_count": 127
        }
      ],
      "source": [
        "from sklearn.tree import DecisionTreeRegressor\n",
        "\n",
        "# Instantiate a RandomizedSearchCV on a DecisionTreeRegressor model with 100 iterations\n",
        "tree_reg = RandomizedSearchCV(estimator = DecisionTreeRegressor(), param_distributions = param_grid, n_iter = 10, verbose = 2, n_jobs = -1)\n",
        "\n",
        "tree_reg.fit(X_train, y_train)"
      ]
    },
    {
      "cell_type": "code",
      "execution_count": null,
      "metadata": {
        "colab": {
          "base_uri": "https://localhost:8080/"
        },
        "id": "_UUCl8lzPK1S",
        "outputId": "576c6ef0-f55f-43dd-adc4-7deec4065430"
      },
      "outputs": [
        {
          "output_type": "execute_result",
          "data": {
            "text/plain": [
              "{'max_depth': 15,\n",
              " 'max_features': 'auto',\n",
              " 'min_samples_leaf': 6,\n",
              " 'min_samples_split': 5}"
            ]
          },
          "metadata": {},
          "execution_count": 128
        }
      ],
      "source": [
        "# Check the best parameters found by RandomizedSearchCV\n",
        "tree_reg.best_params_"
      ]
    },
    {
      "cell_type": "code",
      "execution_count": null,
      "metadata": {
        "colab": {
          "base_uri": "https://localhost:8080/"
        },
        "id": "FqbuJnkRPK1S",
        "outputId": "d347652d-66a3-4ede-bb54-b7efc788c510"
      },
      "outputs": [
        {
          "output_type": "stream",
          "name": "stdout",
          "text": [
            "R^2 Validation: 0.9814990387425618\n"
          ]
        }
      ],
      "source": [
        "# Check the cross-validation evaluation metric of the best estimator\n",
        "print(f'R^2 Validation: {tree_reg.best_score_}')"
      ]
    },
    {
      "cell_type": "code",
      "execution_count": null,
      "metadata": {
        "colab": {
          "base_uri": "https://localhost:8080/"
        },
        "id": "XykZMOM2PK1T",
        "outputId": "f6a621ea-0440-4d34-a71e-56abe34f5579"
      },
      "outputs": [
        {
          "output_type": "execute_result",
          "data": {
            "text/plain": [
              "[('TORQUE', 0.8818156989470456),\n",
              " ('DISP', 0.07544414769409243),\n",
              " ('SPEED', 0.018607055625146876),\n",
              " ('PITCH', 0.013825216782562889),\n",
              " ('STW', 0.002854176472537026),\n",
              " ('THRUST', 0.002837519671167756),\n",
              " ('SOG', 0.0016577543182575716),\n",
              " ('WIND_SPEED', 0.0012183383227796873),\n",
              " ('HEADING', 0.0006124599078163294),\n",
              " ('DEPTH', 0.0004579563448846678),\n",
              " ('WIND_ANGLE', 0.0003442823370553034),\n",
              " ('SOGmSTW', 0.0003253935766538686)]"
            ]
          },
          "metadata": {},
          "execution_count": 130
        }
      ],
      "source": [
        "# Check the features which are considered as most important in making predictions\n",
        "sorted(dict(zip(X_train.columns, tree_reg.best_estimator_.feature_importances_)).items(), key=lambda x: x[1], reverse=True)"
      ]
    },
    {
      "cell_type": "code",
      "execution_count": null,
      "metadata": {
        "id": "F8-40MMSPK1T"
      },
      "outputs": [],
      "source": [
        "# Compute predictions from the test set\n",
        "y_pred = tree_reg.predict(X_test)"
      ]
    },
    {
      "cell_type": "code",
      "execution_count": null,
      "metadata": {
        "colab": {
          "base_uri": "https://localhost:8080/"
        },
        "id": "P_YpQ-4YPK1T",
        "outputId": "634aa112-6aa8-4edc-aa8a-c2276d147e55"
      },
      "outputs": [
        {
          "output_type": "stream",
          "name": "stdout",
          "text": [
            "R^2 Test: 0.982809600221209\n"
          ]
        }
      ],
      "source": [
        "# Coefficient of determination (R^2) on the test set\n",
        "print(f'R^2 Test: {tree_reg.score(X_test, y_test)}')"
      ]
    },
    {
      "cell_type": "code",
      "execution_count": null,
      "metadata": {
        "colab": {
          "base_uri": "https://localhost:8080/"
        },
        "id": "AjqJKymFPK1U",
        "outputId": "79f80320-5b4f-45ad-b3e0-09e1881b30a7"
      },
      "outputs": [
        {
          "output_type": "stream",
          "name": "stdout",
          "text": [
            "RMSE Test: 13.923959583890293\n"
          ]
        }
      ],
      "source": [
        "print(f'RMSE Test: {np.sqrt(mean_squared_error(y_test, y_pred))}')"
      ]
    },
    {
      "cell_type": "code",
      "execution_count": null,
      "metadata": {
        "colab": {
          "base_uri": "https://localhost:8080/",
          "height": 368
        },
        "id": "B3VR83aAPK1V",
        "outputId": "c43ab979-9d70-4cdb-cf12-fd38639727e4"
      },
      "outputs": [
        {
          "output_type": "stream",
          "name": "stderr",
          "text": [
            "/usr/local/lib/python3.7/dist-packages/seaborn/distributions.py:2619: FutureWarning: `distplot` is a deprecated function and will be removed in a future version. Please adapt your code to use either `displot` (a figure-level function with similar flexibility) or `kdeplot` (an axes-level function for kernel density plots).\n",
            "  warnings.warn(msg, FutureWarning)\n",
            "/usr/local/lib/python3.7/dist-packages/seaborn/distributions.py:2619: FutureWarning: `distplot` is a deprecated function and will be removed in a future version. Please adapt your code to use either `displot` (a figure-level function with similar flexibility) or `kdeplot` (an axes-level function for kernel density plots).\n",
            "  warnings.warn(msg, FutureWarning)\n"
          ]
        },
        {
          "output_type": "display_data",
          "data": {
            "text/plain": [
              "<Figure size 432x288 with 1 Axes>"
            ],
            "image/png": "[encoded data removed]"
          },
          "metadata": {
            "needs_background": "light"
          }
        }
      ],
      "source": [
        "# Visualize the predictions (in blue) against the actual values (in red)\n",
        "ax1 = sns.distplot(y_test, hist=False, color='r', label='actual')\n",
        "sns_plot = sns.distplot(y_pred, hist=False, color='b',label='prediction', ax=ax1)\n",
        "\n",
        "# Save the figure to a file\n",
        "sns_plot.get_figure().savefig(\"tree_reg.png\")"
      ]
    },
    {
      "cell_type": "code",
      "execution_count": null,
      "metadata": {
        "id": "DsqKLDPrPK1V",
        "outputId": "679916fc-3b24-41f4-d68b-d0f84a18b2d2",
        "colab": {
          "base_uri": "https://localhost:8080/"
        }
      },
      "outputs": [
        {
          "output_type": "execute_result",
          "data": {
            "text/plain": [
              "['tree_reg.pkl']"
            ]
          },
          "metadata": {},
          "execution_count": 133
        }
      ],
      "source": [
        "# Save the model to disk\n",
        "dump(tree_reg.best_estimator_, 'tree_reg.pkl')"
      ]
    },
    {
      "cell_type": "markdown",
      "metadata": {
        "id": "sAI_kGvJPK1W"
      },
      "source": [
        "### 4. Random forest"
      ]
    },
    {
      "cell_type": "code",
      "execution_count": null,
      "metadata": {
        "id": "ZCfrj4lSPK1W"
      },
      "outputs": [],
      "source": [
        "# Hyperparameter values to feed to the RandomizedSearchCV\n",
        "param_grid = {'max_features': ['auto', 'sqrt'], # Number of features to consider at every split\n",
        "               'max_depth': np.arange(5, 21, 5), # Maximum number of levels in tree\n",
        "               #'min_samples_split': [5, 10, 20, 40], # Minimum number of samples required to split a node\n",
        "              'min_samples_split': [2, 4, 8, 16], # Minimum number of samples required to split a node\n",
        "               #'min_samples_leaf': [2, 6, 12, 24], # Minimum number of samples required at each leaf node\n",
        "              'min_samples_leaf': [2, 4, 8, 16], # Minimum number of samples required at each leaf node\n",
        "               }"
      ]
    },
    {
      "cell_type": "code",
      "execution_count": null,
      "metadata": {
        "colab": {
          "base_uri": "https://localhost:8080/"
        },
        "id": "kWXPsRZfPK1W",
        "outputId": "0ee931fa-8b19-4a2e-ca08-8ea7dfcebc66"
      },
      "outputs": [
        {
          "metadata": {
            "tags": null
          },
          "name": "stdout",
          "output_type": "stream",
          "text": [
            "Fitting 5 folds for each of 5 candidates, totalling 25 fits\n"
          ]
        },
        {
          "output_type": "stream",
          "name": "stderr",
          "text": [
            "/usr/local/lib/python3.7/dist-packages/joblib/externals/loky/process_executor.py:705: UserWarning: A worker stopped while some jobs were given to the executor. This can be caused by a too short worker timeout or by a memory leak.\n",
            "  \"timeout or by a memory leak.\", UserWarning\n"
          ]
        },
        {
          "output_type": "execute_result",
          "data": {
            "text/plain": [
              "RandomizedSearchCV(estimator=RandomForestRegressor(), n_iter=5, n_jobs=-1,\n",
              "                   param_distributions={'max_depth': array([ 5, 10, 15, 20]),\n",
              "                                        'max_features': ['auto', 'sqrt'],\n",
              "                                        'min_samples_leaf': [2, 4, 8, 16],\n",
              "                                        'min_samples_split': [2, 4, 8, 16]},\n",
              "                   verbose=2)"
            ]
          },
          "metadata": {},
          "execution_count": 139
        }
      ],
      "source": [
        "from sklearn.ensemble import RandomForestRegressor\n",
        "\n",
        "# Instantiate a RandomizedSearchCV on a RandomForestRegressor model with 10 iterations\n",
        "rfor_reg = RandomizedSearchCV(RandomForestRegressor(), param_distributions = param_grid, n_iter = 10, verbose = 2, n_jobs = -1)\n",
        "\n",
        "rfor_reg.fit(X_train, y_train)"
      ]
    },
    {
      "cell_type": "code",
      "execution_count": null,
      "metadata": {
        "id": "zK069-dgPK1X",
        "outputId": "1e9141d8-bc45-4e0b-d953-1ab58c9828ef"
      },
      "outputs": [
        {
          "data": {
            "text/plain": [
              "{'min_samples_split': 5,\n",
              " 'min_samples_leaf': 2,\n",
              " 'max_features': 'sqrt',\n",
              " 'max_depth': 35}"
            ]
          },
          "execution_count": 32,
          "metadata": {},
          "output_type": "execute_result"
        }
      ],
      "source": [
        "# Check the best parameters found by RandomizedSearchCV\n",
        "rfor_reg.best_params_"
      ]
    },
    {
      "cell_type": "code",
      "execution_count": null,
      "metadata": {
        "id": "wH4u3DzbPK1X",
        "outputId": "30bda787-d7fa-40e3-ae2c-e5abb6cc7b9a"
      },
      "outputs": [
        {
          "name": "stdout",
          "output_type": "stream",
          "text": [
            "R^2 Validation: 0.8781461553411237\n"
          ]
        }
      ],
      "source": [
        "# Check the cross-validation evaluation metric of the best estimator\n",
        "print(f'R^2 Validation: {rfor_reg.best_score_}')"
      ]
    },
    {
      "cell_type": "code",
      "execution_count": null,
      "metadata": {
        "id": "zTeG7SVOPK1X",
        "outputId": "e3750d06-a6cf-41ca-9c0d-9e5efe52a089"
      },
      "outputs": [
        {
          "data": {
            "text/plain": [
              "[('Floor area', 0.5355792921620066),\n",
              " ('Floor', 0.19361661010178893),\n",
              " ('Construction year', 0.12539123364405722),\n",
              " ('Gangnam', 0.02845832530359601),\n",
              " ('Seocho', 0.018817437372265773),\n",
              " ('Songpa', 0.01287372002727185),\n",
              " ('Seongdong', 0.007682300699672825),\n",
              " ('Nowon', 0.006915775123519896),\n",
              " ('Yangcheon', 0.0069051249452386845),\n",
              " ('Jungnang', 0.006763018706210629),\n",
              " ('Eunpyeong', 0.005845075582646099),\n",
              " ('Dobong', 0.005359750985982126),\n",
              " ('Gangseo', 0.00455711301692197),\n",
              " ('Mapo', 0.004199808700681056),\n",
              " ('Guro', 0.004188334689441976),\n",
              " ('Dongjak', 0.003795073016040011),\n",
              " ('Geumcheon', 0.0037877413116912955),\n",
              " ('Gangbuk', 0.0036872931826653957),\n",
              " ('Gwanak', 0.0033917054005387407),\n",
              " ('Gwangjin', 0.003133597599901247),\n",
              " ('Yongsan', 0.002860946048921904),\n",
              " ('Seongbuk', 0.0022549441330184682),\n",
              " ('Gangdong', 0.002164083607682661),\n",
              " ('Yeongdeungpo', 0.0018411682695515614),\n",
              " ('Dongdaemun', 0.0018089617791168181),\n",
              " ('Jung', 0.0014472789245977835),\n",
              " ('Seodaemun', 0.0013986573253226228),\n",
              " ('Jongno', 0.0012756283396497968)]"
            ]
          },
          "execution_count": 34,
          "metadata": {},
          "output_type": "execute_result"
        }
      ],
      "source": [
        "# Check the features which are considered as most important in making predictions\n",
        "sorted(dict(zip(X_train.columns, rfor_reg.best_estimator_.feature_importances_)).items(), key=lambda x: x[1], reverse=True)"
      ]
    },
    {
      "cell_type": "code",
      "execution_count": null,
      "metadata": {
        "id": "89Up2ks_PK1Y"
      },
      "outputs": [],
      "source": [
        "# Compute predictions from the test set\n",
        "y_pred = rfor_reg.predict(X_test)"
      ]
    },
    {
      "cell_type": "code",
      "execution_count": null,
      "metadata": {
        "id": "k4MMgm6hPK1Y",
        "outputId": "52fd512d-5561-4b35-ba76-8418a2c68c97"
      },
      "outputs": [
        {
          "name": "stdout",
          "output_type": "stream",
          "text": [
            "R^2 Test: 0.8783884076840002\n"
          ]
        }
      ],
      "source": [
        "# Coefficient of determination (R^2) on the test set\n",
        "print(f'R^2 Test: {rfor_reg.score(X_test, y_test)}')"
      ]
    },
    {
      "cell_type": "code",
      "execution_count": null,
      "metadata": {
        "id": "RiGWUD0JPK1Y",
        "outputId": "81a434b8-0e77-4137-e2fe-74a9d5079146"
      },
      "outputs": [
        {
          "name": "stdout",
          "output_type": "stream",
          "text": [
            "RMSE Test: 5533.344422090588\n"
          ]
        }
      ],
      "source": [
        "print(f'RMSE Test: {np.sqrt(mean_squared_error(y_test, y_pred))}')"
      ]
    },
    {
      "cell_type": "code",
      "execution_count": null,
      "metadata": {
        "id": "-j6l_tMPPK1Y",
        "outputId": "c184e8d2-39b7-4a5b-edc9-bad1979ed61c"
      },
      "outputs": [
        {
          "data": {
            "image/png": "[encoded data removed]",
            "text/plain": [
              "<Figure size 432x288 with 1 Axes>"
            ]
          },
          "metadata": {},
          "output_type": "display_data"
        }
      ],
      "source": [
        "# Visualize the predictions (in blue) against the actual values (in red)\n",
        "ax1 = sns.distplot(y_test, hist=False, color='r', label='actual')\n",
        "sns_plot = sns.distplot(y_pred, hist=False, color='b',label='prediction', ax=ax1)\n",
        "\n",
        "# Save the figure to a file\n",
        "sns_plot.get_figure().savefig(\"rfor_reg.png\")"
      ]
    },
    {
      "cell_type": "code",
      "execution_count": null,
      "metadata": {
        "id": "7tBkRe0FPK1Z",
        "outputId": "c2ac490e-f71f-46c6-b9b5-7ffa3ac3fe51"
      },
      "outputs": [
        {
          "data": {
            "text/plain": [
              "['rfor_reg.pkl']"
            ]
          },
          "execution_count": 38,
          "metadata": {},
          "output_type": "execute_result"
        }
      ],
      "source": [
        "# Save the model to disk\n",
        "dump(rfor_reg.best_estimator_, 'rfor_reg.pkl')"
      ]
    },
    {
      "cell_type": "markdown",
      "metadata": {
        "id": "s_zWDkaGPK1Z"
      },
      "source": [
        "### 5. AdaBoost"
      ]
    },
    {
      "cell_type": "code",
      "execution_count": null,
      "metadata": {
        "id": "ZFtJFrgsPK1Z"
      },
      "outputs": [],
      "source": [
        "# Hyperparameter values to feed to the RandomizedSearchCV\n",
        "param_grid = {\"learning_rate\"   : [0.01, 0.1, 0.3],\n",
        "              \"loss\"            : ['linear', 'square', 'exponential']\n",
        "             }"
      ]
    },
    {
      "cell_type": "code",
      "execution_count": null,
      "metadata": {
        "id": "xiJMBv6HPK1Z",
        "outputId": "c1593264-7efe-4cd2-f51f-62ed6319ff55"
      },
      "outputs": [
        {
          "name": "stderr",
          "output_type": "stream",
          "text": [
            "C:\\Users\\Thierry\\Anaconda3\\lib\\site-packages\\sklearn\\model_selection\\_search.py:281: UserWarning: The total space of parameters 9 is smaller than n_iter=100. Running 9 iterations. For exhaustive searches, use GridSearchCV.\n",
            "  % (grid_size, self.n_iter, grid_size), UserWarning)\n",
            "[Parallel(n_jobs=-1)]: Using backend LokyBackend with 8 concurrent workers.\n"
          ]
        },
        {
          "name": "stdout",
          "output_type": "stream",
          "text": [
            "Fitting 5 folds for each of 9 candidates, totalling 45 fits\n"
          ]
        },
        {
          "name": "stderr",
          "output_type": "stream",
          "text": [
            "[Parallel(n_jobs=-1)]: Done  25 tasks      | elapsed: 40.6min\n",
            "[Parallel(n_jobs=-1)]: Done  45 out of  45 | elapsed: 57.2min finished\n"
          ]
        },
        {
          "data": {
            "text/plain": [
              "RandomizedSearchCV(cv=None, error_score=nan,\n",
              "                   estimator=AdaBoostRegressor(base_estimator=DecisionTreeRegressor(ccp_alpha=0.0,\n",
              "                                                                                    criterion='mse',\n",
              "                                                                                    max_depth=35,\n",
              "                                                                                    max_features=None,\n",
              "                                                                                    max_leaf_nodes=None,\n",
              "                                                                                    min_impurity_decrease=0.0,\n",
              "                                                                                    min_impurity_split=None,\n",
              "                                                                                    min_samples_leaf=6,\n",
              "                                                                                    min_samples_split=20,\n",
              "                                                                                    min_weight_fraction_leaf=0.0,\n",
              "                                                                                    presort='deprecated',\n",
              "                                                                                    random_state=None,\n",
              "                                                                                    splitter='best'),\n",
              "                                               learning_rate=1.0, loss='linear',\n",
              "                                               n_estimators=100,\n",
              "                                               random_state=None),\n",
              "                   iid='deprecated', n_iter=100, n_jobs=-1,\n",
              "                   param_distributions={'learning_rate': [0.01, 0.1, 0.3],\n",
              "                                        'loss': ['linear', 'square',\n",
              "                                                 'exponential']},\n",
              "                   pre_dispatch='2*n_jobs', random_state=None, refit=True,\n",
              "                   return_train_score=False, scoring=None, verbose=2)"
            ]
          },
          "execution_count": 40,
          "metadata": {},
          "output_type": "execute_result"
        }
      ],
      "source": [
        "from sklearn.ensemble import AdaBoostRegressor\n",
        "from sklearn.tree import DecisionTreeRegressor\n",
        "\n",
        "# Instantiate a RandomizedSearchCV on an AdaBoostRegressor model with 100 iterations\n",
        "ada_reg = RandomizedSearchCV(AdaBoostRegressor(DecisionTreeRegressor(min_samples_split = 40, min_samples_leaf = 2, max_depth = 40), n_estimators=100), param_distributions = param_grid, n_iter = 100, verbose = 2, n_jobs = -1)\n",
        "\n",
        "ada_reg.fit(X_train, y_train)"
      ]
    },
    {
      "cell_type": "code",
      "execution_count": null,
      "metadata": {
        "id": "v39s3EgnPK1a",
        "outputId": "ca5f083c-5a81-47ff-84c5-c257d63a7744"
      },
      "outputs": [
        {
          "data": {
            "text/plain": [
              "{'loss': 'exponential', 'learning_rate': 0.01}"
            ]
          },
          "execution_count": 41,
          "metadata": {},
          "output_type": "execute_result"
        }
      ],
      "source": [
        "# Check the best parameters found by RandomizedSearchCV\n",
        "ada_reg.best_params_"
      ]
    },
    {
      "cell_type": "code",
      "execution_count": null,
      "metadata": {
        "id": "28LjlkJ8PK1a",
        "outputId": "5d6eba35-d3ca-4022-dd1d-d6a1e2bcf5e6"
      },
      "outputs": [
        {
          "name": "stdout",
          "output_type": "stream",
          "text": [
            "R^2 Validation: 0.8755813429463173\n"
          ]
        }
      ],
      "source": [
        "# Check the cross-validation evaluation metric of the best estimator\n",
        "print(f'R^2 Validation: {ada_reg.best_score_}')"
      ]
    },
    {
      "cell_type": "code",
      "execution_count": null,
      "metadata": {
        "id": "vFvJfwTWPK1a",
        "outputId": "3b1b5d8f-3ebe-4e22-8c4f-276a77d11bfb"
      },
      "outputs": [
        {
          "data": {
            "text/plain": [
              "[('Floor area', 0.6552132766437173),\n",
              " ('Construction year', 0.10777310455508297),\n",
              " ('Floor', 0.10539607055537525),\n",
              " ('Gangnam', 0.028410254853605564),\n",
              " ('Seocho', 0.018138914198849384),\n",
              " ('Songpa', 0.013349857499800834),\n",
              " ('Yangcheon', 0.006702875128115294),\n",
              " ('Mapo', 0.005962604159016569),\n",
              " ('Seongdong', 0.005959497350177519),\n",
              " ('Nowon', 0.004617693619477252),\n",
              " ('Dongjak', 0.004616283705364693),\n",
              " ('Yongsan', 0.004145601197611126),\n",
              " ('Gwangjin', 0.004089156586757056),\n",
              " ('Eunpyeong', 0.0039858953583672705),\n",
              " ('Gangdong', 0.0037820100321949456),\n",
              " ('Jungnang', 0.003428234313131193),\n",
              " ('Gangseo', 0.003168409491314708),\n",
              " ('Dobong', 0.0029967030372235913),\n",
              " ('Yeongdeungpo', 0.002967169770677425),\n",
              " ('Guro', 0.0025763024475901767),\n",
              " ('Jung', 0.002111196510484329),\n",
              " ('Geumcheon', 0.0019229165673738768),\n",
              " ('Jongno', 0.0017390559507449745),\n",
              " ('Dongdaemun', 0.0017088551561595276),\n",
              " ('Gangbuk', 0.0013778711713044827),\n",
              " ('Seodaemun', 0.0013692141211662666),\n",
              " ('Seongbuk', 0.0013507159280677556),\n",
              " ('Gwanak', 0.0011402600912484315)]"
            ]
          },
          "execution_count": 43,
          "metadata": {},
          "output_type": "execute_result"
        }
      ],
      "source": [
        "# Check the features which are considered as most important in making predictions\n",
        "sorted(dict(zip(X_train.columns, ada_reg.best_estimator_.feature_importances_)).items(), key=lambda x: x[1], reverse=True)"
      ]
    },
    {
      "cell_type": "code",
      "execution_count": null,
      "metadata": {
        "id": "puF2Rr6KPK1a"
      },
      "outputs": [],
      "source": [
        "# Compute predictions from the test set\n",
        "y_pred = ada_reg.predict(X_test)"
      ]
    },
    {
      "cell_type": "code",
      "execution_count": null,
      "metadata": {
        "id": "Fu-seHSqPK1a",
        "outputId": "49c79948-ba1c-4caf-d95b-5e2bd8fdab3b"
      },
      "outputs": [
        {
          "name": "stdout",
          "output_type": "stream",
          "text": [
            "R^2 Test: 0.8763769544514833\n"
          ]
        }
      ],
      "source": [
        "# Coefficient of determination (R^2) on the test set\n",
        "print(f'R^2 Test: {ada_reg.score(X_test, y_test)}')"
      ]
    },
    {
      "cell_type": "code",
      "execution_count": null,
      "metadata": {
        "id": "9CT8APLAPK1b",
        "outputId": "1153901c-68e7-4721-f194-b2aa9dcdd90a"
      },
      "outputs": [
        {
          "name": "stdout",
          "output_type": "stream",
          "text": [
            "RMSE Test: 5578.917452079584\n"
          ]
        }
      ],
      "source": [
        "print(f'RMSE Test: {np.sqrt(mean_squared_error(y_test, y_pred))}')"
      ]
    },
    {
      "cell_type": "code",
      "execution_count": null,
      "metadata": {
        "id": "6RAp5nERPK1b",
        "outputId": "797316b8-2c09-4b1c-ac58-a4f2171b6d46"
      },
      "outputs": [
        {
          "data": {
            "image/png": "[encoded data removed]",
            "text/plain": [
              "<Figure size 432x288 with 1 Axes>"
            ]
          },
          "metadata": {},
          "output_type": "display_data"
        }
      ],
      "source": [
        "# Visualize the predictions (in blue) against the actual values (in red)\n",
        "ax1 = sns.distplot(y_test, hist=False, color='r', label='actual')\n",
        "sns_plot = sns.distplot(y_pred, hist=False, color='b',label='prediction', ax=ax1)\n",
        "\n",
        "# Save the figure to a file\n",
        "sns_plot.get_figure().savefig(\"ada_reg.png\")"
      ]
    },
    {
      "cell_type": "code",
      "execution_count": null,
      "metadata": {
        "id": "ny0vVO6oPK1b",
        "outputId": "8fbc5b45-92ce-4818-af40-0556bee2e6b5"
      },
      "outputs": [
        {
          "data": {
            "text/plain": [
              "['ada_reg.pkl']"
            ]
          },
          "execution_count": 47,
          "metadata": {},
          "output_type": "execute_result"
        }
      ],
      "source": [
        "# Save the model to disk\n",
        "dump(ada_reg.best_estimator_, 'ada_reg.pkl')"
      ]
    },
    {
      "cell_type": "markdown",
      "metadata": {
        "id": "P8QhdZ3LPK1c"
      },
      "source": [
        "### 6. Gradient Boosting"
      ]
    },
    {
      "cell_type": "code",
      "execution_count": null,
      "metadata": {
        "id": "DgbjSRHzPK1c"
      },
      "outputs": [],
      "source": [
        "# Hyperparameter values to feed to the RandomizedSearchCV\n",
        "param_grid = {\"learning_rate\"   : [0.01, 0.1, 0.3],\n",
        "             \"subsample\"        : [0.5, 1.0],\n",
        "             'max_depth'        : np.arange(5, 41, 5),\n",
        "             \"max_features\"     : ['auto', 'sqrt'],\n",
        "             \"min_samples_split\": [5, 10, 20, 40],\n",
        "             \"min_samples_leaf\" : [2, 6, 12, 24]\n",
        "             }"
      ]
    },
    {
      "cell_type": "code",
      "execution_count": null,
      "metadata": {
        "id": "nFuSq_aMPK1c",
        "outputId": "d936553b-ed69-40a8-83a1-cf0e0d0bf4d9"
      },
      "outputs": [
        {
          "name": "stdout",
          "output_type": "stream",
          "text": [
            "Fitting 5 folds for each of 100 candidates, totalling 500 fits\n"
          ]
        },
        {
          "name": "stderr",
          "output_type": "stream",
          "text": [
            "[Parallel(n_jobs=-1)]: Using backend LokyBackend with 8 concurrent workers.\n",
            "[Parallel(n_jobs=-1)]: Done  25 tasks      | elapsed: 13.3min\n",
            "[Parallel(n_jobs=-1)]: Done 146 tasks      | elapsed: 92.4min\n",
            "[Parallel(n_jobs=-1)]: Done 349 tasks      | elapsed: 233.2min\n",
            "[Parallel(n_jobs=-1)]: Done 500 out of 500 | elapsed: 342.8min finished\n"
          ]
        },
        {
          "data": {
            "text/plain": [
              "RandomizedSearchCV(cv=None, error_score=nan,\n",
              "                   estimator=GradientBoostingRegressor(alpha=0.9, ccp_alpha=0.0,\n",
              "                                                       criterion='friedman_mse',\n",
              "                                                       init=None,\n",
              "                                                       learning_rate=0.1,\n",
              "                                                       loss='ls', max_depth=3,\n",
              "                                                       max_features=None,\n",
              "                                                       max_leaf_nodes=None,\n",
              "                                                       min_impurity_decrease=0.0,\n",
              "                                                       min_impurity_split=None,\n",
              "                                                       min_samples_leaf=1,\n",
              "                                                       min_samples_split=2,\n",
              "                                                       min_weight_fraction_leaf=0.0,\n",
              "                                                       n_estimators=100...\n",
              "                   iid='deprecated', n_iter=100, n_jobs=-1,\n",
              "                   param_distributions={'learning_rate': [0.01, 0.1, 0.3],\n",
              "                                        'max_depth': array([ 5, 10, 15, 20, 25, 30, 35, 40]),\n",
              "                                        'max_features': ['auto', 'sqrt'],\n",
              "                                        'min_samples_leaf': [2, 6, 12, 24],\n",
              "                                        'min_samples_split': [5, 10, 20, 40],\n",
              "                                        'subsample': [0.5, 1.0]},\n",
              "                   pre_dispatch='2*n_jobs', random_state=None, refit=True,\n",
              "                   return_train_score=False, scoring=None, verbose=2)"
            ]
          },
          "execution_count": 49,
          "metadata": {},
          "output_type": "execute_result"
        }
      ],
      "source": [
        "from sklearn.ensemble import GradientBoostingRegressor\n",
        "\n",
        "# Instantiate a RandomizedSearchCV on a GradientBoostingRegressor model with 100 iterations\n",
        "grad_reg = RandomizedSearchCV(GradientBoostingRegressor(), param_distributions = param_grid, n_iter = 100, verbose = 2, n_jobs = -1)\n",
        "\n",
        "grad_reg.fit(X_train, y_train)"
      ]
    },
    {
      "cell_type": "code",
      "execution_count": null,
      "metadata": {
        "id": "76n7rfCKPK1c",
        "outputId": "e85bcc1f-ee34-4323-fbad-e399aeb3addf"
      },
      "outputs": [
        {
          "data": {
            "text/plain": [
              "{'subsample': 1.0,\n",
              " 'min_samples_split': 10,\n",
              " 'min_samples_leaf': 6,\n",
              " 'max_features': 'sqrt',\n",
              " 'max_depth': 20,\n",
              " 'learning_rate': 0.1}"
            ]
          },
          "execution_count": 50,
          "metadata": {},
          "output_type": "execute_result"
        }
      ],
      "source": [
        "# Check the best parameters found by RandomizedSearchCV\n",
        "grad_reg.best_params_"
      ]
    },
    {
      "cell_type": "code",
      "execution_count": null,
      "metadata": {
        "id": "sICf-kFVPK1d",
        "outputId": "17d3c7e7-f8a7-490b-8e60-b96c5c35c2d1"
      },
      "outputs": [
        {
          "name": "stdout",
          "output_type": "stream",
          "text": [
            "R^2 Validation: 0.8805040079709251\n"
          ]
        }
      ],
      "source": [
        "# Check the cross-validation evaluation metric of the best estimator\n",
        "print(f'R^2 Validation: {grad_reg.best_score_}')"
      ]
    },
    {
      "cell_type": "code",
      "execution_count": null,
      "metadata": {
        "id": "lqxbod51PK1d",
        "outputId": "c5c97a02-f4e7-402d-fc21-0a242a477088"
      },
      "outputs": [
        {
          "data": {
            "text/plain": [
              "[('Floor area', 0.5683094062136843),\n",
              " ('Floor', 0.17311166498649744),\n",
              " ('Construction year', 0.11699036887877863),\n",
              " ('Gangnam', 0.027726585558235012),\n",
              " ('Seocho', 0.018102830812477544),\n",
              " ('Songpa', 0.012631799820373412),\n",
              " ('Seongdong', 0.00786253756251729),\n",
              " ('Yangcheon', 0.007767428215939422),\n",
              " ('Jungnang', 0.0066144038665366615),\n",
              " ('Nowon', 0.0066114436338827395),\n",
              " ('Eunpyeong', 0.0055429426477037105),\n",
              " ('Dobong', 0.005399293276528949),\n",
              " ('Guro', 0.004436377441921078),\n",
              " ('Dongjak', 0.004378958513642797),\n",
              " ('Mapo', 0.004154754065304557),\n",
              " ('Geumcheon', 0.003834849688132888),\n",
              " ('Gangseo', 0.0036283285934358834),\n",
              " ('Gangbuk', 0.00340331903966907),\n",
              " ('Gwangjin', 0.0029614132472950585),\n",
              " ('Yongsan', 0.002650340648898964),\n",
              " ('Gwanak', 0.002420604354997699),\n",
              " ('Seongbuk', 0.0023365164571712083),\n",
              " ('Gangdong', 0.0019439857883769196),\n",
              " ('Dongdaemun', 0.0016268876412279642),\n",
              " ('Yeongdeungpo', 0.001568755007882649),\n",
              " ('Seodaemun', 0.0014848634313329103),\n",
              " ('Jung', 0.001314689352974598),\n",
              " ('Jongno', 0.001184651254580582)]"
            ]
          },
          "execution_count": 52,
          "metadata": {},
          "output_type": "execute_result"
        }
      ],
      "source": [
        "# Check the features which are considered as most important in making predictions\n",
        "sorted(dict(zip(X_train.columns, grad_reg.best_estimator_.feature_importances_)).items(), key=lambda x: x[1], reverse=True)"
      ]
    },
    {
      "cell_type": "code",
      "execution_count": null,
      "metadata": {
        "id": "V6zocfVSPK1d"
      },
      "outputs": [],
      "source": [
        "# Compute predictions from the test set\n",
        "y_pred = grad_reg.predict(X_test)"
      ]
    },
    {
      "cell_type": "code",
      "execution_count": null,
      "metadata": {
        "id": "wG_mErCFPK1d",
        "outputId": "b8966acc-6232-46d0-b95c-a0abd4d2444e"
      },
      "outputs": [
        {
          "name": "stdout",
          "output_type": "stream",
          "text": [
            "R^2 Test: 0.8805265069180221\n"
          ]
        }
      ],
      "source": [
        "# Coefficient of determination (R^2) on the test set\n",
        "print(f'R^2 Test: {grad_reg.score(X_test, y_test)}')"
      ]
    },
    {
      "cell_type": "code",
      "execution_count": null,
      "metadata": {
        "id": "CWROBZocPK1e",
        "outputId": "34c57269-8b0e-4b03-d33c-6877c2a54c7e"
      },
      "outputs": [
        {
          "name": "stdout",
          "output_type": "stream",
          "text": [
            "RMSE Test: 5484.486817059782\n"
          ]
        }
      ],
      "source": [
        "print(f'RMSE Test: {np.sqrt(mean_squared_error(y_test, y_pred))}')"
      ]
    },
    {
      "cell_type": "code",
      "execution_count": null,
      "metadata": {
        "id": "KMWmCvxAPK1e",
        "outputId": "54669bb2-213c-44de-da0f-89989d21fa08"
      },
      "outputs": [
        {
          "data": {
            "image/png": "[encoded data removed]",
            "text/plain": [
              "<Figure size 432x288 with 1 Axes>"
            ]
          },
          "metadata": {},
          "output_type": "display_data"
        }
      ],
      "source": [
        "# Visualize the predictions (in blue) against the actual values (in red)\n",
        "ax1 = sns.distplot(y_test, hist=False, color='r', label='actual')\n",
        "sns_plot = sns.distplot(y_pred, hist=False, color='b',label='prediction', ax=ax1)\n",
        "\n",
        "# Save the figure to a file\n",
        "sns_plot.get_figure().savefig(\"grad_reg.png\")"
      ]
    },
    {
      "cell_type": "code",
      "execution_count": null,
      "metadata": {
        "id": "qSxMzkVGPK1e",
        "outputId": "b9d3a17f-b863-4340-adc7-824015da67a7"
      },
      "outputs": [
        {
          "data": {
            "text/plain": [
              "['grad_reg.pkl']"
            ]
          },
          "execution_count": 56,
          "metadata": {},
          "output_type": "execute_result"
        }
      ],
      "source": [
        "# Save the model to disk\n",
        "dump(grad_reg.best_estimator_, 'grad_reg.pkl')"
      ]
    },
    {
      "cell_type": "markdown",
      "metadata": {
        "id": "l8Hk0ZrfPK1e"
      },
      "source": [
        "### 7. XGBoost"
      ]
    },
    {
      "cell_type": "code",
      "execution_count": null,
      "metadata": {
        "id": "19ud97GJPK1f"
      },
      "outputs": [],
      "source": [
        "# Hyperparameter values to feed to the RandomizedSearchCV\n",
        "param_grid = {\"learning_rate\"   : [0.01, 0.1, 0.3] ,\n",
        "             'max_depth'        : np.arange(5, 21, 5),\n",
        "             \"min_child_weight\" : [1, 3, 5, 7],\n",
        "             \"gamma\"            : [0.0, 0.1, 0.2, 0.3, 0.4],\n",
        "             \"colsample_bytree\" : [0.3, 0.4, 0.5, 0.7]\n",
        "             }"
      ]
    },
    {
      "cell_type": "code",
      "execution_count": null,
      "metadata": {
        "id": "ObBfpjyfPK1f",
        "outputId": "7c7e333e-338b-4733-a383-18d5fff9e479",
        "colab": {
          "base_uri": "https://localhost:8080/",
          "height": 371
        }
      },
      "outputs": [
        {
          "output_type": "stream",
          "name": "stdout",
          "text": [
            "Fitting 5 folds for each of 10 candidates, totalling 50 fits\n"
          ]
        },
        {
          "output_type": "error",
          "ename": "KeyboardInterrupt",
          "evalue": "ignored",
          "traceback": [
            "\u001b[0;31m---------------------------------------------------------------------------\u001b[0m",
            "\u001b[0;31mKeyboardInterrupt\u001b[0m                         Traceback (most recent call last)",
            "\u001b[0;32m<ipython-input-125-6e8c59c0cd1c>\u001b[0m in \u001b[0;36m<module>\u001b[0;34m()\u001b[0m\n\u001b[1;32m      4\u001b[0m \u001b[0mxgb_reg\u001b[0m \u001b[0;34m=\u001b[0m \u001b[0mRandomizedSearchCV\u001b[0m\u001b[0;34m(\u001b[0m\u001b[0mXGBRegressor\u001b[0m\u001b[0;34m(\u001b[0m\u001b[0;34m)\u001b[0m\u001b[0;34m,\u001b[0m \u001b[0mparam_distributions\u001b[0m \u001b[0;34m=\u001b[0m \u001b[0mparam_grid\u001b[0m\u001b[0;34m,\u001b[0m \u001b[0mn_iter\u001b[0m \u001b[0;34m=\u001b[0m \u001b[0;36m10\u001b[0m\u001b[0;34m,\u001b[0m \u001b[0mverbose\u001b[0m \u001b[0;34m=\u001b[0m \u001b[0;36m2\u001b[0m\u001b[0;34m,\u001b[0m \u001b[0mn_jobs\u001b[0m \u001b[0;34m=\u001b[0m \u001b[0;34m-\u001b[0m\u001b[0;36m1\u001b[0m\u001b[0;34m)\u001b[0m\u001b[0;34m\u001b[0m\u001b[0;34m\u001b[0m\u001b[0m\n\u001b[1;32m      5\u001b[0m \u001b[0;34m\u001b[0m\u001b[0m\n\u001b[0;32m----> 6\u001b[0;31m \u001b[0mxgb_reg\u001b[0m\u001b[0;34m.\u001b[0m\u001b[0mfit\u001b[0m\u001b[0;34m(\u001b[0m\u001b[0mX_train\u001b[0m\u001b[0;34m,\u001b[0m \u001b[0my_train\u001b[0m\u001b[0;34m)\u001b[0m\u001b[0;34m\u001b[0m\u001b[0;34m\u001b[0m\u001b[0m\n\u001b[0m",
            "\u001b[0;32m/usr/local/lib/python3.7/dist-packages/sklearn/model_selection/_search.py\u001b[0m in \u001b[0;36mfit\u001b[0;34m(self, X, y, groups, **fit_params)\u001b[0m\n\u001b[1;32m    889\u001b[0m                 \u001b[0;32mreturn\u001b[0m \u001b[0mresults\u001b[0m\u001b[0;34m\u001b[0m\u001b[0;34m\u001b[0m\u001b[0m\n\u001b[1;32m    890\u001b[0m \u001b[0;34m\u001b[0m\u001b[0m\n\u001b[0;32m--> 891\u001b[0;31m             \u001b[0mself\u001b[0m\u001b[0;34m.\u001b[0m\u001b[0m_run_search\u001b[0m\u001b[0;34m(\u001b[0m\u001b[0mevaluate_candidates\u001b[0m\u001b[0;34m)\u001b[0m\u001b[0;34m\u001b[0m\u001b[0;34m\u001b[0m\u001b[0m\n\u001b[0m\u001b[1;32m    892\u001b[0m \u001b[0;34m\u001b[0m\u001b[0m\n\u001b[1;32m    893\u001b[0m             \u001b[0;31m# multimetric is determined here because in the case of a callable\u001b[0m\u001b[0;34m\u001b[0m\u001b[0;34m\u001b[0m\u001b[0;34m\u001b[0m\u001b[0m\n",
            "\u001b[0;32m/usr/local/lib/python3.7/dist-packages/sklearn/model_selection/_search.py\u001b[0m in \u001b[0;36m_run_search\u001b[0;34m(self, evaluate_candidates)\u001b[0m\n\u001b[1;32m   1766\u001b[0m         evaluate_candidates(\n\u001b[1;32m   1767\u001b[0m             ParameterSampler(\n\u001b[0;32m-> 1768\u001b[0;31m                 \u001b[0mself\u001b[0m\u001b[0;34m.\u001b[0m\u001b[0mparam_distributions\u001b[0m\u001b[0;34m,\u001b[0m \u001b[0mself\u001b[0m\u001b[0;34m.\u001b[0m\u001b[0mn_iter\u001b[0m\u001b[0;34m,\u001b[0m \u001b[0mrandom_state\u001b[0m\u001b[0;34m=\u001b[0m\u001b[0mself\u001b[0m\u001b[0;34m.\u001b[0m\u001b[0mrandom_state\u001b[0m\u001b[0;34m\u001b[0m\u001b[0;34m\u001b[0m\u001b[0m\n\u001b[0m\u001b[1;32m   1769\u001b[0m             )\n\u001b[1;32m   1770\u001b[0m         )\n",
            "\u001b[0;32m/usr/local/lib/python3.7/dist-packages/sklearn/model_selection/_search.py\u001b[0m in \u001b[0;36mevaluate_candidates\u001b[0;34m(candidate_params, cv, more_results)\u001b[0m\n\u001b[1;32m    849\u001b[0m                     )\n\u001b[1;32m    850\u001b[0m                     for (cand_idx, parameters), (split_idx, (train, test)) in product(\n\u001b[0;32m--> 851\u001b[0;31m                         \u001b[0menumerate\u001b[0m\u001b[0;34m(\u001b[0m\u001b[0mcandidate_params\u001b[0m\u001b[0;34m)\u001b[0m\u001b[0;34m,\u001b[0m \u001b[0menumerate\u001b[0m\u001b[0;34m(\u001b[0m\u001b[0mcv\u001b[0m\u001b[0;34m.\u001b[0m\u001b[0msplit\u001b[0m\u001b[0;34m(\u001b[0m\u001b[0mX\u001b[0m\u001b[0;34m,\u001b[0m \u001b[0my\u001b[0m\u001b[0;34m,\u001b[0m \u001b[0mgroups\u001b[0m\u001b[0;34m)\u001b[0m\u001b[0;34m)\u001b[0m\u001b[0;34m\u001b[0m\u001b[0;34m\u001b[0m\u001b[0m\n\u001b[0m\u001b[1;32m    852\u001b[0m                     )\n\u001b[1;32m    853\u001b[0m                 )\n",
            "\u001b[0;32m/usr/local/lib/python3.7/dist-packages/joblib/parallel.py\u001b[0m in \u001b[0;36m__call__\u001b[0;34m(self, iterable)\u001b[0m\n\u001b[1;32m   1054\u001b[0m \u001b[0;34m\u001b[0m\u001b[0m\n\u001b[1;32m   1055\u001b[0m             \u001b[0;32mwith\u001b[0m \u001b[0mself\u001b[0m\u001b[0;34m.\u001b[0m\u001b[0m_backend\u001b[0m\u001b[0;34m.\u001b[0m\u001b[0mretrieval_context\u001b[0m\u001b[0;34m(\u001b[0m\u001b[0;34m)\u001b[0m\u001b[0;34m:\u001b[0m\u001b[0;34m\u001b[0m\u001b[0;34m\u001b[0m\u001b[0m\n\u001b[0;32m-> 1056\u001b[0;31m                 \u001b[0mself\u001b[0m\u001b[0;34m.\u001b[0m\u001b[0mretrieve\u001b[0m\u001b[0;34m(\u001b[0m\u001b[0;34m)\u001b[0m\u001b[0;34m\u001b[0m\u001b[0;34m\u001b[0m\u001b[0m\n\u001b[0m\u001b[1;32m   1057\u001b[0m             \u001b[0;31m# Make sure that we get a last message telling us we are done\u001b[0m\u001b[0;34m\u001b[0m\u001b[0;34m\u001b[0m\u001b[0;34m\u001b[0m\u001b[0m\n\u001b[1;32m   1058\u001b[0m             \u001b[0melapsed_time\u001b[0m \u001b[0;34m=\u001b[0m \u001b[0mtime\u001b[0m\u001b[0;34m.\u001b[0m\u001b[0mtime\u001b[0m\u001b[0;34m(\u001b[0m\u001b[0;34m)\u001b[0m \u001b[0;34m-\u001b[0m \u001b[0mself\u001b[0m\u001b[0;34m.\u001b[0m\u001b[0m_start_time\u001b[0m\u001b[0;34m\u001b[0m\u001b[0;34m\u001b[0m\u001b[0m\n",
            "\u001b[0;32m/usr/local/lib/python3.7/dist-packages/joblib/parallel.py\u001b[0m in \u001b[0;36mretrieve\u001b[0;34m(self)\u001b[0m\n\u001b[1;32m    933\u001b[0m             \u001b[0;32mtry\u001b[0m\u001b[0;34m:\u001b[0m\u001b[0;34m\u001b[0m\u001b[0;34m\u001b[0m\u001b[0m\n\u001b[1;32m    934\u001b[0m                 \u001b[0;32mif\u001b[0m \u001b[0mgetattr\u001b[0m\u001b[0;34m(\u001b[0m\u001b[0mself\u001b[0m\u001b[0;34m.\u001b[0m\u001b[0m_backend\u001b[0m\u001b[0;34m,\u001b[0m \u001b[0;34m'supports_timeout'\u001b[0m\u001b[0;34m,\u001b[0m \u001b[0;32mFalse\u001b[0m\u001b[0;34m)\u001b[0m\u001b[0;34m:\u001b[0m\u001b[0;34m\u001b[0m\u001b[0;34m\u001b[0m\u001b[0m\n\u001b[0;32m--> 935\u001b[0;31m                     \u001b[0mself\u001b[0m\u001b[0;34m.\u001b[0m\u001b[0m_output\u001b[0m\u001b[0;34m.\u001b[0m\u001b[0mextend\u001b[0m\u001b[0;34m(\u001b[0m\u001b[0mjob\u001b[0m\u001b[0;34m.\u001b[0m\u001b[0mget\u001b[0m\u001b[0;34m(\u001b[0m\u001b[0mtimeout\u001b[0m\u001b[0;34m=\u001b[0m\u001b[0mself\u001b[0m\u001b[0;34m.\u001b[0m\u001b[0mtimeout\u001b[0m\u001b[0;34m)\u001b[0m\u001b[0;34m)\u001b[0m\u001b[0;34m\u001b[0m\u001b[0;34m\u001b[0m\u001b[0m\n\u001b[0m\u001b[1;32m    936\u001b[0m                 \u001b[0;32melse\u001b[0m\u001b[0;34m:\u001b[0m\u001b[0;34m\u001b[0m\u001b[0;34m\u001b[0m\u001b[0m\n\u001b[1;32m    937\u001b[0m                     \u001b[0mself\u001b[0m\u001b[0;34m.\u001b[0m\u001b[0m_output\u001b[0m\u001b[0;34m.\u001b[0m\u001b[0mextend\u001b[0m\u001b[0;34m(\u001b[0m\u001b[0mjob\u001b[0m\u001b[0;34m.\u001b[0m\u001b[0mget\u001b[0m\u001b[0;34m(\u001b[0m\u001b[0;34m)\u001b[0m\u001b[0;34m)\u001b[0m\u001b[0;34m\u001b[0m\u001b[0;34m\u001b[0m\u001b[0m\n",
            "\u001b[0;32m/usr/local/lib/python3.7/dist-packages/joblib/_parallel_backends.py\u001b[0m in \u001b[0;36mwrap_future_result\u001b[0;34m(future, timeout)\u001b[0m\n\u001b[1;32m    540\u001b[0m         AsyncResults.get from multiprocessing.\"\"\"\n\u001b[1;32m    541\u001b[0m         \u001b[0;32mtry\u001b[0m\u001b[0;34m:\u001b[0m\u001b[0;34m\u001b[0m\u001b[0;34m\u001b[0m\u001b[0m\n\u001b[0;32m--> 542\u001b[0;31m             \u001b[0;32mreturn\u001b[0m \u001b[0mfuture\u001b[0m\u001b[0;34m.\u001b[0m\u001b[0mresult\u001b[0m\u001b[0;34m(\u001b[0m\u001b[0mtimeout\u001b[0m\u001b[0;34m=\u001b[0m\u001b[0mtimeout\u001b[0m\u001b[0;34m)\u001b[0m\u001b[0;34m\u001b[0m\u001b[0;34m\u001b[0m\u001b[0m\n\u001b[0m\u001b[1;32m    543\u001b[0m         \u001b[0;32mexcept\u001b[0m \u001b[0mCfTimeoutError\u001b[0m \u001b[0;32mas\u001b[0m \u001b[0me\u001b[0m\u001b[0;34m:\u001b[0m\u001b[0;34m\u001b[0m\u001b[0;34m\u001b[0m\u001b[0m\n\u001b[1;32m    544\u001b[0m             \u001b[0;32mraise\u001b[0m \u001b[0mTimeoutError\u001b[0m \u001b[0;32mfrom\u001b[0m \u001b[0me\u001b[0m\u001b[0;34m\u001b[0m\u001b[0;34m\u001b[0m\u001b[0m\n",
            "\u001b[0;32m/usr/lib/python3.7/concurrent/futures/_base.py\u001b[0m in \u001b[0;36mresult\u001b[0;34m(self, timeout)\u001b[0m\n\u001b[1;32m    428\u001b[0m                 \u001b[0;32mreturn\u001b[0m \u001b[0mself\u001b[0m\u001b[0;34m.\u001b[0m\u001b[0m__get_result\u001b[0m\u001b[0;34m(\u001b[0m\u001b[0;34m)\u001b[0m\u001b[0;34m\u001b[0m\u001b[0;34m\u001b[0m\u001b[0m\n\u001b[1;32m    429\u001b[0m \u001b[0;34m\u001b[0m\u001b[0m\n\u001b[0;32m--> 430\u001b[0;31m             \u001b[0mself\u001b[0m\u001b[0;34m.\u001b[0m\u001b[0m_condition\u001b[0m\u001b[0;34m.\u001b[0m\u001b[0mwait\u001b[0m\u001b[0;34m(\u001b[0m\u001b[0mtimeout\u001b[0m\u001b[0;34m)\u001b[0m\u001b[0;34m\u001b[0m\u001b[0;34m\u001b[0m\u001b[0m\n\u001b[0m\u001b[1;32m    431\u001b[0m \u001b[0;34m\u001b[0m\u001b[0m\n\u001b[1;32m    432\u001b[0m             \u001b[0;32mif\u001b[0m \u001b[0mself\u001b[0m\u001b[0;34m.\u001b[0m\u001b[0m_state\u001b[0m \u001b[0;32min\u001b[0m \u001b[0;34m[\u001b[0m\u001b[0mCANCELLED\u001b[0m\u001b[0;34m,\u001b[0m \u001b[0mCANCELLED_AND_NOTIFIED\u001b[0m\u001b[0;34m]\u001b[0m\u001b[0;34m:\u001b[0m\u001b[0;34m\u001b[0m\u001b[0;34m\u001b[0m\u001b[0m\n",
            "\u001b[0;32m/usr/lib/python3.7/threading.py\u001b[0m in \u001b[0;36mwait\u001b[0;34m(self, timeout)\u001b[0m\n\u001b[1;32m    294\u001b[0m         \u001b[0;32mtry\u001b[0m\u001b[0;34m:\u001b[0m    \u001b[0;31m# restore state no matter what (e.g., KeyboardInterrupt)\u001b[0m\u001b[0;34m\u001b[0m\u001b[0;34m\u001b[0m\u001b[0m\n\u001b[1;32m    295\u001b[0m             \u001b[0;32mif\u001b[0m \u001b[0mtimeout\u001b[0m \u001b[0;32mis\u001b[0m \u001b[0;32mNone\u001b[0m\u001b[0;34m:\u001b[0m\u001b[0;34m\u001b[0m\u001b[0;34m\u001b[0m\u001b[0m\n\u001b[0;32m--> 296\u001b[0;31m                 \u001b[0mwaiter\u001b[0m\u001b[0;34m.\u001b[0m\u001b[0macquire\u001b[0m\u001b[0;34m(\u001b[0m\u001b[0;34m)\u001b[0m\u001b[0;34m\u001b[0m\u001b[0;34m\u001b[0m\u001b[0m\n\u001b[0m\u001b[1;32m    297\u001b[0m                 \u001b[0mgotit\u001b[0m \u001b[0;34m=\u001b[0m \u001b[0;32mTrue\u001b[0m\u001b[0;34m\u001b[0m\u001b[0;34m\u001b[0m\u001b[0m\n\u001b[1;32m    298\u001b[0m             \u001b[0;32melse\u001b[0m\u001b[0;34m:\u001b[0m\u001b[0;34m\u001b[0m\u001b[0;34m\u001b[0m\u001b[0m\n",
            "\u001b[0;31mKeyboardInterrupt\u001b[0m: "
          ]
        }
      ],
      "source": [
        "from xgboost import XGBRegressor\n",
        "\n",
        "# Instantiate a RandomizedSearchCV on an XGBRegressor model with 100 iterations\n",
        "xgb_reg = RandomizedSearchCV(XGBRegressor(), param_distributions = param_grid, n_iter = 10, verbose = 2, n_jobs = -1)\n",
        "\n",
        "xgb_reg.fit(X_train, y_train)"
      ]
    },
    {
      "cell_type": "code",
      "execution_count": null,
      "metadata": {
        "id": "gG300MkBPK1f",
        "outputId": "938bbede-2bb6-4533-9de3-770390ccfc61"
      },
      "outputs": [
        {
          "data": {
            "text/plain": [
              "{'min_child_weight': 3,\n",
              " 'max_depth': 20,\n",
              " 'learning_rate': 0.1,\n",
              " 'gamma': 0.1,\n",
              " 'colsample_bytree': 0.7}"
            ]
          },
          "execution_count": 59,
          "metadata": {},
          "output_type": "execute_result"
        }
      ],
      "source": [
        "# Best parameters\n",
        "xgb_reg.best_params_"
      ]
    },
    {
      "cell_type": "code",
      "execution_count": null,
      "metadata": {
        "id": "K7yWJr21PK1f",
        "outputId": "0bb0e33e-5716-421e-c8f1-a6e1d4621187"
      },
      "outputs": [
        {
          "name": "stdout",
          "output_type": "stream",
          "text": [
            "R^2 Validation: 0.8833101157662474\n"
          ]
        }
      ],
      "source": [
        "# Check the cross-validation evaluation metric of the best estimator\n",
        "print(f'R^2 Validation: {xgb_reg.best_score_}')"
      ]
    },
    {
      "cell_type": "code",
      "execution_count": null,
      "metadata": {
        "id": "1W3HRgpmPK1g",
        "outputId": "b258a926-d731-4175-f145-a423ab7be72c"
      },
      "outputs": [
        {
          "data": {
            "text/plain": [
              "[('Floor area', 285374),\n",
              " ('Construction year', 220228),\n",
              " ('Floor', 191886),\n",
              " ('Dongdaemun', 5924),\n",
              " ('Mapo', 5803),\n",
              " ('Gangdong', 5542),\n",
              " ('Gwanak', 5536),\n",
              " ('Eunpyeong', 5468),\n",
              " ('Songpa', 5430),\n",
              " ('Gangseo', 5391),\n",
              " ('Seongbuk', 5270),\n",
              " ('Guro', 5255),\n",
              " ('Yeongdeungpo', 5075),\n",
              " ('Yongsan', 4929),\n",
              " ('Dongjak', 4856),\n",
              " ('Gwangjin', 4853),\n",
              " ('Seodaemun', 4821),\n",
              " ('Yangcheon', 4384),\n",
              " ('Nowon', 4215),\n",
              " ('Seocho', 4100),\n",
              " ('Jongno', 3711),\n",
              " ('Geumcheon', 3627),\n",
              " ('Dobong', 3527),\n",
              " ('Gangbuk', 3375),\n",
              " ('Jung', 3095),\n",
              " ('Gangnam', 2927),\n",
              " ('Jungnang', 2808),\n",
              " ('Seongdong', 2775)]"
            ]
          },
          "execution_count": 61,
          "metadata": {},
          "output_type": "execute_result"
        }
      ],
      "source": [
        "# Check the number of times a feature was used to split the data across all trees\n",
        "sorted(xgb_reg.best_estimator_.get_booster().get_score(importance_type='weight').items(), key=lambda x: x[1], reverse=True)"
      ]
    },
    {
      "cell_type": "code",
      "execution_count": null,
      "metadata": {
        "id": "-u2CSpa8PK1g",
        "outputId": "b6383410-4132-4334-8a3f-bd11d3b65540"
      },
      "outputs": [
        {
          "data": {
            "text/plain": [
              "<matplotlib.axes._subplots.AxesSubplot at 0x25700072c48>"
            ]
          },
          "execution_count": 62,
          "metadata": {},
          "output_type": "execute_result"
        },
        {
          "data": {
            "image/png": "[encoded data removed]",
            "text/plain": [
              "<Figure size 576x504 with 1 Axes>"
            ]
          },
          "metadata": {},
          "output_type": "display_data"
        }
      ],
      "source": [
        "# Plot the same data on a graph\n",
        "from xgboost import plot_importance\n",
        "from matplotlib import pyplot as plt\n",
        "\n",
        "fig, ax = plt.subplots(figsize=(8, 7))\n",
        "plot_importance(xgb_reg.best_estimator_, ax=ax)"
      ]
    },
    {
      "cell_type": "code",
      "execution_count": null,
      "metadata": {
        "id": "xq2w1bTnPK1g"
      },
      "outputs": [],
      "source": [
        "# Compute predictions from the test set\n",
        "y_pred = xgb_reg.predict(X_test)"
      ]
    },
    {
      "cell_type": "code",
      "execution_count": null,
      "metadata": {
        "id": "tCr1rddCPK1g",
        "outputId": "1f959937-0d62-4d46-f875-fc0c2f0a08a8"
      },
      "outputs": [
        {
          "name": "stdout",
          "output_type": "stream",
          "text": [
            "R^2 Test: 0.8827315629642336\n"
          ]
        }
      ],
      "source": [
        "# Coefficient of determination (R^2) on the test set\n",
        "print(f'R^2 Test: {xgb_reg.score(X_test, y_test)}')"
      ]
    },
    {
      "cell_type": "code",
      "execution_count": null,
      "metadata": {
        "id": "vBlPmgCSPK1g",
        "outputId": "1454407d-c2d3-4117-d3fb-3bd3c91b1f4b"
      },
      "outputs": [
        {
          "name": "stdout",
          "output_type": "stream",
          "text": [
            "RMSE Test: 5433.639040332104\n"
          ]
        }
      ],
      "source": [
        "print(f'RMSE Test: {np.sqrt(mean_squared_error(y_test, y_pred))}')"
      ]
    },
    {
      "cell_type": "code",
      "execution_count": null,
      "metadata": {
        "id": "2c8GmTdfPK1g",
        "outputId": "e29cb5a8-0a7e-4f0b-c7b2-f3c21f1d78d5"
      },
      "outputs": [
        {
          "data": {
            "image/png": "[encoded data removed]",
            "text/plain": [
              "<Figure size 432x288 with 1 Axes>"
            ]
          },
          "metadata": {},
          "output_type": "display_data"
        }
      ],
      "source": [
        "# Visualize the predictions (in blue) against the actual values (in red)\n",
        "ax1 = sns.distplot(y_test, hist=False, color='r', label='actual')\n",
        "sns_plot = sns.distplot(y_pred, hist=False, color='b',label='prediction', ax=ax1)\n",
        "\n",
        "# Save the figure to a file\n",
        "sns_plot.get_figure().savefig(\"xgb_reg.png\")"
      ]
    },
    {
      "cell_type": "code",
      "execution_count": null,
      "metadata": {
        "id": "qwX70KrJPK1h",
        "outputId": "ce4e96fa-1572-4344-e641-6b5c913dc482"
      },
      "outputs": [
        {
          "data": {
            "text/plain": [
              "['xgb_reg.pkl']"
            ]
          },
          "execution_count": 66,
          "metadata": {},
          "output_type": "execute_result"
        }
      ],
      "source": [
        "# Save the model to disk\n",
        "dump(xgb_reg.best_estimator_, 'xgb_reg.pkl')"
      ]
    },
    {
      "cell_type": "code",
      "execution_count": null,
      "metadata": {
        "id": "gxjQaGFLPK1h"
      },
      "outputs": [],
      "source": [
        ""
      ]
    }
  ],
  "metadata": {
    "colab": {
      "name": "2.NRC  Data modeling.ipynb",
      "provenance": [],
      "collapsed_sections": [
        "s_zWDkaGPK1Z",
        "P8QhdZ3LPK1c"
      ],
      "include_colab_link": true
    },
    "kernelspec": {
      "display_name": "Python 3",
      "language": "python",
      "name": "python3"
    },
    "language_info": {
      "codemirror_mode": {
        "name": "ipython",
        "version": 3
      },
      "file_extension": ".py",
      "mimetype": "text/x-python",
      "name": "python",
      "nbconvert_exporter": "python",
      "pygments_lexer": "ipython3",
      "version": "3.7.5"
    }
  },
  "nbformat": 4,
  "nbformat_minor": 0
}