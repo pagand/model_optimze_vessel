{
 "cells": [
  {
   "cell_type": "code",
   "execution_count": null,
   "metadata": {},
   "outputs": [],
   "source": [
    "import pandas as pd\n",
    "from sklearn.preprocessing import StandardScaler\n",
    "import torch\n",
    "import torch.nn as nn\n",
    "import matplotlib.pyplot as plt\n",
    "from torch.autograd import Variable\n",
    "import numpy as np\n"
   ]
  },
  {
   "cell_type": "code",
   "execution_count": null,
   "metadata": {},
   "outputs": [],
   "source": [
    "df = pd.read_csv(\"../../feature1_clean.csv\")\n",
    "df.columns"
   ]
  },
  {
   "cell_type": "code",
   "execution_count": null,
   "metadata": {},
   "outputs": [],
   "source": [
    "df[\"long_up\"] = df[\"LONGITUDE\"].shift(periods=-1)\n",
    "df[\"lat_up\"] = df[\"LATITUDE\"].shift(periods=-1)\n",
    "df[\"heading_up\"] = df[\"HEADING\"].shift(periods=-1)\n",
    "df[\"SOG_up\"] = df[\"SOG\"].shift(periods=-1)\n",
    "df[\"STW_up\"] = df[\"STW\"].shift(periods=-1)\n",
    "df.drop(index=df.index[0], axis=0, inplace=True)\n",
    "\n",
    "df[\"DISP\"] = df.apply(lambda x: ((x.LONGITUDE -  x.long_up)**2 + (x.LATITUDE-x.lat_up)**2)**(0.5), axis=1)\n",
    "df[\"OUT\"]=df.apply(lambda x: (x[\"ENGINE_1_FUEL_CONSUMPTION\"] +  x[\"ENGINE_2_FUEL_CONSUMPTION\"]/2/(x[\"DISP\"]*60+1e-6)/10**6), axis=1)\n"
   ]
  },
  {
   "cell_type": "code",
   "execution_count": null,
   "metadata": {},
   "outputs": [],
   "source": [
    "X = df.drop(columns = ['Dati', 'Time','ENGINE_1_FLOWRATE', 'ENGINE_1_FLOWRATEA',\n",
    "       'ENGINE_1_FLOWRATEB', 'ENGINE_1_FUEL_CONSUMPTION', 'ENGINE_2_FLOWRATE', 'ENGINE_2_FLOWRATEA',\n",
    "       'ENGINE_2_FLOWRATEB', 'ENGINE_2_FUEL_CONSUMPTION', 'WIND_ANGLE', 'WIND_SPEED',\n",
    "       'WIND_ANGLE_TRUE', 'WIND_SPEED_TRUE', \"datetime\", 'SOG_SPEEDLOG_LONG', 'SOG_SPEEDLOG_TRANS',\n",
    "       'LONGITUDE', \"LATITUDE\", \"HEADING\", \"SOG\", \"STW\", \"date\"])\n",
    "y = df[[\"OUT\", 'LATITUDE', 'LONGITUDE', 'SOG', 'STW', \"HEADING\"]]"
   ]
  },
  {
   "cell_type": "code",
   "execution_count": null,
   "metadata": {},
   "outputs": [],
   "source": [
    "y.columns"
   ]
  },
  {
   "cell_type": "code",
   "execution_count": null,
   "metadata": {},
   "outputs": [],
   "source": [
    "X.columns"
   ]
  },
  {
   "cell_type": "code",
   "execution_count": null,
   "metadata": {},
   "outputs": [],
   "source": [
    "# get one_hot for column\n",
    "def one_hot(df, cols, drop_original=False):\n",
    "    for col in cols:\n",
    "        dummy = pd.get_dummies(df[col],prefix=col, drop_first=drop_original)\n",
    "        df = pd.concat([df, dummy], axis=1)\n",
    "    return df\n",
    "\n",
    "X = one_hot(X, [\"season\", \"direction\", \"weathercode\"], drop_original=True)"
   ]
  },
  {
   "cell_type": "code",
   "execution_count": null,
   "metadata": {},
   "outputs": [],
   "source": [
    "# standard scaler\n",
    "scaler = StandardScaler()\n",
    "X = scaler.fit_transform(X)"
   ]
  },
  {
   "cell_type": "code",
   "execution_count": null,
   "metadata": {},
   "outputs": [],
   "source": [
    "class Lstm(nn.Module):\n",
    "    def __init__(self, input_size, hidden_size=1, output_size=1, num_layers=1):\n",
    "        super().__init__()\n",
    " \n",
    "        self.lstm = nn.LSTM(input_size, hidden_size, num_layers)  # utilize the LSTM model in torch.nn\n",
    "        self.fc = nn.Linear(hidden_size, output_size) # fc\n",
    " \n",
    "    def forward(self, _x):\n",
    "        x, _ = self.lstm(_x)  # _x is input, size (seq_len, batch, input_size)\n",
    "        s, b, h = x.shape  # x is output, size (seq_len, batch, hidden_size)\n",
    "        x = self.fc(x)\n",
    "        return x[-1, :, :]"
   ]
  },
  {
   "cell_type": "code",
   "execution_count": null,
   "metadata": {},
   "outputs": [],
   "source": [
    "X.shape, y.shape"
   ]
  },
  {
   "cell_type": "code",
   "execution_count": null,
   "metadata": {},
   "outputs": [],
   "source": [
    "data_len = len(X)\n",
    "t = np.linspace(0, data_len, data_len + 1)\n",
    "\n",
    "train_data_ratio = 0.8  # Choose 80% of the data for training\n",
    "train_data_len = round(int(data_len * train_data_ratio), -3)\n",
    "\n",
    "train_x = X[:train_data_len]\n",
    "train_y = y[:train_data_len]\n",
    "t_for_training = t[5:train_data_len]\n",
    "\n",
    "test_x = X[train_data_len:]\n",
    "test_y = y[train_data_len:]\n",
    "t_for_testing = t[train_data_len:]\n",
    "\n",
    "# ----------------- train -------------------\n",
    "INPUT_FEATURES_NUM = 42\n",
    "OUTPUT_FEATURES_NUM = 6\n",
    "train_x_tensor = train_x.reshape(10, -1, INPUT_FEATURES_NUM) \n",
    "train_y_tensor = train_y.to_numpy().reshape(10, -1, OUTPUT_FEATURES_NUM) \n",
    "# transfer data to pytorch tensor\n",
    "train_x_tensor = torch.from_numpy(train_x_tensor).float()\n",
    "train_y_tensor = torch.from_numpy(train_y_tensor).float()\n"
   ]
  },
  {
   "cell_type": "code",
   "execution_count": null,
   "metadata": {},
   "outputs": [],
   "source": [
    "device = torch.device(\"cpu\")\n",
    "lstm_model = Lstm(INPUT_FEATURES_NUM, 20, output_size=OUTPUT_FEATURES_NUM, num_layers=1)  # 20 hidden units\n",
    "print('LSTM model:', lstm_model)\n",
    "print('model.parameters:', lstm_model.parameters)\n",
    "print('train x tensor dimension:', Variable(train_x_tensor).size())\n",
    "\n",
    "criterion = nn.MSELoss()\n",
    "optimizer = torch.optim.Adam(lstm_model.parameters(), lr=1e-2)\n",
    "\n",
    "prev_loss = 1000\n",
    "max_epochs = 2000\n",
    "\n",
    "train_x_tensor = train_x_tensor.to(device)\n",
    "\n",
    "for epoch in range(max_epochs):\n",
    "    output = lstm_model(train_x_tensor).to(device)\n",
    "    loss = criterion(output, train_y_tensor)\n",
    "\n",
    "    optimizer.zero_grad()\n",
    "    loss.backward()\n",
    "    optimizer.step()\n",
    "\n",
    "    if loss < prev_loss:\n",
    "        torch.save(lstm_model.state_dict(), 'lstm_model.pt')  # save model parameters to files\n",
    "        prev_loss = loss\n",
    "\n",
    "    if loss.item() < 1e-4:\n",
    "        print('Epoch [{}/{}], Loss: {:.5f}'.format(epoch + 1, max_epochs, loss.item()))\n",
    "        print(\"The loss value is reached\")\n",
    "        break\n",
    "    elif (epoch + 1) % 100 == 0:\n",
    "        print('Epoch: [{}/{}], Loss:{:.5f}'.format(epoch + 1, max_epochs, loss.item()))\n",
    "\n",
    "# prediction on training dataset\n",
    "pred_y_for_train = lstm_model(train_x_tensor).to(device)\n",
    "pred_y_for_train = pred_y_for_train.view(-1, OUTPUT_FEATURES_NUM).data.numpy()\n",
    "\n",
    "# ----------------- test -------------------\n",
    "lstm_model = lstm_model.eval()  # switch to testing model\n",
    "\n",
    "# prediction on test dataset\n",
    "test_x_tensor = test_x.reshape(10, -1, INPUT_FEATURES_NUM)\n",
    "test_x_tensor = torch.from_numpy(test_x_tensor)  # 变为tensor\n",
    "test_x_tensor = test_x_tensor.to(device)\n",
    "\n",
    "pred_y_for_test = lstm_model(test_x_tensor).to(device)\n",
    "pred_y_for_test = pred_y_for_test.view(-1, OUTPUT_FEATURES_NUM).data.numpy()\n",
    "\n",
    "loss = criterion(torch.from_numpy(pred_y_for_test), torch.from_numpy(test_y))\n",
    "print(\"test loss：\", loss.item())\n"
   ]
  },
  {
   "cell_type": "code",
   "execution_count": null,
   "metadata": {},
   "outputs": [],
   "source": [
    "# ----------------- plot -------------------\n",
    "plt.figure()\n",
    "plt.plot(t_for_training, train_y, 'b', label='y_trn')\n",
    "plt.plot(t_for_training, pred_y_for_train, 'y--', label='pre_trn')\n",
    "\n",
    "plt.plot(t_for_testing, test_y, 'k', label='y_tst')\n",
    "plt.plot(t_for_testing, pred_y_for_test, 'm--', label='pre_tst')\n",
    "\n",
    "plt.xlabel('t')\n",
    "plt.ylabel('Vce')\n",
    "plt.show()"
   ]
  }
 ],
 "metadata": {
  "kernelspec": {
   "display_name": "base",
   "language": "python",
   "name": "python3"
  },
  "language_info": {
   "codemirror_mode": {
    "name": "ipython",
    "version": 3
   },
   "file_extension": ".py",
   "mimetype": "text/x-python",
   "name": "python",
   "nbconvert_exporter": "python",
   "pygments_lexer": "ipython3",
   "version": "3.7.6"
  },
  "orig_nbformat": 4
 },
 "nbformat": 4,
 "nbformat_minor": 2
}
