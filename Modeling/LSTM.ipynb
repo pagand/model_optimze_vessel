{
 "cells": [
  {
   "cell_type": "code",
   "execution_count": 21,
   "metadata": {},
   "outputs": [],
   "source": [
    "import pandas as pd\n",
    "from sklearn.preprocessing import StandardScaler\n",
    "import torch\n",
    "import torch.nn as nn\n",
    "import matplotlib.pyplot as plt\n",
    "from torch.autograd import Variable\n",
    "import numpy as np\n",
    "from torch.utils.data import Dataset, DataLoader\n",
    "import random\n"
   ]
  },
  {
   "cell_type": "code",
   "execution_count": 86,
   "metadata": {},
   "outputs": [
    {
     "data": {
      "text/plain": [
       "Index(['Dati', 'Time', 'DEPTH', 'ENGINE_1_FLOWTEMPA',\n",
       "       'ENGINE_1_FUEL_CONSUMPTION', 'ENGINE_2_FLOWTEMPA',\n",
       "       'ENGINE_2_FUEL_CONSUMPTION', 'HEADING', 'LATITUDE', 'LONGITUDE',\n",
       "       'PITCH_1', 'PITCH_2', 'POWER_1', 'POWER_2', 'SOG', 'SOG_SPEEDLOG_LONG',\n",
       "       'SOG_SPEEDLOG_TRANS', 'SPEED_1', 'SPEED_2', 'STW', 'THRUST_1',\n",
       "       'THRUST_2', 'TORQUE_1', 'TORQUE_2', 'WIND_ANGLE', 'WIND_SPEED',\n",
       "       'WIND_ANGLE_TRUE', 'WIND_SPEED_TRUE', 'trip_id', 'MODE', 'datetime',\n",
       "       'season', 'weekday', 'current', 'direction', 'pressure', 'rain',\n",
       "       'snowfall', 'weathercode', 'is_weekday', 'effective_wind_factor',\n",
       "       'effective_wind', 'resist_ratio1', 'resist_ratio2', 'adversarial'],\n",
       "      dtype='object')"
      ]
     },
     "execution_count": 86,
     "metadata": {},
     "output_type": "execute_result"
    }
   ],
   "source": [
    "df = pd.read_csv(\"../../feature1.csv\")\n",
    "df.columns"
   ]
  },
  {
   "cell_type": "code",
   "execution_count": 87,
   "metadata": {},
   "outputs": [
    {
     "data": {
      "text/html": [
       "<div>\n",
       "<style scoped>\n",
       "    .dataframe tbody tr th:only-of-type {\n",
       "        vertical-align: middle;\n",
       "    }\n",
       "\n",
       "    .dataframe tbody tr th {\n",
       "        vertical-align: top;\n",
       "    }\n",
       "\n",
       "    .dataframe thead th {\n",
       "        text-align: right;\n",
       "    }\n",
       "</style>\n",
       "<table border=\"1\" class=\"dataframe\">\n",
       "  <thead>\n",
       "    <tr style=\"text-align: right;\">\n",
       "      <th></th>\n",
       "      <th>Dati</th>\n",
       "      <th>Time</th>\n",
       "      <th>DEPTH</th>\n",
       "      <th>ENGINE_1_FLOWTEMPA</th>\n",
       "      <th>ENGINE_1_FUEL_CONSUMPTION</th>\n",
       "      <th>ENGINE_2_FLOWTEMPA</th>\n",
       "      <th>ENGINE_2_FUEL_CONSUMPTION</th>\n",
       "      <th>HEADING</th>\n",
       "      <th>LATITUDE</th>\n",
       "      <th>LONGITUDE</th>\n",
       "      <th>...</th>\n",
       "      <th>pressure</th>\n",
       "      <th>rain</th>\n",
       "      <th>snowfall</th>\n",
       "      <th>weathercode</th>\n",
       "      <th>is_weekday</th>\n",
       "      <th>effective_wind_factor</th>\n",
       "      <th>effective_wind</th>\n",
       "      <th>resist_ratio1</th>\n",
       "      <th>resist_ratio2</th>\n",
       "      <th>adversarial</th>\n",
       "    </tr>\n",
       "    <tr>\n",
       "      <th>trip_id</th>\n",
       "      <th></th>\n",
       "      <th></th>\n",
       "      <th></th>\n",
       "      <th></th>\n",
       "      <th></th>\n",
       "      <th></th>\n",
       "      <th></th>\n",
       "      <th></th>\n",
       "      <th></th>\n",
       "      <th></th>\n",
       "      <th></th>\n",
       "      <th></th>\n",
       "      <th></th>\n",
       "      <th></th>\n",
       "      <th></th>\n",
       "      <th></th>\n",
       "      <th></th>\n",
       "      <th></th>\n",
       "      <th></th>\n",
       "      <th></th>\n",
       "      <th></th>\n",
       "    </tr>\n",
       "  </thead>\n",
       "  <tbody>\n",
       "    <tr>\n",
       "      <th>1643</th>\n",
       "      <td>94</td>\n",
       "      <td>94</td>\n",
       "      <td>94</td>\n",
       "      <td>94</td>\n",
       "      <td>94</td>\n",
       "      <td>94</td>\n",
       "      <td>94</td>\n",
       "      <td>94</td>\n",
       "      <td>94</td>\n",
       "      <td>94</td>\n",
       "      <td>...</td>\n",
       "      <td>94</td>\n",
       "      <td>94</td>\n",
       "      <td>94</td>\n",
       "      <td>94</td>\n",
       "      <td>94</td>\n",
       "      <td>94</td>\n",
       "      <td>94</td>\n",
       "      <td>94</td>\n",
       "      <td>94</td>\n",
       "      <td>94</td>\n",
       "    </tr>\n",
       "  </tbody>\n",
       "</table>\n",
       "<p>1 rows × 44 columns</p>\n",
       "</div>"
      ],
      "text/plain": [
       "         Dati  Time  DEPTH  ENGINE_1_FLOWTEMPA  ENGINE_1_FUEL_CONSUMPTION  \\\n",
       "trip_id                                                                     \n",
       "1643       94    94     94                  94                         94   \n",
       "\n",
       "         ENGINE_2_FLOWTEMPA  ENGINE_2_FUEL_CONSUMPTION  HEADING  LATITUDE  \\\n",
       "trip_id                                                                     \n",
       "1643                     94                         94       94        94   \n",
       "\n",
       "         LONGITUDE  ...  pressure  rain  snowfall  weathercode  is_weekday  \\\n",
       "trip_id             ...                                                      \n",
       "1643            94  ...        94    94        94           94          94   \n",
       "\n",
       "         effective_wind_factor  effective_wind  resist_ratio1  resist_ratio2  \\\n",
       "trip_id                                                                        \n",
       "1643                        94              94             94             94   \n",
       "\n",
       "         adversarial  \n",
       "trip_id               \n",
       "1643              94  \n",
       "\n",
       "[1 rows x 44 columns]"
      ]
     },
     "execution_count": 87,
     "metadata": {},
     "output_type": "execute_result"
    }
   ],
   "source": [
    "# the minimum case get 94 lines of data\n",
    "df.groupby(\"trip_id\").count().sort_values(\"Dati\").head(1)"
   ]
  },
  {
   "cell_type": "code",
   "execution_count": 88,
   "metadata": {},
   "outputs": [],
   "source": [
    "df[\"POWER\"] = (df[\"POWER_1\"]+df[\"POWER_2\"])/2\n",
    "df[\"SPEED\"] = (df[\"SPEED_1\"]+df[\"SPEED_2\"])/2\n",
    "df[\"THRUST\"] = (df[\"THRUST_1\"]+df[\"THRUST_2\"])/2\n",
    "df[\"TORQUE\"] = (df[\"TORQUE_1\"]+df[\"TORQUE_2\"])/2\n",
    "df[\"PITCH\"] = (df[\"PITCH_1\"]+df[\"PITCH_2\"])/2\n",
    "df[\"resist_ratio\"] = (df[\"resist_ratio1\"]+df[\"resist_ratio2\"])/2\n",
    "df[\"FLOWTEMPA\"] = (df[\"ENGINE_1_FLOWTEMPA\"]+df[\"ENGINE_2_FLOWTEMPA\"])/2\n",
    "df[\"FC\"] = (df[\"ENGINE_1_FUEL_CONSUMPTION\"]+df[\"ENGINE_2_FUEL_CONSUMPTION\"])/2\n",
    "\n",
    "df = df.drop(['PITCH_1', 'PITCH_2', 'POWER_1', 'POWER_2', 'SOG_SPEEDLOG_LONG',\n",
    "       'SOG_SPEEDLOG_TRANS',  'THRUST_1',\n",
    "       'THRUST_2', 'TORQUE_1', 'TORQUE_2', 'WIND_ANGLE', 'WIND_SPEED',\n",
    "       'WIND_ANGLE_TRUE', 'WIND_SPEED_TRUE', 'datetime',\n",
    "       'resist_ratio1', 'resist_ratio2', 'SPEED_1', 'SPEED_2', \"STW\",\n",
    "       'ENGINE_1_FLOWTEMPA', 'ENGINE_2_FLOWTEMPA', \n",
    "       \"ENGINE_1_FUEL_CONSUMPTION\", \"ENGINE_2_FUEL_CONSUMPTION\"], axis=1)\n",
    "df = df.drop([\"FLOWTEMPA\", \"PITCH\", \"POWER\", \"effective_wind_factor\", \"THRUST\", \"pressure\", \"weekday\", \"Dati\", \"Time\", \"DEPTH\"], axis=1)\n",
    "df[\"direction\"] = df[\"direction\"].apply(lambda x: 1 if x==\"H-N\" else 0)"
   ]
  },
  {
   "cell_type": "code",
   "execution_count": 89,
   "metadata": {},
   "outputs": [],
   "source": [
    "df = df[df[\"adversarial\"]==0].drop(\"adversarial\", axis=1)"
   ]
  },
  {
   "cell_type": "code",
   "execution_count": 134,
   "metadata": {},
   "outputs": [],
   "source": [
    "# get one_hot for column\n",
    "def one_hot(df, cols):\n",
    "    for col in cols:\n",
    "        dummy = pd.get_dummies(df[col],prefix=col, drop_first=True)\n",
    "        df = pd.concat([df, dummy], axis=1).drop(col, axis=1)\n",
    "    return df\n",
    "\n",
    "df = one_hot(df, [\"season\", \"weathercode\"])"
   ]
  },
  {
   "cell_type": "code",
   "execution_count": 135,
   "metadata": {},
   "outputs": [
    {
     "data": {
      "text/plain": [
       "Index(['HEADING', 'LATITUDE', 'LONGITUDE', 'SOG', 'trip_id', 'MODE', 'current',\n",
       "       'direction', 'rain', 'snowfall', 'is_weekday', 'effective_wind',\n",
       "       'SPEED', 'TORQUE', 'resist_ratio', 'FC', 'season_1', 'season_2',\n",
       "       'season_3', 'weathercode_1', 'weathercode_2', 'weathercode_3',\n",
       "       'weathercode_51', 'weathercode_53', 'weathercode_55', 'weathercode_61',\n",
       "       'weathercode_63', 'weathercode_71', 'weathercode_73', 'weathercode_75'],\n",
       "      dtype='object')"
      ]
     },
     "execution_count": 135,
     "metadata": {},
     "output_type": "execute_result"
    }
   ],
   "source": [
    "df.columns"
   ]
  },
  {
   "cell_type": "code",
   "execution_count": 93,
   "metadata": {},
   "outputs": [],
   "source": [
    "# standard scaler\n",
    "scaler = StandardScaler()\n",
    "transform_cols = [ x for x in df.columns if ((\"season\" not in x) and (\"weathercode\" not in x) and (x not in [\"MODE\", \"is_weekday\", \"direction\", ]))]\n",
    "df[transform_cols] = scaler.fit_transform(df[transform_cols])\n",
    "# transform_cols"
   ]
  },
  {
   "cell_type": "code",
   "execution_count": 94,
   "metadata": {},
   "outputs": [
    {
     "data": {
      "text/plain": [
       "Index(['HEADING', 'LATITUDE', 'LONGITUDE', 'SOG', 'trip_id', 'MODE', 'current',\n",
       "       'direction', 'rain', 'snowfall', 'is_weekday', 'effective_wind',\n",
       "       'SPEED', 'TORQUE', 'resist_ratio', 'FC', 'season_1', 'season_2',\n",
       "       'season_3', 'weathercode_1', 'weathercode_2', 'weathercode_3',\n",
       "       'weathercode_51', 'weathercode_53', 'weathercode_55', 'weathercode_61',\n",
       "       'weathercode_63', 'weathercode_71', 'weathercode_73', 'weathercode_75'],\n",
       "      dtype='object')"
      ]
     },
     "execution_count": 94,
     "metadata": {},
     "output_type": "execute_result"
    }
   ],
   "source": [
    "df.columns"
   ]
  },
  {
   "cell_type": "code",
   "execution_count": 127,
   "metadata": {},
   "outputs": [],
   "source": [
    "class Cell_data(Dataset):\n",
    "    def __init__(self, df, x_cols, y_cols, epi_size=94, train = True, train_test_split = 0.8, rand_seed=1):\n",
    "        ##########################inputs##################################\n",
    "        #data_dir(string) - directory of the data#########################\n",
    "        #size(int) - size of the images you want to use###################\n",
    "        #train(boolean) - train data or test data#########################\n",
    "        #train_test_split(float) - the portion of the data for training###\n",
    "        #augment_data(boolean) - use data augmentation or not#############\n",
    "        super(Cell_data, self).__init__()\n",
    "        # todo\n",
    "        #initialize the data class\n",
    "        trips = list(df.trip_id.unique())\n",
    "        self.train = train\n",
    "        self.epi_size = epi_size\n",
    "        self.x_cols = x_cols\n",
    "        self.y_cols = y_cols\n",
    "\n",
    "        # train_test_split\n",
    "        random.seed(rand_seed)\n",
    "        train_size = int(np.ceil(len(trips)*train_test_split))\n",
    "        train_trips = random.sample(trips, k=train_size)\n",
    "        if train:\n",
    "            self.trips_id = train_trips\n",
    "        else:\n",
    "            self.trips_id = [ x for x in trips if x not in train_trips]\n",
    "\n",
    "    # convert a df to tensor\n",
    "    def df_to_tensor(self, df):\n",
    "        if torch.cuda.is_available():\n",
    "            device = torch.device('cuda:0')\n",
    "        else:\n",
    "            device = torch.device('cpu')\n",
    "        return torch.from_numpy(df.values.astype(\"float\")).float().to(device)\n",
    "    \n",
    "    def __getitem__(self, idx):\n",
    "        #load corresponding trip id from index idx of your data\n",
    "        data = df[df.trip_id==(self.trips_id[idx])].reset_index(drop=True)\n",
    "        #get the needed episodes from the trips\n",
    "        len_data = len(data)\n",
    "        if len_data>self.epi_size:\n",
    "            starting_idx = random.randint(0, len_data-self.epi_size)\n",
    "            end_idx = starting_idx+ self.epi_size\n",
    "            data = data.iloc[starting_idx:end_idx]\n",
    "\n",
    "        #return X and y in tensors\n",
    "        X = data[self.x_cols]\n",
    "        y = data[self.y_cols]\n",
    "        return self.df_to_tensor(X), self.df_to_tensor(y)\n",
    "        \n",
    "\n",
    "    def __len__(self):\n",
    "        return len(self.trips_id)"
   ]
  },
  {
   "cell_type": "code",
   "execution_count": 128,
   "metadata": {},
   "outputs": [],
   "source": [
    "class Lstm(nn.Module):\n",
    "    def __init__(self, input_size, hidden_size=50, output_size=1, num_layers=1):\n",
    "        super().__init__()\n",
    " \n",
    "        self.lstm = nn.LSTM(input_size=input_size, hidden_size=hidden_size,\n",
    "                            num_layers=num_layers, batch_first=True)  # utilize the LSTM model in torch.nn\n",
    "        self.fc = nn.Linear(hidden_size, output_size)\n",
    " \n",
    "    def forward(self, x):\n",
    "        x, _ = self.lstm(x)  # _x is input, size (seq_len, batch, input_size)\n",
    "        x = self.fc(x)\n",
    "        return x"
   ]
  },
  {
   "cell_type": "code",
   "execution_count": 131,
   "metadata": {},
   "outputs": [],
   "source": [
    "# ----------------- train -------------------\n",
    "x_cols = ['HEADING', 'LATITUDE', 'LONGITUDE', 'SOG', 'MODE', 'current',\n",
    "       'direction', 'rain', 'snowfall', 'is_weekday', 'effective_wind',\n",
    "       'TORQUE', 'resist_ratio', 'season_1', 'season_2',\n",
    "       'season_3', 'weathercode_1', 'weathercode_2', 'weathercode_3',\n",
    "       'weathercode_51', 'weathercode_53', 'weathercode_55', 'weathercode_61',\n",
    "       'weathercode_63', 'weathercode_71', 'weathercode_73', 'weathercode_75']\n",
    "y_cols = ['FC']\n",
    "input_size = len(x_cols)\n",
    "output_size = len(y_cols)\n",
    "batch_size=16\n",
    "lr = 1e-6"
   ]
  },
  {
   "cell_type": "code",
   "execution_count": null,
   "metadata": {},
   "outputs": [],
   "source": [
    "device = torch.device(\"cpu\")\n",
    "model = Lstm(input_size, 20, output_size=output_size, num_layers=1)  # 20 hidden units\n",
    "\n",
    "criterion = nn.MSELoss()\n",
    "optimizer = torch.optim.Adam(model.parameters(), lr=lr)\n",
    "trainset = Cell_data(df, x_cols, y_cols, epi_size=94, train = True, train_test_split = 0.8, rand_seed=1)\n",
    "trainloader = DataLoader(trainset, batch_size = batch_size, shuffle=True, drop_last=True)\n",
    "\n",
    "testset = Cell_data(df, x_cols, y_cols, epi_size=94, train = False, train_test_split = 0.8, rand_seed=1)\n",
    "testloader = DataLoader(testset, batch_size = batch_size, drop_last=True)\n",
    "\n",
    "\n",
    "n_epochs = 2000\n",
    "for epoch in range(n_epochs):\n",
    "    epoch_loss = 0\n",
    "    train_rmse = 0\n",
    "    model.train()\n",
    "    for i, data in enumerate(trainloader):\n",
    "        X_batch, y_batch = data\n",
    "        y_pred = model(X_batch)\n",
    "        loss = criterion(y_pred, y_batch)\n",
    "        loss.backward()\n",
    "        optimizer.step()\n",
    "        optimizer.zero_grad()\n",
    "\n",
    "        epoch_loss += loss.item()\n",
    "    print('Epoch %d / %d --- Loss: %.4f' % (epoch + 1, n_epochs, epoch_loss / trainset.__len__()))\n",
    "\n",
    "    # Validation\n",
    "    if epoch % 100 != 0:\n",
    "        continue\n",
    "    model.eval()\n",
    "    total_loss = 0\n",
    "    with torch.no_grad():\n",
    "        for i, data in enumerate(testloader):\n",
    "            X_valid, y_valid = data\n",
    "            y_pred = model(X_valid)\n",
    "            loss = np.sqrt(criterion(y_pred, y_valid))\n",
    "            total_loss += loss.item()\n",
    "    print('Loss: %.4f' % (total_loss / testset.__len__()))\n"
   ]
  }
 ],
 "metadata": {
  "kernelspec": {
   "display_name": "base",
   "language": "python",
   "name": "python3"
  },
  "language_info": {
   "codemirror_mode": {
    "name": "ipython",
    "version": 3
   },
   "file_extension": ".py",
   "mimetype": "text/x-python",
   "name": "python",
   "nbconvert_exporter": "python",
   "pygments_lexer": "ipython3",
   "version": "3.7.6"
  },
  "orig_nbformat": 4
 },
 "nbformat": 4,
 "nbformat_minor": 2
}
