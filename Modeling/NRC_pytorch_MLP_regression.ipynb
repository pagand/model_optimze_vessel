{
  "nbformat": 4,
  "nbformat_minor": 0,
  "metadata": {
    "colab": {
      "provenance": [],
      "authorship_tag": "ABX9TyOZPStYL4EEV/rncXbSbz8Q",
      "include_colab_link": true
    },
    "kernelspec": {
      "name": "python3",
      "display_name": "Python 3"
    },
    "language_info": {
      "name": "python"
    },
    "accelerator": "GPU"
  },
  "cells": [
    {
      "cell_type": "markdown",
      "metadata": {
        "id": "view-in-github",
        "colab_type": "text"
      },
      "source": [
        "<a href=\"https://colab.research.google.com/github/pagand/model_optimze_vessel/blob/main/Modeling/NRC_pytorch_MLP_regression.ipynb\" target=\"_parent\"><img src=\"https://colab.research.google.com/assets/colab-badge.svg\" alt=\"Open In Colab\"/></a>"
      ]
    },
    {
      "cell_type": "code",
      "source": [
        "from google.colab import drive\n",
        "drive.mount('/content/drive')"
      ],
      "metadata": {
        "id": "wg6W1XWErQrp",
        "colab": {
          "base_uri": "https://localhost:8080/"
        },
        "outputId": "96823342-ce68-4eea-fc0e-c10fbeccce0c"
      },
      "execution_count": null,
      "outputs": [
        {
          "output_type": "stream",
          "name": "stdout",
          "text": [
            "Mounted at /content/drive\n"
          ]
        }
      ]
    },
    {
      "cell_type": "code",
      "execution_count": null,
      "metadata": {
        "id": "dDNzF2I6aDlN"
      },
      "outputs": [],
      "source": [
        "# pytorch mlp for regression\n",
        "from numpy import vstack\n",
        "from numpy import sqrt\n",
        "from pandas import read_csv\n",
        "from sklearn.metrics import mean_squared_error\n",
        "from torch.utils.data import Dataset\n",
        "from torch.utils.data import DataLoader\n",
        "from torch.utils.data import random_split\n",
        "from torch import Tensor, device, cuda\n",
        "from torch.nn import Linear\n",
        "from torch.nn import Sigmoid, ReLU\n",
        "from torch.nn import Module\n",
        "from torch.optim import SGD, Adam\n",
        "from torch.nn import MSELoss\n",
        "from torch.nn.init import xavier_uniform_\n",
        "from sklearn.preprocessing import MinMaxScaler\n",
        "import seaborn as sns # for visualization\n",
        "from torch.nn import Sigmoid, ReLU\n",
        "from torch.nn import Module\n",
        "from torch.optim import SGD, Adam\n",
        "from torch.nn import MSELoss\n",
        "from torch.nn.init import xavier_uniform_\n",
        "from sklearn.preprocessing import MinMaxScaler\n",
        "import seaborn as sns # for visualization\n",
        "import numpy as np\n",
        "import matplotlib.pylab as plt"
      ]
    },
    {
      "cell_type": "code",
      "source": [
        "from torch.utils import data\n",
        "# dataset definition\n",
        "class CSVDataset(Dataset):\n",
        "    # load the dataset\n",
        "    def __init__(self, path, normalized = False):\n",
        "        # load the csv file as a dataframe\n",
        "        df = read_csv(path, header=0, index_col=0)\n",
        "        # store the inputs and outputs\n",
        "        self.MinOut = df.iloc[:, -1].min()\n",
        "        self.MaxOut = df.iloc[:, -1].max()\n",
        "        \n",
        "        if normalized:\n",
        "          for column in df.columns[:]:\n",
        "            df[column] = (df[column] - df[column].min()) / (df[column].max() - df[column].min())  \n",
        "\n",
        "        \n",
        "        self.X = df.values[:, :-1].astype('float32')\n",
        "        self.y = df.values[:, -1].astype('float32')\n",
        "        \n",
        "        # ensure target has the right shape\n",
        "        self.y = self.y.reshape((len(self.y), 1))\n",
        "\n",
        "\n",
        "        \n",
        "  \n",
        "\n",
        "    # number of rows in the dataset\n",
        "    def __len__(self):\n",
        "        return len(self.X)\n",
        "\n",
        "    # get a row at an index\n",
        "    def __getitem__(self, idx):\n",
        "        return [self.X[idx], self.y[idx]]\n",
        "\n",
        "    # get indexes for train and test rows\n",
        "    def get_splits(self, n_test=0.33):\n",
        "        # determine sizes\n",
        "        test_size = round(n_test * len(self.X))\n",
        "        train_size = len(self.X) - test_size\n",
        "        # calculate the split\n",
        "        return random_split(self, [train_size, test_size])"
      ],
      "metadata": {
        "id": "wASVd9QGko6R"
      },
      "execution_count": null,
      "outputs": []
    },
    {
      "cell_type": "code",
      "source": [
        "# model definition\n",
        "class MLP(Module):\n",
        "    # define model elements\n",
        "    def __init__(self, n_inputs):\n",
        "        super(MLP, self).__init__()\n",
        "        # input to first hidden layer\n",
        "        \n",
        "        self.hidden1 = Linear(n_inputs, 30)\n",
        "        xavier_uniform_(self.hidden1.weight)\n",
        "        self.act1 = Sigmoid()\n",
        "        # second hidden layer\n",
        "        self.hidden2 = Linear(30, 20)\n",
        "        xavier_uniform_(self.hidden2.weight)\n",
        "        self.act2 = Sigmoid()\n",
        "        # third hidden layer and output\n",
        "        self.hidden3 = Linear(20, 1)\n",
        "        xavier_uniform_(self.hidden3.weight)\n",
        "\n",
        "    # forward propagate input\n",
        "    def forward(self, X):\n",
        "        # input to first hidden layer\n",
        "        X = self.hidden1(X)\n",
        "        X = self.act1(X)\n",
        "        # second hidden layer\n",
        "        X = self.hidden2(X)\n",
        "        X = self.act2(X)\n",
        "        # # third hidden layer and output\n",
        "        X = self.hidden3(X)\n",
        "        return X"
      ],
      "metadata": {
        "id": "gT4_9k1QkkE6"
      },
      "execution_count": null,
      "outputs": []
    },
    {
      "cell_type": "code",
      "source": [
        "# prepare the dataset\n",
        "def prepare_data(path, normalized):\n",
        "    # load the dataset\n",
        "    dataset = CSVDataset(path, normalized )# normalize input and output\n",
        "    \n",
        "    # calculate split\n",
        "    train, test = dataset.get_splits()\n",
        "    # prepare data loaders\n",
        "    train_dl = DataLoader(train, batch_size=32, shuffle=True)\n",
        "    test_dl = DataLoader(test, batch_size=1024, shuffle=False)\n",
        "    MinOut = dataset.MinOut\n",
        "    MaxOut = dataset.MaxOut\n",
        "    \n",
        "\n",
        "    return train_dl, test_dl, MinOut, MaxOut"
      ],
      "metadata": {
        "id": "oNG_ng5dkh4x"
      },
      "execution_count": null,
      "outputs": []
    },
    {
      "cell_type": "code",
      "source": [
        "# train the model\n",
        "def train_model(train_dl, model):\n",
        "    # define the optimization\n",
        "    criterion = MSELoss()\n",
        "    #optimizer = SGD(model.parameters(), lr=0.01, momentum=0.9)\n",
        "    optimizer = Adam(model.parameters(), lr=0.005)\n",
        "\n",
        "    # enumerate epochs\n",
        "    for epoch in range(200):\n",
        "        if epoch % 10 ==0  and epoch:\n",
        "              print(\"Epoch %d completed\" %epoch)\n",
        "        # enumerate mini batches\n",
        "        for i, (inputs, targets) in enumerate(train_dl):\n",
        "            # convert to device\n",
        "            inputs = inputs.to(device)\n",
        "            targets = targets.to(device)\n",
        "            # clear the gradients\n",
        "            optimizer.zero_grad()\n",
        "            # compute the model output\n",
        "            yhat = model(inputs)\n",
        "            # calculate loss\n",
        "            loss = criterion(yhat, targets)\n",
        "            # if i == 100 or i == 500 or i ==900:\n",
        "            #   print ([yhat])\n",
        "            # credit assignment\n",
        "            loss.backward()\n",
        "            # update model weights\n",
        "            optimizer.step()"
      ],
      "metadata": {
        "id": "Wkaas0Ppkfui"
      },
      "execution_count": null,
      "outputs": []
    },
    {
      "cell_type": "code",
      "source": [
        "# evaluate the model\n",
        "def evaluate_model(test_dl, model):\n",
        "    predictions, actuals = list(), list()\n",
        "    for i, (inputs, targets) in enumerate(test_dl):\n",
        "        # convert to device\n",
        "        inputs = inputs.to(device)\n",
        "        targets = targets.to(device)\n",
        "        # evaluate the model on the test set\n",
        "        yhat = model(inputs)\n",
        "        # retrieve numpy array\n",
        "        yhat = yhat.detach().numpy()\n",
        "        actual = targets.numpy()\n",
        "        actual = actual.reshape((len(actual), 1))\n",
        "        # store\n",
        "        predictions.append(yhat)\n",
        "        actuals.append(actual)\n",
        "    predictions, actuals = vstack(predictions), vstack(actuals)\n",
        "    # calculate mse\n",
        "    mse = mean_squared_error(actuals, predictions)\n",
        "    return mse"
      ],
      "metadata": {
        "id": "HSgoSyvgkdCP"
      },
      "execution_count": null,
      "outputs": []
    },
    {
      "cell_type": "code",
      "source": [
        "# make a class prediction for one row of data\n",
        "def predict(row, model):\n",
        "    # convert row to data\n",
        "    row = Tensor([row])\n",
        "    # make prediction\n",
        "    yhat = model(row)\n",
        "    # retrieve numpy array\n",
        "    yhat = yhat.detach().numpy()\n",
        "    return yhat\n"
      ],
      "metadata": {
        "id": "zYNxAtedkZRm"
      },
      "execution_count": null,
      "outputs": []
    },
    {
      "cell_type": "code",
      "source": [
        "# Access GPU ( before in google colab try to change Runtime>change runtime time>hardware acceleator > GPU)\n",
        "device = device('cuda' if cuda.is_available() else 'cpu')\n",
        "print(\"current device is {}\".format(device))\n",
        "# prepare the data\n",
        "\n",
        "path = '/content/drive/MyDrive/in_out_NN.csv'\n",
        "train_dl, test_dl, MinOut, MaxOut = prepare_data(path,normalized = True)\n",
        "\n",
        "print(len(train_dl.dataset), len(test_dl.dataset))\n",
        "# define the network\n",
        "model = MLP(10).to(device) # number of inputs, run in the device\n",
        "# train the model\n",
        "print(\"start training ...\")\n",
        "train_model(train_dl, model)\n",
        "\n",
        "# train overal error\n",
        "mse = evaluate_model(train_dl, model)\n",
        "scaler = (MaxOut-MinOut) # 1 if no normalization, otherwise should put to denormalize\n",
        "\n",
        "actual_mse = mse * (scaler)**2\n",
        "print('train error:: MSE: %.3f, RMSE: %.3f' % (actual_mse, sqrt(actual_mse)))\n",
        "\n",
        "\n",
        "# evaluate the model\n",
        "print(\"start evaluation ...\")\n",
        "mse = evaluate_model(test_dl, model)\n",
        "\n",
        "actual_mse = mse * (scaler)**2\n",
        "print('test error:: MSE: %.3f, RMSE: %.3f' % (actual_mse, sqrt(actual_mse)))\n",
        "# make a single prediction \n"
      ],
      "metadata": {
        "colab": {
          "base_uri": "https://localhost:8080/"
        },
        "id": "a5kWhzwUkW6Q",
        "outputId": "0c679648-14cc-4ccd-ec5e-75e6713a51e3"
      },
      "execution_count": null,
      "outputs": [
        {
          "output_type": "stream",
          "name": "stdout",
          "text": [
            "current device is cuda\n",
            "212547 104688\n",
            "start training ...\n",
            "Epoch 10 completed\n",
            "Epoch 20 completed\n",
            "Epoch 30 completed\n"
          ]
        }
      ]
    },
    {
      "cell_type": "code",
      "source": [
        "\n",
        "import matplotlib.pylab as plt\n",
        "\n",
        "y_test = np.zeros(len(test_dl.dataset))\n",
        "y_pred = np.zeros(len(test_dl.dataset))\n",
        "A = np.array(train_dl.dataset)\n",
        "\n",
        "for i in range(len(test_dl.dataset)):\n",
        "   y_test[i] =  A[i][1]*scaler+ MinOut\n",
        "   y_pred[i] = predict(A[i][0], model) *scaler + MinOut\n",
        "\n",
        "\n",
        "plt.figure(\"Test Plots\")\n",
        "ax1 = sns.distplot(y_test, hist=False, color='r', label='actual')\n",
        "sns_plot = sns.distplot(y_pred, hist=False, color='b',label='prediction', ax=ax1)\n",
        "plt.legend()"
      ],
      "metadata": {
        "colab": {
          "base_uri": "https://localhost:8080/",
          "height": 404
        },
        "id": "9fnEYKgaAhZB",
        "outputId": "6937f6e1-2088-4eac-9599-3f7e7164fe17"
      },
      "execution_count": null,
      "outputs": [
        {
          "output_type": "stream",
          "name": "stderr",
          "text": [
            "/usr/local/lib/python3.7/dist-packages/ipykernel_launcher.py:6: VisibleDeprecationWarning: Creating an ndarray from ragged nested sequences (which is a list-or-tuple of lists-or-tuples-or ndarrays with different lengths or shapes) is deprecated. If you meant to do this, you must specify 'dtype=object' when creating the ndarray.\n",
            "  \n",
            "/usr/local/lib/python3.7/dist-packages/seaborn/distributions.py:2619: FutureWarning: `distplot` is a deprecated function and will be removed in a future version. Please adapt your code to use either `displot` (a figure-level function with similar flexibility) or `kdeplot` (an axes-level function for kernel density plots).\n",
            "  warnings.warn(msg, FutureWarning)\n",
            "/usr/local/lib/python3.7/dist-packages/seaborn/distributions.py:2619: FutureWarning: `distplot` is a deprecated function and will be removed in a future version. Please adapt your code to use either `displot` (a figure-level function with similar flexibility) or `kdeplot` (an axes-level function for kernel density plots).\n",
            "  warnings.warn(msg, FutureWarning)\n"
          ]
        },
        {
          "output_type": "execute_result",
          "data": {
            "text/plain": [
              "<matplotlib.legend.Legend at 0x7f8609fd7650>"
            ]
          },
          "metadata": {},
          "execution_count": 32
        },
        {
          "output_type": "display_data",
          "data": {
            "text/plain": [
              "<Figure size 432x288 with 1 Axes>"
            ],
            "image/png": "[encoded data removed]"
          },
          "metadata": {
            "needs_background": "light"
          }
        }
      ]
    }
  ]
}