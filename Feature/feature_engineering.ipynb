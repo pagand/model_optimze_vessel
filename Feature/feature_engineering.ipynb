{
 "cells": [
  {
   "cell_type": "code",
   "execution_count": 212,
   "id": "f02eb2ba",
   "metadata": {},
   "outputs": [],
   "source": [
    "import pandas as pd\n",
    "import numpy as np\n",
    "import datetime"
   ]
  },
  {
   "cell_type": "code",
   "execution_count": 223,
   "id": "f71bd81f",
   "metadata": {},
   "outputs": [],
   "source": [
    "file_path = \"../../queenCsvOut.csv\"\n",
    "df = pd.read_csv(file_path, skiprows=[1])"
   ]
  },
  {
   "cell_type": "code",
   "execution_count": 224,
   "id": "b26ced35",
   "metadata": {},
   "outputs": [],
   "source": [
    "# drop rows that have more than 20 null values\n",
    "# drop column cargo and cargo_pax\n",
    "df.dropna(axis=0, thresh=20, inplace=True)\n",
    "df.drop(columns = [\"CARGO\", \"CARGO_PAX\"], inplace=True)"
   ]
  },
  {
   "cell_type": "code",
   "execution_count": 215,
   "id": "16f5a8af",
   "metadata": {},
   "outputs": [
    {
     "data": {
      "text/plain": [
       "(Index(['Dati', 'Time', 'DEPTH', 'ENGINE_1_FLOWRATE', 'ENGINE_1_FLOWRATEA',\n",
       "        'ENGINE_1_FLOWRATEB', 'ENGINE_1_FLOWTEMPA', 'ENGINE_1_FLOWTEMPB',\n",
       "        'ENGINE_1_FUEL_CONSUMPTION', 'ENGINE_2_FLOWRATE', 'ENGINE_2_FLOWRATEA',\n",
       "        'ENGINE_2_FLOWRATEB', 'ENGINE_2_FLOWTEMPA', 'ENGINE_2_FLOWTEMPB',\n",
       "        'ENGINE_2_FUEL_CONSUMPTION', 'HEADING', 'LATITUDE', 'LONGITUDE', 'PAX',\n",
       "        'PITCH_1', 'PITCH_2', 'POWER_1', 'POWER_2', 'RATE_OF_TURN', 'SOG',\n",
       "        'SOG_SPEEDLOG_LONG', 'SOG_SPEEDLOG_TRANS', 'SPEED_1', 'SPEED_2', 'STW',\n",
       "        'THRUST_1', 'THRUST_2', 'TORQUE_1', 'TORQUE_2', 'TRACK_MADE_GOOD',\n",
       "        'WIND_ANGLE', 'WIND_SPEED', 'WIND_ANGLE_TRUE', 'WIND_SPEED_TRUE'],\n",
       "       dtype='object'),\n",
       " 39)"
      ]
     },
     "execution_count": 215,
     "metadata": {},
     "output_type": "execute_result"
    }
   ],
   "source": [
    "df.columns, len(df.columns)"
   ]
  },
  {
   "cell_type": "code",
   "execution_count": 40,
   "id": "d193549f",
   "metadata": {},
   "outputs": [],
   "source": [
    "# trip id to identify which trip the records belong to\n",
    "# df[\"trip_id\"] = df[\"Dati\"].apply(lambda x: x.split(\"_\")[0]).astype(str)\n",
    "# df = df[[df.columns[-1]] + list(df.columns[:-1])]\n",
    "# df.trip_id.nunique()"
   ]
  },
  {
   "cell_type": "code",
   "execution_count": 42,
   "id": "fbddd39f",
   "metadata": {},
   "outputs": [],
   "source": [
    "# naive mode definition\n",
    "# TODO: add more constraints to get a more accurate mode\n",
    "df[\"SPEED_1\"] = df[\"SPEED_1\"].astype(float)\n",
    "df[\"SPEED_2\"] = df[\"SPEED_2\"].astype(float)\n",
    "\n",
    "# MODE for operation mode: 1 for mode1, 2 for mode2, 0 for unknown(speed with nan)\n",
    "def naive_operation_mode(row):\n",
    "    if pd.isna(row['SPEED_1']) or (pd.isna(row[\"SPEED_2\"])):\n",
    "        return 0\n",
    "    elif ((row[\"SPEED_1\"]<1) ^ (row[\"SPEED_2\"]<1)):\n",
    "        return 1\n",
    "    else:\n",
    "        return 2\n",
    "\n",
    "df[\"MODE\"] = df.apply(naive_operation_mode, axis=1)"
   ]
  },
  {
   "cell_type": "code",
   "execution_count": 43,
   "id": "38eaf6e4",
   "metadata": {},
   "outputs": [
    {
     "data": {
      "text/html": [
       "<div>\n",
       "<style scoped>\n",
       "    .dataframe tbody tr th:only-of-type {\n",
       "        vertical-align: middle;\n",
       "    }\n",
       "\n",
       "    .dataframe tbody tr th {\n",
       "        vertical-align: top;\n",
       "    }\n",
       "\n",
       "    .dataframe thead th {\n",
       "        text-align: right;\n",
       "    }\n",
       "</style>\n",
       "<table border=\"1\" class=\"dataframe\">\n",
       "  <thead>\n",
       "    <tr style=\"text-align: right;\">\n",
       "      <th></th>\n",
       "      <th>Dati</th>\n",
       "      <th>Time</th>\n",
       "      <th>CARGO</th>\n",
       "      <th>CARGO_PAX</th>\n",
       "      <th>DEPTH</th>\n",
       "      <th>ENGINE_1_FLOWRATE</th>\n",
       "      <th>ENGINE_1_FLOWRATEA</th>\n",
       "      <th>ENGINE_1_FLOWRATEB</th>\n",
       "      <th>ENGINE_1_FLOWTEMPA</th>\n",
       "      <th>ENGINE_1_FLOWTEMPB</th>\n",
       "      <th>...</th>\n",
       "      <th>STW</th>\n",
       "      <th>THRUST_1</th>\n",
       "      <th>THRUST_2</th>\n",
       "      <th>TORQUE_1</th>\n",
       "      <th>TORQUE_2</th>\n",
       "      <th>TRACK_MADE_GOOD</th>\n",
       "      <th>WIND_ANGLE</th>\n",
       "      <th>WIND_SPEED</th>\n",
       "      <th>WIND_ANGLE_TRUE</th>\n",
       "      <th>WIND_SPEED_TRUE</th>\n",
       "    </tr>\n",
       "    <tr>\n",
       "      <th>MODE</th>\n",
       "      <th></th>\n",
       "      <th></th>\n",
       "      <th></th>\n",
       "      <th></th>\n",
       "      <th></th>\n",
       "      <th></th>\n",
       "      <th></th>\n",
       "      <th></th>\n",
       "      <th></th>\n",
       "      <th></th>\n",
       "      <th></th>\n",
       "      <th></th>\n",
       "      <th></th>\n",
       "      <th></th>\n",
       "      <th></th>\n",
       "      <th></th>\n",
       "      <th></th>\n",
       "      <th></th>\n",
       "      <th></th>\n",
       "      <th></th>\n",
       "      <th></th>\n",
       "    </tr>\n",
       "  </thead>\n",
       "  <tbody>\n",
       "    <tr>\n",
       "      <th>0</th>\n",
       "      <td>262909</td>\n",
       "      <td>262713</td>\n",
       "      <td>5</td>\n",
       "      <td>5</td>\n",
       "      <td>0</td>\n",
       "      <td>0</td>\n",
       "      <td>0</td>\n",
       "      <td>0</td>\n",
       "      <td>0</td>\n",
       "      <td>0</td>\n",
       "      <td>...</td>\n",
       "      <td>0</td>\n",
       "      <td>0</td>\n",
       "      <td>0</td>\n",
       "      <td>0</td>\n",
       "      <td>0</td>\n",
       "      <td>5</td>\n",
       "      <td>0</td>\n",
       "      <td>0</td>\n",
       "      <td>0</td>\n",
       "      <td>0</td>\n",
       "    </tr>\n",
       "    <tr>\n",
       "      <th>1</th>\n",
       "      <td>381318</td>\n",
       "      <td>381318</td>\n",
       "      <td>373160</td>\n",
       "      <td>373160</td>\n",
       "      <td>381318</td>\n",
       "      <td>381318</td>\n",
       "      <td>381318</td>\n",
       "      <td>381318</td>\n",
       "      <td>381318</td>\n",
       "      <td>381318</td>\n",
       "      <td>...</td>\n",
       "      <td>381318</td>\n",
       "      <td>381318</td>\n",
       "      <td>381318</td>\n",
       "      <td>381318</td>\n",
       "      <td>381318</td>\n",
       "      <td>373160</td>\n",
       "      <td>381318</td>\n",
       "      <td>381318</td>\n",
       "      <td>380702</td>\n",
       "      <td>380702</td>\n",
       "    </tr>\n",
       "    <tr>\n",
       "      <th>2</th>\n",
       "      <td>454627</td>\n",
       "      <td>454627</td>\n",
       "      <td>450222</td>\n",
       "      <td>450222</td>\n",
       "      <td>454627</td>\n",
       "      <td>454627</td>\n",
       "      <td>454627</td>\n",
       "      <td>454627</td>\n",
       "      <td>454627</td>\n",
       "      <td>454627</td>\n",
       "      <td>...</td>\n",
       "      <td>454627</td>\n",
       "      <td>454627</td>\n",
       "      <td>454627</td>\n",
       "      <td>454627</td>\n",
       "      <td>454627</td>\n",
       "      <td>450222</td>\n",
       "      <td>454627</td>\n",
       "      <td>454627</td>\n",
       "      <td>406502</td>\n",
       "      <td>406527</td>\n",
       "    </tr>\n",
       "  </tbody>\n",
       "</table>\n",
       "<p>3 rows × 41 columns</p>\n",
       "</div>"
      ],
      "text/plain": [
       "        Dati    Time   CARGO  CARGO_PAX   DEPTH  ENGINE_1_FLOWRATE  \\\n",
       "MODE                                                                 \n",
       "0     262909  262713       5          5       0                  0   \n",
       "1     381318  381318  373160     373160  381318             381318   \n",
       "2     454627  454627  450222     450222  454627             454627   \n",
       "\n",
       "      ENGINE_1_FLOWRATEA  ENGINE_1_FLOWRATEB  ENGINE_1_FLOWTEMPA  \\\n",
       "MODE                                                               \n",
       "0                      0                   0                   0   \n",
       "1                 381318              381318              381318   \n",
       "2                 454627              454627              454627   \n",
       "\n",
       "      ENGINE_1_FLOWTEMPB  ...     STW  THRUST_1  THRUST_2  TORQUE_1  TORQUE_2  \\\n",
       "MODE                      ...                                                   \n",
       "0                      0  ...       0         0         0         0         0   \n",
       "1                 381318  ...  381318    381318    381318    381318    381318   \n",
       "2                 454627  ...  454627    454627    454627    454627    454627   \n",
       "\n",
       "      TRACK_MADE_GOOD  WIND_ANGLE  WIND_SPEED  WIND_ANGLE_TRUE  \\\n",
       "MODE                                                             \n",
       "0                   5           0           0                0   \n",
       "1              373160      381318      381318           380702   \n",
       "2              450222      454627      454627           406502   \n",
       "\n",
       "      WIND_SPEED_TRUE  \n",
       "MODE                   \n",
       "0                   0  \n",
       "1              380702  \n",
       "2              406527  \n",
       "\n",
       "[3 rows x 41 columns]"
      ]
     },
     "execution_count": 43,
     "metadata": {},
     "output_type": "execute_result"
    }
   ],
   "source": [
    "df.groupby(\"MODE\").count()"
   ]
  },
  {
   "cell_type": "code",
   "execution_count": 225,
   "id": "9296f559",
   "metadata": {},
   "outputs": [
    {
     "data": {
      "text/html": [
       "<div>\n",
       "<style scoped>\n",
       "    .dataframe tbody tr th:only-of-type {\n",
       "        vertical-align: middle;\n",
       "    }\n",
       "\n",
       "    .dataframe tbody tr th {\n",
       "        vertical-align: top;\n",
       "    }\n",
       "\n",
       "    .dataframe thead th {\n",
       "        text-align: right;\n",
       "    }\n",
       "</style>\n",
       "<table border=\"1\" class=\"dataframe\">\n",
       "  <thead>\n",
       "    <tr style=\"text-align: right;\">\n",
       "      <th></th>\n",
       "      <th>datetime</th>\n",
       "      <th>season</th>\n",
       "      <th>hour</th>\n",
       "      <th>weekday</th>\n",
       "    </tr>\n",
       "  </thead>\n",
       "  <tbody>\n",
       "    <tr>\n",
       "      <th>0</th>\n",
       "      <td>2019-08-30 00:00:00</td>\n",
       "      <td>1</td>\n",
       "      <td>0</td>\n",
       "      <td>4</td>\n",
       "    </tr>\n",
       "    <tr>\n",
       "      <th>1</th>\n",
       "      <td>2019-08-30 00:01:00</td>\n",
       "      <td>1</td>\n",
       "      <td>0</td>\n",
       "      <td>4</td>\n",
       "    </tr>\n",
       "    <tr>\n",
       "      <th>2</th>\n",
       "      <td>2019-08-30 00:02:00</td>\n",
       "      <td>1</td>\n",
       "      <td>0</td>\n",
       "      <td>4</td>\n",
       "    </tr>\n",
       "    <tr>\n",
       "      <th>3</th>\n",
       "      <td>2019-08-30 00:03:00</td>\n",
       "      <td>1</td>\n",
       "      <td>0</td>\n",
       "      <td>4</td>\n",
       "    </tr>\n",
       "    <tr>\n",
       "      <th>4</th>\n",
       "      <td>2019-08-30 00:04:00</td>\n",
       "      <td>1</td>\n",
       "      <td>0</td>\n",
       "      <td>4</td>\n",
       "    </tr>\n",
       "    <tr>\n",
       "      <th>...</th>\n",
       "      <td>...</td>\n",
       "      <td>...</td>\n",
       "      <td>...</td>\n",
       "      <td>...</td>\n",
       "    </tr>\n",
       "    <tr>\n",
       "      <th>1098653</th>\n",
       "      <td>2021-09-30 22:53:00</td>\n",
       "      <td>1</td>\n",
       "      <td>22</td>\n",
       "      <td>3</td>\n",
       "    </tr>\n",
       "    <tr>\n",
       "      <th>1098654</th>\n",
       "      <td>2021-09-30 22:54:00</td>\n",
       "      <td>1</td>\n",
       "      <td>22</td>\n",
       "      <td>3</td>\n",
       "    </tr>\n",
       "    <tr>\n",
       "      <th>1098655</th>\n",
       "      <td>2021-09-30 22:55:00</td>\n",
       "      <td>1</td>\n",
       "      <td>22</td>\n",
       "      <td>3</td>\n",
       "    </tr>\n",
       "    <tr>\n",
       "      <th>1098656</th>\n",
       "      <td>2021-09-30 22:56:00</td>\n",
       "      <td>1</td>\n",
       "      <td>22</td>\n",
       "      <td>3</td>\n",
       "    </tr>\n",
       "    <tr>\n",
       "      <th>1098657</th>\n",
       "      <td>2021-09-30 22:57:00</td>\n",
       "      <td>1</td>\n",
       "      <td>22</td>\n",
       "      <td>3</td>\n",
       "    </tr>\n",
       "  </tbody>\n",
       "</table>\n",
       "<p>835945 rows × 4 columns</p>\n",
       "</div>"
      ],
      "text/plain": [
       "                   datetime  season  hour  weekday\n",
       "0       2019-08-30 00:00:00       1     0        4\n",
       "1       2019-08-30 00:01:00       1     0        4\n",
       "2       2019-08-30 00:02:00       1     0        4\n",
       "3       2019-08-30 00:03:00       1     0        4\n",
       "4       2019-08-30 00:04:00       1     0        4\n",
       "...                     ...     ...   ...      ...\n",
       "1098653 2021-09-30 22:53:00       1    22        3\n",
       "1098654 2021-09-30 22:54:00       1    22        3\n",
       "1098655 2021-09-30 22:55:00       1    22        3\n",
       "1098656 2021-09-30 22:56:00       1    22        3\n",
       "1098657 2021-09-30 22:57:00       1    22        3\n",
       "\n",
       "[835945 rows x 4 columns]"
      ]
     },
     "execution_count": 225,
     "metadata": {},
     "output_type": "execute_result"
    }
   ],
   "source": [
    "# from the Dati variable, get the corresponding season code, hour, and day of the week\n",
    "def get_dt_info(minute, starting_dt):\n",
    "    dt = starting_dt + datetime.timedelta(minutes=minute) # days, seconds, then other fields.\n",
    "    month = dt.month\n",
    "    season = get_season(month)\n",
    "    hour = dt.hour\n",
    "    weekday = dt.weekday()\n",
    "    return dt, season, hour, weekday\n",
    "\n",
    "# get season code from corresponding month:\n",
    "# spring: 0, summer: 1, fall: 2, winter: 3\n",
    "def get_season(month):\n",
    "    if month <= 3:\n",
    "        return 3\n",
    "    elif month <=6:\n",
    "        return 0\n",
    "    elif month <=9:\n",
    "        return 1\n",
    "    else:\n",
    "        return 2\n",
    "\n",
    "# convert Dati to python datetime format\n",
    "# df[\"datetime\"] = pd.to_datetime(df.Dati, format='%y%m%d_%H%M%S')\n",
    "starting_dt = pd.to_datetime(df.iloc[0].Dati, format='%y%m%d_%H%M%S')\n",
    "df[\"datetime\"],df[\"season\"], df[\"hour\"], df[\"weekday\"] = zip(*df[\"Time\"].apply(get_dt_info, starting_dt = starting_dt))\n",
    "df[[\"datetime\", \"season\", \"hour\", \"weekday\"]]"
   ]
  },
  {
   "cell_type": "code",
   "execution_count": 163,
   "id": "f8c19505",
   "metadata": {},
   "outputs": [
    {
     "data": {
      "text/plain": [
       "0          0.0000\n",
       "1          0.0166\n",
       "2          0.0317\n",
       "3          0.0384\n",
       "4         -0.0950\n",
       "            ...  \n",
       "1098653    0.1667\n",
       "1098654    0.0834\n",
       "1098655    0.1217\n",
       "1098656    0.2166\n",
       "1098657    0.3850\n",
       "Name: current, Length: 835945, dtype: float64"
      ]
     },
     "execution_count": 163,
     "metadata": {},
     "output_type": "execute_result"
    }
   ],
   "source": [
    "# current: difference between STW and SOG\n",
    "df[\"current\"] = df[\"STW\"] - df[\"SOG\"]\n",
    "df.current"
   ]
  },
  {
   "cell_type": "code",
   "execution_count": 164,
   "id": "1d6bed87",
   "metadata": {},
   "outputs": [
    {
     "data": {
      "text/plain": [
       "(-123.46494295180521, 49.315970106145976)"
      ]
     },
     "execution_count": 164,
     "metadata": {},
     "output_type": "execute_result"
    }
   ],
   "source": [
    "# mean longitude and lattitude\n",
    "mean_long = df[\"LONGITUDE\"].mean()\n",
    "mean_lat = df[\"LATITUDE\"].mean()\n",
    "mean_long, mean_lat"
   ]
  },
  {
   "cell_type": "code",
   "execution_count": 178,
   "id": "d329d26e",
   "metadata": {},
   "outputs": [
    {
     "data": {
      "text/plain": [
       "-123.2715    260538\n",
       "-123.2714     94259\n",
       "-123.9554     62250\n",
       "-123.9547     10172\n",
       "-123.2707      7788\n",
       "              ...  \n",
       "-70.4409          1\n",
       "-68.2396          1\n",
       "-66.0383          1\n",
       "-63.8370          1\n",
       "-18.9718          1\n",
       "Name: LONGITUDE, Length: 7072, dtype: int64"
      ]
     },
     "execution_count": 178,
     "metadata": {},
     "output_type": "execute_result"
    }
   ],
   "source": [
    "df['LONGITUDE'].value_counts()"
   ]
  },
  {
   "cell_type": "code",
   "execution_count": 180,
   "id": "a221f33d",
   "metadata": {},
   "outputs": [
    {
     "data": {
      "text/plain": [
       "49.3771    349193\n",
       "49.1936     55011\n",
       "49.3773     13532\n",
       "49.1938     10318\n",
       "49.4316      6778\n",
       "            ...  \n",
       "49.0760         1\n",
       "49.0780         1\n",
       "49.0820         1\n",
       "49.0840         1\n",
       "49.1934         1\n",
       "Name: LATITUDE, Length: 2601, dtype: int64"
      ]
     },
     "execution_count": 180,
     "metadata": {},
     "output_type": "execute_result"
    }
   ],
   "source": [
    "df['LATITUDE'].value_counts()"
   ]
  },
  {
   "cell_type": "code",
   "execution_count": 183,
   "id": "e100e5ec",
   "metadata": {},
   "outputs": [],
   "source": [
    "# Horseshoe Bay\n",
    "# 49.3771, -123.2715\n",
    "df[\"LONGITUDE\"].mode(), df[\"LATITUDE\"].mode()\n",
    "H_lat = 49.3771\n",
    "H_long = -123.2715\n",
    "\n",
    "# Nanaimo \n",
    "# 49.1936, -123.9554\n",
    "N_lat = 49.1936\n",
    "N_long = -123.9554"
   ]
  },
  {
   "cell_type": "code",
   "execution_count": 194,
   "id": "7bbef35b",
   "metadata": {},
   "outputs": [],
   "source": [
    "# 0: H, 1: N, 2: H-N, 3: N-H\n",
    "def get_direction():\n",
    "    direc = np.zeros(df.shape[0])\n",
    "    direc[0] = 0\n",
    "    for i in range(1, df.shape[0]):\n",
    "        if (df.iloc[i].LONGITUDE == H_long) and (df.iloc[i].LATITUDE == H_lat) and (df.iloc[i].SOG < 0.1):\n",
    "            direc[i]=0\n",
    "        elif (df.iloc[i].LONGITUDE == N_long) and (df.iloc[i].LATITUDE == N_lat) and (df.iloc[i].SOG < 0.1):\n",
    "            direc[i]=1\n",
    "        elif direc[i-1] == 0:\n",
    "            direc[i]=2\n",
    "        elif direc[i-1] == 1:\n",
    "            direc[i]=3\n",
    "        else:\n",
    "            direc[i] = (direc[i-1])\n",
    "    return direc\n",
    "direcs = get_direction()"
   ]
  },
  {
   "cell_type": "code",
   "execution_count": 195,
   "id": "0a08f4a7",
   "metadata": {},
   "outputs": [
    {
     "data": {
      "text/plain": [
       "2.0    311066\n",
       "0.0    257966\n",
       "3.0    211903\n",
       "1.0     55010\n",
       "Name: direction, dtype: int64"
      ]
     },
     "execution_count": 195,
     "metadata": {},
     "output_type": "execute_result"
    }
   ],
   "source": [
    "df[\"direction\"] = direcs\n",
    "df[\"direction\"].value_counts()"
   ]
  },
  {
   "cell_type": "code",
   "execution_count": 165,
   "id": "133c8c4e",
   "metadata": {},
   "outputs": [],
   "source": [
    "# weather related features\n",
    "# temperature, humidity, pressure, precipitation, rain, snowfall\n",
    "# weathercode: uses WMO weather codes\n",
    "\n",
    "weather = pd.read_csv(\"weather.csv\")\n",
    "weather.columns = [\"time\", \"temperature\", \"humidity\", \"pressure\", \"precipitation\", \"rain\", \"snowfall\", \"weathercode\"]\n",
    "weather[\"time\"] = pd.to_datetime(weather[\"time\"], format='%Y-%m-%dT%H:%M')\n",
    "weather[\"day\"] = weather.time.apply(lambda x: x.date())\n",
    "weather[\"hour\"] = weather.time.apply(lambda x: x.hour)\n",
    "\n",
    "df[\"day\"] = df.datetime.apply(lambda x: x.date())\n",
    "df[\"hour\"] = df.datetime.apply(lambda x: x.hour)\n",
    "df = pd.merge(df, weather, on=[\"day\", \"hour\"], how=\"left\").drop([\"day\", \"hour\", \"time\"], axis=1)\n",
    "df.weathercode = df.weathercode.apply(lambda x: int(x.strip(\"\\\\\")))"
   ]
  },
  {
   "cell_type": "code",
   "execution_count": 166,
   "id": "4cc770a3",
   "metadata": {},
   "outputs": [
    {
     "data": {
      "text/plain": [
       "array([ 2,  3, 51,  1, 53, 63,  0, 55, 61, 71, 73, 75])"
      ]
     },
     "execution_count": 166,
     "metadata": {},
     "output_type": "execute_result"
    }
   ],
   "source": [
    "df.weathercode.unique()"
   ]
  },
  {
   "cell_type": "code",
   "execution_count": 167,
   "id": "b20ebf5a",
   "metadata": {},
   "outputs": [],
   "source": [
    "def get_wind_direction(angle):\n",
    "    angle = np.abs(angle)\n",
    "    if angle <= 60:\n",
    "        return 0\n",
    "    elif angle <= 120:\n",
    "        return 1\n",
    "    elif angle <= 180:\n",
    "        return 2\n",
    "    else:\n",
    "        return np.nan\n",
    "    \n",
    "df[\"wind_force\"] = df[\"WIND_SPEED_TRUE\"] ** 2\n",
    "df[\"wind_direc\"] = df[\"WIND_ANGLE_TRUE\"].apply(get_wind_direction)"
   ]
  },
  {
   "cell_type": "code",
   "execution_count": 196,
   "id": "10c8f893",
   "metadata": {},
   "outputs": [],
   "source": [
    "holidays = []\n",
    "holidays.append(datetime.datetime(2019, 9, 2))\n",
    "holidays.append(datetime.datetime(2019, 10, 14))\n",
    "holidays.append(datetime.datetime(2019, 11, 11))\n",
    "holidays.append(datetime.datetime(2019, 12, 25))\n",
    "holidays.append(datetime.datetime(2020, 1, 1))\n",
    "holidays.append(datetime.datetime(2020, 2, 17))\n",
    "holidays.append(datetime.datetime(2020, 4, 10))\n",
    "holidays.append(datetime.datetime(2020, 5, 18))\n",
    "holidays.append(datetime.datetime(2020, 7, 1))\n",
    "holidays.append(datetime.datetime(2020, 8, 3))\n",
    "holidays.append(datetime.datetime(2020, 9, 7))\n",
    "holidays.append(datetime.datetime(2020, 10, 12))\n",
    "holidays.append(datetime.datetime(2020, 11, 11))\n",
    "holidays.append(datetime.datetime(2020, 12, 25))\n",
    "holidays.append(datetime.datetime(2021, 1, 1))\n",
    "holidays.append(datetime.datetime(2021, 2, 15))\n",
    "holidays.append(datetime.datetime(2021, 4, 2))\n",
    "holidays.append(datetime.datetime(2021, 5, 24))\n",
    "holidays.append(datetime.datetime(2021, 7, 1))\n",
    "holidays.append(datetime.datetime(2021, 8, 2))\n",
    "holidays.append(datetime.datetime(2021, 9, 6))\n",
    "is_holiday = [1 for i in range(len(holidays))]\n",
    "holidays = pd.DataFrame({\"date\":holidays, \"holiday\":is_holiday})\n",
    "holidays[\"date\"] = holidays[\"date\"].apply(lambda x: x.date())"
   ]
  },
  {
   "cell_type": "code",
   "execution_count": 227,
   "id": "fa118cf1",
   "metadata": {},
   "outputs": [],
   "source": [
    "df[\"date\"] = df.datetime.apply(lambda x: x.date())\n",
    "df = pd.merge(df, holidays, on=\"date\", how=\"left\")\n",
    "df[\"holiday\"] = df[\"holiday\"].fillna(0)\n",
    "df[\"is_weekday\"] = (df[\"weekday\"]>0) & (df[\"weekday\"]<=5) & (~(df[\"holiday\"]==1))"
   ]
  },
  {
   "cell_type": "code",
   "execution_count": null,
   "id": "83ede85b",
   "metadata": {},
   "outputs": [],
   "source": []
  }
 ],
 "metadata": {
  "kernelspec": {
   "display_name": "Python 3 (ipykernel)",
   "language": "python",
   "name": "python3"
  },
  "language_info": {
   "codemirror_mode": {
    "name": "ipython",
    "version": 3
   },
   "file_extension": ".py",
   "mimetype": "text/x-python",
   "name": "python",
   "nbconvert_exporter": "python",
   "pygments_lexer": "ipython3",
   "version": "3.7.6"
  }
 },
 "nbformat": 4,
 "nbformat_minor": 5
}
