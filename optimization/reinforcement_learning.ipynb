{
 "cells": [
  {
   "cell_type": "code",
   "execution_count": 1,
   "metadata": {
    "colab": {
     "base_uri": "https://localhost:8080/"
    },
    "id": "0Bd6deRf24fj",
    "outputId": "601acfe5-eda8-4f43-c0ce-61a998250b77"
   },
   "outputs": [
    {
     "name": "stdout",
     "output_type": "stream",
     "text": [
      "Requirement already satisfied: d3rlpy==2.0.3 in /local-scratch/localhome/pagand/anaconda3/envs/vessel/lib/python3.7/site-packages (2.0.3)\n",
      "Requirement already satisfied: click in /local-scratch/localhome/pagand/anaconda3/envs/vessel/lib/python3.7/site-packages (from d3rlpy==2.0.3) (7.1.2)\n",
      "Requirement already satisfied: structlog in /local-scratch/localhome/pagand/anaconda3/envs/vessel/lib/python3.7/site-packages (from d3rlpy==2.0.3) (23.1.0)\n",
      "Requirement already satisfied: h5py in /local-scratch/localhome/pagand/anaconda3/envs/vessel/lib/python3.7/site-packages (from d3rlpy==2.0.3) (3.8.0)\n",
      "Requirement already satisfied: torch>=1.13.1 in /local-scratch/localhome/pagand/anaconda3/envs/vessel/lib/python3.7/site-packages (from d3rlpy==2.0.3) (1.13.1)\n",
      "Requirement already satisfied: tqdm in /local-scratch/localhome/pagand/anaconda3/envs/vessel/lib/python3.7/site-packages (from d3rlpy==2.0.3) (4.64.1)\n",
      "Requirement already satisfied: typing-extensions in /local-scratch/localhome/pagand/anaconda3/envs/vessel/lib/python3.7/site-packages (from d3rlpy==2.0.3) (4.4.0)\n",
      "Requirement already satisfied: dataclasses-json in /local-scratch/localhome/pagand/anaconda3/envs/vessel/lib/python3.7/site-packages (from d3rlpy==2.0.3) (0.6.0)\n",
      "Requirement already satisfied: colorama in /local-scratch/localhome/pagand/anaconda3/envs/vessel/lib/python3.7/site-packages (from d3rlpy==2.0.3) (0.4.6)\n",
      "Requirement already satisfied: gym>=0.26.0 in /local-scratch/localhome/pagand/anaconda3/envs/vessel/lib/python3.7/site-packages (from d3rlpy==2.0.3) (0.26.2)\n",
      "Requirement already satisfied: importlib-metadata>=4.8.0 in /local-scratch/localhome/pagand/anaconda3/envs/vessel/lib/python3.7/site-packages (from gym>=0.26.0->d3rlpy==2.0.3) (6.0.0)\n",
      "Requirement already satisfied: cloudpickle>=1.2.0 in /local-scratch/localhome/pagand/anaconda3/envs/vessel/lib/python3.7/site-packages (from gym>=0.26.0->d3rlpy==2.0.3) (2.2.1)\n",
      "Requirement already satisfied: numpy>=1.18.0 in /local-scratch/localhome/pagand/anaconda3/envs/vessel/lib/python3.7/site-packages (from gym>=0.26.0->d3rlpy==2.0.3) (1.21.5)\n",
      "Requirement already satisfied: gym-notices>=0.0.4 in /local-scratch/localhome/pagand/anaconda3/envs/vessel/lib/python3.7/site-packages (from gym>=0.26.0->d3rlpy==2.0.3) (0.0.8)\n",
      "Requirement already satisfied: zipp>=0.5 in /local-scratch/localhome/pagand/anaconda3/envs/vessel/lib/python3.7/site-packages (from importlib-metadata>=4.8.0->gym>=0.26.0->d3rlpy==2.0.3) (3.11.0)\n",
      "Requirement already satisfied: nvidia-cudnn-cu11==8.5.0.96 in /local-scratch/localhome/pagand/anaconda3/envs/vessel/lib/python3.7/site-packages (from torch>=1.13.1->d3rlpy==2.0.3) (8.5.0.96)\n",
      "Requirement already satisfied: nvidia-cublas-cu11==11.10.3.66 in /local-scratch/localhome/pagand/anaconda3/envs/vessel/lib/python3.7/site-packages (from torch>=1.13.1->d3rlpy==2.0.3) (11.10.3.66)\n",
      "Requirement already satisfied: nvidia-cuda-nvrtc-cu11==11.7.99 in /local-scratch/localhome/pagand/anaconda3/envs/vessel/lib/python3.7/site-packages (from torch>=1.13.1->d3rlpy==2.0.3) (11.7.99)\n",
      "Requirement already satisfied: nvidia-cuda-runtime-cu11==11.7.99 in /local-scratch/localhome/pagand/anaconda3/envs/vessel/lib/python3.7/site-packages (from torch>=1.13.1->d3rlpy==2.0.3) (11.7.99)\n",
      "Requirement already satisfied: wheel in /local-scratch/localhome/pagand/anaconda3/envs/vessel/lib/python3.7/site-packages (from nvidia-cublas-cu11==11.10.3.66->torch>=1.13.1->d3rlpy==2.0.3) (0.37.1)\n",
      "Requirement already satisfied: setuptools in /local-scratch/localhome/pagand/anaconda3/envs/vessel/lib/python3.7/site-packages (from nvidia-cublas-cu11==11.10.3.66->torch>=1.13.1->d3rlpy==2.0.3) (61.2.0)\n",
      "Requirement already satisfied: typing-inspect<1,>=0.4.0 in /local-scratch/localhome/pagand/anaconda3/envs/vessel/lib/python3.7/site-packages (from dataclasses-json->d3rlpy==2.0.3) (0.9.0)\n",
      "Requirement already satisfied: marshmallow<4.0.0,>=3.18.0 in /local-scratch/localhome/pagand/anaconda3/envs/vessel/lib/python3.7/site-packages (from dataclasses-json->d3rlpy==2.0.3) (3.19.0)\n",
      "Requirement already satisfied: packaging>=17.0 in /local-scratch/localhome/pagand/anaconda3/envs/vessel/lib/python3.7/site-packages (from marshmallow<4.0.0,>=3.18.0->dataclasses-json->d3rlpy==2.0.3) (23.0)\n",
      "Requirement already satisfied: mypy-extensions>=0.3.0 in /local-scratch/localhome/pagand/anaconda3/envs/vessel/lib/python3.7/site-packages (from typing-inspect<1,>=0.4.0->dataclasses-json->d3rlpy==2.0.3) (1.0.0)\n",
      "Requirement already satisfied: gym in /local-scratch/localhome/pagand/anaconda3/envs/vessel/lib/python3.7/site-packages (0.26.2)\n",
      "Requirement already satisfied: numpy>=1.18.0 in /local-scratch/localhome/pagand/anaconda3/envs/vessel/lib/python3.7/site-packages (from gym) (1.21.5)\n",
      "Requirement already satisfied: importlib-metadata>=4.8.0 in /local-scratch/localhome/pagand/anaconda3/envs/vessel/lib/python3.7/site-packages (from gym) (6.0.0)\n",
      "Requirement already satisfied: gym-notices>=0.0.4 in /local-scratch/localhome/pagand/anaconda3/envs/vessel/lib/python3.7/site-packages (from gym) (0.0.8)\n",
      "Requirement already satisfied: cloudpickle>=1.2.0 in /local-scratch/localhome/pagand/anaconda3/envs/vessel/lib/python3.7/site-packages (from gym) (2.2.1)\n",
      "Requirement already satisfied: zipp>=0.5 in /local-scratch/localhome/pagand/anaconda3/envs/vessel/lib/python3.7/site-packages (from importlib-metadata>=4.8.0->gym) (3.11.0)\n",
      "Requirement already satisfied: typing-extensions>=3.6.4 in /local-scratch/localhome/pagand/anaconda3/envs/vessel/lib/python3.7/site-packages (from importlib-metadata>=4.8.0->gym) (4.4.0)\n"
     ]
    }
   ],
   "source": [
    "!pip install d3rlpy==2.0.3\n",
    "!pip install gym\n",
    "# !pip install -U transformers==4.30.0\n",
    "# !pip install scikit-learn==1.0.2\n",
    "import os\n",
    "import sys\n",
    "\n",
    "\n",
    "from transformers import TimeSeriesTransformerConfig, TimeSeriesTransformerModel, TimeSeriesTransformerForPrediction\n",
    "import torch\n",
    "import gym\n",
    "import numpy as np\n",
    "import pickle\n",
    "import random\n",
    "from torch.utils.data import Dataset, DataLoader\n",
    "# from google.colab import drive\n",
    "import d3rlpy\n",
    "import pandas as pd\n",
    "# drive.mount('/content/drive')\n",
    "\n",
    "with open('../data/rl_data.pkl', 'rb') as handle:\n",
    "    rl_data = pickle.load(handle)"
   ]
  },
  {
   "cell_type": "code",
   "execution_count": 2,
   "metadata": {},
   "outputs": [],
   "source": [
    "sys.path.append(os.path.join(\"/localhome/pagand/projects/model_optimze_vessel\", 'Prepration'))"
   ]
  },
  {
   "cell_type": "code",
   "execution_count": 3,
   "metadata": {
    "colab": {
     "base_uri": "https://localhost:8080/"
    },
    "id": "mpNB6AQ0ZLjc",
    "outputId": "130d3e6c-f2db-4c9b-d51d-4b17efd75647"
   },
   "outputs": [
    {
     "data": {
      "text/plain": [
       "array([ 1.00000000e+00,  1.73800000e+02,  5.78201792e-02, -3.14107591e-02,\n",
       "        9.99506560e-01,  1.25905353e+00,  4.07498063e-01,  0.00000000e+00,\n",
       "        0.00000000e+00,  9.31828385e-03,  0.00000000e+00,  2.13797399e-01,\n",
       "        1.00000000e+00,  1.00000000e+00,  2.50000000e-01,  2.50000000e-01,\n",
       "        3.74466392e-01,  1.86616923e-01,  4.21229992e-04,  2.32591947e-03])"
      ]
     },
     "execution_count": 3,
     "metadata": {},
     "output_type": "execute_result"
    }
   ],
   "source": [
    "rl_data[1][\"observations\"][0]"
   ]
  },
  {
   "cell_type": "code",
   "execution_count": 4,
   "metadata": {
    "id": "1WnIpFlC2SJj"
   },
   "outputs": [],
   "source": [
    "import gym\n",
    "from gym import spaces\n",
    "import pickle\n",
    "import pandas as pd\n",
    "import numpy as np\n",
    "import random\n",
    "import matplotlib.pyplot as plt\n",
    "import torch\n",
    "from transformers import TimeSeriesTransformerConfig, TimeSeriesTransformerForPrediction\n"
   ]
  },
  {
   "cell_type": "code",
   "execution_count": 5,
   "metadata": {
    "id": "q8DimJXK4mnh"
   },
   "outputs": [],
   "source": [
    "\n",
    "\n",
    "observations = []\n",
    "rewards_stage1 = []\n",
    "rewards_stage2 = []\n",
    "rewards_stage3 = []\n",
    "actions = []\n",
    "terminations = []\n",
    "# for i in range(len(rl_data)):\n",
    "for i in range(2):\n",
    "    if i !=0:\n",
    "        x = rl_data[i]\n",
    "        obs = x[\"observations\"]\n",
    "        # new_obs = np.zeros([len(obs-25), 185])\n",
    "        # for j in range(25, len(obs)):\n",
    "            # new_obs[j-25] = np.concatenate([obs[j-25:j,[0,1,2,16,17,18,19]].reshape(1,-1), obs[j, 6:16].reshape(1,-1)], axis=1)\n",
    "        observations.append(obs)\n",
    "        rewards_stage1.append((np.sum(x[\"rewards\"], axis=1)/4).reshape(-1,1))\n",
    "        rewards_stage2.append((np.sum(x[\"rewards\"][:, [0,1,3]], axis=1)/3).reshape(-1,1))\n",
    "        rewards_stage3.append((np.sum(x[\"rewards\"][:, [1,3]], axis=1)/2).reshape(-1,1))\n",
    "        # rewards.append((np.sum(x[\"rewards\"][:, [0,1,3]], axis=1)/3).reshape(-1,1))\n",
    "        # rewards.append(x[\"rewards\"][:,3].reshape(-1,1))\n",
    "        terminations.append(x[\"termination\"])\n",
    "        x[\"actions\"][:, 1] = x[\"actions\"][:, 1]/360\n",
    "        actions.append(x[\"actions\"])\n"
   ]
  },
  {
   "cell_type": "code",
   "execution_count": 8,
   "metadata": {
    "id": "HPPEGbx9sILj"
   },
   "outputs": [],
   "source": [
    "from VesselEnvironment import VesselEnvironment\n",
    "csv_files = [\"../data/H2N_top1.csv\", \"../data/N2H_top1.csv\"]\n",
    "stage1_env = VesselEnvironment(rl_data, \"../data/fc_2_final.pt\", \"../data/longlat_3_final.pt\", pickle.load(open('../data/minmax_scaler.pkl', 'rb')),csv_files ,reward_type=\"mimic\")\n",
    "stage2_env = VesselEnvironment(rl_data, \"../data/fc_2_final.pt\", \"../data/longlat_3_final.pt\", pickle.load(open('../data/minmax_scaler.pkl', 'rb')),csv_files, reward_type=\"top1\")\n",
    "stage3_env = VesselEnvironment(rl_data, \"../data/fc_2_final.pt\", \"../data/longlat_3_final.pt\", pickle.load(open('../data/minmax_scaler.pkl', 'rb')), csv_files, reward_type=\"conceptual\")"
   ]
  },
  {
   "cell_type": "code",
   "execution_count": 9,
   "metadata": {
    "id": "_3Padf6pR3y4"
   },
   "outputs": [],
   "source": [
    "import d3rlpy\n",
    "dt = d3rlpy.algos.DecisionTransformerConfig(max_timestep=124, context_size=25, learning_rate=1e-6).create(device=\"cuda:0\")"
   ]
  },
  {
   "cell_type": "code",
   "execution_count": 10,
   "metadata": {
    "id": "YuCrl9qXQkjX"
   },
   "outputs": [],
   "source": [
    "observations = np.vstack(observations)\n",
    "rewards_stage1 = np.vstack(rewards_stage1)\n",
    "rewards_stage2 = np.vstack(rewards_stage2)\n",
    "rewards_stage3 = np.vstack(rewards_stage3)\n",
    "actions = np.vstack(actions)\n",
    "terminations = np.vstack(terminations)\n",
    "dataset_stage1 = d3rlpy.dataset.MDPDataset(\n",
    "    observations=observations,\n",
    "    actions=actions,\n",
    "    rewards=rewards_stage1,\n",
    "    terminals=terminations,\n",
    ")\n",
    "dataset_stage2 = d3rlpy.dataset.MDPDataset(\n",
    "    observations=observations,\n",
    "    actions=actions,\n",
    "    rewards=rewards_stage2,\n",
    "    terminals=terminations,\n",
    ")\n",
    "dataset_stage3 = d3rlpy.dataset.MDPDataset(\n",
    "    observations=observations,\n",
    "    actions=actions,\n",
    "    rewards=rewards_stage3,\n",
    "    terminals=terminations,\n",
    ")"
   ]
  },
  {
   "cell_type": "code",
   "execution_count": 11,
   "metadata": {
    "colab": {
     "base_uri": "https://localhost:8080/",
     "height": 220,
     "referenced_widgets": [
      "bafbf0d9b08c49c5b65545b42dbbfa6b",
      "6bb969c99bf9465588b89473c030a871",
      "c592218f011b4f4fa9aa698ff5a08171",
      "3a6a80b1ae5349269b987fd7f583e504",
      "314fa65883164cbd94e01e56ca225987",
      "f0a48a7ae3bb4c8dbdfe242a0a709a1d",
      "2e852d93c412462f81560a0901938593",
      "577ff3f5619a4e8f83fbcb2493feff35",
      "d0841f559eb24566b787959d66b95415",
      "872b78b9fb60474a963a05766bf856c3",
      "638fe99e6d9f476f8063e34038d00d0c",
      "e02818e15adc4114b55fd236362745db",
      "98148a0667c84c3da25b94bcfe201958",
      "417aefd5ad7c45b39a311925343f6c54",
      "f5b6cef83e3d4dde911e631c152cfbb9",
      "2093528cb6124480a96c6268d15e913d",
      "fad26c2f33124ea3aea75671d5d06c6c",
      "07d0ab7dc9794599ac4ba93a133e919f",
      "76ce126eac70461abe57119959bbc6bd",
      "5c02a9582d8e40a6a914d6673741bea3",
      "85148436653f4d18ae35423e704fc606",
      "43d85dc7f24e4654817a4720ead5eb4c"
     ]
    },
    "id": "bBIStRBSVcEE",
    "outputId": "b804d337-1655-412d-a610-2b54a03d2387"
   },
   "outputs": [
    {
     "name": "stdout",
     "output_type": "stream",
     "text": [
      "2023-09-08 16:20:40 [info     ] dataset info                   dataset_info=DatasetInfo(observation_signature=Signature(dtype=[dtype('float64')], shape=[(20,)]), action_signature=Signature(dtype=[dtype('float64')], shape=[(3,)]), reward_signature=Signature(dtype=[dtype('float64')], shape=[(1,)]), action_space=<ActionSpace.CONTINUOUS: 1>, action_size=3)\n",
      "2023-09-08 16:20:40 [info     ] Directory is created at d3rlpy_logs/DecisionTransformer_20230908162040\n",
      "2023-09-08 16:20:40 [debug    ] Building models...\n",
      "2023-09-08 16:20:40 [debug    ] Models have been built.\n",
      "2023-09-08 16:20:40 [info     ] Parameters                     params={'observation_shape': [20], 'action_size': 3, 'config': {'type': 'decision_transformer', 'params': {'batch_size': 64, 'gamma': 0.99, 'observation_scaler': {'type': 'none', 'params': {}}, 'action_scaler': {'type': 'none', 'params': {}}, 'reward_scaler': {'type': 'none', 'params': {}}, 'context_size': 25, 'learning_rate': 1e-06, 'encoder_factory': {'type': 'default', 'params': {'activation': 'relu', 'use_batch_norm': False, 'dropout_rate': None}}, 'optim_factory': {'type': 'adam', 'params': {'betas': [0.9, 0.999], 'eps': 1e-08, 'weight_decay': 0, 'amsgrad': False}}, 'num_heads': 1, 'max_timestep': 124, 'num_layers': 3, 'attn_dropout': 0.1, 'resid_dropout': 0.1, 'embed_dropout': 0.1, 'activation_type': 'relu', 'position_encoding_type': 'simple', 'warmup_steps': 10000, 'clip_grad_norm': 0.25}}}\n"
     ]
    },
    {
     "data": {
      "application/vnd.jupyter.widget-view+json": {
       "model_id": "d33aae6e18fb4f65aabb397c37741eaa",
       "version_major": 2,
       "version_minor": 0
      },
      "text/plain": [
       "Epoch 1/7:   0%|          | 0/6000 [00:00<?, ?it/s]"
      ]
     },
     "metadata": {},
     "output_type": "display_data"
    },
    {
     "name": "stdout",
     "output_type": "stream",
     "text": [
      "2023-09-08 16:24:52 [info     ] DecisionTransformer_20230908162040: epoch=1 step=6000 epoch=1 metrics={'time_sample_batch': 0.0024981830517450967, 'time_algorithm_update': 0.022959060192108156, 'loss': 0.26705441424716264, 'time_step': 0.025536237001419066, 'environment': -203.59843510842117} step=6000\n",
      "2023-09-08 16:24:52 [info     ] Model parameters are saved to d3rlpy_logs/DecisionTransformer_20230908162040/model_6000.d3\n"
     ]
    },
    {
     "data": {
      "application/vnd.jupyter.widget-view+json": {
       "model_id": "17604a127877428eb8277dec158b97ca",
       "version_major": 2,
       "version_minor": 0
      },
      "text/plain": [
       "Epoch 2/7:   0%|          | 0/6000 [00:00<?, ?it/s]"
      ]
     },
     "metadata": {},
     "output_type": "display_data"
    },
    {
     "name": "stdout",
     "output_type": "stream",
     "text": [
      "2023-09-08 16:27:37 [info     ] DecisionTransformer_20230908162040: epoch=2 step=12000 epoch=2 metrics={'time_sample_batch': 0.0025697004397710163, 'time_algorithm_update': 0.019765571594238283, 'loss': 0.010562745163876874, 'time_step': 0.022402608195940654, 'environment': -151.87206979189574} step=12000\n",
      "2023-09-08 16:27:37 [info     ] Model parameters are saved to d3rlpy_logs/DecisionTransformer_20230908162040/model_12000.d3\n"
     ]
    },
    {
     "data": {
      "application/vnd.jupyter.widget-view+json": {
       "model_id": "54b759e995df47d98977e297eee0caaf",
       "version_major": 2,
       "version_minor": 0
      },
      "text/plain": [
       "Epoch 3/7:   0%|          | 0/6000 [00:00<?, ?it/s]"
      ]
     },
     "metadata": {},
     "output_type": "display_data"
    },
    {
     "name": "stdout",
     "output_type": "stream",
     "text": [
      "2023-09-08 16:29:51 [info     ] DecisionTransformer_20230908162040: epoch=3 step=18000 epoch=3 metrics={'time_sample_batch': 0.002706769148508708, 'time_algorithm_update': 0.014486876487731934, 'loss': 0.0023881885509666368, 'time_step': 0.017263531724611918, 'environment': -184.28030961290128} step=18000\n",
      "2023-09-08 16:29:51 [info     ] Model parameters are saved to d3rlpy_logs/DecisionTransformer_20230908162040/model_18000.d3\n"
     ]
    },
    {
     "data": {
      "application/vnd.jupyter.widget-view+json": {
       "model_id": "60a770d868bd4710a03ba6b3bf61e4af",
       "version_major": 2,
       "version_minor": 0
      },
      "text/plain": [
       "Epoch 4/7:   0%|          | 0/6000 [00:00<?, ?it/s]"
      ]
     },
     "metadata": {},
     "output_type": "display_data"
    },
    {
     "name": "stdout",
     "output_type": "stream",
     "text": [
      "2023-09-08 16:32:06 [info     ] DecisionTransformer_20230908162040: epoch=4 step=24000 epoch=4 metrics={'time_sample_batch': 0.0027180039087931315, 'time_algorithm_update': 0.014769441962242126, 'loss': 0.0009547201187087922, 'time_step': 0.0175545471906662, 'environment': -209.2839041713753} step=24000\n",
      "2023-09-08 16:32:06 [info     ] Model parameters are saved to d3rlpy_logs/DecisionTransformer_20230908162040/model_24000.d3\n"
     ]
    },
    {
     "data": {
      "application/vnd.jupyter.widget-view+json": {
       "model_id": "ca929f2de330426d83ceddcf78bfcd36",
       "version_major": 2,
       "version_minor": 0
      },
      "text/plain": [
       "Epoch 5/7:   0%|          | 0/6000 [00:00<?, ?it/s]"
      ]
     },
     "metadata": {},
     "output_type": "display_data"
    },
    {
     "name": "stdout",
     "output_type": "stream",
     "text": [
      "2023-09-08 16:34:21 [info     ] DecisionTransformer_20230908162040: epoch=5 step=30000 epoch=5 metrics={'time_sample_batch': 0.0027074207067489626, 'time_algorithm_update': 0.014608123540878296, 'loss': 0.000518094547020155, 'time_step': 0.017386887947718303, 'environment': -211.6235277163728} step=30000\n",
      "2023-09-08 16:34:21 [info     ] Model parameters are saved to d3rlpy_logs/DecisionTransformer_20230908162040/model_30000.d3\n"
     ]
    },
    {
     "data": {
      "application/vnd.jupyter.widget-view+json": {
       "model_id": "72d0a59422dc4a959bf0e23911895b3a",
       "version_major": 2,
       "version_minor": 0
      },
      "text/plain": [
       "Epoch 6/7:   0%|          | 0/6000 [00:00<?, ?it/s]"
      ]
     },
     "metadata": {},
     "output_type": "display_data"
    },
    {
     "name": "stdout",
     "output_type": "stream",
     "text": [
      "2023-09-08 16:36:37 [info     ] DecisionTransformer_20230908162040: epoch=6 step=36000 epoch=6 metrics={'time_sample_batch': 0.002725160837173462, 'time_algorithm_update': 0.014930705547332763, 'loss': 0.00033320266874701095, 'time_step': 0.01772266924381256, 'environment': -182.05785818444048} step=36000\n",
      "2023-09-08 16:36:37 [info     ] Model parameters are saved to d3rlpy_logs/DecisionTransformer_20230908162040/model_36000.d3\n"
     ]
    },
    {
     "data": {
      "application/vnd.jupyter.widget-view+json": {
       "model_id": "4ab39414c40343009b2c62117d91e7ea",
       "version_major": 2,
       "version_minor": 0
      },
      "text/plain": [
       "Epoch 7/7:   0%|          | 0/6000 [00:00<?, ?it/s]"
      ]
     },
     "metadata": {},
     "output_type": "display_data"
    },
    {
     "name": "stdout",
     "output_type": "stream",
     "text": [
      "2023-09-08 16:38:50 [info     ] DecisionTransformer_20230908162040: epoch=7 step=42000 epoch=7 metrics={'time_sample_batch': 0.002679446339607239, 'time_algorithm_update': 0.014611520210901896, 'loss': 0.0002395510635760729, 'time_step': 0.01735463547706604, 'environment': -137.13766941712618} step=42000\n",
      "2023-09-08 16:38:50 [info     ] Model parameters are saved to d3rlpy_logs/DecisionTransformer_20230908162040/model_42000.d3\n"
     ]
    },
    {
     "ename": "FileNotFoundError",
     "evalue": "[Errno 2] No such file or directory: 'drive/MyDrive/dqn_stage1.pt'",
     "output_type": "error",
     "traceback": [
      "\u001b[0;31m---------------------------------------------------------------------------\u001b[0m",
      "\u001b[0;31mFileNotFoundError\u001b[0m                         Traceback (most recent call last)",
      "\u001b[0;32m<ipython-input-11-afbb5c1b0558>\u001b[0m in \u001b[0;36m<module>\u001b[0;34m\u001b[0m\n\u001b[1;32m      7\u001b[0m    \u001b[0meval_target_return\u001b[0m\u001b[0;34m=\u001b[0m\u001b[0;36m0\u001b[0m\u001b[0;34m,\u001b[0m  \u001b[0;31m# specify target environment return\u001b[0m\u001b[0;34m\u001b[0m\u001b[0;34m\u001b[0m\u001b[0m\n\u001b[1;32m      8\u001b[0m )\n\u001b[0;32m----> 9\u001b[0;31m \u001b[0mdt\u001b[0m\u001b[0;34m.\u001b[0m\u001b[0msave_model\u001b[0m\u001b[0;34m(\u001b[0m\u001b[0;34m'drive/MyDrive/dqn_stage1.pt'\u001b[0m\u001b[0;34m)\u001b[0m\u001b[0;34m\u001b[0m\u001b[0;34m\u001b[0m\u001b[0m\n\u001b[0m",
      "\u001b[0;32m~/anaconda3/envs/vessel/lib/python3.7/site-packages/d3rlpy/base.py\u001b[0m in \u001b[0;36msave_model\u001b[0;34m(self, fname)\u001b[0m\n\u001b[1;32m    238\u001b[0m         \"\"\"\n\u001b[1;32m    239\u001b[0m         \u001b[0;32massert\u001b[0m \u001b[0mself\u001b[0m\u001b[0;34m.\u001b[0m\u001b[0m_impl\u001b[0m \u001b[0;32mis\u001b[0m \u001b[0;32mnot\u001b[0m \u001b[0;32mNone\u001b[0m\u001b[0;34m,\u001b[0m \u001b[0mIMPL_NOT_INITIALIZED_ERROR\u001b[0m\u001b[0;34m\u001b[0m\u001b[0;34m\u001b[0m\u001b[0m\n\u001b[0;32m--> 240\u001b[0;31m         \u001b[0;32mwith\u001b[0m \u001b[0mopen\u001b[0m\u001b[0;34m(\u001b[0m\u001b[0mfname\u001b[0m\u001b[0;34m,\u001b[0m \u001b[0;34m\"wb\"\u001b[0m\u001b[0;34m)\u001b[0m \u001b[0;32mas\u001b[0m \u001b[0mf\u001b[0m\u001b[0;34m:\u001b[0m\u001b[0;34m\u001b[0m\u001b[0;34m\u001b[0m\u001b[0m\n\u001b[0m\u001b[1;32m    241\u001b[0m             \u001b[0mself\u001b[0m\u001b[0;34m.\u001b[0m\u001b[0m_impl\u001b[0m\u001b[0;34m.\u001b[0m\u001b[0msave_model\u001b[0m\u001b[0;34m(\u001b[0m\u001b[0mf\u001b[0m\u001b[0;34m)\u001b[0m\u001b[0;34m\u001b[0m\u001b[0;34m\u001b[0m\u001b[0m\n\u001b[1;32m    242\u001b[0m \u001b[0;34m\u001b[0m\u001b[0m\n",
      "\u001b[0;31mFileNotFoundError\u001b[0m: [Errno 2] No such file or directory: 'drive/MyDrive/dqn_stage1.pt'"
     ]
    }
   ],
   "source": [
    "# stage 1 training mimic\n",
    "dt.fit(\n",
    "   dataset_stage1,\n",
    "   n_steps=42000,\n",
    "   n_steps_per_epoch=6000,\n",
    "   eval_env=stage2_env,\n",
    "   eval_target_return=0,  # specify target environment return\n",
    ")\n",
    "dt.save_model('drive/MyDrive/dqn_stage1.pt')"
   ]
  },
  {
   "cell_type": "code",
   "execution_count": null,
   "metadata": {
    "colab": {
     "background_save": true
    },
    "id": "1uxRKSHWGm6E"
   },
   "outputs": [],
   "source": [
    "# stage 2 training top 1\n",
    "dt.fit(\n",
    "   dataset_stage2,\n",
    "   n_steps=42000,\n",
    "   n_steps_per_epoch=6000,\n",
    "   eval_env=stage2_env,\n",
    "   eval_target_return=0,  # specify target environment return\n",
    ")\n",
    "dt.save_model('drive/MyDrive/dqn_stage2.pt')"
   ]
  },
  {
   "cell_type": "code",
   "execution_count": null,
   "metadata": {
    "id": "bCKAncOCY11T"
   },
   "outputs": [],
   "source": [
    "# stage 3 training conceptual rewards\n",
    "dt.fit(\n",
    "   dataset_stage3,\n",
    "   n_steps=42000,\n",
    "   n_steps_per_epoch=6000,\n",
    "   eval_env=stage3_env,\n",
    "   eval_target_return=0,  # specify target environment return\n",
    ")\n",
    "dt.save_model('drive/MyDrive/dqn_stage3.pt')"
   ]
  },
  {
   "cell_type": "code",
   "execution_count": null,
   "metadata": {
    "id": "F-JcxrQwm9U6"
   },
   "outputs": [],
   "source": [
    "actor = dt.as_stateful_wrapper(target_return=0)\n",
    "\n",
    "# interaction\n",
    "observation, reward = stage3_env.reset(), 0.0\n",
    "while True:\n",
    "    action = actor.predict(observation, reward)\n",
    "    observation, reward, done, truncated, _ = stage3_env.step(action)\n",
    "    if done or truncated:\n",
    "        break"
   ]
  }
 ],
 "metadata": {
  "accelerator": "GPU",
  "colab": {
   "gpuType": "T4",
   "provenance": []
  },
  "kernelspec": {
   "display_name": "Python 3",
   "language": "python",
   "name": "python3"
  },
  "language_info": {
   "codemirror_mode": {
    "name": "ipython",
    "version": 3
   },
   "file_extension": ".py",
   "mimetype": "text/x-python",
   "name": "python",
   "nbconvert_exporter": "python",
   "pygments_lexer": "ipython3",
   "version": "3.7.13"
  },
  "widgets": {
   "application/vnd.jupyter.widget-state+json": {
    "07d0ab7dc9794599ac4ba93a133e919f": {
     "model_module": "@jupyter-widgets/controls",
     "model_module_version": "1.5.0",
     "model_name": "DescriptionStyleModel",
     "state": {
      "_model_module": "@jupyter-widgets/controls",
      "_model_module_version": "1.5.0",
      "_model_name": "DescriptionStyleModel",
      "_view_count": null,
      "_view_module": "@jupyter-widgets/base",
      "_view_module_version": "1.2.0",
      "_view_name": "StyleView",
      "description_width": ""
     }
    },
    "2093528cb6124480a96c6268d15e913d": {
     "model_module": "@jupyter-widgets/base",
     "model_module_version": "1.2.0",
     "model_name": "LayoutModel",
     "state": {
      "_model_module": "@jupyter-widgets/base",
      "_model_module_version": "1.2.0",
      "_model_name": "LayoutModel",
      "_view_count": null,
      "_view_module": "@jupyter-widgets/base",
      "_view_module_version": "1.2.0",
      "_view_name": "LayoutView",
      "align_content": null,
      "align_items": null,
      "align_self": null,
      "border": null,
      "bottom": null,
      "display": null,
      "flex": null,
      "flex_flow": null,
      "grid_area": null,
      "grid_auto_columns": null,
      "grid_auto_flow": null,
      "grid_auto_rows": null,
      "grid_column": null,
      "grid_gap": null,
      "grid_row": null,
      "grid_template_areas": null,
      "grid_template_columns": null,
      "grid_template_rows": null,
      "height": null,
      "justify_content": null,
      "justify_items": null,
      "left": null,
      "margin": null,
      "max_height": null,
      "max_width": null,
      "min_height": null,
      "min_width": null,
      "object_fit": null,
      "object_position": null,
      "order": null,
      "overflow": null,
      "overflow_x": null,
      "overflow_y": null,
      "padding": null,
      "right": null,
      "top": null,
      "visibility": null,
      "width": null
     }
    },
    "2e852d93c412462f81560a0901938593": {
     "model_module": "@jupyter-widgets/controls",
     "model_module_version": "1.5.0",
     "model_name": "DescriptionStyleModel",
     "state": {
      "_model_module": "@jupyter-widgets/controls",
      "_model_module_version": "1.5.0",
      "_model_name": "DescriptionStyleModel",
      "_view_count": null,
      "_view_module": "@jupyter-widgets/base",
      "_view_module_version": "1.2.0",
      "_view_name": "StyleView",
      "description_width": ""
     }
    },
    "314fa65883164cbd94e01e56ca225987": {
     "model_module": "@jupyter-widgets/base",
     "model_module_version": "1.2.0",
     "model_name": "LayoutModel",
     "state": {
      "_model_module": "@jupyter-widgets/base",
      "_model_module_version": "1.2.0",
      "_model_name": "LayoutModel",
      "_view_count": null,
      "_view_module": "@jupyter-widgets/base",
      "_view_module_version": "1.2.0",
      "_view_name": "LayoutView",
      "align_content": null,
      "align_items": null,
      "align_self": null,
      "border": null,
      "bottom": null,
      "display": null,
      "flex": null,
      "flex_flow": null,
      "grid_area": null,
      "grid_auto_columns": null,
      "grid_auto_flow": null,
      "grid_auto_rows": null,
      "grid_column": null,
      "grid_gap": null,
      "grid_row": null,
      "grid_template_areas": null,
      "grid_template_columns": null,
      "grid_template_rows": null,
      "height": null,
      "justify_content": null,
      "justify_items": null,
      "left": null,
      "margin": null,
      "max_height": null,
      "max_width": null,
      "min_height": null,
      "min_width": null,
      "object_fit": null,
      "object_position": null,
      "order": null,
      "overflow": null,
      "overflow_x": null,
      "overflow_y": null,
      "padding": null,
      "right": null,
      "top": null,
      "visibility": null,
      "width": null
     }
    },
    "3a6a80b1ae5349269b987fd7f583e504": {
     "model_module": "@jupyter-widgets/controls",
     "model_module_version": "1.5.0",
     "model_name": "HTMLModel",
     "state": {
      "_dom_classes": [],
      "_model_module": "@jupyter-widgets/controls",
      "_model_module_version": "1.5.0",
      "_model_name": "HTMLModel",
      "_view_count": null,
      "_view_module": "@jupyter-widgets/controls",
      "_view_module_version": "1.5.0",
      "_view_name": "HTMLView",
      "description": "",
      "description_tooltip": null,
      "layout": "IPY_MODEL_872b78b9fb60474a963a05766bf856c3",
      "placeholder": "​",
      "style": "IPY_MODEL_638fe99e6d9f476f8063e34038d00d0c",
      "value": " 6000/6000 [03:27&lt;00:00, 26.23it/s, loss=0.244]"
     }
    },
    "417aefd5ad7c45b39a311925343f6c54": {
     "model_module": "@jupyter-widgets/controls",
     "model_module_version": "1.5.0",
     "model_name": "FloatProgressModel",
     "state": {
      "_dom_classes": [],
      "_model_module": "@jupyter-widgets/controls",
      "_model_module_version": "1.5.0",
      "_model_name": "FloatProgressModel",
      "_view_count": null,
      "_view_module": "@jupyter-widgets/controls",
      "_view_module_version": "1.5.0",
      "_view_name": "ProgressView",
      "bar_style": "",
      "description": "",
      "description_tooltip": null,
      "layout": "IPY_MODEL_76ce126eac70461abe57119959bbc6bd",
      "max": 6000,
      "min": 0,
      "orientation": "horizontal",
      "style": "IPY_MODEL_5c02a9582d8e40a6a914d6673741bea3",
      "value": 711
     }
    },
    "43d85dc7f24e4654817a4720ead5eb4c": {
     "model_module": "@jupyter-widgets/controls",
     "model_module_version": "1.5.0",
     "model_name": "DescriptionStyleModel",
     "state": {
      "_model_module": "@jupyter-widgets/controls",
      "_model_module_version": "1.5.0",
      "_model_name": "DescriptionStyleModel",
      "_view_count": null,
      "_view_module": "@jupyter-widgets/base",
      "_view_module_version": "1.2.0",
      "_view_name": "StyleView",
      "description_width": ""
     }
    },
    "577ff3f5619a4e8f83fbcb2493feff35": {
     "model_module": "@jupyter-widgets/base",
     "model_module_version": "1.2.0",
     "model_name": "LayoutModel",
     "state": {
      "_model_module": "@jupyter-widgets/base",
      "_model_module_version": "1.2.0",
      "_model_name": "LayoutModel",
      "_view_count": null,
      "_view_module": "@jupyter-widgets/base",
      "_view_module_version": "1.2.0",
      "_view_name": "LayoutView",
      "align_content": null,
      "align_items": null,
      "align_self": null,
      "border": null,
      "bottom": null,
      "display": null,
      "flex": null,
      "flex_flow": null,
      "grid_area": null,
      "grid_auto_columns": null,
      "grid_auto_flow": null,
      "grid_auto_rows": null,
      "grid_column": null,
      "grid_gap": null,
      "grid_row": null,
      "grid_template_areas": null,
      "grid_template_columns": null,
      "grid_template_rows": null,
      "height": null,
      "justify_content": null,
      "justify_items": null,
      "left": null,
      "margin": null,
      "max_height": null,
      "max_width": null,
      "min_height": null,
      "min_width": null,
      "object_fit": null,
      "object_position": null,
      "order": null,
      "overflow": null,
      "overflow_x": null,
      "overflow_y": null,
      "padding": null,
      "right": null,
      "top": null,
      "visibility": null,
      "width": null
     }
    },
    "5c02a9582d8e40a6a914d6673741bea3": {
     "model_module": "@jupyter-widgets/controls",
     "model_module_version": "1.5.0",
     "model_name": "ProgressStyleModel",
     "state": {
      "_model_module": "@jupyter-widgets/controls",
      "_model_module_version": "1.5.0",
      "_model_name": "ProgressStyleModel",
      "_view_count": null,
      "_view_module": "@jupyter-widgets/base",
      "_view_module_version": "1.2.0",
      "_view_name": "StyleView",
      "bar_color": null,
      "description_width": ""
     }
    },
    "638fe99e6d9f476f8063e34038d00d0c": {
     "model_module": "@jupyter-widgets/controls",
     "model_module_version": "1.5.0",
     "model_name": "DescriptionStyleModel",
     "state": {
      "_model_module": "@jupyter-widgets/controls",
      "_model_module_version": "1.5.0",
      "_model_name": "DescriptionStyleModel",
      "_view_count": null,
      "_view_module": "@jupyter-widgets/base",
      "_view_module_version": "1.2.0",
      "_view_name": "StyleView",
      "description_width": ""
     }
    },
    "6bb969c99bf9465588b89473c030a871": {
     "model_module": "@jupyter-widgets/controls",
     "model_module_version": "1.5.0",
     "model_name": "HTMLModel",
     "state": {
      "_dom_classes": [],
      "_model_module": "@jupyter-widgets/controls",
      "_model_module_version": "1.5.0",
      "_model_name": "HTMLModel",
      "_view_count": null,
      "_view_module": "@jupyter-widgets/controls",
      "_view_module_version": "1.5.0",
      "_view_name": "HTMLView",
      "description": "",
      "description_tooltip": null,
      "layout": "IPY_MODEL_f0a48a7ae3bb4c8dbdfe242a0a709a1d",
      "placeholder": "​",
      "style": "IPY_MODEL_2e852d93c412462f81560a0901938593",
      "value": "Epoch 1/7: 100%"
     }
    },
    "76ce126eac70461abe57119959bbc6bd": {
     "model_module": "@jupyter-widgets/base",
     "model_module_version": "1.2.0",
     "model_name": "LayoutModel",
     "state": {
      "_model_module": "@jupyter-widgets/base",
      "_model_module_version": "1.2.0",
      "_model_name": "LayoutModel",
      "_view_count": null,
      "_view_module": "@jupyter-widgets/base",
      "_view_module_version": "1.2.0",
      "_view_name": "LayoutView",
      "align_content": null,
      "align_items": null,
      "align_self": null,
      "border": null,
      "bottom": null,
      "display": null,
      "flex": null,
      "flex_flow": null,
      "grid_area": null,
      "grid_auto_columns": null,
      "grid_auto_flow": null,
      "grid_auto_rows": null,
      "grid_column": null,
      "grid_gap": null,
      "grid_row": null,
      "grid_template_areas": null,
      "grid_template_columns": null,
      "grid_template_rows": null,
      "height": null,
      "justify_content": null,
      "justify_items": null,
      "left": null,
      "margin": null,
      "max_height": null,
      "max_width": null,
      "min_height": null,
      "min_width": null,
      "object_fit": null,
      "object_position": null,
      "order": null,
      "overflow": null,
      "overflow_x": null,
      "overflow_y": null,
      "padding": null,
      "right": null,
      "top": null,
      "visibility": null,
      "width": null
     }
    },
    "85148436653f4d18ae35423e704fc606": {
     "model_module": "@jupyter-widgets/base",
     "model_module_version": "1.2.0",
     "model_name": "LayoutModel",
     "state": {
      "_model_module": "@jupyter-widgets/base",
      "_model_module_version": "1.2.0",
      "_model_name": "LayoutModel",
      "_view_count": null,
      "_view_module": "@jupyter-widgets/base",
      "_view_module_version": "1.2.0",
      "_view_name": "LayoutView",
      "align_content": null,
      "align_items": null,
      "align_self": null,
      "border": null,
      "bottom": null,
      "display": null,
      "flex": null,
      "flex_flow": null,
      "grid_area": null,
      "grid_auto_columns": null,
      "grid_auto_flow": null,
      "grid_auto_rows": null,
      "grid_column": null,
      "grid_gap": null,
      "grid_row": null,
      "grid_template_areas": null,
      "grid_template_columns": null,
      "grid_template_rows": null,
      "height": null,
      "justify_content": null,
      "justify_items": null,
      "left": null,
      "margin": null,
      "max_height": null,
      "max_width": null,
      "min_height": null,
      "min_width": null,
      "object_fit": null,
      "object_position": null,
      "order": null,
      "overflow": null,
      "overflow_x": null,
      "overflow_y": null,
      "padding": null,
      "right": null,
      "top": null,
      "visibility": null,
      "width": null
     }
    },
    "872b78b9fb60474a963a05766bf856c3": {
     "model_module": "@jupyter-widgets/base",
     "model_module_version": "1.2.0",
     "model_name": "LayoutModel",
     "state": {
      "_model_module": "@jupyter-widgets/base",
      "_model_module_version": "1.2.0",
      "_model_name": "LayoutModel",
      "_view_count": null,
      "_view_module": "@jupyter-widgets/base",
      "_view_module_version": "1.2.0",
      "_view_name": "LayoutView",
      "align_content": null,
      "align_items": null,
      "align_self": null,
      "border": null,
      "bottom": null,
      "display": null,
      "flex": null,
      "flex_flow": null,
      "grid_area": null,
      "grid_auto_columns": null,
      "grid_auto_flow": null,
      "grid_auto_rows": null,
      "grid_column": null,
      "grid_gap": null,
      "grid_row": null,
      "grid_template_areas": null,
      "grid_template_columns": null,
      "grid_template_rows": null,
      "height": null,
      "justify_content": null,
      "justify_items": null,
      "left": null,
      "margin": null,
      "max_height": null,
      "max_width": null,
      "min_height": null,
      "min_width": null,
      "object_fit": null,
      "object_position": null,
      "order": null,
      "overflow": null,
      "overflow_x": null,
      "overflow_y": null,
      "padding": null,
      "right": null,
      "top": null,
      "visibility": null,
      "width": null
     }
    },
    "98148a0667c84c3da25b94bcfe201958": {
     "model_module": "@jupyter-widgets/controls",
     "model_module_version": "1.5.0",
     "model_name": "HTMLModel",
     "state": {
      "_dom_classes": [],
      "_model_module": "@jupyter-widgets/controls",
      "_model_module_version": "1.5.0",
      "_model_name": "HTMLModel",
      "_view_count": null,
      "_view_module": "@jupyter-widgets/controls",
      "_view_module_version": "1.5.0",
      "_view_name": "HTMLView",
      "description": "",
      "description_tooltip": null,
      "layout": "IPY_MODEL_fad26c2f33124ea3aea75671d5d06c6c",
      "placeholder": "​",
      "style": "IPY_MODEL_07d0ab7dc9794599ac4ba93a133e919f",
      "value": "Epoch 2/7:  12%"
     }
    },
    "bafbf0d9b08c49c5b65545b42dbbfa6b": {
     "model_module": "@jupyter-widgets/controls",
     "model_module_version": "1.5.0",
     "model_name": "HBoxModel",
     "state": {
      "_dom_classes": [],
      "_model_module": "@jupyter-widgets/controls",
      "_model_module_version": "1.5.0",
      "_model_name": "HBoxModel",
      "_view_count": null,
      "_view_module": "@jupyter-widgets/controls",
      "_view_module_version": "1.5.0",
      "_view_name": "HBoxView",
      "box_style": "",
      "children": [
       "IPY_MODEL_6bb969c99bf9465588b89473c030a871",
       "IPY_MODEL_c592218f011b4f4fa9aa698ff5a08171",
       "IPY_MODEL_3a6a80b1ae5349269b987fd7f583e504"
      ],
      "layout": "IPY_MODEL_314fa65883164cbd94e01e56ca225987"
     }
    },
    "c592218f011b4f4fa9aa698ff5a08171": {
     "model_module": "@jupyter-widgets/controls",
     "model_module_version": "1.5.0",
     "model_name": "FloatProgressModel",
     "state": {
      "_dom_classes": [],
      "_model_module": "@jupyter-widgets/controls",
      "_model_module_version": "1.5.0",
      "_model_name": "FloatProgressModel",
      "_view_count": null,
      "_view_module": "@jupyter-widgets/controls",
      "_view_module_version": "1.5.0",
      "_view_name": "ProgressView",
      "bar_style": "success",
      "description": "",
      "description_tooltip": null,
      "layout": "IPY_MODEL_577ff3f5619a4e8f83fbcb2493feff35",
      "max": 6000,
      "min": 0,
      "orientation": "horizontal",
      "style": "IPY_MODEL_d0841f559eb24566b787959d66b95415",
      "value": 6000
     }
    },
    "d0841f559eb24566b787959d66b95415": {
     "model_module": "@jupyter-widgets/controls",
     "model_module_version": "1.5.0",
     "model_name": "ProgressStyleModel",
     "state": {
      "_model_module": "@jupyter-widgets/controls",
      "_model_module_version": "1.5.0",
      "_model_name": "ProgressStyleModel",
      "_view_count": null,
      "_view_module": "@jupyter-widgets/base",
      "_view_module_version": "1.2.0",
      "_view_name": "StyleView",
      "bar_color": null,
      "description_width": ""
     }
    },
    "e02818e15adc4114b55fd236362745db": {
     "model_module": "@jupyter-widgets/controls",
     "model_module_version": "1.5.0",
     "model_name": "HBoxModel",
     "state": {
      "_dom_classes": [],
      "_model_module": "@jupyter-widgets/controls",
      "_model_module_version": "1.5.0",
      "_model_name": "HBoxModel",
      "_view_count": null,
      "_view_module": "@jupyter-widgets/controls",
      "_view_module_version": "1.5.0",
      "_view_name": "HBoxView",
      "box_style": "",
      "children": [
       "IPY_MODEL_98148a0667c84c3da25b94bcfe201958",
       "IPY_MODEL_417aefd5ad7c45b39a311925343f6c54",
       "IPY_MODEL_f5b6cef83e3d4dde911e631c152cfbb9"
      ],
      "layout": "IPY_MODEL_2093528cb6124480a96c6268d15e913d"
     }
    },
    "f0a48a7ae3bb4c8dbdfe242a0a709a1d": {
     "model_module": "@jupyter-widgets/base",
     "model_module_version": "1.2.0",
     "model_name": "LayoutModel",
     "state": {
      "_model_module": "@jupyter-widgets/base",
      "_model_module_version": "1.2.0",
      "_model_name": "LayoutModel",
      "_view_count": null,
      "_view_module": "@jupyter-widgets/base",
      "_view_module_version": "1.2.0",
      "_view_name": "LayoutView",
      "align_content": null,
      "align_items": null,
      "align_self": null,
      "border": null,
      "bottom": null,
      "display": null,
      "flex": null,
      "flex_flow": null,
      "grid_area": null,
      "grid_auto_columns": null,
      "grid_auto_flow": null,
      "grid_auto_rows": null,
      "grid_column": null,
      "grid_gap": null,
      "grid_row": null,
      "grid_template_areas": null,
      "grid_template_columns": null,
      "grid_template_rows": null,
      "height": null,
      "justify_content": null,
      "justify_items": null,
      "left": null,
      "margin": null,
      "max_height": null,
      "max_width": null,
      "min_height": null,
      "min_width": null,
      "object_fit": null,
      "object_position": null,
      "order": null,
      "overflow": null,
      "overflow_x": null,
      "overflow_y": null,
      "padding": null,
      "right": null,
      "top": null,
      "visibility": null,
      "width": null
     }
    },
    "f5b6cef83e3d4dde911e631c152cfbb9": {
     "model_module": "@jupyter-widgets/controls",
     "model_module_version": "1.5.0",
     "model_name": "HTMLModel",
     "state": {
      "_dom_classes": [],
      "_model_module": "@jupyter-widgets/controls",
      "_model_module_version": "1.5.0",
      "_model_name": "HTMLModel",
      "_view_count": null,
      "_view_module": "@jupyter-widgets/controls",
      "_view_module_version": "1.5.0",
      "_view_name": "HTMLView",
      "description": "",
      "description_tooltip": null,
      "layout": "IPY_MODEL_85148436653f4d18ae35423e704fc606",
      "placeholder": "​",
      "style": "IPY_MODEL_43d85dc7f24e4654817a4720ead5eb4c",
      "value": " 711/6000 [00:23&lt;02:54, 30.34it/s, loss=0.0229]"
     }
    },
    "fad26c2f33124ea3aea75671d5d06c6c": {
     "model_module": "@jupyter-widgets/base",
     "model_module_version": "1.2.0",
     "model_name": "LayoutModel",
     "state": {
      "_model_module": "@jupyter-widgets/base",
      "_model_module_version": "1.2.0",
      "_model_name": "LayoutModel",
      "_view_count": null,
      "_view_module": "@jupyter-widgets/base",
      "_view_module_version": "1.2.0",
      "_view_name": "LayoutView",
      "align_content": null,
      "align_items": null,
      "align_self": null,
      "border": null,
      "bottom": null,
      "display": null,
      "flex": null,
      "flex_flow": null,
      "grid_area": null,
      "grid_auto_columns": null,
      "grid_auto_flow": null,
      "grid_auto_rows": null,
      "grid_column": null,
      "grid_gap": null,
      "grid_row": null,
      "grid_template_areas": null,
      "grid_template_columns": null,
      "grid_template_rows": null,
      "height": null,
      "justify_content": null,
      "justify_items": null,
      "left": null,
      "margin": null,
      "max_height": null,
      "max_width": null,
      "min_height": null,
      "min_width": null,
      "object_fit": null,
      "object_position": null,
      "order": null,
      "overflow": null,
      "overflow_x": null,
      "overflow_y": null,
      "padding": null,
      "right": null,
      "top": null,
      "visibility": null,
      "width": null
     }
    }
   }
  }
 },
 "nbformat": 4,
 "nbformat_minor": 5
}
