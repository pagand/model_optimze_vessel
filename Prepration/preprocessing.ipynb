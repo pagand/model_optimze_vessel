{
 "cells": [
  {
   "cell_type": "code",
   "execution_count": 1,
   "metadata": {},
   "outputs": [],
   "source": [
    "import pandas as pd\n",
    "import numpy as np\n",
    "import matplotlib.pyplot as plt"
   ]
  },
  {
   "cell_type": "code",
   "execution_count": 48,
   "metadata": {},
   "outputs": [],
   "source": [
    "# file_path = \"../../queenCsvOut.csv\"\n",
    "file_path = \"../../feature1.csv\"\n",
    "df = pd.read_csv(file_path, skiprows=[1])"
   ]
  },
  {
   "cell_type": "code",
   "execution_count": 49,
   "metadata": {},
   "outputs": [],
   "source": [
    "# drop rows that have more than 10 null values\n",
    "df.dropna(axis=0, thresh=35, inplace=True)"
   ]
  },
  {
   "cell_type": "code",
   "execution_count": 10,
   "metadata": {},
   "outputs": [
    {
     "data": {
      "text/plain": [
       "Dati                             0\n",
       "Time                             0\n",
       "DEPTH                            0\n",
       "ENGINE_1_FLOWRATE                0\n",
       "ENGINE_1_FLOWRATEA               0\n",
       "ENGINE_1_FLOWRATEB               0\n",
       "ENGINE_1_FLOWTEMPA               0\n",
       "ENGINE_1_FLOWTEMPB               0\n",
       "ENGINE_1_FUEL_CONSUMPTION        0\n",
       "ENGINE_2_FLOWRATE                0\n",
       "ENGINE_2_FLOWRATEA               0\n",
       "ENGINE_2_FLOWRATEB               0\n",
       "ENGINE_2_FLOWTEMPA               0\n",
       "ENGINE_2_FLOWTEMPB               0\n",
       "ENGINE_2_FUEL_CONSUMPTION        0\n",
       "HEADING                          0\n",
       "LATITUDE                     47111\n",
       "LONGITUDE                    47111\n",
       "PITCH_1                       2884\n",
       "PITCH_2                       2884\n",
       "POWER_1                          0\n",
       "POWER_2                          0\n",
       "RATE_OF_TURN                  2884\n",
       "SOG                              0\n",
       "SOG_SPEEDLOG_LONG                0\n",
       "SOG_SPEEDLOG_TRANS               0\n",
       "SPEED_1                          0\n",
       "SPEED_2                          0\n",
       "STW                              0\n",
       "THRUST_1                         0\n",
       "THRUST_2                         0\n",
       "TORQUE_1                         0\n",
       "TORQUE_2                         0\n",
       "TRACK_MADE_GOOD               2884\n",
       "WIND_ANGLE                       0\n",
       "WIND_SPEED                       0\n",
       "WIND_ANGLE_TRUE              47183\n",
       "WIND_SPEED_TRUE              47162\n",
       "MODE                             0\n",
       "datetime                         0\n",
       "season                           0\n",
       "weekday                          0\n",
       "current                          0\n",
       "direction                        0\n",
       "temperature                      0\n",
       "humidity                         0\n",
       "pressure                         0\n",
       "precipitation                    0\n",
       "rain                             0\n",
       "snowfall                         0\n",
       "weathercode                      0\n",
       "wind_force                   47162\n",
       "wind_direc                   47183\n",
       "date                             0\n",
       "holiday                          0\n",
       "is_weekday                       0\n",
       "resist_ratio1                    0\n",
       "resist_ratio2                    0\n",
       "dtype: int64"
      ]
     },
     "execution_count": 10,
     "metadata": {},
     "output_type": "execute_result"
    }
   ],
   "source": [
    "pd.isna(df).sum()"
   ]
  },
  {
   "cell_type": "code",
   "execution_count": 133,
   "metadata": {},
   "outputs": [
    {
     "data": {
      "text/plain": [
       "(0.0, 0.3231)"
      ]
     },
     "execution_count": 133,
     "metadata": {},
     "output_type": "execute_result"
    }
   ],
   "source": [
    "df.DEPTH.min(), df.DEPTH.max()"
   ]
  },
  {
   "cell_type": "code",
   "execution_count": 134,
   "metadata": {},
   "outputs": [
    {
     "data": {
      "text/plain": [
       "(-1142.9711, 379.4532)"
      ]
     },
     "execution_count": 134,
     "metadata": {},
     "output_type": "execute_result"
    }
   ],
   "source": [
    "df.ENGINE_1_FLOWRATE.min(), df.ENGINE_1_FLOWRATE.max()"
   ]
  },
  {
   "cell_type": "code",
   "execution_count": 135,
   "metadata": {},
   "outputs": [
    {
     "data": {
      "text/plain": [
       "{'whiskers': [<matplotlib.lines.Line2D at 0x7fd432d04290>,\n",
       "  <matplotlib.lines.Line2D at 0x7fd432d01f10>],\n",
       " 'caps': [<matplotlib.lines.Line2D at 0x7fd432d01bd0>,\n",
       "  <matplotlib.lines.Line2D at 0x7fd432d00150>],\n",
       " 'boxes': [<matplotlib.lines.Line2D at 0x7fd432d04610>],\n",
       " 'medians': [<matplotlib.lines.Line2D at 0x7fd432cfdd90>],\n",
       " 'fliers': [<matplotlib.lines.Line2D at 0x7fd432cfda50>],\n",
       " 'means': []}"
      ]
     },
     "execution_count": 135,
     "metadata": {},
     "output_type": "execute_result"
    },
    {
     "data": {
      "image/png": "[encoded data removed]",
      "text/plain": [
       "<Figure size 640x480 with 1 Axes>"
      ]
     },
     "metadata": {},
     "output_type": "display_data"
    }
   ],
   "source": [
    "plt.boxplot(df.ENGINE_1_FLOWRATE)"
   ]
  },
  {
   "cell_type": "code",
   "execution_count": 136,
   "metadata": {},
   "outputs": [
    {
     "data": {
      "text/plain": [
       "{'whiskers': [<matplotlib.lines.Line2D at 0x7fd432d38a10>,\n",
       "  <matplotlib.lines.Line2D at 0x7fd432d371d0>],\n",
       " 'caps': [<matplotlib.lines.Line2D at 0x7fd432d31e10>,\n",
       "  <matplotlib.lines.Line2D at 0x7fd432d31ad0>],\n",
       " 'boxes': [<matplotlib.lines.Line2D at 0x7fd432d38d50>],\n",
       " 'medians': [<matplotlib.lines.Line2D at 0x7fd432d31750>],\n",
       " 'fliers': [<matplotlib.lines.Line2D at 0x7fd432d31410>],\n",
       " 'means': []}"
      ]
     },
     "execution_count": 136,
     "metadata": {},
     "output_type": "execute_result"
    },
    {
     "data": {
      "image/png": "[encoded data removed]",
      "text/plain": [
       "<Figure size 640x480 with 1 Axes>"
      ]
     },
     "metadata": {},
     "output_type": "display_data"
    }
   ],
   "source": [
    "plt.boxplot(df.ENGINE_2_FLOWRATE)"
   ]
  },
  {
   "cell_type": "code",
   "execution_count": 137,
   "metadata": {},
   "outputs": [
    {
     "data": {
      "text/html": [
       "<div>\n",
       "<style scoped>\n",
       "    .dataframe tbody tr th:only-of-type {\n",
       "        vertical-align: middle;\n",
       "    }\n",
       "\n",
       "    .dataframe tbody tr th {\n",
       "        vertical-align: top;\n",
       "    }\n",
       "\n",
       "    .dataframe thead th {\n",
       "        text-align: right;\n",
       "    }\n",
       "</style>\n",
       "<table border=\"1\" class=\"dataframe\">\n",
       "  <thead>\n",
       "    <tr style=\"text-align: right;\">\n",
       "      <th></th>\n",
       "      <th>Dati</th>\n",
       "      <th>Time</th>\n",
       "      <th>DEPTH</th>\n",
       "      <th>ENGINE_1_FLOWRATE</th>\n",
       "      <th>ENGINE_1_FLOWRATEA</th>\n",
       "      <th>ENGINE_1_FLOWRATEB</th>\n",
       "      <th>ENGINE_1_FLOWTEMPA</th>\n",
       "      <th>ENGINE_1_FLOWTEMPB</th>\n",
       "      <th>ENGINE_1_FUEL_CONSUMPTION</th>\n",
       "      <th>ENGINE_2_FLOWRATE</th>\n",
       "      <th>...</th>\n",
       "      <th>STW</th>\n",
       "      <th>THRUST_1</th>\n",
       "      <th>THRUST_2</th>\n",
       "      <th>TORQUE_1</th>\n",
       "      <th>TORQUE_2</th>\n",
       "      <th>TRACK_MADE_GOOD</th>\n",
       "      <th>WIND_ANGLE</th>\n",
       "      <th>WIND_SPEED</th>\n",
       "      <th>WIND_ANGLE_TRUE</th>\n",
       "      <th>WIND_SPEED_TRUE</th>\n",
       "    </tr>\n",
       "  </thead>\n",
       "  <tbody>\n",
       "    <tr>\n",
       "      <th>535</th>\n",
       "      <td>190830_085500</td>\n",
       "      <td>535.0</td>\n",
       "      <td>0.0051</td>\n",
       "      <td>16.0967</td>\n",
       "      <td>2495.4036</td>\n",
       "      <td>2511.5002</td>\n",
       "      <td>31.2450</td>\n",
       "      <td>33.9983</td>\n",
       "      <td>0.0995</td>\n",
       "      <td>5.4399</td>\n",
       "      <td>...</td>\n",
       "      <td>0.0000</td>\n",
       "      <td>0.0</td>\n",
       "      <td>0.0</td>\n",
       "      <td>0.0</td>\n",
       "      <td>0.0</td>\n",
       "      <td>180.6900</td>\n",
       "      <td>220.0</td>\n",
       "      <td>1.5667</td>\n",
       "      <td>43.8733</td>\n",
       "      <td>1.5703</td>\n",
       "    </tr>\n",
       "    <tr>\n",
       "      <th>803</th>\n",
       "      <td>190830_132300</td>\n",
       "      <td>803.0</td>\n",
       "      <td>0.0061</td>\n",
       "      <td>1.3458</td>\n",
       "      <td>42.2026</td>\n",
       "      <td>43.5484</td>\n",
       "      <td>32.0000</td>\n",
       "      <td>34.6000</td>\n",
       "      <td>0.0000</td>\n",
       "      <td>-2.4222</td>\n",
       "      <td>...</td>\n",
       "      <td>0.0267</td>\n",
       "      <td>0.0</td>\n",
       "      <td>0.0</td>\n",
       "      <td>0.0</td>\n",
       "      <td>0.0</td>\n",
       "      <td>186.5550</td>\n",
       "      <td>204.0</td>\n",
       "      <td>2.3850</td>\n",
       "      <td>27.7627</td>\n",
       "      <td>2.3879</td>\n",
       "    </tr>\n",
       "    <tr>\n",
       "      <th>804</th>\n",
       "      <td>190830_132400</td>\n",
       "      <td>804.0</td>\n",
       "      <td>0.0062</td>\n",
       "      <td>14.4164</td>\n",
       "      <td>3236.4536</td>\n",
       "      <td>3250.8699</td>\n",
       "      <td>31.5817</td>\n",
       "      <td>34.6900</td>\n",
       "      <td>0.0000</td>\n",
       "      <td>-4.6860</td>\n",
       "      <td>...</td>\n",
       "      <td>0.0217</td>\n",
       "      <td>0.0</td>\n",
       "      <td>0.0</td>\n",
       "      <td>0.0</td>\n",
       "      <td>0.0</td>\n",
       "      <td>209.3667</td>\n",
       "      <td>214.0</td>\n",
       "      <td>2.2150</td>\n",
       "      <td>37.8471</td>\n",
       "      <td>2.2176</td>\n",
       "    </tr>\n",
       "    <tr>\n",
       "      <th>805</th>\n",
       "      <td>190830_132500</td>\n",
       "      <td>805.0</td>\n",
       "      <td>0.0061</td>\n",
       "      <td>18.6886</td>\n",
       "      <td>3335.9929</td>\n",
       "      <td>3354.6816</td>\n",
       "      <td>30.1300</td>\n",
       "      <td>35.2817</td>\n",
       "      <td>0.0000</td>\n",
       "      <td>-0.0910</td>\n",
       "      <td>...</td>\n",
       "      <td>0.0700</td>\n",
       "      <td>0.0</td>\n",
       "      <td>0.0</td>\n",
       "      <td>0.0</td>\n",
       "      <td>0.0</td>\n",
       "      <td>199.9150</td>\n",
       "      <td>37.0</td>\n",
       "      <td>2.3167</td>\n",
       "      <td>40.9540</td>\n",
       "      <td>2.3141</td>\n",
       "    </tr>\n",
       "    <tr>\n",
       "      <th>806</th>\n",
       "      <td>190830_132600</td>\n",
       "      <td>806.0</td>\n",
       "      <td>0.0061</td>\n",
       "      <td>17.1898</td>\n",
       "      <td>3324.5474</td>\n",
       "      <td>3341.7371</td>\n",
       "      <td>28.9100</td>\n",
       "      <td>35.8800</td>\n",
       "      <td>0.0000</td>\n",
       "      <td>0.6515</td>\n",
       "      <td>...</td>\n",
       "      <td>0.1433</td>\n",
       "      <td>0.0</td>\n",
       "      <td>0.0</td>\n",
       "      <td>0.0</td>\n",
       "      <td>0.0</td>\n",
       "      <td>220.2383</td>\n",
       "      <td>45.0</td>\n",
       "      <td>2.1733</td>\n",
       "      <td>48.9663</td>\n",
       "      <td>2.1711</td>\n",
       "    </tr>\n",
       "    <tr>\n",
       "      <th>...</th>\n",
       "      <td>...</td>\n",
       "      <td>...</td>\n",
       "      <td>...</td>\n",
       "      <td>...</td>\n",
       "      <td>...</td>\n",
       "      <td>...</td>\n",
       "      <td>...</td>\n",
       "      <td>...</td>\n",
       "      <td>...</td>\n",
       "      <td>...</td>\n",
       "      <td>...</td>\n",
       "      <td>...</td>\n",
       "      <td>...</td>\n",
       "      <td>...</td>\n",
       "      <td>...</td>\n",
       "      <td>...</td>\n",
       "      <td>...</td>\n",
       "      <td>...</td>\n",
       "      <td>...</td>\n",
       "      <td>...</td>\n",
       "      <td>...</td>\n",
       "    </tr>\n",
       "    <tr>\n",
       "      <th>1097995</th>\n",
       "      <td>210930_083900</td>\n",
       "      <td>1097995.0</td>\n",
       "      <td>0.0047</td>\n",
       "      <td>16.6607</td>\n",
       "      <td>3386.8845</td>\n",
       "      <td>3403.5452</td>\n",
       "      <td>26.6700</td>\n",
       "      <td>30.9717</td>\n",
       "      <td>0.0000</td>\n",
       "      <td>-1.1314</td>\n",
       "      <td>...</td>\n",
       "      <td>0.5517</td>\n",
       "      <td>0.0</td>\n",
       "      <td>0.0</td>\n",
       "      <td>0.0</td>\n",
       "      <td>0.0</td>\n",
       "      <td>0.0000</td>\n",
       "      <td>189.0</td>\n",
       "      <td>8.4050</td>\n",
       "      <td>18.0000</td>\n",
       "      <td>8.4050</td>\n",
       "    </tr>\n",
       "    <tr>\n",
       "      <th>1097996</th>\n",
       "      <td>210930_084000</td>\n",
       "      <td>1097996.0</td>\n",
       "      <td>0.0046</td>\n",
       "      <td>14.8748</td>\n",
       "      <td>3388.1960</td>\n",
       "      <td>3403.0708</td>\n",
       "      <td>25.9833</td>\n",
       "      <td>31.0017</td>\n",
       "      <td>0.0000</td>\n",
       "      <td>-0.8057</td>\n",
       "      <td>...</td>\n",
       "      <td>0.3000</td>\n",
       "      <td>0.0</td>\n",
       "      <td>0.0</td>\n",
       "      <td>0.0</td>\n",
       "      <td>0.0</td>\n",
       "      <td>0.0000</td>\n",
       "      <td>253.0</td>\n",
       "      <td>8.8033</td>\n",
       "      <td>82.1000</td>\n",
       "      <td>8.8033</td>\n",
       "    </tr>\n",
       "    <tr>\n",
       "      <th>1097997</th>\n",
       "      <td>210930_084100</td>\n",
       "      <td>1097997.0</td>\n",
       "      <td>0.0046</td>\n",
       "      <td>13.8251</td>\n",
       "      <td>3386.6130</td>\n",
       "      <td>3400.4380</td>\n",
       "      <td>25.5067</td>\n",
       "      <td>30.8867</td>\n",
       "      <td>0.0000</td>\n",
       "      <td>-0.7012</td>\n",
       "      <td>...</td>\n",
       "      <td>0.2533</td>\n",
       "      <td>0.0</td>\n",
       "      <td>0.0</td>\n",
       "      <td>0.0</td>\n",
       "      <td>0.0</td>\n",
       "      <td>0.0000</td>\n",
       "      <td>213.0</td>\n",
       "      <td>5.9167</td>\n",
       "      <td>42.1000</td>\n",
       "      <td>5.9167</td>\n",
       "    </tr>\n",
       "    <tr>\n",
       "      <th>1097998</th>\n",
       "      <td>210930_084200</td>\n",
       "      <td>1097998.0</td>\n",
       "      <td>0.0047</td>\n",
       "      <td>13.0257</td>\n",
       "      <td>3389.6404</td>\n",
       "      <td>3402.6660</td>\n",
       "      <td>25.1967</td>\n",
       "      <td>30.6367</td>\n",
       "      <td>0.0000</td>\n",
       "      <td>-0.7381</td>\n",
       "      <td>...</td>\n",
       "      <td>0.4733</td>\n",
       "      <td>0.0</td>\n",
       "      <td>0.0</td>\n",
       "      <td>0.0</td>\n",
       "      <td>0.0</td>\n",
       "      <td>0.0000</td>\n",
       "      <td>216.0</td>\n",
       "      <td>10.0933</td>\n",
       "      <td>45.0000</td>\n",
       "      <td>10.0933</td>\n",
       "    </tr>\n",
       "    <tr>\n",
       "      <th>1097999</th>\n",
       "      <td>210930_084300</td>\n",
       "      <td>1097999.0</td>\n",
       "      <td>0.0046</td>\n",
       "      <td>12.4881</td>\n",
       "      <td>3400.3303</td>\n",
       "      <td>3412.8184</td>\n",
       "      <td>25.0650</td>\n",
       "      <td>30.3467</td>\n",
       "      <td>0.0000</td>\n",
       "      <td>-0.7869</td>\n",
       "      <td>...</td>\n",
       "      <td>0.4100</td>\n",
       "      <td>0.0</td>\n",
       "      <td>0.0</td>\n",
       "      <td>0.0</td>\n",
       "      <td>0.0</td>\n",
       "      <td>0.0000</td>\n",
       "      <td>221.0</td>\n",
       "      <td>9.0833</td>\n",
       "      <td>50.1000</td>\n",
       "      <td>9.0833</td>\n",
       "    </tr>\n",
       "  </tbody>\n",
       "</table>\n",
       "<p>7033 rows × 38 columns</p>\n",
       "</div>"
      ],
      "text/plain": [
       "                  Dati       Time   DEPTH  ENGINE_1_FLOWRATE  \\\n",
       "535      190830_085500      535.0  0.0051            16.0967   \n",
       "803      190830_132300      803.0  0.0061             1.3458   \n",
       "804      190830_132400      804.0  0.0062            14.4164   \n",
       "805      190830_132500      805.0  0.0061            18.6886   \n",
       "806      190830_132600      806.0  0.0061            17.1898   \n",
       "...                ...        ...     ...                ...   \n",
       "1097995  210930_083900  1097995.0  0.0047            16.6607   \n",
       "1097996  210930_084000  1097996.0  0.0046            14.8748   \n",
       "1097997  210930_084100  1097997.0  0.0046            13.8251   \n",
       "1097998  210930_084200  1097998.0  0.0047            13.0257   \n",
       "1097999  210930_084300  1097999.0  0.0046            12.4881   \n",
       "\n",
       "         ENGINE_1_FLOWRATEA  ENGINE_1_FLOWRATEB  ENGINE_1_FLOWTEMPA  \\\n",
       "535               2495.4036           2511.5002             31.2450   \n",
       "803                 42.2026             43.5484             32.0000   \n",
       "804               3236.4536           3250.8699             31.5817   \n",
       "805               3335.9929           3354.6816             30.1300   \n",
       "806               3324.5474           3341.7371             28.9100   \n",
       "...                     ...                 ...                 ...   \n",
       "1097995           3386.8845           3403.5452             26.6700   \n",
       "1097996           3388.1960           3403.0708             25.9833   \n",
       "1097997           3386.6130           3400.4380             25.5067   \n",
       "1097998           3389.6404           3402.6660             25.1967   \n",
       "1097999           3400.3303           3412.8184             25.0650   \n",
       "\n",
       "         ENGINE_1_FLOWTEMPB  ENGINE_1_FUEL_CONSUMPTION  ENGINE_2_FLOWRATE  \\\n",
       "535                 33.9983                     0.0995             5.4399   \n",
       "803                 34.6000                     0.0000            -2.4222   \n",
       "804                 34.6900                     0.0000            -4.6860   \n",
       "805                 35.2817                     0.0000            -0.0910   \n",
       "806                 35.8800                     0.0000             0.6515   \n",
       "...                     ...                        ...                ...   \n",
       "1097995             30.9717                     0.0000            -1.1314   \n",
       "1097996             31.0017                     0.0000            -0.8057   \n",
       "1097997             30.8867                     0.0000            -0.7012   \n",
       "1097998             30.6367                     0.0000            -0.7381   \n",
       "1097999             30.3467                     0.0000            -0.7869   \n",
       "\n",
       "         ...     STW  THRUST_1  THRUST_2  TORQUE_1  TORQUE_2  TRACK_MADE_GOOD  \\\n",
       "535      ...  0.0000       0.0       0.0       0.0       0.0         180.6900   \n",
       "803      ...  0.0267       0.0       0.0       0.0       0.0         186.5550   \n",
       "804      ...  0.0217       0.0       0.0       0.0       0.0         209.3667   \n",
       "805      ...  0.0700       0.0       0.0       0.0       0.0         199.9150   \n",
       "806      ...  0.1433       0.0       0.0       0.0       0.0         220.2383   \n",
       "...      ...     ...       ...       ...       ...       ...              ...   \n",
       "1097995  ...  0.5517       0.0       0.0       0.0       0.0           0.0000   \n",
       "1097996  ...  0.3000       0.0       0.0       0.0       0.0           0.0000   \n",
       "1097997  ...  0.2533       0.0       0.0       0.0       0.0           0.0000   \n",
       "1097998  ...  0.4733       0.0       0.0       0.0       0.0           0.0000   \n",
       "1097999  ...  0.4100       0.0       0.0       0.0       0.0           0.0000   \n",
       "\n",
       "         WIND_ANGLE  WIND_SPEED  WIND_ANGLE_TRUE  WIND_SPEED_TRUE  \n",
       "535           220.0      1.5667          43.8733           1.5703  \n",
       "803           204.0      2.3850          27.7627           2.3879  \n",
       "804           214.0      2.2150          37.8471           2.2176  \n",
       "805            37.0      2.3167          40.9540           2.3141  \n",
       "806            45.0      2.1733          48.9663           2.1711  \n",
       "...             ...         ...              ...              ...  \n",
       "1097995       189.0      8.4050          18.0000           8.4050  \n",
       "1097996       253.0      8.8033          82.1000           8.8033  \n",
       "1097997       213.0      5.9167          42.1000           5.9167  \n",
       "1097998       216.0     10.0933          45.0000          10.0933  \n",
       "1097999       221.0      9.0833          50.1000           9.0833  \n",
       "\n",
       "[7033 rows x 38 columns]"
      ]
     },
     "execution_count": 137,
     "metadata": {},
     "output_type": "execute_result"
    }
   ],
   "source": [
    "df[df[\"ENGINE_1_FLOWRATE\"]>0]"
   ]
  },
  {
   "cell_type": "code",
   "execution_count": 138,
   "metadata": {},
   "outputs": [
    {
     "data": {
      "text/plain": [
       "{'whiskers': [<matplotlib.lines.Line2D at 0x7fd432d76750>,\n",
       "  <matplotlib.lines.Line2D at 0x7fd432d76410>],\n",
       " 'caps': [<matplotlib.lines.Line2D at 0x7fd432d760d0>,\n",
       "  <matplotlib.lines.Line2D at 0x7fd432d74d50>],\n",
       " 'boxes': [<matplotlib.lines.Line2D at 0x7fd432d76ad0>],\n",
       " 'medians': [<matplotlib.lines.Line2D at 0x7fd432d749d0>],\n",
       " 'fliers': [<matplotlib.lines.Line2D at 0x7fd432d74690>],\n",
       " 'means': []}"
      ]
     },
     "execution_count": 138,
     "metadata": {},
     "output_type": "execute_result"
    },
    {
     "data": {
      "image/png": "[encoded data removed]",
      "text/plain": [
       "<Figure size 640x480 with 1 Axes>"
      ]
     },
     "metadata": {},
     "output_type": "display_data"
    }
   ],
   "source": [
    "plt.boxplot(df[\"ENGINE_1_FUEL_CONSUMPTION\"])"
   ]
  },
  {
   "cell_type": "code",
   "execution_count": 139,
   "metadata": {},
   "outputs": [
    {
     "data": {
      "text/plain": [
       "{'whiskers': [<matplotlib.lines.Line2D at 0x7fd432cc5ad0>,\n",
       "  <matplotlib.lines.Line2D at 0x7fd432cc5850>],\n",
       " 'caps': [<matplotlib.lines.Line2D at 0x7fd432cc5510>,\n",
       "  <matplotlib.lines.Line2D at 0x7fd432cc51d0>],\n",
       " 'boxes': [<matplotlib.lines.Line2D at 0x7fd432cc5e10>],\n",
       " 'medians': [<matplotlib.lines.Line2D at 0x7fd432cc4e10>],\n",
       " 'fliers': [<matplotlib.lines.Line2D at 0x7fd432cc3390>],\n",
       " 'means': []}"
      ]
     },
     "execution_count": 139,
     "metadata": {},
     "output_type": "execute_result"
    },
    {
     "data": {
      "image/png": "[encoded data removed]",
      "text/plain": [
       "<Figure size 640x480 with 1 Axes>"
      ]
     },
     "metadata": {},
     "output_type": "display_data"
    }
   ],
   "source": [
    "plt.boxplot(df[\"ENGINE_2_FUEL_CONSUMPTION\"])"
   ]
  },
  {
   "cell_type": "code",
   "execution_count": 140,
   "metadata": {},
   "outputs": [
    {
     "data": {
      "text/plain": [
       "{'whiskers': [<matplotlib.lines.Line2D at 0x7fd432c95350>,\n",
       "  <matplotlib.lines.Line2D at 0x7fd432c95110>],\n",
       " 'caps': [<matplotlib.lines.Line2D at 0x7fd432c8dd90>,\n",
       "  <matplotlib.lines.Line2D at 0x7fd432c8da50>],\n",
       " 'boxes': [<matplotlib.lines.Line2D at 0x7fd432c95690>],\n",
       " 'medians': [<matplotlib.lines.Line2D at 0x7fd432c8d6d0>],\n",
       " 'fliers': [<matplotlib.lines.Line2D at 0x7fd432c8bc10>],\n",
       " 'means': []}"
      ]
     },
     "execution_count": 140,
     "metadata": {},
     "output_type": "execute_result"
    },
    {
     "data": {
      "image/png": "[encoded data removed]",
      "text/plain": [
       "<Figure size 640x480 with 1 Axes>"
      ]
     },
     "metadata": {},
     "output_type": "display_data"
    }
   ],
   "source": [
    "plt.boxplot(df.HEADING)"
   ]
  },
  {
   "cell_type": "code",
   "execution_count": 141,
   "metadata": {},
   "outputs": [
    {
     "data": {
      "text/plain": [
       "(0.0, 359.9)"
      ]
     },
     "execution_count": 141,
     "metadata": {},
     "output_type": "execute_result"
    }
   ],
   "source": [
    "df.HEADING.min(), df.HEADING.max()"
   ]
  },
  {
   "cell_type": "code",
   "execution_count": 142,
   "metadata": {},
   "outputs": [
    {
     "data": {
      "text/plain": [
       "(49.4328, -6.6038)"
      ]
     },
     "execution_count": 142,
     "metadata": {},
     "output_type": "execute_result"
    }
   ],
   "source": [
    "df.LATITUDE.max(), df.LONGITUDE.max()"
   ]
  },
  {
   "cell_type": "code",
   "execution_count": 143,
   "metadata": {},
   "outputs": [
    {
     "data": {
      "text/plain": [
       "(5.2904, -123.957)"
      ]
     },
     "execution_count": 143,
     "metadata": {},
     "output_type": "execute_result"
    }
   ],
   "source": [
    "df.LATITUDE.min(), df.LONGITUDE.min()"
   ]
  },
  {
   "cell_type": "code",
   "execution_count": 144,
   "metadata": {},
   "outputs": [
    {
     "data": {
      "text/plain": [
       "{'whiskers': [<matplotlib.lines.Line2D at 0x7fd432bf8ed0>,\n",
       "  <matplotlib.lines.Line2D at 0x7fd432bf8b50>],\n",
       " 'caps': [<matplotlib.lines.Line2D at 0x7fd432bf8810>,\n",
       "  <matplotlib.lines.Line2D at 0x7fd432bf84d0>],\n",
       " 'boxes': [<matplotlib.lines.Line2D at 0x7fd432bfa710>],\n",
       " 'medians': [<matplotlib.lines.Line2D at 0x7fd432bf8150>],\n",
       " 'fliers': [<matplotlib.lines.Line2D at 0x7fd432bf4710>],\n",
       " 'means': []}"
      ]
     },
     "execution_count": 144,
     "metadata": {},
     "output_type": "execute_result"
    },
    {
     "data": {
      "image/png": "[encoded data removed]",
      "text/plain": [
       "<Figure size 640x480 with 1 Axes>"
      ]
     },
     "metadata": {},
     "output_type": "display_data"
    }
   ],
   "source": [
    "plt.boxplot(df[pd.notna(df.LATITUDE)].LATITUDE)"
   ]
  },
  {
   "cell_type": "code",
   "execution_count": 145,
   "metadata": {},
   "outputs": [
    {
     "data": {
      "text/plain": [
       "{'whiskers': [<matplotlib.lines.Line2D at 0x7fd4326b8390>,\n",
       "  <matplotlib.lines.Line2D at 0x7fd4326b5e10>],\n",
       " 'caps': [<matplotlib.lines.Line2D at 0x7fd4326b4490>,\n",
       "  <matplotlib.lines.Line2D at 0x7fd4326b4150>],\n",
       " 'boxes': [<matplotlib.lines.Line2D at 0x7fd4326b83d0>],\n",
       " 'medians': [<matplotlib.lines.Line2D at 0x7fd4326b1d90>],\n",
       " 'fliers': [<matplotlib.lines.Line2D at 0x7fd4326b1a50>],\n",
       " 'means': []}"
      ]
     },
     "execution_count": 145,
     "metadata": {},
     "output_type": "execute_result"
    },
    {
     "data": {
      "image/png": "[encoded data removed]",
      "text/plain": [
       "<Figure size 640x480 with 1 Axes>"
      ]
     },
     "metadata": {},
     "output_type": "display_data"
    }
   ],
   "source": [
    "plt.boxplot(df[pd.notna(df.LONGITUDE)].LONGITUDE)"
   ]
  },
  {
   "cell_type": "code",
   "execution_count": 146,
   "metadata": {},
   "outputs": [
    {
     "data": {
      "text/html": [
       "<div>\n",
       "<style scoped>\n",
       "    .dataframe tbody tr th:only-of-type {\n",
       "        vertical-align: middle;\n",
       "    }\n",
       "\n",
       "    .dataframe tbody tr th {\n",
       "        vertical-align: top;\n",
       "    }\n",
       "\n",
       "    .dataframe thead th {\n",
       "        text-align: right;\n",
       "    }\n",
       "</style>\n",
       "<table border=\"1\" class=\"dataframe\">\n",
       "  <thead>\n",
       "    <tr style=\"text-align: right;\">\n",
       "      <th></th>\n",
       "      <th>LATITUDE</th>\n",
       "      <th>LONGITUDE</th>\n",
       "    </tr>\n",
       "  </thead>\n",
       "  <tbody>\n",
       "    <tr>\n",
       "      <th>832298</th>\n",
       "      <td>24.6885</td>\n",
       "      <td>-61.6358</td>\n",
       "    </tr>\n",
       "    <tr>\n",
       "      <th>905960</th>\n",
       "      <td>48.4953</td>\n",
       "      <td>-121.0703</td>\n",
       "    </tr>\n",
       "    <tr>\n",
       "      <th>905961</th>\n",
       "      <td>47.6136</td>\n",
       "      <td>-118.8690</td>\n",
       "    </tr>\n",
       "    <tr>\n",
       "      <th>905962</th>\n",
       "      <td>46.7319</td>\n",
       "      <td>-116.6677</td>\n",
       "    </tr>\n",
       "    <tr>\n",
       "      <th>905963</th>\n",
       "      <td>45.8501</td>\n",
       "      <td>-114.4664</td>\n",
       "    </tr>\n",
       "    <tr>\n",
       "      <th>...</th>\n",
       "      <td>...</td>\n",
       "      <td>...</td>\n",
       "    </tr>\n",
       "    <tr>\n",
       "      <th>1015155</th>\n",
       "      <td>22.7861</td>\n",
       "      <td>-56.9154</td>\n",
       "    </tr>\n",
       "    <tr>\n",
       "      <th>1015156</th>\n",
       "      <td>18.9884</td>\n",
       "      <td>-47.4295</td>\n",
       "    </tr>\n",
       "    <tr>\n",
       "      <th>1015157</th>\n",
       "      <td>15.1907</td>\n",
       "      <td>-37.9436</td>\n",
       "    </tr>\n",
       "    <tr>\n",
       "      <th>1015158</th>\n",
       "      <td>11.3930</td>\n",
       "      <td>-28.4577</td>\n",
       "    </tr>\n",
       "    <tr>\n",
       "      <th>1015159</th>\n",
       "      <td>7.5954</td>\n",
       "      <td>-18.9718</td>\n",
       "    </tr>\n",
       "  </tbody>\n",
       "</table>\n",
       "<p>158 rows × 2 columns</p>\n",
       "</div>"
      ],
      "text/plain": [
       "         LATITUDE  LONGITUDE\n",
       "832298    24.6885   -61.6358\n",
       "905960    48.4953  -121.0703\n",
       "905961    47.6136  -118.8690\n",
       "905962    46.7319  -116.6677\n",
       "905963    45.8501  -114.4664\n",
       "...           ...        ...\n",
       "1015155   22.7861   -56.9154\n",
       "1015156   18.9884   -47.4295\n",
       "1015157   15.1907   -37.9436\n",
       "1015158   11.3930   -28.4577\n",
       "1015159    7.5954   -18.9718\n",
       "\n",
       "[158 rows x 2 columns]"
      ]
     },
     "execution_count": 146,
     "metadata": {},
     "output_type": "execute_result"
    }
   ],
   "source": [
    "df[df.LATITUDE < 48.9][[\"LATITUDE\", \"LONGITUDE\"]]"
   ]
  },
  {
   "cell_type": "code",
   "execution_count": 50,
   "metadata": {},
   "outputs": [],
   "source": [
    "df = df[df.LATITUDE>48.9]"
   ]
  },
  {
   "cell_type": "code",
   "execution_count": 51,
   "metadata": {},
   "outputs": [
    {
     "data": {
      "text/html": [
       "<div>\n",
       "<style scoped>\n",
       "    .dataframe tbody tr th:only-of-type {\n",
       "        vertical-align: middle;\n",
       "    }\n",
       "\n",
       "    .dataframe tbody tr th {\n",
       "        vertical-align: top;\n",
       "    }\n",
       "\n",
       "    .dataframe thead th {\n",
       "        text-align: right;\n",
       "    }\n",
       "</style>\n",
       "<table border=\"1\" class=\"dataframe\">\n",
       "  <thead>\n",
       "    <tr style=\"text-align: right;\">\n",
       "      <th></th>\n",
       "      <th>LATITUDE</th>\n",
       "      <th>LONGITUDE</th>\n",
       "    </tr>\n",
       "  </thead>\n",
       "  <tbody>\n",
       "    <tr>\n",
       "      <th>741549</th>\n",
       "      <td>48.9366</td>\n",
       "      <td>-123.3009</td>\n",
       "    </tr>\n",
       "  </tbody>\n",
       "</table>\n",
       "</div>"
      ],
      "text/plain": [
       "        LATITUDE  LONGITUDE\n",
       "741549   48.9366  -123.3009"
      ]
     },
     "execution_count": 51,
     "metadata": {},
     "output_type": "execute_result"
    }
   ],
   "source": [
    "df[df.LATITUDE==df.LATITUDE.min()][[\"LATITUDE\", \"LONGITUDE\"]]"
   ]
  },
  {
   "cell_type": "code",
   "execution_count": 52,
   "metadata": {},
   "outputs": [
    {
     "name": "stdout",
     "output_type": "stream",
     "text": [
      "<class 'pandas.core.frame.DataFrame'>\n",
      "Int64Index: 787147 entries, 0 to 1098656\n",
      "Data columns (total 58 columns):\n",
      " #   Column                     Non-Null Count   Dtype  \n",
      "---  ------                     --------------   -----  \n",
      " 0   Dati                       787147 non-null  object \n",
      " 1   Time                       787147 non-null  float64\n",
      " 2   DEPTH                      787147 non-null  float64\n",
      " 3   ENGINE_1_FLOWRATE          787147 non-null  float64\n",
      " 4   ENGINE_1_FLOWRATEA         787147 non-null  float64\n",
      " 5   ENGINE_1_FLOWRATEB         787147 non-null  float64\n",
      " 6   ENGINE_1_FLOWTEMPA         787147 non-null  float64\n",
      " 7   ENGINE_1_FLOWTEMPB         787147 non-null  float64\n",
      " 8   ENGINE_1_FUEL_CONSUMPTION  787147 non-null  float64\n",
      " 9   ENGINE_2_FLOWRATE          787147 non-null  float64\n",
      " 10  ENGINE_2_FLOWRATEA         787147 non-null  float64\n",
      " 11  ENGINE_2_FLOWRATEB         787147 non-null  float64\n",
      " 12  ENGINE_2_FLOWTEMPA         787147 non-null  float64\n",
      " 13  ENGINE_2_FLOWTEMPB         787147 non-null  float64\n",
      " 14  ENGINE_2_FUEL_CONSUMPTION  787147 non-null  float64\n",
      " 15  HEADING                    787147 non-null  float64\n",
      " 16  LATITUDE                   787147 non-null  float64\n",
      " 17  LONGITUDE                  787147 non-null  float64\n",
      " 18  PITCH_1                    774584 non-null  float64\n",
      " 19  PITCH_2                    774584 non-null  float64\n",
      " 20  POWER_1                    787147 non-null  float64\n",
      " 21  POWER_2                    787147 non-null  float64\n",
      " 22  RATE_OF_TURN               774584 non-null  float64\n",
      " 23  SOG                        787147 non-null  float64\n",
      " 24  SOG_SPEEDLOG_LONG          787147 non-null  float64\n",
      " 25  SOG_SPEEDLOG_TRANS         787147 non-null  float64\n",
      " 26  SPEED_1                    787147 non-null  float64\n",
      " 27  SPEED_2                    787147 non-null  float64\n",
      " 28  STW                        787147 non-null  float64\n",
      " 29  THRUST_1                   787147 non-null  float64\n",
      " 30  THRUST_2                   787147 non-null  float64\n",
      " 31  TORQUE_1                   787147 non-null  float64\n",
      " 32  TORQUE_2                   787147 non-null  float64\n",
      " 33  TRACK_MADE_GOOD            774584 non-null  float64\n",
      " 34  WIND_ANGLE                 787147 non-null  float64\n",
      " 35  WIND_SPEED                 787147 non-null  float64\n",
      " 36  WIND_ANGLE_TRUE            787050 non-null  float64\n",
      " 37  WIND_SPEED_TRUE            787051 non-null  float64\n",
      " 38  MODE                       787147 non-null  float64\n",
      " 39  datetime                   787147 non-null  object \n",
      " 40  season                     787147 non-null  int64  \n",
      " 41  weekday                    787147 non-null  int64  \n",
      " 42  current                    787147 non-null  float64\n",
      " 43  direction                  787147 non-null  float64\n",
      " 44  temperature                787147 non-null  float64\n",
      " 45  humidity                   787147 non-null  int64  \n",
      " 46  pressure                   787147 non-null  float64\n",
      " 47  precipitation              787147 non-null  float64\n",
      " 48  rain                       787147 non-null  float64\n",
      " 49  snowfall                   787147 non-null  float64\n",
      " 50  weathercode                787147 non-null  int64  \n",
      " 51  wind_force                 787051 non-null  float64\n",
      " 52  wind_direc                 787050 non-null  float64\n",
      " 53  date                       787147 non-null  object \n",
      " 54  holiday                    787147 non-null  float64\n",
      " 55  is_weekday                 787147 non-null  bool   \n",
      " 56  resist_ratio1              787147 non-null  float64\n",
      " 57  resist_ratio2              787147 non-null  float64\n",
      "dtypes: bool(1), float64(50), int64(4), object(3)\n",
      "memory usage: 349.1+ MB\n"
     ]
    }
   ],
   "source": [
    "df.info()"
   ]
  },
  {
   "cell_type": "code",
   "execution_count": 13,
   "metadata": {},
   "outputs": [],
   "source": [
    "# all 0s, drop PAX\n",
    "# df.PAX.min(), df.PAX.max()"
   ]
  },
  {
   "cell_type": "code",
   "execution_count": null,
   "metadata": {},
   "outputs": [
    {
     "data": {
      "text/plain": [
       "(0.0, 655.35, 0.0, 655.35)"
      ]
     },
     "execution_count": 63,
     "metadata": {},
     "output_type": "execute_result"
    }
   ],
   "source": [
    "df.PITCH_1.min(), df.PITCH_1.max(), df.PITCH_2.min(), df.PITCH_2.max(),"
   ]
  },
  {
   "cell_type": "code",
   "execution_count": null,
   "metadata": {},
   "outputs": [
    {
     "data": {
      "text/plain": [
       "{'whiskers': [<matplotlib.lines.Line2D at 0x7fd4e1487390>,\n",
       "  <matplotlib.lines.Line2D at 0x7fd4e1487050>],\n",
       " 'caps': [<matplotlib.lines.Line2D at 0x7fd4dca32510>,\n",
       "  <matplotlib.lines.Line2D at 0x7fd4dca32290>],\n",
       " 'boxes': [<matplotlib.lines.Line2D at 0x7fd4e1487910>],\n",
       " 'medians': [<matplotlib.lines.Line2D at 0x7fd4dca32950>],\n",
       " 'fliers': [<matplotlib.lines.Line2D at 0x7fd4dd6ad510>],\n",
       " 'means': []}"
      ]
     },
     "execution_count": 60,
     "metadata": {},
     "output_type": "execute_result"
    },
    {
     "data": {
      "image/png": "[encoded data removed]",
      "text/plain": [
       "<Figure size 640x480 with 1 Axes>"
      ]
     },
     "metadata": {},
     "output_type": "display_data"
    }
   ],
   "source": [
    "plt.boxplot(df[pd.notna(df.PITCH_1)].PITCH_1)"
   ]
  },
  {
   "cell_type": "code",
   "execution_count": null,
   "metadata": {},
   "outputs": [
    {
     "data": {
      "text/plain": [
       "{'whiskers': [<matplotlib.lines.Line2D at 0x7fd4f0b53ad0>,\n",
       "  <matplotlib.lines.Line2D at 0x7fd4fa56b810>],\n",
       " 'caps': [<matplotlib.lines.Line2D at 0x7fd4dcaa5750>,\n",
       "  <matplotlib.lines.Line2D at 0x7fd4dcaa5410>],\n",
       " 'boxes': [<matplotlib.lines.Line2D at 0x7fd4f0b53d10>],\n",
       " 'medians': [<matplotlib.lines.Line2D at 0x7fd4dcaa5090>],\n",
       " 'fliers': [<matplotlib.lines.Line2D at 0x7fd4f0b23d10>],\n",
       " 'means': []}"
      ]
     },
     "execution_count": 64,
     "metadata": {},
     "output_type": "execute_result"
    },
    {
     "data": {
      "image/png": "[encoded data removed]",
      "text/plain": [
       "<Figure size 640x480 with 1 Axes>"
      ]
     },
     "metadata": {},
     "output_type": "display_data"
    }
   ],
   "source": [
    "plt.boxplot(df[pd.notna(df.PITCH_1)].PITCH_2)"
   ]
  },
  {
   "cell_type": "code",
   "execution_count": 151,
   "metadata": {},
   "outputs": [
    {
     "data": {
      "text/plain": [
       "{'whiskers': [<matplotlib.lines.Line2D at 0x7fd4326f8810>,\n",
       "  <matplotlib.lines.Line2D at 0x7fd4326f85d0>],\n",
       " 'caps': [<matplotlib.lines.Line2D at 0x7fd4326f8250>,\n",
       "  <matplotlib.lines.Line2D at 0x7fd4326f5ed0>],\n",
       " 'boxes': [<matplotlib.lines.Line2D at 0x7fd4326f8b50>],\n",
       " 'medians': [<matplotlib.lines.Line2D at 0x7fd4326f5b50>],\n",
       " 'fliers': [<matplotlib.lines.Line2D at 0x7fd4326f4190>],\n",
       " 'means': []}"
      ]
     },
     "execution_count": 151,
     "metadata": {},
     "output_type": "execute_result"
    },
    {
     "data": {
      "image/png": "[encoded data removed]",
      "text/plain": [
       "<Figure size 640x480 with 1 Axes>"
      ]
     },
     "metadata": {},
     "output_type": "display_data"
    }
   ],
   "source": [
    "plt.boxplot(df.POWER_1)"
   ]
  },
  {
   "cell_type": "code",
   "execution_count": 152,
   "metadata": {},
   "outputs": [
    {
     "data": {
      "text/plain": [
       "{'whiskers': [<matplotlib.lines.Line2D at 0x7fd432684790>,\n",
       "  <matplotlib.lines.Line2D at 0x7fd432684550>],\n",
       " 'caps': [<matplotlib.lines.Line2D at 0x7fd432684210>,\n",
       "  <matplotlib.lines.Line2D at 0x7fd4326806d0>],\n",
       " 'boxes': [<matplotlib.lines.Line2D at 0x7fd432684ad0>],\n",
       " 'medians': [<matplotlib.lines.Line2D at 0x7fd432680350>],\n",
       " 'fliers': [<matplotlib.lines.Line2D at 0x7fd43267dfd0>],\n",
       " 'means': []}"
      ]
     },
     "execution_count": 152,
     "metadata": {},
     "output_type": "execute_result"
    },
    {
     "data": {
      "image/png": "[encoded data removed]",
      "text/plain": [
       "<Figure size 640x480 with 1 Axes>"
      ]
     },
     "metadata": {},
     "output_type": "display_data"
    }
   ],
   "source": [
    "plt.boxplot(df.POWER_1)"
   ]
  },
  {
   "cell_type": "code",
   "execution_count": 153,
   "metadata": {},
   "outputs": [
    {
     "data": {
      "text/plain": [
       "(-1.0809, 1.0387)"
      ]
     },
     "execution_count": 153,
     "metadata": {},
     "output_type": "execute_result"
    }
   ],
   "source": [
    "df.RATE_OF_TURN.min(), df.RATE_OF_TURN.max()"
   ]
  },
  {
   "cell_type": "code",
   "execution_count": 154,
   "metadata": {},
   "outputs": [
    {
     "data": {
      "text/plain": [
       "{'whiskers': [<matplotlib.lines.Line2D at 0x7fd4325f1690>,\n",
       "  <matplotlib.lines.Line2D at 0x7fd4325e8690>],\n",
       " 'caps': [<matplotlib.lines.Line2D at 0x7fd4325e8350>,\n",
       "  <matplotlib.lines.Line2D at 0x7fd4325e0fd0>],\n",
       " 'boxes': [<matplotlib.lines.Line2D at 0x7fd4325e8c10>],\n",
       " 'medians': [<matplotlib.lines.Line2D at 0x7fd4325df3d0>],\n",
       " 'fliers': [<matplotlib.lines.Line2D at 0x7fd4325df090>],\n",
       " 'means': []}"
      ]
     },
     "execution_count": 154,
     "metadata": {},
     "output_type": "execute_result"
    },
    {
     "data": {
      "image/png": "[encoded data removed]",
      "text/plain": [
       "<Figure size 640x480 with 1 Axes>"
      ]
     },
     "metadata": {},
     "output_type": "display_data"
    }
   ],
   "source": [
    "plt.boxplot(df.SOG)"
   ]
  },
  {
   "cell_type": "code",
   "execution_count": 155,
   "metadata": {},
   "outputs": [
    {
     "data": {
      "text/plain": [
       "{'whiskers': [<matplotlib.lines.Line2D at 0x7fd432065cd0>,\n",
       "  <matplotlib.lines.Line2D at 0x7fd432064290>],\n",
       " 'caps': [<matplotlib.lines.Line2D at 0x7fd43205cf50>,\n",
       "  <matplotlib.lines.Line2D at 0x7fd43205cc10>],\n",
       " 'boxes': [<matplotlib.lines.Line2D at 0x7fd432065fd0>],\n",
       " 'medians': [<matplotlib.lines.Line2D at 0x7fd43205c890>],\n",
       " 'fliers': [<matplotlib.lines.Line2D at 0x7fd43205c550>],\n",
       " 'means': []}"
      ]
     },
     "execution_count": 155,
     "metadata": {},
     "output_type": "execute_result"
    },
    {
     "data": {
      "image/png": "[encoded data removed]",
      "text/plain": [
       "<Figure size 640x480 with 1 Axes>"
      ]
     },
     "metadata": {},
     "output_type": "display_data"
    }
   ],
   "source": [
    "plt.boxplot(df.STW)"
   ]
  },
  {
   "cell_type": "code",
   "execution_count": 156,
   "metadata": {},
   "outputs": [
    {
     "data": {
      "text/plain": [
       "{'whiskers': [<matplotlib.lines.Line2D at 0x7fd4320ba990>,\n",
       "  <matplotlib.lines.Line2D at 0x7fd4320ba750>],\n",
       " 'caps': [<matplotlib.lines.Line2D at 0x7fd4320ba410>,\n",
       "  <matplotlib.lines.Line2D at 0x7fd4320ba0d0>],\n",
       " 'boxes': [<matplotlib.lines.Line2D at 0x7fd4320bacd0>],\n",
       " 'medians': [<matplotlib.lines.Line2D at 0x7fd4320b6650>],\n",
       " 'fliers': [<matplotlib.lines.Line2D at 0x7fd4320b6310>],\n",
       " 'means': []}"
      ]
     },
     "execution_count": 156,
     "metadata": {},
     "output_type": "execute_result"
    },
    {
     "data": {
      "image/png": "[encoded data removed]",
      "text/plain": [
       "<Figure size 640x480 with 1 Axes>"
      ]
     },
     "metadata": {},
     "output_type": "display_data"
    }
   ],
   "source": [
    "plt.boxplot(df.SPEED_1)"
   ]
  },
  {
   "cell_type": "code",
   "execution_count": 157,
   "metadata": {},
   "outputs": [
    {
     "data": {
      "text/plain": [
       "{'whiskers': [<matplotlib.lines.Line2D at 0x7fd43208a590>,\n",
       "  <matplotlib.lines.Line2D at 0x7fd432088bd0>],\n",
       " 'caps': [<matplotlib.lines.Line2D at 0x7fd432088850>,\n",
       "  <matplotlib.lines.Line2D at 0x7fd432088510>],\n",
       " 'boxes': [<matplotlib.lines.Line2D at 0x7fd43208a8d0>],\n",
       " 'medians': [<matplotlib.lines.Line2D at 0x7fd432088190>],\n",
       " 'fliers': [<matplotlib.lines.Line2D at 0x7fd432103e10>],\n",
       " 'means': []}"
      ]
     },
     "execution_count": 157,
     "metadata": {},
     "output_type": "execute_result"
    },
    {
     "data": {
      "image/png": "[encoded data removed]",
      "text/plain": [
       "<Figure size 640x480 with 1 Axes>"
      ]
     },
     "metadata": {},
     "output_type": "display_data"
    }
   ],
   "source": [
    "plt.boxplot(df.SPEED_2)"
   ]
  },
  {
   "cell_type": "code",
   "execution_count": 158,
   "metadata": {},
   "outputs": [
    {
     "data": {
      "text/plain": [
       "{'whiskers': [<matplotlib.lines.Line2D at 0x7fd44b5ea590>,\n",
       "  <matplotlib.lines.Line2D at 0x7fd44b5ea8d0>],\n",
       " 'caps': [<matplotlib.lines.Line2D at 0x7fd44b5eac10>,\n",
       "  <matplotlib.lines.Line2D at 0x7fd44b5eaf50>],\n",
       " 'boxes': [<matplotlib.lines.Line2D at 0x7fd44b5ea110>],\n",
       " 'medians': [<matplotlib.lines.Line2D at 0x7fd44bc01310>],\n",
       " 'fliers': [<matplotlib.lines.Line2D at 0x7fd44bc01650>],\n",
       " 'means': []}"
      ]
     },
     "execution_count": 158,
     "metadata": {},
     "output_type": "execute_result"
    },
    {
     "data": {
      "image/png": "[encoded data removed]",
      "text/plain": [
       "<Figure size 640x480 with 1 Axes>"
      ]
     },
     "metadata": {},
     "output_type": "display_data"
    }
   ],
   "source": [
    "plt.boxplot(df.THRUST_1)"
   ]
  },
  {
   "cell_type": "code",
   "execution_count": 159,
   "metadata": {},
   "outputs": [
    {
     "data": {
      "text/plain": [
       "{'whiskers': [<matplotlib.lines.Line2D at 0x7fd461f42f90>,\n",
       "  <matplotlib.lines.Line2D at 0x7fd46521b310>],\n",
       " 'caps': [<matplotlib.lines.Line2D at 0x7fd46521b650>,\n",
       "  <matplotlib.lines.Line2D at 0x7fd46521b990>],\n",
       " 'boxes': [<matplotlib.lines.Line2D at 0x7fd461f42c50>],\n",
       " 'medians': [<matplotlib.lines.Line2D at 0x7fd4636fb350>],\n",
       " 'fliers': [<matplotlib.lines.Line2D at 0x7fd4636fb690>],\n",
       " 'means': []}"
      ]
     },
     "execution_count": 159,
     "metadata": {},
     "output_type": "execute_result"
    },
    {
     "data": {
      "image/png": "[encoded data removed]",
      "text/plain": [
       "<Figure size 640x480 with 1 Axes>"
      ]
     },
     "metadata": {},
     "output_type": "display_data"
    }
   ],
   "source": [
    "plt.boxplot(df.THRUST_2)"
   ]
  },
  {
   "cell_type": "code",
   "execution_count": 160,
   "metadata": {},
   "outputs": [
    {
     "data": {
      "text/plain": [
       "{'whiskers': [<matplotlib.lines.Line2D at 0x7fd4651dc7d0>,\n",
       "  <matplotlib.lines.Line2D at 0x7fd4651df2d0>],\n",
       " 'caps': [<matplotlib.lines.Line2D at 0x7fd4651df610>,\n",
       "  <matplotlib.lines.Line2D at 0x7fd4651df950>],\n",
       " 'boxes': [<matplotlib.lines.Line2D at 0x7fd4651dc490>],\n",
       " 'medians': [<matplotlib.lines.Line2D at 0x7fd4651dfcd0>],\n",
       " 'fliers': [<matplotlib.lines.Line2D at 0x7fd4651e2050>],\n",
       " 'means': []}"
      ]
     },
     "execution_count": 160,
     "metadata": {},
     "output_type": "execute_result"
    },
    {
     "data": {
      "image/png": "[encoded data removed]",
      "text/plain": [
       "<Figure size 640x480 with 1 Axes>"
      ]
     },
     "metadata": {},
     "output_type": "display_data"
    }
   ],
   "source": [
    "plt.boxplot(df.TORQUE_1)"
   ]
  },
  {
   "cell_type": "code",
   "execution_count": 161,
   "metadata": {},
   "outputs": [
    {
     "data": {
      "text/plain": [
       "{'whiskers': [<matplotlib.lines.Line2D at 0x7fd464584dd0>,\n",
       "  <matplotlib.lines.Line2D at 0x7fd464587150>],\n",
       " 'caps': [<matplotlib.lines.Line2D at 0x7fd464587490>,\n",
       "  <matplotlib.lines.Line2D at 0x7fd4645877d0>],\n",
       " 'boxes': [<matplotlib.lines.Line2D at 0x7fd464584a90>],\n",
       " 'medians': [<matplotlib.lines.Line2D at 0x7fd4645891d0>],\n",
       " 'fliers': [<matplotlib.lines.Line2D at 0x7fd4645894d0>],\n",
       " 'means': []}"
      ]
     },
     "execution_count": 161,
     "metadata": {},
     "output_type": "execute_result"
    },
    {
     "data": {
      "image/png": "[encoded data removed]",
      "text/plain": [
       "<Figure size 640x480 with 1 Axes>"
      ]
     },
     "metadata": {},
     "output_type": "display_data"
    }
   ],
   "source": [
    "plt.boxplot(df.TORQUE_2)"
   ]
  },
  {
   "cell_type": "code",
   "execution_count": 162,
   "metadata": {},
   "outputs": [
    {
     "data": {
      "text/plain": [
       "(0.0, 358.9317)"
      ]
     },
     "execution_count": 162,
     "metadata": {},
     "output_type": "execute_result"
    }
   ],
   "source": [
    "df.TRACK_MADE_GOOD.min(), df.TRACK_MADE_GOOD.max()"
   ]
  },
  {
   "cell_type": "code",
   "execution_count": 163,
   "metadata": {},
   "outputs": [
    {
     "data": {
      "text/plain": [
       "{'whiskers': [<matplotlib.lines.Line2D at 0x7fd46a410ed0>,\n",
       "  <matplotlib.lines.Line2D at 0x7fd46a410b90>],\n",
       " 'caps': [<matplotlib.lines.Line2D at 0x7fd46a410850>,\n",
       "  <matplotlib.lines.Line2D at 0x7fd46a410490>],\n",
       " 'boxes': [<matplotlib.lines.Line2D at 0x7fd46a418250>],\n",
       " 'medians': [<matplotlib.lines.Line2D at 0x7fd46a4100d0>],\n",
       " 'fliers': [<matplotlib.lines.Line2D at 0x7fd46a40cdd0>],\n",
       " 'means': []}"
      ]
     },
     "execution_count": 163,
     "metadata": {},
     "output_type": "execute_result"
    },
    {
     "data": {
      "image/png": "[encoded data removed]",
      "text/plain": [
       "<Figure size 640x480 with 1 Axes>"
      ]
     },
     "metadata": {},
     "output_type": "display_data"
    }
   ],
   "source": [
    "plt.boxplot(df[pd.notna(df.TRACK_MADE_GOOD)].TRACK_MADE_GOOD)"
   ]
  },
  {
   "cell_type": "code",
   "execution_count": 16,
   "metadata": {},
   "outputs": [
    {
     "data": {
      "text/html": [
       "<div>\n",
       "<style scoped>\n",
       "    .dataframe tbody tr th:only-of-type {\n",
       "        vertical-align: middle;\n",
       "    }\n",
       "\n",
       "    .dataframe tbody tr th {\n",
       "        vertical-align: top;\n",
       "    }\n",
       "\n",
       "    .dataframe thead th {\n",
       "        text-align: right;\n",
       "    }\n",
       "</style>\n",
       "<table border=\"1\" class=\"dataframe\">\n",
       "  <thead>\n",
       "    <tr style=\"text-align: right;\">\n",
       "      <th></th>\n",
       "      <th>Dati</th>\n",
       "      <th>Time</th>\n",
       "      <th>DEPTH</th>\n",
       "      <th>ENGINE_1_FLOWRATE</th>\n",
       "      <th>ENGINE_1_FLOWRATEA</th>\n",
       "      <th>ENGINE_1_FLOWRATEB</th>\n",
       "      <th>ENGINE_1_FLOWTEMPA</th>\n",
       "      <th>ENGINE_1_FLOWTEMPB</th>\n",
       "      <th>ENGINE_1_FUEL_CONSUMPTION</th>\n",
       "      <th>ENGINE_2_FLOWRATE</th>\n",
       "      <th>...</th>\n",
       "      <th>rain</th>\n",
       "      <th>snowfall</th>\n",
       "      <th>weathercode</th>\n",
       "      <th>wind_force</th>\n",
       "      <th>wind_direc</th>\n",
       "      <th>date</th>\n",
       "      <th>holiday</th>\n",
       "      <th>is_weekday</th>\n",
       "      <th>resist_ratio1</th>\n",
       "      <th>resist_ratio2</th>\n",
       "    </tr>\n",
       "  </thead>\n",
       "  <tbody>\n",
       "    <tr>\n",
       "      <th>43741</th>\n",
       "      <td>190929_085600</td>\n",
       "      <td>43742.0</td>\n",
       "      <td>0.0036</td>\n",
       "      <td>0.0000</td>\n",
       "      <td>0.0000</td>\n",
       "      <td>0.0000</td>\n",
       "      <td>21.8400</td>\n",
       "      <td>24.0000</td>\n",
       "      <td>0.0000</td>\n",
       "      <td>0.0000</td>\n",
       "      <td>...</td>\n",
       "      <td>0.0</td>\n",
       "      <td>0.00</td>\n",
       "      <td>1</td>\n",
       "      <td>NaN</td>\n",
       "      <td>NaN</td>\n",
       "      <td>2019-09-29</td>\n",
       "      <td>0.0</td>\n",
       "      <td>False</td>\n",
       "      <td>0.000000</td>\n",
       "      <td>0.000000</td>\n",
       "    </tr>\n",
       "    <tr>\n",
       "      <th>43744</th>\n",
       "      <td>190929_085900</td>\n",
       "      <td>43745.0</td>\n",
       "      <td>0.0023</td>\n",
       "      <td>0.0000</td>\n",
       "      <td>0.0000</td>\n",
       "      <td>0.0000</td>\n",
       "      <td>14.1050</td>\n",
       "      <td>15.5000</td>\n",
       "      <td>0.0000</td>\n",
       "      <td>0.0000</td>\n",
       "      <td>...</td>\n",
       "      <td>0.0</td>\n",
       "      <td>0.00</td>\n",
       "      <td>1</td>\n",
       "      <td>NaN</td>\n",
       "      <td>NaN</td>\n",
       "      <td>2019-09-29</td>\n",
       "      <td>0.0</td>\n",
       "      <td>False</td>\n",
       "      <td>0.000000</td>\n",
       "      <td>0.000000</td>\n",
       "    </tr>\n",
       "    <tr>\n",
       "      <th>80956</th>\n",
       "      <td>191025_050300</td>\n",
       "      <td>80957.0</td>\n",
       "      <td>0.0023</td>\n",
       "      <td>0.0000</td>\n",
       "      <td>0.0000</td>\n",
       "      <td>0.0000</td>\n",
       "      <td>26.1000</td>\n",
       "      <td>28.2000</td>\n",
       "      <td>0.0000</td>\n",
       "      <td>0.0000</td>\n",
       "      <td>...</td>\n",
       "      <td>0.0</td>\n",
       "      <td>0.00</td>\n",
       "      <td>3</td>\n",
       "      <td>NaN</td>\n",
       "      <td>NaN</td>\n",
       "      <td>2019-10-25</td>\n",
       "      <td>0.0</td>\n",
       "      <td>True</td>\n",
       "      <td>0.000000</td>\n",
       "      <td>0.000000</td>\n",
       "    </tr>\n",
       "    <tr>\n",
       "      <th>88141</th>\n",
       "      <td>191030_044800</td>\n",
       "      <td>88142.0</td>\n",
       "      <td>0.0043</td>\n",
       "      <td>0.0000</td>\n",
       "      <td>0.0000</td>\n",
       "      <td>0.0000</td>\n",
       "      <td>22.0000</td>\n",
       "      <td>25.4933</td>\n",
       "      <td>0.0000</td>\n",
       "      <td>0.0000</td>\n",
       "      <td>...</td>\n",
       "      <td>0.0</td>\n",
       "      <td>0.00</td>\n",
       "      <td>0</td>\n",
       "      <td>NaN</td>\n",
       "      <td>NaN</td>\n",
       "      <td>2019-10-30</td>\n",
       "      <td>0.0</td>\n",
       "      <td>True</td>\n",
       "      <td>0.000000</td>\n",
       "      <td>0.000000</td>\n",
       "    </tr>\n",
       "    <tr>\n",
       "      <th>93467</th>\n",
       "      <td>191102_213200</td>\n",
       "      <td>93468.0</td>\n",
       "      <td>0.0790</td>\n",
       "      <td>-613.2797</td>\n",
       "      <td>2585.5366</td>\n",
       "      <td>1972.2570</td>\n",
       "      <td>20.7000</td>\n",
       "      <td>29.2000</td>\n",
       "      <td>537.2642</td>\n",
       "      <td>-609.7698</td>\n",
       "      <td>...</td>\n",
       "      <td>0.0</td>\n",
       "      <td>0.00</td>\n",
       "      <td>1</td>\n",
       "      <td>NaN</td>\n",
       "      <td>NaN</td>\n",
       "      <td>2019-11-02</td>\n",
       "      <td>0.0</td>\n",
       "      <td>True</td>\n",
       "      <td>1.312669</td>\n",
       "      <td>-33.910456</td>\n",
       "    </tr>\n",
       "    <tr>\n",
       "      <th>...</th>\n",
       "      <td>...</td>\n",
       "      <td>...</td>\n",
       "      <td>...</td>\n",
       "      <td>...</td>\n",
       "      <td>...</td>\n",
       "      <td>...</td>\n",
       "      <td>...</td>\n",
       "      <td>...</td>\n",
       "      <td>...</td>\n",
       "      <td>...</td>\n",
       "      <td>...</td>\n",
       "      <td>...</td>\n",
       "      <td>...</td>\n",
       "      <td>...</td>\n",
       "      <td>...</td>\n",
       "      <td>...</td>\n",
       "      <td>...</td>\n",
       "      <td>...</td>\n",
       "      <td>...</td>\n",
       "      <td>...</td>\n",
       "      <td>...</td>\n",
       "    </tr>\n",
       "    <tr>\n",
       "      <th>753011</th>\n",
       "      <td>210202_195800</td>\n",
       "      <td>753012.0</td>\n",
       "      <td>0.0804</td>\n",
       "      <td>-480.7901</td>\n",
       "      <td>2685.3643</td>\n",
       "      <td>2204.5742</td>\n",
       "      <td>21.3250</td>\n",
       "      <td>28.2000</td>\n",
       "      <td>422.0599</td>\n",
       "      <td>-521.1494</td>\n",
       "      <td>...</td>\n",
       "      <td>0.1</td>\n",
       "      <td>0.07</td>\n",
       "      <td>71</td>\n",
       "      <td>NaN</td>\n",
       "      <td>NaN</td>\n",
       "      <td>2021-02-02</td>\n",
       "      <td>0.0</td>\n",
       "      <td>True</td>\n",
       "      <td>1.316139</td>\n",
       "      <td>0.000000</td>\n",
       "    </tr>\n",
       "    <tr>\n",
       "      <th>764113</th>\n",
       "      <td>210210_125800</td>\n",
       "      <td>764114.0</td>\n",
       "      <td>0.0052</td>\n",
       "      <td>-573.0669</td>\n",
       "      <td>2682.5703</td>\n",
       "      <td>2109.5034</td>\n",
       "      <td>18.2650</td>\n",
       "      <td>23.2983</td>\n",
       "      <td>499.9707</td>\n",
       "      <td>-599.6595</td>\n",
       "      <td>...</td>\n",
       "      <td>0.0</td>\n",
       "      <td>0.07</td>\n",
       "      <td>71</td>\n",
       "      <td>NaN</td>\n",
       "      <td>NaN</td>\n",
       "      <td>2021-02-10</td>\n",
       "      <td>0.0</td>\n",
       "      <td>True</td>\n",
       "      <td>1.061244</td>\n",
       "      <td>0.000000</td>\n",
       "    </tr>\n",
       "    <tr>\n",
       "      <th>770084</th>\n",
       "      <td>210214_162700</td>\n",
       "      <td>770085.0</td>\n",
       "      <td>0.0239</td>\n",
       "      <td>-123.6073</td>\n",
       "      <td>467.0519</td>\n",
       "      <td>343.4446</td>\n",
       "      <td>3.6667</td>\n",
       "      <td>5.1333</td>\n",
       "      <td>108.1290</td>\n",
       "      <td>-125.3115</td>\n",
       "      <td>...</td>\n",
       "      <td>0.0</td>\n",
       "      <td>0.49</td>\n",
       "      <td>73</td>\n",
       "      <td>NaN</td>\n",
       "      <td>NaN</td>\n",
       "      <td>2021-02-14</td>\n",
       "      <td>0.0</td>\n",
       "      <td>False</td>\n",
       "      <td>1.312918</td>\n",
       "      <td>0.000000</td>\n",
       "    </tr>\n",
       "    <tr>\n",
       "      <th>775024</th>\n",
       "      <td>210218_024700</td>\n",
       "      <td>775025.0</td>\n",
       "      <td>0.0039</td>\n",
       "      <td>0.0000</td>\n",
       "      <td>0.0000</td>\n",
       "      <td>0.0000</td>\n",
       "      <td>21.1000</td>\n",
       "      <td>24.4000</td>\n",
       "      <td>0.0000</td>\n",
       "      <td>0.0000</td>\n",
       "      <td>...</td>\n",
       "      <td>0.0</td>\n",
       "      <td>0.00</td>\n",
       "      <td>3</td>\n",
       "      <td>NaN</td>\n",
       "      <td>NaN</td>\n",
       "      <td>2021-02-18</td>\n",
       "      <td>0.0</td>\n",
       "      <td>True</td>\n",
       "      <td>0.000000</td>\n",
       "      <td>0.000000</td>\n",
       "    </tr>\n",
       "    <tr>\n",
       "      <th>777950</th>\n",
       "      <td>210220_033100</td>\n",
       "      <td>777951.0</td>\n",
       "      <td>0.0035</td>\n",
       "      <td>0.0000</td>\n",
       "      <td>0.0000</td>\n",
       "      <td>0.0000</td>\n",
       "      <td>20.9000</td>\n",
       "      <td>25.3000</td>\n",
       "      <td>0.0000</td>\n",
       "      <td>0.0000</td>\n",
       "      <td>...</td>\n",
       "      <td>0.0</td>\n",
       "      <td>0.00</td>\n",
       "      <td>2</td>\n",
       "      <td>NaN</td>\n",
       "      <td>NaN</td>\n",
       "      <td>2021-02-20</td>\n",
       "      <td>0.0</td>\n",
       "      <td>True</td>\n",
       "      <td>0.000000</td>\n",
       "      <td>0.000000</td>\n",
       "    </tr>\n",
       "  </tbody>\n",
       "</table>\n",
       "<p>72 rows × 58 columns</p>\n",
       "</div>"
      ],
      "text/plain": [
       "                 Dati      Time   DEPTH  ENGINE_1_FLOWRATE  \\\n",
       "43741   190929_085600   43742.0  0.0036             0.0000   \n",
       "43744   190929_085900   43745.0  0.0023             0.0000   \n",
       "80956   191025_050300   80957.0  0.0023             0.0000   \n",
       "88141   191030_044800   88142.0  0.0043             0.0000   \n",
       "93467   191102_213200   93468.0  0.0790          -613.2797   \n",
       "...               ...       ...     ...                ...   \n",
       "753011  210202_195800  753012.0  0.0804          -480.7901   \n",
       "764113  210210_125800  764114.0  0.0052          -573.0669   \n",
       "770084  210214_162700  770085.0  0.0239          -123.6073   \n",
       "775024  210218_024700  775025.0  0.0039             0.0000   \n",
       "777950  210220_033100  777951.0  0.0035             0.0000   \n",
       "\n",
       "        ENGINE_1_FLOWRATEA  ENGINE_1_FLOWRATEB  ENGINE_1_FLOWTEMPA  \\\n",
       "43741               0.0000              0.0000             21.8400   \n",
       "43744               0.0000              0.0000             14.1050   \n",
       "80956               0.0000              0.0000             26.1000   \n",
       "88141               0.0000              0.0000             22.0000   \n",
       "93467            2585.5366           1972.2570             20.7000   \n",
       "...                    ...                 ...                 ...   \n",
       "753011           2685.3643           2204.5742             21.3250   \n",
       "764113           2682.5703           2109.5034             18.2650   \n",
       "770084            467.0519            343.4446              3.6667   \n",
       "775024              0.0000              0.0000             21.1000   \n",
       "777950              0.0000              0.0000             20.9000   \n",
       "\n",
       "        ENGINE_1_FLOWTEMPB  ENGINE_1_FUEL_CONSUMPTION  ENGINE_2_FLOWRATE  ...  \\\n",
       "43741              24.0000                     0.0000             0.0000  ...   \n",
       "43744              15.5000                     0.0000             0.0000  ...   \n",
       "80956              28.2000                     0.0000             0.0000  ...   \n",
       "88141              25.4933                     0.0000             0.0000  ...   \n",
       "93467              29.2000                   537.2642          -609.7698  ...   \n",
       "...                    ...                        ...                ...  ...   \n",
       "753011             28.2000                   422.0599          -521.1494  ...   \n",
       "764113             23.2983                   499.9707          -599.6595  ...   \n",
       "770084              5.1333                   108.1290          -125.3115  ...   \n",
       "775024             24.4000                     0.0000             0.0000  ...   \n",
       "777950             25.3000                     0.0000             0.0000  ...   \n",
       "\n",
       "        rain  snowfall  weathercode  wind_force  wind_direc        date  \\\n",
       "43741    0.0      0.00            1         NaN         NaN  2019-09-29   \n",
       "43744    0.0      0.00            1         NaN         NaN  2019-09-29   \n",
       "80956    0.0      0.00            3         NaN         NaN  2019-10-25   \n",
       "88141    0.0      0.00            0         NaN         NaN  2019-10-30   \n",
       "93467    0.0      0.00            1         NaN         NaN  2019-11-02   \n",
       "...      ...       ...          ...         ...         ...         ...   \n",
       "753011   0.1      0.07           71         NaN         NaN  2021-02-02   \n",
       "764113   0.0      0.07           71         NaN         NaN  2021-02-10   \n",
       "770084   0.0      0.49           73         NaN         NaN  2021-02-14   \n",
       "775024   0.0      0.00            3         NaN         NaN  2021-02-18   \n",
       "777950   0.0      0.00            2         NaN         NaN  2021-02-20   \n",
       "\n",
       "        holiday  is_weekday  resist_ratio1  resist_ratio2  \n",
       "43741       0.0       False       0.000000       0.000000  \n",
       "43744       0.0       False       0.000000       0.000000  \n",
       "80956       0.0        True       0.000000       0.000000  \n",
       "88141       0.0        True       0.000000       0.000000  \n",
       "93467       0.0        True       1.312669     -33.910456  \n",
       "...         ...         ...            ...            ...  \n",
       "753011      0.0        True       1.316139       0.000000  \n",
       "764113      0.0        True       1.061244       0.000000  \n",
       "770084      0.0       False       1.312918       0.000000  \n",
       "775024      0.0        True       0.000000       0.000000  \n",
       "777950      0.0        True       0.000000       0.000000  \n",
       "\n",
       "[72 rows x 58 columns]"
      ]
     },
     "execution_count": 16,
     "metadata": {},
     "output_type": "execute_result"
    }
   ],
   "source": [
    "df[pd.isna(df.WIND_ANGLE_TRUE)]"
   ]
  },
  {
   "cell_type": "code",
   "execution_count": 53,
   "metadata": {},
   "outputs": [],
   "source": [
    "df.WIND_SPEED_TRUE.fillna(df.WIND_SPEED+df.STW, inplace=True)"
   ]
  },
  {
   "cell_type": "code",
   "execution_count": 60,
   "metadata": {},
   "outputs": [],
   "source": [
    "def impute_mode(df, cols):\n",
    "    for col in cols:\n",
    "        mode = df[col].mode()[0]\n",
    "        df[col].fillna(mode, inplace=True)\n",
    "    return df"
   ]
  },
  {
   "cell_type": "code",
   "execution_count": 61,
   "metadata": {},
   "outputs": [],
   "source": [
    "df = impute_mode(df, [\"WIND_ANGLE_TRUE\", \"WIND_SPEED_TRUE\", \"PITCH_1\", \"PITCH_2\",\n",
    "                      \"RATE_OF_TURN\", \"TRACK_MADE_GOOD\"])"
   ]
  },
  {
   "cell_type": "code",
   "execution_count": 62,
   "metadata": {},
   "outputs": [
    {
     "data": {
      "text/plain": [
       "Dati                          0\n",
       "Time                          0\n",
       "DEPTH                         0\n",
       "ENGINE_1_FLOWRATE             0\n",
       "ENGINE_1_FLOWRATEA            0\n",
       "ENGINE_1_FLOWRATEB            0\n",
       "ENGINE_1_FLOWTEMPA            0\n",
       "ENGINE_1_FLOWTEMPB            0\n",
       "ENGINE_1_FUEL_CONSUMPTION     0\n",
       "ENGINE_2_FLOWRATE             0\n",
       "ENGINE_2_FLOWRATEA            0\n",
       "ENGINE_2_FLOWRATEB            0\n",
       "ENGINE_2_FLOWTEMPA            0\n",
       "ENGINE_2_FLOWTEMPB            0\n",
       "ENGINE_2_FUEL_CONSUMPTION     0\n",
       "HEADING                       0\n",
       "LATITUDE                      0\n",
       "LONGITUDE                     0\n",
       "PITCH_1                       0\n",
       "PITCH_2                       0\n",
       "POWER_1                       0\n",
       "POWER_2                       0\n",
       "RATE_OF_TURN                  0\n",
       "SOG                           0\n",
       "SOG_SPEEDLOG_LONG             0\n",
       "SOG_SPEEDLOG_TRANS            0\n",
       "SPEED_1                       0\n",
       "SPEED_2                       0\n",
       "STW                           0\n",
       "THRUST_1                      0\n",
       "THRUST_2                      0\n",
       "TORQUE_1                      0\n",
       "TORQUE_2                      0\n",
       "TRACK_MADE_GOOD               0\n",
       "WIND_ANGLE                    0\n",
       "WIND_SPEED                    0\n",
       "WIND_ANGLE_TRUE               0\n",
       "WIND_SPEED_TRUE               0\n",
       "MODE                          0\n",
       "datetime                      0\n",
       "season                        0\n",
       "weekday                       0\n",
       "current                       0\n",
       "direction                     0\n",
       "temperature                   0\n",
       "humidity                      0\n",
       "pressure                      0\n",
       "precipitation                 0\n",
       "rain                          0\n",
       "snowfall                      0\n",
       "weathercode                   0\n",
       "wind_force                   96\n",
       "wind_direc                   97\n",
       "date                          0\n",
       "holiday                       0\n",
       "is_weekday                    0\n",
       "resist_ratio1                 0\n",
       "resist_ratio2                 0\n",
       "dtype: int64"
      ]
     },
     "execution_count": 62,
     "metadata": {},
     "output_type": "execute_result"
    }
   ],
   "source": [
    "pd.isna(df).sum()"
   ]
  },
  {
   "cell_type": "code",
   "execution_count": null,
   "metadata": {},
   "outputs": [],
   "source": [
    "df.to_csv(\"feature1_clean.csv\", index=False)"
   ]
  }
 ],
 "metadata": {
  "kernelspec": {
   "display_name": "base",
   "language": "python",
   "name": "python3"
  },
  "language_info": {
   "codemirror_mode": {
    "name": "ipython",
    "version": 3
   },
   "file_extension": ".py",
   "mimetype": "text/x-python",
   "name": "python",
   "nbconvert_exporter": "python",
   "pygments_lexer": "ipython3",
   "version": "3.7.6"
  },
  "orig_nbformat": 4
 },
 "nbformat": 4,
 "nbformat_minor": 2
}
