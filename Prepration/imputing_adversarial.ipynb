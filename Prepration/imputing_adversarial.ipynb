{
 "cells": [
  {
   "attachments": {},
   "cell_type": "markdown",
   "metadata": {},
   "source": [
    "In this notebook, we impute missing / outlier data and seperate normal and adversarial trips"
   ]
  },
  {
   "cell_type": "code",
   "execution_count": 139,
   "metadata": {},
   "outputs": [],
   "source": [
    "import pandas as pd\n",
    "import numpy as np\n",
    "from pykalman import KalmanFilter"
   ]
  },
  {
   "cell_type": "code",
   "execution_count": 111,
   "metadata": {},
   "outputs": [],
   "source": [
    "df = pd.read_csv(\"../../df_cleaned_location.csv\")"
   ]
  },
  {
   "cell_type": "code",
   "execution_count": 112,
   "metadata": {},
   "outputs": [],
   "source": [
    "df.drop([\"CARGO\", \"CARGO_PAX\", \"PAX\", 'TRACK_MADE_GOOD','ENGINE_1_FLOWRATEB', 'ENGINE_1_FLOWTEMPB','ENGINE_2_FLOWRATEB','ENGINE_2_FLOWTEMPB'], inplace=True, axis=1)"
   ]
  },
  {
   "cell_type": "code",
   "execution_count": 113,
   "metadata": {},
   "outputs": [],
   "source": [
    "df[\"WIND_ANGLE\"] = df[\"WIND_ANGLE\"].apply(lambda x: x-360 if x>360 else x) \n",
    "df = df[df.trip_id!=0]"
   ]
  },
  {
   "cell_type": "code",
   "execution_count": 114,
   "metadata": {},
   "outputs": [],
   "source": [
    "cols = list(df.columns)\n",
    "remove_list = [\"Dati\", \"Time\", \"HEADING\", \"LONGITUDE\", \"LATITUDE\", \"WIND_ANGLE\", \"WIND_ANGLE_TRUE\", \"WIND_SPEED\",\n",
    "               \"trip_id\", \"DEPTH\", \"PITCH_1\", \"PITCH_2\"]\n",
    "for col in remove_list:\n",
    "    cols.remove(col)"
   ]
  },
  {
   "cell_type": "code",
   "execution_count": 115,
   "metadata": {},
   "outputs": [
    {
     "name": "stdout",
     "output_type": "stream",
     "text": [
      "ENGINE_1_FLOWRATE\n",
      "15099\n",
      "\n",
      "\n",
      "ENGINE_1_FLOWRATEA\n",
      "13745\n",
      "\n",
      "\n",
      "ENGINE_1_FLOWTEMPA\n",
      "2\n",
      "\n",
      "\n",
      "ENGINE_1_FUEL_CONSUMPTION\n",
      "15173\n",
      "\n",
      "\n",
      "ENGINE_2_FLOWRATE\n",
      "14339\n",
      "\n",
      "\n",
      "ENGINE_2_FLOWRATEA\n",
      "8528\n",
      "\n",
      "\n",
      "ENGINE_2_FLOWTEMPA\n",
      "2\n",
      "\n",
      "\n",
      "ENGINE_2_FUEL_CONSUMPTION\n",
      "14298\n",
      "\n",
      "\n",
      "RATE_OF_TURN\n",
      "83064\n",
      "\n",
      "\n",
      "SOG\n",
      "43729\n",
      "\n",
      "\n",
      "SOG_SPEEDLOG_TRANS\n",
      "21373\n",
      "\n",
      "\n",
      "SPEED_1\n",
      "1\n",
      "\n",
      "\n",
      "STW\n",
      "43057\n",
      "\n",
      "\n",
      "WIND_SPEED_TRUE\n",
      "10\n",
      "\n",
      "\n"
     ]
    }
   ],
   "source": [
    "for col in cols:\n",
    "    q1 = df[col].quantile(.25)\n",
    "    q3 = df[col].quantile(.75)\n",
    "    IQR = q3 - q1\n",
    "    lower = q1 - abs(1.5 * IQR)\n",
    "    upper = q3 + abs(1.5 * IQR)\n",
    "    outlier_count = df[(df[col]<lower) | (df[col]>upper)].Dati.count()\n",
    "    if outlier_count > 0:\n",
    "        print(col)\n",
    "        print(outlier_count)\n",
    "        print(\"\\n\")"
   ]
  },
  {
   "attachments": {},
   "cell_type": "markdown",
   "metadata": {},
   "source": [
    "### flow temp\n",
    "Low flow temp happens only when SOG is low, and at a time where outside temperature could be low\n",
    "Seems reasonable"
   ]
  },
  {
   "cell_type": "code",
   "execution_count": 116,
   "metadata": {},
   "outputs": [
    {
     "data": {
      "text/html": [
       "<div>\n",
       "<style scoped>\n",
       "    .dataframe tbody tr th:only-of-type {\n",
       "        vertical-align: middle;\n",
       "    }\n",
       "\n",
       "    .dataframe tbody tr th {\n",
       "        vertical-align: top;\n",
       "    }\n",
       "\n",
       "    .dataframe thead th {\n",
       "        text-align: right;\n",
       "    }\n",
       "</style>\n",
       "<table border=\"1\" class=\"dataframe\">\n",
       "  <thead>\n",
       "    <tr style=\"text-align: right;\">\n",
       "      <th></th>\n",
       "      <th>ENGINE_1_FLOWTEMPA</th>\n",
       "      <th>ENGINE_2_FLOWTEMPA</th>\n",
       "      <th>Dati</th>\n",
       "      <th>SOG</th>\n",
       "    </tr>\n",
       "  </thead>\n",
       "  <tbody>\n",
       "    <tr>\n",
       "      <th>489390</th>\n",
       "      <td>3.6667</td>\n",
       "      <td>3.6667</td>\n",
       "      <td>210214_162700</td>\n",
       "      <td>3.4283</td>\n",
       "    </tr>\n",
       "    <tr>\n",
       "      <th>532162</th>\n",
       "      <td>10.8900</td>\n",
       "      <td>10.8450</td>\n",
       "      <td>210325_000100</td>\n",
       "      <td>8.9100</td>\n",
       "    </tr>\n",
       "  </tbody>\n",
       "</table>\n",
       "</div>"
      ],
      "text/plain": [
       "        ENGINE_1_FLOWTEMPA  ENGINE_2_FLOWTEMPA           Dati     SOG\n",
       "489390              3.6667              3.6667  210214_162700  3.4283\n",
       "532162             10.8900             10.8450  210325_000100  8.9100"
      ]
     },
     "execution_count": 116,
     "metadata": {},
     "output_type": "execute_result"
    }
   ],
   "source": [
    "col = \"ENGINE_1_FLOWTEMPA\"\n",
    "q1 = df[col].quantile(.25)\n",
    "q3 = df[col].quantile(.75)\n",
    "IQR = q3 - q1\n",
    "lower = q1 - abs(1.5 * IQR)\n",
    "upper = q3 + abs(1.5 * IQR)\n",
    "tmp = df[(df[col]<lower) | (df[col]>upper)][[\"ENGINE_1_FLOWTEMPA\", \"ENGINE_2_FLOWTEMPA\", \"Dati\", \"SOG\"]]\n",
    "tmp[tmp.SOG > 1]"
   ]
  },
  {
   "attachments": {},
   "cell_type": "markdown",
   "metadata": {},
   "source": [
    "### POWER_2\n",
    "observing from visluazation, the range for power 1 and 2 is similar, \n",
    "but power 2 has a lot of outliers. \\\n",
    "This is because power 2 has more 0's,\n",
    "(i.e. engine 2 is used less than engine 1).\\\n",
    "No need to remove these outliers"
   ]
  },
  {
   "attachments": {},
   "cell_type": "markdown",
   "metadata": {},
   "source": [
    "### RATE_OF_TURN\n",
    "outliers in rate of turn is also caused by 0 values."
   ]
  },
  {
   "attachments": {},
   "cell_type": "markdown",
   "metadata": {},
   "source": [
    "### SOG\n",
    "outliers are lower SOGs, these low speed values are reasonable to have."
   ]
  },
  {
   "cell_type": "code",
   "execution_count": 118,
   "metadata": {},
   "outputs": [
    {
     "name": "stdout",
     "output_type": "stream",
     "text": [
      "16.216749999999998 21.62995\n",
      "0.0833 21.875\n"
     ]
    }
   ],
   "source": [
    "col = \"SOG\"\n",
    "q1 = df[col].quantile(.25)\n",
    "q3 = df[col].quantile(.75)\n",
    "IQR = q3 - q1\n",
    "lower = q1 - abs(1.5 * IQR)\n",
    "upper = q3 + abs(1.5 * IQR)\n",
    "print(lower, upper)\n",
    "print(df.SOG.min(), df.SOG.max())"
   ]
  },
  {
   "attachments": {},
   "cell_type": "markdown",
   "metadata": {},
   "source": [
    "### SOG_SPEEDLOG_TRANS\n",
    "the extreme values in SOG_SPEEDLOG_TRANS seems reasonable when comparing to corresponding SOG and SOG_SPEEDLOG_LONG"
   ]
  },
  {
   "cell_type": "code",
   "execution_count": 126,
   "metadata": {},
   "outputs": [
    {
     "name": "stdout",
     "output_type": "stream",
     "text": [
      "-1.11925 1.24755\n",
      "-4.3033 4.7467\n"
     ]
    },
    {
     "data": {
      "text/html": [
       "<div>\n",
       "<style scoped>\n",
       "    .dataframe tbody tr th:only-of-type {\n",
       "        vertical-align: middle;\n",
       "    }\n",
       "\n",
       "    .dataframe tbody tr th {\n",
       "        vertical-align: top;\n",
       "    }\n",
       "\n",
       "    .dataframe thead th {\n",
       "        text-align: right;\n",
       "    }\n",
       "</style>\n",
       "<table border=\"1\" class=\"dataframe\">\n",
       "  <thead>\n",
       "    <tr style=\"text-align: right;\">\n",
       "      <th></th>\n",
       "      <th>SOG</th>\n",
       "      <th>SOG_SPEEDLOG_TRANS</th>\n",
       "      <th>SOG_SPEEDLOG_LONG</th>\n",
       "      <th>computed_SOG</th>\n",
       "      <th>SOG_squred</th>\n",
       "    </tr>\n",
       "  </thead>\n",
       "  <tbody>\n",
       "  </tbody>\n",
       "</table>\n",
       "</div>"
      ],
      "text/plain": [
       "Empty DataFrame\n",
       "Columns: [SOG, SOG_SPEEDLOG_TRANS, SOG_SPEEDLOG_LONG, computed_SOG, SOG_squred]\n",
       "Index: []"
      ]
     },
     "execution_count": 126,
     "metadata": {},
     "output_type": "execute_result"
    }
   ],
   "source": [
    "col = \"SOG_SPEEDLOG_TRANS\"\n",
    "q1 = df[col].quantile(.25)\n",
    "q3 = df[col].quantile(.75)\n",
    "IQR = q3 - q1\n",
    "lower = q1 - abs(1.5 * IQR)\n",
    "upper = q3 + abs(1.5 * IQR)\n",
    "print(lower, upper)\n",
    "print(df.SOG_SPEEDLOG_TRANS.min(), df.SOG_SPEEDLOG_TRANS.max())\n",
    "tmp[\"computed_SOG\"] = df.SOG_SPEEDLOG_TRANS**2 + df.SOG_SPEEDLOG_LONG**2\n",
    "tmp[\"SOG_squred\"] = df.SOG ** 2\n",
    "tmp[(tmp.computed_SOG - tmp.SOG_squred)>3]"
   ]
  },
  {
   "attachments": {},
   "cell_type": "markdown",
   "metadata": {},
   "source": [
    "### SPEED_1\n",
    "the extreme values in speed_1 seems unreasonable when comparing to related fields\n",
    "remove them  and impute later."
   ]
  },
  {
   "cell_type": "code",
   "execution_count": 129,
   "metadata": {},
   "outputs": [
    {
     "data": {
      "text/html": [
       "<div>\n",
       "<style scoped>\n",
       "    .dataframe tbody tr th:only-of-type {\n",
       "        vertical-align: middle;\n",
       "    }\n",
       "\n",
       "    .dataframe tbody tr th {\n",
       "        vertical-align: top;\n",
       "    }\n",
       "\n",
       "    .dataframe thead th {\n",
       "        text-align: right;\n",
       "    }\n",
       "</style>\n",
       "<table border=\"1\" class=\"dataframe\">\n",
       "  <thead>\n",
       "    <tr style=\"text-align: right;\">\n",
       "      <th></th>\n",
       "      <th>SPEED_1</th>\n",
       "      <th>SPEED_2</th>\n",
       "      <th>POWER_1</th>\n",
       "      <th>POWER_2</th>\n",
       "    </tr>\n",
       "  </thead>\n",
       "  <tbody>\n",
       "    <tr>\n",
       "      <th>168303</th>\n",
       "      <td>-1750.5303</td>\n",
       "      <td>915.1393</td>\n",
       "      <td>18.9395</td>\n",
       "      <td>1154.2505</td>\n",
       "    </tr>\n",
       "  </tbody>\n",
       "</table>\n",
       "</div>"
      ],
      "text/plain": [
       "          SPEED_1   SPEED_2  POWER_1    POWER_2\n",
       "168303 -1750.5303  915.1393  18.9395  1154.2505"
      ]
     },
     "execution_count": 129,
     "metadata": {},
     "output_type": "execute_result"
    }
   ],
   "source": [
    "col = \"SPEED_1\"\n",
    "q1 = df[col].quantile(.25)\n",
    "q3 = df[col].quantile(.75)\n",
    "IQR = q3 - q1\n",
    "lower = q1 - abs(1.5 * IQR)\n",
    "upper = q3 + abs(1.5 * IQR)\n",
    "tmp = df[(df[col]<lower) | (df[col]>upper)][[\"SPEED_1\", \"SPEED_2\", \"POWER_1\", \"POWER_2\"]]\n",
    "tmp"
   ]
  },
  {
   "cell_type": "code",
   "execution_count": 132,
   "metadata": {},
   "outputs": [],
   "source": [
    "df.loc[168303, \"SPEED_1\"] = np.nan"
   ]
  },
  {
   "attachments": {},
   "cell_type": "markdown",
   "metadata": {},
   "source": [
    "### STW\n",
    "Similar to SOG, outliers are lower STWs, these low speed values are reasonable to have."
   ]
  },
  {
   "cell_type": "code",
   "execution_count": 135,
   "metadata": {},
   "outputs": [
    {
     "name": "stdout",
     "output_type": "stream",
     "text": [
      "15.958200000000003 22.0518\n",
      "0.0367 27.72\n"
     ]
    }
   ],
   "source": [
    "col = \"STW\"\n",
    "q1 = df[col].quantile(.25)\n",
    "q3 = df[col].quantile(.75)\n",
    "IQR = q3 - q1\n",
    "lower = q1 - abs(1.5 * IQR)\n",
    "upper = q3 + abs(1.5 * IQR)\n",
    "print(lower, upper)\n",
    "print(df.STW.min(), df.STW.max())"
   ]
  },
  {
   "attachments": {},
   "cell_type": "markdown",
   "metadata": {},
   "source": [
    "### WIND_SPEED_TRUE"
   ]
  },
  {
   "cell_type": "code",
   "execution_count": 136,
   "metadata": {},
   "outputs": [
    {
     "data": {
      "text/html": [
       "<div>\n",
       "<style scoped>\n",
       "    .dataframe tbody tr th:only-of-type {\n",
       "        vertical-align: middle;\n",
       "    }\n",
       "\n",
       "    .dataframe tbody tr th {\n",
       "        vertical-align: top;\n",
       "    }\n",
       "\n",
       "    .dataframe thead th {\n",
       "        text-align: right;\n",
       "    }\n",
       "</style>\n",
       "<table border=\"1\" class=\"dataframe\">\n",
       "  <thead>\n",
       "    <tr style=\"text-align: right;\">\n",
       "      <th></th>\n",
       "      <th>WIND_SPEED</th>\n",
       "      <th>WIND_SPEED_TRUE</th>\n",
       "      <th>WIND_ANGLE</th>\n",
       "      <th>WIND_ANGLE_TRUE</th>\n",
       "    </tr>\n",
       "  </thead>\n",
       "  <tbody>\n",
       "    <tr>\n",
       "      <th>45146</th>\n",
       "      <td>57.2433</td>\n",
       "      <td>76.1710</td>\n",
       "      <td>8.0</td>\n",
       "      <td>85.8333</td>\n",
       "    </tr>\n",
       "    <tr>\n",
       "      <th>53774</th>\n",
       "      <td>57.3625</td>\n",
       "      <td>76.5931</td>\n",
       "      <td>7.0</td>\n",
       "      <td>76.0359</td>\n",
       "    </tr>\n",
       "    <tr>\n",
       "      <th>144429</th>\n",
       "      <td>62.4653</td>\n",
       "      <td>80.6130</td>\n",
       "      <td>8.0</td>\n",
       "      <td>81.0367</td>\n",
       "    </tr>\n",
       "    <tr>\n",
       "      <th>333417</th>\n",
       "      <td>59.7640</td>\n",
       "      <td>78.0139</td>\n",
       "      <td>359.0</td>\n",
       "      <td>32.0439</td>\n",
       "    </tr>\n",
       "    <tr>\n",
       "      <th>339833</th>\n",
       "      <td>61.3587</td>\n",
       "      <td>77.7006</td>\n",
       "      <td>36.0</td>\n",
       "      <td>-73.9282</td>\n",
       "    </tr>\n",
       "    <tr>\n",
       "      <th>404834</th>\n",
       "      <td>65.9267</td>\n",
       "      <td>83.8146</td>\n",
       "      <td>18.0</td>\n",
       "      <td>87.3742</td>\n",
       "    </tr>\n",
       "    <tr>\n",
       "      <th>410082</th>\n",
       "      <td>60.5967</td>\n",
       "      <td>78.6006</td>\n",
       "      <td>355.0</td>\n",
       "      <td>64.0122</td>\n",
       "    </tr>\n",
       "    <tr>\n",
       "      <th>493413</th>\n",
       "      <td>64.6753</td>\n",
       "      <td>81.5418</td>\n",
       "      <td>21.0</td>\n",
       "      <td>-86.2750</td>\n",
       "    </tr>\n",
       "    <tr>\n",
       "      <th>605420</th>\n",
       "      <td>61.2540</td>\n",
       "      <td>77.0383</td>\n",
       "      <td>31.0</td>\n",
       "      <td>-77.2211</td>\n",
       "    </tr>\n",
       "    <tr>\n",
       "      <th>727370</th>\n",
       "      <td>59.3053</td>\n",
       "      <td>77.0326</td>\n",
       "      <td>21.0</td>\n",
       "      <td>88.4293</td>\n",
       "    </tr>\n",
       "  </tbody>\n",
       "</table>\n",
       "</div>"
      ],
      "text/plain": [
       "        WIND_SPEED  WIND_SPEED_TRUE  WIND_ANGLE  WIND_ANGLE_TRUE\n",
       "45146      57.2433          76.1710         8.0          85.8333\n",
       "53774      57.3625          76.5931         7.0          76.0359\n",
       "144429     62.4653          80.6130         8.0          81.0367\n",
       "333417     59.7640          78.0139       359.0          32.0439\n",
       "339833     61.3587          77.7006        36.0         -73.9282\n",
       "404834     65.9267          83.8146        18.0          87.3742\n",
       "410082     60.5967          78.6006       355.0          64.0122\n",
       "493413     64.6753          81.5418        21.0         -86.2750\n",
       "605420     61.2540          77.0383        31.0         -77.2211\n",
       "727370     59.3053          77.0326        21.0          88.4293"
      ]
     },
     "execution_count": 136,
     "metadata": {},
     "output_type": "execute_result"
    }
   ],
   "source": [
    "col = \"WIND_SPEED_TRUE\"\n",
    "q1 = df[col].quantile(.25)\n",
    "q3 = df[col].quantile(.75)\n",
    "IQR = q3 - q1\n",
    "lower = q1 - abs(1.5 * IQR)\n",
    "upper = q3 + abs(1.5 * IQR)\n",
    "tmp = df[(df[col]<lower) | (df[col]>upper)][[\"WIND_SPEED\", \"WIND_SPEED_TRUE\", \"WIND_ANGLE\", \"WIND_ANGLE_TRUE\"]]\n",
    "tmp"
   ]
  },
  {
   "cell_type": "code",
   "execution_count": 138,
   "metadata": {},
   "outputs": [],
   "source": [
    "outlier_indexes = list(tmp.index)\n",
    "for index in outlier_indexes:\n",
    "    df.loc[index, \"WIND_SPEED\"] = np.nan\n",
    "    df.loc[index, \"WIND_SPEED_TRUE\"] = np.nan"
   ]
  },
  {
   "cell_type": "code",
   "execution_count": 140,
   "metadata": {},
   "outputs": [],
   "source": [
    "df = df.to_csv(\"../../df_outlier_removed.csv\", index=False)"
   ]
  },
  {
   "cell_type": "code",
   "execution_count": 141,
   "metadata": {},
   "outputs": [],
   "source": [
    "# kalman filter to impute missing values\n",
    "def impute_missing_values(data, transition_matrices, observation_matrices, transition_covariance,\n",
    "                          observation_covariance, initial_state_mean, initial_state_covariance):\n",
    "    kf = KalmanFilter(transition_matrices=transition_matrices,\n",
    "                      observation_matrices=observation_matrices,\n",
    "                      transition_covariance=transition_covariance,\n",
    "                      observation_covariance=observation_covariance,\n",
    "                      initial_state_mean=initial_state_mean,\n",
    "                      initial_state_covariance=initial_state_covariance)\n",
    "    \n",
    "    # Create a mask indicating missing values\n",
    "    mask = np.isnan(data)\n",
    "    filtered_state_means, _ = kf.filter(data)\n",
    "    \n",
    "    # Replace missing values with imputed values\n",
    "    imputed_data = data.copy()\n",
    "    imputed_data[mask] = filtered_state_means[mask]\n",
    "    \n",
    "    return imputed_data"
   ]
  },
  {
   "cell_type": "code",
   "execution_count": null,
   "metadata": {},
   "outputs": [],
   "source": []
  }
 ],
 "metadata": {
  "kernelspec": {
   "display_name": "base",
   "language": "python",
   "name": "python3"
  },
  "language_info": {
   "codemirror_mode": {
    "name": "ipython",
    "version": 3
   },
   "file_extension": ".py",
   "mimetype": "text/x-python",
   "name": "python",
   "nbconvert_exporter": "python",
   "pygments_lexer": "ipython3",
   "version": "3.7.6"
  },
  "orig_nbformat": 4
 },
 "nbformat": 4,
 "nbformat_minor": 2
}
