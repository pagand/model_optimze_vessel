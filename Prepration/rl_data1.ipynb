{
 "cells": [
  {
   "cell_type": "code",
   "execution_count": 8,
   "metadata": {},
   "outputs": [],
   "source": [
    "import pandas as pd\n",
    "import numpy as np\n",
    "import pickle\n",
    "from sklearn.preprocessing import MinMaxScaler"
   ]
  },
  {
   "cell_type": "code",
   "execution_count": 67,
   "metadata": {},
   "outputs": [
    {
     "data": {
      "text/plain": [
       "Index(['Dati', 'Time', 'DEPTH', 'ENGINE_1_FLOWTEMPA',\n",
       "       'ENGINE_1_FUEL_CONSUMPTION', 'ENGINE_2_FLOWTEMPA',\n",
       "       'ENGINE_2_FUEL_CONSUMPTION', 'HEADING', 'LATITUDE', 'LONGITUDE',\n",
       "       'PITCH_1', 'PITCH_2', 'POWER_1', 'POWER_2', 'SOG', 'SOG_SPEEDLOG_LONG',\n",
       "       'SOG_SPEEDLOG_TRANS', 'SPEED_1', 'SPEED_2', 'STW', 'THRUST_1',\n",
       "       'THRUST_2', 'TORQUE_1', 'TORQUE_2', 'WIND_ANGLE', 'WIND_SPEED',\n",
       "       'WIND_ANGLE_TRUE', 'WIND_SPEED_TRUE', 'trip_id', 'MODE', 'datetime',\n",
       "       'season', 'weekday', 'current', 'direction', 'pressure', 'rain',\n",
       "       'snowfall', 'weathercode', 'is_weekday', 'wind_force', 'wind_direc',\n",
       "       'effective_wind_factor', 'effective_wind', 'resist_ratio1',\n",
       "       'resist_ratio2', 'adversarial'],\n",
       "      dtype='object')"
      ]
     },
     "execution_count": 67,
     "metadata": {},
     "output_type": "execute_result"
    }
   ],
   "source": [
    "df = pd.read_csv(\"../../feature1.csv\")\n",
    "# df.columns"
   ]
  },
  {
   "cell_type": "code",
   "execution_count": 68,
   "metadata": {},
   "outputs": [],
   "source": [
    "df[\"direction\"] = df[\"direction\"].apply(lambda x: 1 if x==\"N-H\" else 0)\n",
    "df[\"MODE\"] = df[\"MODE\"].apply(lambda x: x-1)\n",
    "# df = df[df[\"adversarial\"]==0].drop(\"adversarial\", axis=1)\n",
    "# df = df[df[\"direction\"]==1].drop(\"direction\", axis=1)\n",
    "df[\"Time2\"] = df.groupby(\"trip_id\")[\"Time\"].rank(method=\"first\", ascending=True)\n",
    "df[\"is_weekday\"] = df[\"is_weekday\"].apply(lambda x: 1 if x==True else 0)\n",
    "\n",
    "df[\"change_x_factor\"] = np.cos((df.HEADING+90) * np.pi / 180)\n",
    "df[\"change_y_factor\"] = np.sin((df.HEADING-90) * np.pi / 180)\n",
    "df[\"goal_long\"] = df.direction.apply(lambda x: 0.9965111208024382 if x==1 else 0.0023259194650222526)\n",
    "df[\"goal_lat\"] = df.direction.apply(lambda x: 0.7729570345408661 if x==1 else 0)\n",
    "df[\"prev_HEADING\"] = df.HEADING.shift(periods=1)\n",
    "df[\"turn\"] = df.HEADING - df.prev_HEADING"
   ]
  },
  {
   "cell_type": "code",
   "execution_count": 69,
   "metadata": {},
   "outputs": [],
   "source": [
    "df[\"POWER\"] = (df[\"POWER_1\"]+df[\"POWER_2\"])/2\n",
    "df[\"SPEED\"] = (df[\"SPEED_1\"]+df[\"SPEED_2\"])/2\n",
    "df[\"THRUST\"] = (df[\"THRUST_1\"]+df[\"THRUST_2\"])/2\n",
    "df[\"TORQUE\"] = (df[\"TORQUE_1\"]+df[\"TORQUE_2\"])/2\n",
    "df[\"PITCH\"] = (df[\"PITCH_1\"]+df[\"PITCH_2\"])/2\n",
    "df[\"resist_ratio\"] = (df[\"resist_ratio1\"]+df[\"resist_ratio2\"])/2\n",
    "df[\"FLOWTEMPA\"] = (df[\"ENGINE_1_FLOWTEMPA\"]+df[\"ENGINE_2_FLOWTEMPA\"])/2\n",
    "df[\"FC\"] = (df[\"ENGINE_1_FUEL_CONSUMPTION\"]+df[\"ENGINE_2_FUEL_CONSUMPTION\"])/2\n",
    "\n",
    "df = df.drop(['PITCH_1', 'PITCH_2', 'POWER_1', 'POWER_2', 'SOG_SPEEDLOG_LONG',\n",
    "       'SOG_SPEEDLOG_TRANS',  'THRUST_1',\n",
    "       'THRUST_2', 'TORQUE_1', 'TORQUE_2', 'datetime',\n",
    "       'resist_ratio1', 'resist_ratio2', 'SPEED_1', 'SPEED_2',\n",
    "       'ENGINE_1_FLOWTEMPA', 'ENGINE_2_FLOWTEMPA',\n",
    "       \"ENGINE_1_FUEL_CONSUMPTION\", \"ENGINE_2_FUEL_CONSUMPTION\"], axis=1)\n"
   ]
  },
  {
   "cell_type": "code",
   "execution_count": null,
   "metadata": {},
   "outputs": [],
   "source": [
    "df[\"dt\"] = pd.to_datetime(df.Dati, format='%y%m%d_%H%M%S')\n",
    "df[\"hour\"] = df.dt.apply(lambda x: x.hour/24)"
   ]
  },
  {
   "cell_type": "code",
   "execution_count": 70,
   "metadata": {},
   "outputs": [],
   "source": [
    "# get one_hot for column\n",
    "def one_hot(df, cols, normalize = True):\n",
    "    for col in cols:\n",
    "        dummy = pd.get_dummies(df[col],prefix=col, drop_first=True)\n",
    "        columns = dummy.columns\n",
    "        dummy[col] = 0\n",
    "        i = 1\n",
    "        for x in columns:\n",
    "            # dummy[\"tmp\"] = dummy[col]\n",
    "            dummy[col] = dummy[col] + dummy[x]*i\n",
    "            i = i*2\n",
    "        max = dummy[col].max()\n",
    "        if normalize:\n",
    "            df[col] = dummy[col] / max\n",
    "        else:\n",
    "            df[col] = dummy[col]\n",
    "    return df"
   ]
  },
  {
   "cell_type": "code",
   "execution_count": 71,
   "metadata": {},
   "outputs": [],
   "source": [
    "minmax_scaler = MinMaxScaler((0,1))\n",
    "\n",
    "transform_cols = [ 'current', 'rain', 'snowfall', \"pressure\", 'wind_force', \"resist_ratio\",\n",
    "       'FC', \"LATITUDE\", 'LONGITUDE', 'SOG', \"DEPTH\", \"SPEED\"]\n",
    "minmax_scaler = minmax_scaler.fit(df[transform_cols].values)\n",
    "import pickle\n",
    "pickle.dump(minmax_scaler, open('minmax_scaler.pkl', 'wb'))\n",
    "df[transform_cols] = minmax_scaler.transform(df[transform_cols])\n",
    "# df[transform_cols] = scaler2.fit_transform(df[transform_cols])\n",
    "# df[[\"FC\", \"SOG\", \"SPEED\"]] = df[[\"FC\", \"SOG\", \"SPEED\"]].apply(lambda x: x**2)\n",
    "# transform_cols\n",
    "df[[\"FC2\"]] = df[[\"FC\"]].apply(lambda x: x**2)\n",
    "df[[\"SOG4\"]] = df[[\"SOG\"]].apply(lambda x: x**4)\n",
    "\n",
    "df[\"prev_SOG\"] = df.SOG.shift(periods=1)\n",
    "df[\"acceleration\"] = ((df.SOG - df.prev_SOG))\n",
    "df[\"distance\"] = ((df[\"goal_long\"]-df[\"LONGITUDE\"])**2 + \\\n",
    "                             (df[\"goal_lat\"]-df[\"LATITUDE\"])**2 )**0.5\n",
    "\n",
    "df[\"disp_x\"] = df[\"change_x_factor\"] * df[\"SOG\"]\n",
    "df[\"disp_y\"] = df[\"change_y_factor\"] * df[\"SOG\"]\n",
    "\n",
    "df = one_hot(df, [\"season\", \"weathercode\", \"wind_direc\"], normalize = True)\n",
    "df = df[df[\"adversarial\"]==0]"
   ]
  },
  {
   "cell_type": "code",
   "execution_count": 73,
   "metadata": {},
   "outputs": [],
   "source": [
    "# H-N\n",
    "d1 = df[df.direction==1][[\"LONGITUDE\", \"LATITUDE\",\"FC\", \"trip_id\"]] # h-n\n",
    "d2 = df[df.direction==0][[\"LONGITUDE\", \"LATITUDE\",\"FC\", \"trip_id\"]] # n-h\n",
    "\n",
    "# get the avg location of the top 1 percent trip\n",
    "def get_top1_location(d1):\n",
    "    total = d1.trip_id.nunique() // 100\n",
    "    top_1_trips = list(d1.groupby(\"trip_id\").FC.sum().sort_values()[:total].index)\n",
    "    i = top_1_trips.pop(0)\n",
    "    hn_top = d1[d1.trip_id==i].reset_index(drop=True)\n",
    "    if (len(hn_top) < 200):\n",
    "        for j in range(200-len(hn_top)):\n",
    "            hn_top = hn_top.append(hn_top.tail(1)).reset_index(drop=True)\n",
    "    for i in top_1_trips:\n",
    "        tmp_df2 = df[df.trip_id==i].reset_index(drop=True)\n",
    "        if (len(tmp_df2) < 200):\n",
    "            for j in range(200-len(tmp_df2)):\n",
    "                tmp_df2 = tmp_df2.append(tmp_df2.tail(1)).reset_index(drop=True)\n",
    "        hn_top[\"LONGITUDE\"] = hn_top.LONGITUDE + tmp_df2.LONGITUDE\n",
    "        hn_top[\"LATITUDE\"] = hn_top.LATITUDE + tmp_df2.LATITUDE\n",
    "    hn_top[\"LONGITUDE\"] = hn_top[\"LONGITUDE\"]/(len(top_1_trips)+1)\n",
    "    hn_top[\"LATITUDE\"] = hn_top[\"LATITUDE\"]/(len(top_1_trips)+1)\n",
    "    return hn_top[[\"LONGITUDE\", \"LATITUDE\"]]"
   ]
  },
  {
   "cell_type": "code",
   "execution_count": 74,
   "metadata": {},
   "outputs": [],
   "source": [
    "hn_top = get_top1_location(d1)\n",
    "nh_top = get_top1_location(d2)\n",
    "\n",
    "hn_top.to_csv(\"H2N_top1.csv\", index=False)\n",
    "nh_top.to_csv(\"N2H_top1.csv\", index=False)"
   ]
  },
  {
   "cell_type": "code",
   "execution_count": null,
   "metadata": {},
   "outputs": [],
   "source": [
    "hn_top = pd.read_csv(\"H2N_top1.csv\")\n",
    "nh_top = pd.read_csv(\"N2H_top1.csv\")"
   ]
  },
  {
   "cell_type": "code",
   "execution_count": null,
   "metadata": {},
   "outputs": [],
   "source": [
    "hn_top_np = np.zeros((len(hn_top), 18))\n",
    "hn_top_np[:,13] = hn_top[\"LATITUDE\"]\n",
    "hn_top_np[:,14] = hn_top[\"LONGITUDE\"]\n",
    "hn_top_np = minmax_scaler.transform(hn_top_np)\n",
    "hn_top[\"LATITUDE\"] = hn_top_np[:,13]\n",
    "hn_top[\"LONGITUDE\"] = hn_top_np[:,14]\n",
    "\n",
    "nh_top_np = np.zeros((len(nh_top), 18))\n",
    "nh_top_np[:,13] = nh_top[\"LATITUDE\"]\n",
    "nh_top_np[:,14] = nh_top[\"LONGITUDE\"]\n",
    "nh_top_np = minmax_scaler.transform(nh_top_np)\n",
    "nh_top[\"LATITUDE\"] = nh_top_np[:,13]\n",
    "nh_top[\"LONGITUDE\"] = nh_top_np[:,14]\n",
    "nh_top"
   ]
  },
  {
   "cell_type": "code",
   "execution_count": 79,
   "metadata": {},
   "outputs": [],
   "source": [
    "def get_observations(df, feature_cols = [\"Time2\", \"turn\", \"acceleration\",\n",
    "       'change_x_factor', 'change_y_factor', \"distance\",\n",
    "       'current', 'rain', 'snowfall', 'wind_force', 'wind_direc', \"resist_ratio\",\n",
    "       \"is_weekday\", 'direction', \"season\", \"hour\", \n",
    "       \"FC\", \"SOG\", \"LATITUDE\", 'LONGITUDE',\n",
    "       ], \n",
    "       action_cols = [\"SPEED\", \"HEADING\", \"MODE\"]):\n",
    "    # df = df.fillna(0)\n",
    "    \n",
    "    features = df.copy()\n",
    "\n",
    "    rewards_col = [\"trip_id\", \"LONGITUDE\", \"LATITUDE\", \"direction\", \"goal_long\", \"goal_lat\"]\n",
    "    rewards_df = features[rewards_col]\n",
    "    # apply minmax scaler for fuel consumption to get reward 2\n",
    "    rewards_df[\"reward2\"] = - features[[\"FC\"]]\n",
    "\n",
    "    dataset_list = []\n",
    "    for i in list(df.trip_id.unique()):\n",
    "        data_dict = {}\n",
    "        # observations\n",
    "        observation = features[features.trip_id==i].drop(\"trip_id\", axis=1)[feature_cols]\n",
    "        observation = observation.to_numpy().astype(float)\n",
    "        data_dict[\"observations\"] = observation\n",
    "\n",
    "        # next_observations\n",
    "        observation = np.delete(observation, 0, 0)\n",
    "        last = observation[-1]\n",
    "        observation = np.vstack([observation, last])\n",
    "        data_dict[\"next_observations\"] = observation\n",
    "\n",
    "        # actions \n",
    "        # print(i)\n",
    "        actions = features[features.trip_id==i].drop(\"trip_id\", axis=1)[action_cols]\n",
    "        # actions = actions.drop(\"trip_id\", axis=1)\n",
    "        data_dict[\"actions\"] = actions.to_numpy().astype(float)\n",
    "\n",
    "        # rewards\n",
    "        rewards = rewards_df[rewards_df.trip_id==i].reset_index()\n",
    "        rewards\n",
    "        # reward1 distance to top 1\n",
    "        trip_len = rewards.shape[0]\n",
    "        if rewards.loc[0,\"direction\"]==1:\n",
    "            top1 = hn_top.iloc[:trip_len]\n",
    "        else:\n",
    "            top1 = nh_top.iloc[:trip_len]\n",
    "        rewards[\"reward1\"] = - ((rewards[\"LONGITUDE\"]-top1[\"LONGITUDE\"])**2 + \\\n",
    "                             (rewards[\"LATITUDE\"]-top1[\"LATITUDE\"])**2 )**0.5\n",
    "        rewards[\"reward1\"].apply(lambda x: 0 if x > -0.05 else x)\n",
    "        rewards[\"reward1\"] = rewards[\"reward1\"] * 10\n",
    "        # reward2 fc consumption an ddone reward\n",
    "        rewards.loc[len(rewards)-1,\"reward2\"] = rewards.loc[len(rewards)-1,\"reward2\"]+3\n",
    "        # reward3 mimic reward\n",
    "        rewards[\"reward3\"] = 0\n",
    "        # rewards4 time out reward\n",
    "        rewards[\"Time\"] = rewards.index\n",
    "        rewards.reset_index(inplace=True)\n",
    "        rewards[\"reward4\"] = rewards[\"Time\"].apply(lambda x: -0.1*((x-90)//10) if x > 100 else 0)\n",
    "\n",
    "        data_dict[\"rewards\"] = (rewards[[\"reward1\",\"reward2\", \"reward3\", \"reward4\"]]).to_numpy()\n",
    "\n",
    "        # termination\n",
    "        termination = np.zeros([observation.shape[0],1])\n",
    "        termination[-1,0] = 1\n",
    "        data_dict[\"termination\"] = termination\n",
    "\n",
    "        dataset_list.append(data_dict)\n",
    "    return dataset_list"
   ]
  },
  {
   "cell_type": "code",
   "execution_count": 55,
   "metadata": {},
   "outputs": [
    {
     "data": {
      "text/plain": [
       "0.0"
      ]
     },
     "execution_count": 55,
     "metadata": {},
     "output_type": "execute_result"
    }
   ],
   "source": [
    "rl_data = get_observations(df)\n",
    "with open('rl_data.pkl', 'wb') as handle:\n",
    "    pickle.dump(rl_data,handle)"
   ]
  }
 ],
 "metadata": {
  "kernelspec": {
   "display_name": "base",
   "language": "python",
   "name": "python3"
  },
  "language_info": {
   "codemirror_mode": {
    "name": "ipython",
    "version": 3
   },
   "file_extension": ".py",
   "mimetype": "text/x-python",
   "name": "python",
   "nbconvert_exporter": "python",
   "pygments_lexer": "ipython3",
   "version": "3.7.6"
  },
  "orig_nbformat": 4
 },
 "nbformat": 4,
 "nbformat_minor": 2
}
