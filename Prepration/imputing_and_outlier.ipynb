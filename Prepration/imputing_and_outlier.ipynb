{
 "cells": [
  {
   "attachments": {},
   "cell_type": "markdown",
   "metadata": {},
   "source": [
    "In this notebook, we impute missing / outlier data and seperate normal and adversarial trips"
   ]
  },
  {
   "cell_type": "code",
   "execution_count": 1,
   "metadata": {},
   "outputs": [],
   "source": [
    "import pandas as pd\n",
    "import numpy as np\n",
    "import datetime\n",
    "from pykalman import KalmanFilter"
   ]
  },
  {
   "cell_type": "code",
   "execution_count": 2,
   "metadata": {},
   "outputs": [],
   "source": [
    "df = pd.read_csv(\"../../df_cleaned_location.csv\")"
   ]
  },
  {
   "cell_type": "code",
   "execution_count": 3,
   "metadata": {},
   "outputs": [],
   "source": [
    "df.drop([\"CARGO\", \"CARGO_PAX\", \"PAX\", 'TRACK_MADE_GOOD', \n",
    "        'ENGINE_1_FLOWRATE', 'ENGINE_1_FLOWRATEA', 'ENGINE_1_FLOWRATEB', 'ENGINE_1_FLOWTEMPB',\n",
    "        'ENGINE_2_FLOWRATE', 'ENGINE_2_FLOWRATEA', 'ENGINE_2_FLOWRATEB','ENGINE_2_FLOWTEMPB'\n",
    "        ], inplace=True, axis=1)"
   ]
  },
  {
   "cell_type": "code",
   "execution_count": 4,
   "metadata": {},
   "outputs": [],
   "source": [
    "df[\"WIND_ANGLE\"] = df[\"WIND_ANGLE\"].apply(lambda x: x-360 if x>360 else x) \n",
    "df = df[df.trip_id!=0]"
   ]
  },
  {
   "cell_type": "code",
   "execution_count": 5,
   "metadata": {},
   "outputs": [],
   "source": [
    "cols = list(df.columns)\n",
    "remove_list = [\"Dati\", \"Time\", \"HEADING\", \"LONGITUDE\", \"LATITUDE\", \"WIND_ANGLE\", \"WIND_ANGLE_TRUE\", \"WIND_SPEED\",\n",
    "               \"trip_id\", \"DEPTH\", \"PITCH_1\", \"PITCH_2\"]\n",
    "for col in remove_list:\n",
    "    cols.remove(col)"
   ]
  },
  {
   "cell_type": "code",
   "execution_count": 6,
   "metadata": {},
   "outputs": [
    {
     "name": "stdout",
     "output_type": "stream",
     "text": [
      "ENGINE_1_FLOWTEMPA\n",
      "2\n",
      "\n",
      "\n",
      "ENGINE_1_FUEL_CONSUMPTION\n",
      "15173\n",
      "\n",
      "\n",
      "ENGINE_2_FLOWTEMPA\n",
      "2\n",
      "\n",
      "\n",
      "ENGINE_2_FUEL_CONSUMPTION\n",
      "14298\n",
      "\n",
      "\n",
      "RATE_OF_TURN\n",
      "83064\n",
      "\n",
      "\n",
      "SOG\n",
      "43729\n",
      "\n",
      "\n",
      "SOG_SPEEDLOG_TRANS\n",
      "21373\n",
      "\n",
      "\n",
      "SPEED_1\n",
      "1\n",
      "\n",
      "\n",
      "STW\n",
      "43057\n",
      "\n",
      "\n",
      "WIND_SPEED_TRUE\n",
      "10\n",
      "\n",
      "\n"
     ]
    }
   ],
   "source": [
    "for col in cols:\n",
    "    q1 = df[col].quantile(.25)\n",
    "    q3 = df[col].quantile(.75)\n",
    "    IQR = q3 - q1\n",
    "    lower = q1 - abs(1.5 * IQR)\n",
    "    upper = q3 + abs(1.5 * IQR)\n",
    "    outlier_count = df[(df[col]<lower) | (df[col]>upper)].Dati.count()\n",
    "    if outlier_count > 0:\n",
    "        print(col)\n",
    "        print(outlier_count)\n",
    "        print(\"\\n\")"
   ]
  },
  {
   "attachments": {},
   "cell_type": "markdown",
   "metadata": {},
   "source": [
    "### flow temp\n",
    "Low flow temp happens only when SOG is low, and at a time where outside temperature could be low\n",
    "Seems reasonable"
   ]
  },
  {
   "cell_type": "code",
   "execution_count": 116,
   "metadata": {},
   "outputs": [
    {
     "data": {
      "text/html": [
       "<div>\n",
       "<style scoped>\n",
       "    .dataframe tbody tr th:only-of-type {\n",
       "        vertical-align: middle;\n",
       "    }\n",
       "\n",
       "    .dataframe tbody tr th {\n",
       "        vertical-align: top;\n",
       "    }\n",
       "\n",
       "    .dataframe thead th {\n",
       "        text-align: right;\n",
       "    }\n",
       "</style>\n",
       "<table border=\"1\" class=\"dataframe\">\n",
       "  <thead>\n",
       "    <tr style=\"text-align: right;\">\n",
       "      <th></th>\n",
       "      <th>ENGINE_1_FLOWTEMPA</th>\n",
       "      <th>ENGINE_2_FLOWTEMPA</th>\n",
       "      <th>Dati</th>\n",
       "      <th>SOG</th>\n",
       "    </tr>\n",
       "  </thead>\n",
       "  <tbody>\n",
       "    <tr>\n",
       "      <th>489390</th>\n",
       "      <td>3.6667</td>\n",
       "      <td>3.6667</td>\n",
       "      <td>210214_162700</td>\n",
       "      <td>3.4283</td>\n",
       "    </tr>\n",
       "    <tr>\n",
       "      <th>532162</th>\n",
       "      <td>10.8900</td>\n",
       "      <td>10.8450</td>\n",
       "      <td>210325_000100</td>\n",
       "      <td>8.9100</td>\n",
       "    </tr>\n",
       "  </tbody>\n",
       "</table>\n",
       "</div>"
      ],
      "text/plain": [
       "        ENGINE_1_FLOWTEMPA  ENGINE_2_FLOWTEMPA           Dati     SOG\n",
       "489390              3.6667              3.6667  210214_162700  3.4283\n",
       "532162             10.8900             10.8450  210325_000100  8.9100"
      ]
     },
     "execution_count": 116,
     "metadata": {},
     "output_type": "execute_result"
    }
   ],
   "source": [
    "col = \"ENGINE_1_FLOWTEMPA\"\n",
    "q1 = df[col].quantile(.25)\n",
    "q3 = df[col].quantile(.75)\n",
    "IQR = q3 - q1\n",
    "lower = q1 - abs(1.5 * IQR)\n",
    "upper = q3 + abs(1.5 * IQR)\n",
    "tmp = df[(df[col]<lower) | (df[col]>upper)][[\"ENGINE_1_FLOWTEMPA\", \"ENGINE_2_FLOWTEMPA\", \"Dati\", \"SOG\"]]\n",
    "tmp[tmp.SOG > 1]"
   ]
  },
  {
   "attachments": {},
   "cell_type": "markdown",
   "metadata": {},
   "source": [
    "### Fuel Consumption"
   ]
  },
  {
   "cell_type": "code",
   "execution_count": 7,
   "metadata": {},
   "outputs": [
    {
     "name": "stdout",
     "output_type": "stream",
     "text": [
      "178.62380000000007 527.164625 705.7884250000001 973.7241250000002 259.2289249999999\n"
     ]
    },
    {
     "data": {
      "text/html": [
       "<div>\n",
       "<style scoped>\n",
       "    .dataframe tbody tr th:only-of-type {\n",
       "        vertical-align: middle;\n",
       "    }\n",
       "\n",
       "    .dataframe tbody tr th {\n",
       "        vertical-align: top;\n",
       "    }\n",
       "\n",
       "    .dataframe thead th {\n",
       "        text-align: right;\n",
       "    }\n",
       "</style>\n",
       "<table border=\"1\" class=\"dataframe\">\n",
       "  <thead>\n",
       "    <tr style=\"text-align: right;\">\n",
       "      <th></th>\n",
       "      <th>ENGINE_1_FUEL_CONSUMPTION</th>\n",
       "      <th>ENGINE_2_FUEL_CONSUMPTION</th>\n",
       "      <th>POWER_1</th>\n",
       "      <th>POWER_2</th>\n",
       "      <th>SOG</th>\n",
       "      <th>trip_id</th>\n",
       "    </tr>\n",
       "  </thead>\n",
       "  <tbody>\n",
       "    <tr>\n",
       "      <th>117</th>\n",
       "      <td>214.7655</td>\n",
       "      <td>192.6335</td>\n",
       "      <td>1620.2786</td>\n",
       "      <td>0.0</td>\n",
       "      <td>14.7350</td>\n",
       "      <td>2</td>\n",
       "    </tr>\n",
       "    <tr>\n",
       "      <th>129</th>\n",
       "      <td>136.5040</td>\n",
       "      <td>214.6156</td>\n",
       "      <td>964.0048</td>\n",
       "      <td>0.0</td>\n",
       "      <td>9.6150</td>\n",
       "      <td>2</td>\n",
       "    </tr>\n",
       "    <tr>\n",
       "      <th>138</th>\n",
       "      <td>199.5683</td>\n",
       "      <td>255.4101</td>\n",
       "      <td>849.7327</td>\n",
       "      <td>0.0</td>\n",
       "      <td>10.0000</td>\n",
       "      <td>2</td>\n",
       "    </tr>\n",
       "    <tr>\n",
       "      <th>139</th>\n",
       "      <td>221.0089</td>\n",
       "      <td>266.7087</td>\n",
       "      <td>1089.2406</td>\n",
       "      <td>0.0</td>\n",
       "      <td>7.6033</td>\n",
       "      <td>2</td>\n",
       "    </tr>\n",
       "    <tr>\n",
       "      <th>142</th>\n",
       "      <td>150.0446</td>\n",
       "      <td>224.0237</td>\n",
       "      <td>465.7655</td>\n",
       "      <td>0.0</td>\n",
       "      <td>7.7917</td>\n",
       "      <td>2</td>\n",
       "    </tr>\n",
       "    <tr>\n",
       "      <th>...</th>\n",
       "      <td>...</td>\n",
       "      <td>...</td>\n",
       "      <td>...</td>\n",
       "      <td>...</td>\n",
       "      <td>...</td>\n",
       "      <td>...</td>\n",
       "    </tr>\n",
       "    <tr>\n",
       "      <th>748044</th>\n",
       "      <td>140.5518</td>\n",
       "      <td>174.0472</td>\n",
       "      <td>538.6257</td>\n",
       "      <td>0.0</td>\n",
       "      <td>5.9700</td>\n",
       "      <td>4076</td>\n",
       "    </tr>\n",
       "    <tr>\n",
       "      <th>748184</th>\n",
       "      <td>182.1317</td>\n",
       "      <td>241.1633</td>\n",
       "      <td>1065.5867</td>\n",
       "      <td>0.0</td>\n",
       "      <td>11.4167</td>\n",
       "      <td>4078</td>\n",
       "    </tr>\n",
       "    <tr>\n",
       "      <th>748185</th>\n",
       "      <td>137.1337</td>\n",
       "      <td>197.7321</td>\n",
       "      <td>655.3271</td>\n",
       "      <td>0.0</td>\n",
       "      <td>7.1917</td>\n",
       "      <td>4078</td>\n",
       "    </tr>\n",
       "    <tr>\n",
       "      <th>748704</th>\n",
       "      <td>182.9075</td>\n",
       "      <td>250.7701</td>\n",
       "      <td>707.5318</td>\n",
       "      <td>0.0</td>\n",
       "      <td>8.4533</td>\n",
       "      <td>4080</td>\n",
       "    </tr>\n",
       "    <tr>\n",
       "      <th>748882</th>\n",
       "      <td>182.8802</td>\n",
       "      <td>253.8338</td>\n",
       "      <td>557.0322</td>\n",
       "      <td>0.0</td>\n",
       "      <td>10.2017</td>\n",
       "      <td>4082</td>\n",
       "    </tr>\n",
       "  </tbody>\n",
       "</table>\n",
       "<p>15173 rows × 6 columns</p>\n",
       "</div>"
      ],
      "text/plain": [
       "        ENGINE_1_FUEL_CONSUMPTION  ENGINE_2_FUEL_CONSUMPTION    POWER_1  \\\n",
       "117                      214.7655                   192.6335  1620.2786   \n",
       "129                      136.5040                   214.6156   964.0048   \n",
       "138                      199.5683                   255.4101   849.7327   \n",
       "139                      221.0089                   266.7087  1089.2406   \n",
       "142                      150.0446                   224.0237   465.7655   \n",
       "...                           ...                        ...        ...   \n",
       "748044                   140.5518                   174.0472   538.6257   \n",
       "748184                   182.1317                   241.1633  1065.5867   \n",
       "748185                   137.1337                   197.7321   655.3271   \n",
       "748704                   182.9075                   250.7701   707.5318   \n",
       "748882                   182.8802                   253.8338   557.0322   \n",
       "\n",
       "        POWER_2      SOG  trip_id  \n",
       "117         0.0  14.7350        2  \n",
       "129         0.0   9.6150        2  \n",
       "138         0.0  10.0000        2  \n",
       "139         0.0   7.6033        2  \n",
       "142         0.0   7.7917        2  \n",
       "...         ...      ...      ...  \n",
       "748044      0.0   5.9700     4076  \n",
       "748184      0.0  11.4167     4078  \n",
       "748185      0.0   7.1917     4078  \n",
       "748704      0.0   8.4533     4080  \n",
       "748882      0.0  10.2017     4082  \n",
       "\n",
       "[15173 rows x 6 columns]"
      ]
     },
     "execution_count": 7,
     "metadata": {},
     "output_type": "execute_result"
    }
   ],
   "source": [
    "col = \"ENGINE_1_FUEL_CONSUMPTION\"\n",
    "q1 = df[col].quantile(.25)\n",
    "q3 = df[col].quantile(.75)\n",
    "IQR = q3 - q1\n",
    "lower = q1 - abs(1.5 * IQR)\n",
    "upper = q3 + abs(1.5 * IQR)\n",
    "tmp = df[(df[col]<lower) | (df[col]>upper)]\n",
    "print(IQR, q1, q3, upper, lower)\n",
    "tmp[[\"ENGINE_1_FUEL_CONSUMPTION\", \"ENGINE_2_FUEL_CONSUMPTION\", \"POWER_1\", \"POWER_2\", \"SOG\", \"trip_id\"]]"
   ]
  },
  {
   "attachments": {},
   "cell_type": "markdown",
   "metadata": {},
   "source": [
    "### POWER_2\n",
    "observing from visluazation, the range for power 1 and 2 is similar, \n",
    "but power 2 has a lot of outliers. \\\n",
    "This is because power 2 has more 0's,\n",
    "(i.e. engine 2 is used less than engine 1).\\\n",
    "No need to remove these outliers"
   ]
  },
  {
   "attachments": {},
   "cell_type": "markdown",
   "metadata": {},
   "source": [
    "### RATE_OF_TURN\n",
    "outliers in rate of turn is also caused by 0 values. \\\n",
    "Inaccurate 0's, drop rate of turn."
   ]
  },
  {
   "cell_type": "code",
   "execution_count": 5,
   "metadata": {},
   "outputs": [
    {
     "data": {
      "text/html": [
       "<div>\n",
       "<style scoped>\n",
       "    .dataframe tbody tr th:only-of-type {\n",
       "        vertical-align: middle;\n",
       "    }\n",
       "\n",
       "    .dataframe tbody tr th {\n",
       "        vertical-align: top;\n",
       "    }\n",
       "\n",
       "    .dataframe thead th {\n",
       "        text-align: right;\n",
       "    }\n",
       "</style>\n",
       "<table border=\"1\" class=\"dataframe\">\n",
       "  <thead>\n",
       "    <tr style=\"text-align: right;\">\n",
       "      <th></th>\n",
       "      <th>Time</th>\n",
       "      <th>HEADING</th>\n",
       "      <th>RATE_OF_TURN</th>\n",
       "    </tr>\n",
       "    <tr>\n",
       "      <th>trip_id</th>\n",
       "      <th></th>\n",
       "      <th></th>\n",
       "      <th></th>\n",
       "    </tr>\n",
       "  </thead>\n",
       "  <tbody>\n",
       "    <tr>\n",
       "      <th>0</th>\n",
       "      <td>190119</td>\n",
       "      <td>190119</td>\n",
       "      <td>190119</td>\n",
       "    </tr>\n",
       "    <tr>\n",
       "      <th>5</th>\n",
       "      <td>1</td>\n",
       "      <td>1</td>\n",
       "      <td>1</td>\n",
       "    </tr>\n",
       "    <tr>\n",
       "      <th>9</th>\n",
       "      <td>1</td>\n",
       "      <td>1</td>\n",
       "      <td>1</td>\n",
       "    </tr>\n",
       "    <tr>\n",
       "      <th>10</th>\n",
       "      <td>1</td>\n",
       "      <td>1</td>\n",
       "      <td>1</td>\n",
       "    </tr>\n",
       "    <tr>\n",
       "      <th>18</th>\n",
       "      <td>3</td>\n",
       "      <td>3</td>\n",
       "      <td>3</td>\n",
       "    </tr>\n",
       "    <tr>\n",
       "      <th>...</th>\n",
       "      <td>...</td>\n",
       "      <td>...</td>\n",
       "      <td>...</td>\n",
       "    </tr>\n",
       "    <tr>\n",
       "      <th>4074</th>\n",
       "      <td>109</td>\n",
       "      <td>109</td>\n",
       "      <td>109</td>\n",
       "    </tr>\n",
       "    <tr>\n",
       "      <th>4076</th>\n",
       "      <td>106</td>\n",
       "      <td>106</td>\n",
       "      <td>106</td>\n",
       "    </tr>\n",
       "    <tr>\n",
       "      <th>4078</th>\n",
       "      <td>101</td>\n",
       "      <td>101</td>\n",
       "      <td>101</td>\n",
       "    </tr>\n",
       "    <tr>\n",
       "      <th>4080</th>\n",
       "      <td>100</td>\n",
       "      <td>100</td>\n",
       "      <td>100</td>\n",
       "    </tr>\n",
       "    <tr>\n",
       "      <th>4082</th>\n",
       "      <td>102</td>\n",
       "      <td>102</td>\n",
       "      <td>102</td>\n",
       "    </tr>\n",
       "  </tbody>\n",
       "</table>\n",
       "<p>1675 rows × 3 columns</p>\n",
       "</div>"
      ],
      "text/plain": [
       "           Time  HEADING  RATE_OF_TURN\n",
       "trip_id                               \n",
       "0        190119   190119        190119\n",
       "5             1        1             1\n",
       "9             1        1             1\n",
       "10            1        1             1\n",
       "18            3        3             3\n",
       "...         ...      ...           ...\n",
       "4074        109      109           109\n",
       "4076        106      106           106\n",
       "4078        101      101           101\n",
       "4080        100      100           100\n",
       "4082        102      102           102\n",
       "\n",
       "[1675 rows x 3 columns]"
      ]
     },
     "execution_count": 5,
     "metadata": {},
     "output_type": "execute_result"
    }
   ],
   "source": [
    "df[df.RATE_OF_TURN==0][[\"Time\", \"HEADING\", \"RATE_OF_TURN\", \"trip_id\"]].groupby([\"trip_id\"]).count()"
   ]
  },
  {
   "cell_type": "code",
   "execution_count": 11,
   "metadata": {},
   "outputs": [
    {
     "data": {
      "text/plain": [
       "trip_id\n",
       "2202    101.0\n",
       "2203    105.0\n",
       "2204    106.0\n",
       "2205    107.0\n",
       "2206    109.0\n",
       "        ...  \n",
       "4074    109.0\n",
       "4076    106.0\n",
       "4078    101.0\n",
       "4080    100.0\n",
       "4082    102.0\n",
       "Name: Dati, Length: 1058, dtype: float64"
      ]
     },
     "execution_count": 11,
     "metadata": {},
     "output_type": "execute_result"
    }
   ],
   "source": [
    "df[df.RATE_OF_TURN==0].groupby([\"trip_id\"]).count()[df[df.RATE_OF_TURN==0].groupby([\"trip_id\"]).count()>30].dropna()[\"Dati\"]"
   ]
  },
  {
   "cell_type": "code",
   "execution_count": 45,
   "metadata": {},
   "outputs": [
    {
     "data": {
      "text/html": [
       "<div>\n",
       "<style scoped>\n",
       "    .dataframe tbody tr th:only-of-type {\n",
       "        vertical-align: middle;\n",
       "    }\n",
       "\n",
       "    .dataframe tbody tr th {\n",
       "        vertical-align: top;\n",
       "    }\n",
       "\n",
       "    .dataframe thead th {\n",
       "        text-align: right;\n",
       "    }\n",
       "</style>\n",
       "<table border=\"1\" class=\"dataframe\">\n",
       "  <thead>\n",
       "    <tr style=\"text-align: right;\">\n",
       "      <th></th>\n",
       "      <th>Time</th>\n",
       "      <th>HEADING</th>\n",
       "      <th>RATE_OF_TURN</th>\n",
       "      <th>trip_id</th>\n",
       "    </tr>\n",
       "  </thead>\n",
       "  <tbody>\n",
       "    <tr>\n",
       "      <th>322506</th>\n",
       "      <td>1091301.0</td>\n",
       "      <td>179.5</td>\n",
       "      <td>0.0</td>\n",
       "      <td>4050</td>\n",
       "    </tr>\n",
       "    <tr>\n",
       "      <th>322507</th>\n",
       "      <td>1091302.0</td>\n",
       "      <td>181.3</td>\n",
       "      <td>0.0</td>\n",
       "      <td>4050</td>\n",
       "    </tr>\n",
       "    <tr>\n",
       "      <th>322508</th>\n",
       "      <td>1091303.0</td>\n",
       "      <td>198.5</td>\n",
       "      <td>0.0</td>\n",
       "      <td>4050</td>\n",
       "    </tr>\n",
       "    <tr>\n",
       "      <th>322509</th>\n",
       "      <td>1091304.0</td>\n",
       "      <td>226.1</td>\n",
       "      <td>0.0</td>\n",
       "      <td>4050</td>\n",
       "    </tr>\n",
       "    <tr>\n",
       "      <th>322510</th>\n",
       "      <td>1091305.0</td>\n",
       "      <td>241.9</td>\n",
       "      <td>0.0</td>\n",
       "      <td>4050</td>\n",
       "    </tr>\n",
       "    <tr>\n",
       "      <th>...</th>\n",
       "      <td>...</td>\n",
       "      <td>...</td>\n",
       "      <td>...</td>\n",
       "      <td>...</td>\n",
       "    </tr>\n",
       "    <tr>\n",
       "      <th>322603</th>\n",
       "      <td>1091398.0</td>\n",
       "      <td>356.5</td>\n",
       "      <td>0.0</td>\n",
       "      <td>4050</td>\n",
       "    </tr>\n",
       "    <tr>\n",
       "      <th>322604</th>\n",
       "      <td>1091399.0</td>\n",
       "      <td>357.2</td>\n",
       "      <td>0.0</td>\n",
       "      <td>4050</td>\n",
       "    </tr>\n",
       "    <tr>\n",
       "      <th>322605</th>\n",
       "      <td>1091400.0</td>\n",
       "      <td>3.2</td>\n",
       "      <td>0.0</td>\n",
       "      <td>4050</td>\n",
       "    </tr>\n",
       "    <tr>\n",
       "      <th>322606</th>\n",
       "      <td>1091401.0</td>\n",
       "      <td>4.6</td>\n",
       "      <td>0.0</td>\n",
       "      <td>4050</td>\n",
       "    </tr>\n",
       "    <tr>\n",
       "      <th>322607</th>\n",
       "      <td>1091402.0</td>\n",
       "      <td>5.7</td>\n",
       "      <td>0.0</td>\n",
       "      <td>4050</td>\n",
       "    </tr>\n",
       "  </tbody>\n",
       "</table>\n",
       "<p>102 rows × 4 columns</p>\n",
       "</div>"
      ],
      "text/plain": [
       "             Time  HEADING  RATE_OF_TURN  trip_id\n",
       "322506  1091301.0    179.5           0.0     4050\n",
       "322507  1091302.0    181.3           0.0     4050\n",
       "322508  1091303.0    198.5           0.0     4050\n",
       "322509  1091304.0    226.1           0.0     4050\n",
       "322510  1091305.0    241.9           0.0     4050\n",
       "...           ...      ...           ...      ...\n",
       "322603  1091398.0    356.5           0.0     4050\n",
       "322604  1091399.0    357.2           0.0     4050\n",
       "322605  1091400.0      3.2           0.0     4050\n",
       "322606  1091401.0      4.6           0.0     4050\n",
       "322607  1091402.0      5.7           0.0     4050\n",
       "\n",
       "[102 rows x 4 columns]"
      ]
     },
     "execution_count": 45,
     "metadata": {},
     "output_type": "execute_result"
    }
   ],
   "source": [
    "df[df.trip_id==4050][[\"Time\", \"HEADING\", \"RATE_OF_TURN\", \"trip_id\"]]"
   ]
  },
  {
   "cell_type": "code",
   "execution_count": 57,
   "metadata": {},
   "outputs": [],
   "source": [
    "df.drop([\"RATE_OF_TURN\"], axis=1, inplace=True)"
   ]
  },
  {
   "attachments": {},
   "cell_type": "markdown",
   "metadata": {},
   "source": [
    "### SOG\n",
    "outliers are lower SOGs, these low speed values are reasonable to have."
   ]
  },
  {
   "cell_type": "code",
   "execution_count": 118,
   "metadata": {},
   "outputs": [
    {
     "name": "stdout",
     "output_type": "stream",
     "text": [
      "16.216749999999998 21.62995\n",
      "0.0833 21.875\n"
     ]
    }
   ],
   "source": [
    "col = \"SOG\"\n",
    "q1 = df[col].quantile(.25)\n",
    "q3 = df[col].quantile(.75)\n",
    "IQR = q3 - q1\n",
    "lower = q1 - abs(1.5 * IQR)\n",
    "upper = q3 + abs(1.5 * IQR)\n",
    "print(lower, upper)\n",
    "print(df.SOG.min(), df.SOG.max())"
   ]
  },
  {
   "attachments": {},
   "cell_type": "markdown",
   "metadata": {},
   "source": [
    "### SOG_SPEEDLOG_TRANS\n",
    "the extreme values in SOG_SPEEDLOG_TRANS seems reasonable when comparing to corresponding SOG and SOG_SPEEDLOG_LONG"
   ]
  },
  {
   "cell_type": "code",
   "execution_count": 126,
   "metadata": {},
   "outputs": [
    {
     "name": "stdout",
     "output_type": "stream",
     "text": [
      "-1.11925 1.24755\n",
      "-4.3033 4.7467\n"
     ]
    },
    {
     "data": {
      "text/html": [
       "<div>\n",
       "<style scoped>\n",
       "    .dataframe tbody tr th:only-of-type {\n",
       "        vertical-align: middle;\n",
       "    }\n",
       "\n",
       "    .dataframe tbody tr th {\n",
       "        vertical-align: top;\n",
       "    }\n",
       "\n",
       "    .dataframe thead th {\n",
       "        text-align: right;\n",
       "    }\n",
       "</style>\n",
       "<table border=\"1\" class=\"dataframe\">\n",
       "  <thead>\n",
       "    <tr style=\"text-align: right;\">\n",
       "      <th></th>\n",
       "      <th>SOG</th>\n",
       "      <th>SOG_SPEEDLOG_TRANS</th>\n",
       "      <th>SOG_SPEEDLOG_LONG</th>\n",
       "      <th>computed_SOG</th>\n",
       "      <th>SOG_squred</th>\n",
       "    </tr>\n",
       "  </thead>\n",
       "  <tbody>\n",
       "  </tbody>\n",
       "</table>\n",
       "</div>"
      ],
      "text/plain": [
       "Empty DataFrame\n",
       "Columns: [SOG, SOG_SPEEDLOG_TRANS, SOG_SPEEDLOG_LONG, computed_SOG, SOG_squred]\n",
       "Index: []"
      ]
     },
     "execution_count": 126,
     "metadata": {},
     "output_type": "execute_result"
    }
   ],
   "source": [
    "col = \"SOG_SPEEDLOG_TRANS\"\n",
    "q1 = df[col].quantile(.25)\n",
    "q3 = df[col].quantile(.75)\n",
    "IQR = q3 - q1\n",
    "lower = q1 - abs(1.5 * IQR)\n",
    "upper = q3 + abs(1.5 * IQR)\n",
    "print(lower, upper)\n",
    "print(df.SOG_SPEEDLOG_TRANS.min(), df.SOG_SPEEDLOG_TRANS.max())\n",
    "tmp[\"computed_SOG\"] = df.SOG_SPEEDLOG_TRANS**2 + df.SOG_SPEEDLOG_LONG**2\n",
    "tmp[\"SOG_squred\"] = df.SOG ** 2\n",
    "tmp[(tmp.computed_SOG - tmp.SOG_squred)>3]"
   ]
  },
  {
   "attachments": {},
   "cell_type": "markdown",
   "metadata": {},
   "source": [
    "### SPEED_1\n",
    "the extreme values in speed_1 seems unreasonable when comparing to related fields\n",
    "remove them  and impute later."
   ]
  },
  {
   "cell_type": "code",
   "execution_count": 129,
   "metadata": {},
   "outputs": [
    {
     "data": {
      "text/html": [
       "<div>\n",
       "<style scoped>\n",
       "    .dataframe tbody tr th:only-of-type {\n",
       "        vertical-align: middle;\n",
       "    }\n",
       "\n",
       "    .dataframe tbody tr th {\n",
       "        vertical-align: top;\n",
       "    }\n",
       "\n",
       "    .dataframe thead th {\n",
       "        text-align: right;\n",
       "    }\n",
       "</style>\n",
       "<table border=\"1\" class=\"dataframe\">\n",
       "  <thead>\n",
       "    <tr style=\"text-align: right;\">\n",
       "      <th></th>\n",
       "      <th>SPEED_1</th>\n",
       "      <th>SPEED_2</th>\n",
       "      <th>POWER_1</th>\n",
       "      <th>POWER_2</th>\n",
       "    </tr>\n",
       "  </thead>\n",
       "  <tbody>\n",
       "    <tr>\n",
       "      <th>168303</th>\n",
       "      <td>-1750.5303</td>\n",
       "      <td>915.1393</td>\n",
       "      <td>18.9395</td>\n",
       "      <td>1154.2505</td>\n",
       "    </tr>\n",
       "  </tbody>\n",
       "</table>\n",
       "</div>"
      ],
      "text/plain": [
       "          SPEED_1   SPEED_2  POWER_1    POWER_2\n",
       "168303 -1750.5303  915.1393  18.9395  1154.2505"
      ]
     },
     "execution_count": 129,
     "metadata": {},
     "output_type": "execute_result"
    }
   ],
   "source": [
    "col = \"SPEED_1\"\n",
    "q1 = df[col].quantile(.25)\n",
    "q3 = df[col].quantile(.75)\n",
    "IQR = q3 - q1\n",
    "lower = q1 - abs(1.5 * IQR)\n",
    "upper = q3 + abs(1.5 * IQR)\n",
    "tmp = df[(df[col]<lower) | (df[col]>upper)][[\"SPEED_1\", \"SPEED_2\", \"POWER_1\", \"POWER_2\"]]\n",
    "tmp"
   ]
  },
  {
   "cell_type": "code",
   "execution_count": 14,
   "metadata": {},
   "outputs": [],
   "source": [
    "df.loc[168303, \"SPEED_1\"] = np.nan"
   ]
  },
  {
   "attachments": {},
   "cell_type": "markdown",
   "metadata": {},
   "source": [
    "### STW\n",
    "Similar to SOG, outliers are lower STWs, these low speed values are reasonable to have."
   ]
  },
  {
   "cell_type": "code",
   "execution_count": 135,
   "metadata": {},
   "outputs": [
    {
     "name": "stdout",
     "output_type": "stream",
     "text": [
      "15.958200000000003 22.0518\n",
      "0.0367 27.72\n"
     ]
    }
   ],
   "source": [
    "col = \"STW\"\n",
    "q1 = df[col].quantile(.25)\n",
    "q3 = df[col].quantile(.75)\n",
    "IQR = q3 - q1\n",
    "lower = q1 - abs(1.5 * IQR)\n",
    "upper = q3 + abs(1.5 * IQR)\n",
    "print(lower, upper)\n",
    "print(df.STW.min(), df.STW.max())"
   ]
  },
  {
   "attachments": {},
   "cell_type": "markdown",
   "metadata": {},
   "source": [
    "### WIND_SPEED_TRUE"
   ]
  },
  {
   "cell_type": "code",
   "execution_count": 136,
   "metadata": {},
   "outputs": [
    {
     "data": {
      "text/html": [
       "<div>\n",
       "<style scoped>\n",
       "    .dataframe tbody tr th:only-of-type {\n",
       "        vertical-align: middle;\n",
       "    }\n",
       "\n",
       "    .dataframe tbody tr th {\n",
       "        vertical-align: top;\n",
       "    }\n",
       "\n",
       "    .dataframe thead th {\n",
       "        text-align: right;\n",
       "    }\n",
       "</style>\n",
       "<table border=\"1\" class=\"dataframe\">\n",
       "  <thead>\n",
       "    <tr style=\"text-align: right;\">\n",
       "      <th></th>\n",
       "      <th>WIND_SPEED</th>\n",
       "      <th>WIND_SPEED_TRUE</th>\n",
       "      <th>WIND_ANGLE</th>\n",
       "      <th>WIND_ANGLE_TRUE</th>\n",
       "    </tr>\n",
       "  </thead>\n",
       "  <tbody>\n",
       "    <tr>\n",
       "      <th>45146</th>\n",
       "      <td>57.2433</td>\n",
       "      <td>76.1710</td>\n",
       "      <td>8.0</td>\n",
       "      <td>85.8333</td>\n",
       "    </tr>\n",
       "    <tr>\n",
       "      <th>53774</th>\n",
       "      <td>57.3625</td>\n",
       "      <td>76.5931</td>\n",
       "      <td>7.0</td>\n",
       "      <td>76.0359</td>\n",
       "    </tr>\n",
       "    <tr>\n",
       "      <th>144429</th>\n",
       "      <td>62.4653</td>\n",
       "      <td>80.6130</td>\n",
       "      <td>8.0</td>\n",
       "      <td>81.0367</td>\n",
       "    </tr>\n",
       "    <tr>\n",
       "      <th>333417</th>\n",
       "      <td>59.7640</td>\n",
       "      <td>78.0139</td>\n",
       "      <td>359.0</td>\n",
       "      <td>32.0439</td>\n",
       "    </tr>\n",
       "    <tr>\n",
       "      <th>339833</th>\n",
       "      <td>61.3587</td>\n",
       "      <td>77.7006</td>\n",
       "      <td>36.0</td>\n",
       "      <td>-73.9282</td>\n",
       "    </tr>\n",
       "    <tr>\n",
       "      <th>404834</th>\n",
       "      <td>65.9267</td>\n",
       "      <td>83.8146</td>\n",
       "      <td>18.0</td>\n",
       "      <td>87.3742</td>\n",
       "    </tr>\n",
       "    <tr>\n",
       "      <th>410082</th>\n",
       "      <td>60.5967</td>\n",
       "      <td>78.6006</td>\n",
       "      <td>355.0</td>\n",
       "      <td>64.0122</td>\n",
       "    </tr>\n",
       "    <tr>\n",
       "      <th>493413</th>\n",
       "      <td>64.6753</td>\n",
       "      <td>81.5418</td>\n",
       "      <td>21.0</td>\n",
       "      <td>-86.2750</td>\n",
       "    </tr>\n",
       "    <tr>\n",
       "      <th>605420</th>\n",
       "      <td>61.2540</td>\n",
       "      <td>77.0383</td>\n",
       "      <td>31.0</td>\n",
       "      <td>-77.2211</td>\n",
       "    </tr>\n",
       "    <tr>\n",
       "      <th>727370</th>\n",
       "      <td>59.3053</td>\n",
       "      <td>77.0326</td>\n",
       "      <td>21.0</td>\n",
       "      <td>88.4293</td>\n",
       "    </tr>\n",
       "  </tbody>\n",
       "</table>\n",
       "</div>"
      ],
      "text/plain": [
       "        WIND_SPEED  WIND_SPEED_TRUE  WIND_ANGLE  WIND_ANGLE_TRUE\n",
       "45146      57.2433          76.1710         8.0          85.8333\n",
       "53774      57.3625          76.5931         7.0          76.0359\n",
       "144429     62.4653          80.6130         8.0          81.0367\n",
       "333417     59.7640          78.0139       359.0          32.0439\n",
       "339833     61.3587          77.7006        36.0         -73.9282\n",
       "404834     65.9267          83.8146        18.0          87.3742\n",
       "410082     60.5967          78.6006       355.0          64.0122\n",
       "493413     64.6753          81.5418        21.0         -86.2750\n",
       "605420     61.2540          77.0383        31.0         -77.2211\n",
       "727370     59.3053          77.0326        21.0          88.4293"
      ]
     },
     "execution_count": 136,
     "metadata": {},
     "output_type": "execute_result"
    }
   ],
   "source": [
    "col = \"WIND_SPEED_TRUE\"\n",
    "q1 = df[col].quantile(.25)\n",
    "q3 = df[col].quantile(.75)\n",
    "IQR = q3 - q1\n",
    "lower = q1 - abs(1.5 * IQR)\n",
    "upper = q3 + abs(1.5 * IQR)\n",
    "tmp = df[(df[col]<lower) | (df[col]>upper)][[\"WIND_SPEED\", \"WIND_SPEED_TRUE\", \"WIND_ANGLE\", \"WIND_ANGLE_TRUE\"]]\n",
    "tmp"
   ]
  },
  {
   "cell_type": "code",
   "execution_count": 15,
   "metadata": {},
   "outputs": [],
   "source": [
    "outlier_indexes = list(tmp.index)\n",
    "for index in outlier_indexes:\n",
    "    df.loc[index, \"WIND_SPEED\"] = np.nan\n",
    "    df.loc[index, \"WIND_SPEED_TRUE\"] = np.nan"
   ]
  },
  {
   "cell_type": "code",
   "execution_count": 58,
   "metadata": {},
   "outputs": [],
   "source": [
    "df = df.to_csv(\"../../df_outlier_removed.csv\", index=False)"
   ]
  },
  {
   "cell_type": "code",
   "execution_count": 86,
   "metadata": {},
   "outputs": [],
   "source": [
    "df = pd.read_csv(\"../../df_outlier_removed.csv\")"
   ]
  },
  {
   "cell_type": "code",
   "execution_count": 87,
   "metadata": {},
   "outputs": [],
   "source": [
    "# kalman filter to impute missing values\n",
    "def impute_missing_values(data, transition_matrices, observation_matrices, transition_covariance,\n",
    "                          observation_covariance, initial_state_mean, initial_state_covariance):\n",
    "    kf = KalmanFilter(transition_matrices=transition_matrices,\n",
    "                      observation_matrices=observation_matrices,\n",
    "                      transition_covariance=transition_covariance,\n",
    "                      observation_covariance=observation_covariance,\n",
    "                      initial_state_mean=initial_state_mean,\n",
    "                      initial_state_covariance=initial_state_covariance)\n",
    "    \n",
    "    # Create a mask indicating missing values\n",
    "    mask = np.isnan(data)\n",
    "    filtered_state_means, _ = kf.filter(data)\n",
    "    \n",
    "    # Replace missing values with imputed values\n",
    "    imputed_data = data.copy()\n",
    "    imputed_data[mask] = filtered_state_means[mask]\n",
    "    \n",
    "    return imputed_data"
   ]
  },
  {
   "attachments": {},
   "cell_type": "markdown",
   "metadata": {},
   "source": [
    "### Add an empty line for each missing time within trips"
   ]
  },
  {
   "cell_type": "code",
   "execution_count": 88,
   "metadata": {},
   "outputs": [],
   "source": [
    "# This \n",
    "def missing_time(df):\n",
    "    missing_dict = {}\n",
    "    for trip_id in (df.trip_id.unique()):\n",
    "        tmp_df = df[df.trip_id==trip_id]\n",
    "        fill_in = tmp_df.Time.max()\n",
    "        tmp_df[\"time_up\"] = tmp_df[\"Time\"].shift(periods=-1, fill_value=fill_in)\n",
    "        tmp_df[\"time_diff\"] = tmp_df[\"time_up\"] - tmp_df[\"Time\"]\n",
    "        missing = tmp_df[tmp_df[\"time_diff\"]>1]\n",
    "        if len(missing)>0:\n",
    "            missing_list = []\n",
    "            for i in list(missing.index):\n",
    "                start = int(missing.loc[i, \"Time\"]+1)\n",
    "                end = int(missing.loc[i, \"Time\"]+missing.loc[i, \"time_diff\"])\n",
    "                missing_list = missing_list + [ x for x in range(start, end)]\n",
    "            missing_dict[trip_id] = missing_list\n",
    "            # missing_time = missing_time + list(tmp_df[tmp_df[\"time_diff\"]>1].Time)\n",
    "    return missing_dict"
   ]
  },
  {
   "cell_type": "code",
   "execution_count": 89,
   "metadata": {},
   "outputs": [
    {
     "name": "stderr",
     "output_type": "stream",
     "text": [
      "/Users/yim/.local/lib/python3.7/site-packages/ipykernel_launcher.py:7: SettingWithCopyWarning: \n",
      "A value is trying to be set on a copy of a slice from a DataFrame.\n",
      "Try using .loc[row_indexer,col_indexer] = value instead\n",
      "\n",
      "See the caveats in the documentation: https://pandas.pydata.org/pandas-docs/stable/user_guide/indexing.html#returning-a-view-versus-a-copy\n",
      "  import sys\n",
      "/Users/yim/.local/lib/python3.7/site-packages/ipykernel_launcher.py:8: SettingWithCopyWarning: \n",
      "A value is trying to be set on a copy of a slice from a DataFrame.\n",
      "Try using .loc[row_indexer,col_indexer] = value instead\n",
      "\n",
      "See the caveats in the documentation: https://pandas.pydata.org/pandas-docs/stable/user_guide/indexing.html#returning-a-view-versus-a-copy\n",
      "  \n"
     ]
    }
   ],
   "source": [
    "missing = missing_time(df)"
   ]
  },
  {
   "cell_type": "code",
   "execution_count": 90,
   "metadata": {},
   "outputs": [
    {
     "data": {
      "text/plain": [
       "113"
      ]
     },
     "execution_count": 90,
     "metadata": {},
     "output_type": "execute_result"
    }
   ],
   "source": [
    "len(missing)"
   ]
  },
  {
   "cell_type": "code",
   "execution_count": 91,
   "metadata": {},
   "outputs": [],
   "source": [
    "for trip_id in missing.keys():\n",
    "    for time in missing[trip_id]:\n",
    "        df.loc[len(df)] = {\"Time\":time, \"trip_id\":trip_id}\n",
    "df = df.sort_values(\"Time\").reset_index(drop=True)"
   ]
  },
  {
   "attachments": {},
   "cell_type": "markdown",
   "metadata": {},
   "source": [
    "### Impute missing"
   ]
  },
  {
   "cell_type": "code",
   "execution_count": 92,
   "metadata": {},
   "outputs": [
    {
     "data": {
      "text/plain": [
       "Index(['index', 'Dati', 'Time', 'DEPTH', 'ENGINE_1_FLOWTEMPA',\n",
       "       'ENGINE_1_FUEL_CONSUMPTION', 'ENGINE_2_FLOWTEMPA',\n",
       "       'ENGINE_2_FUEL_CONSUMPTION', 'HEADING', 'LATITUDE', 'LONGITUDE',\n",
       "       'PITCH_1', 'PITCH_2', 'POWER_1', 'POWER_2', 'SOG', 'SOG_SPEEDLOG_LONG',\n",
       "       'SOG_SPEEDLOG_TRANS', 'SPEED_1', 'SPEED_2', 'STW', 'THRUST_1',\n",
       "       'THRUST_2', 'TORQUE_1', 'TORQUE_2', 'WIND_ANGLE', 'WIND_SPEED',\n",
       "       'WIND_ANGLE_TRUE', 'WIND_SPEED_TRUE', 'trip_id'],\n",
       "      dtype='object')"
      ]
     },
     "execution_count": 92,
     "metadata": {},
     "output_type": "execute_result"
    }
   ],
   "source": [
    "df.columns"
   ]
  },
  {
   "cell_type": "code",
   "execution_count": 93,
   "metadata": {},
   "outputs": [],
   "source": [
    "def impute_Dati(df):\n",
    "    missing = (df[pd.isna(df.Dati)].index)\n",
    "    for i in missing:\n",
    "        previous_dt = pd.to_datetime(df.loc[i-1].Dati, format='%y%m%d_%H%M%S')\n",
    "        dt = (previous_dt +  datetime.timedelta(minutes=1)).strftime('%y%m%d_%H%M%S')\n",
    "        df.loc[i, \"Dati\"] = dt\n",
    "impute_Dati(df)"
   ]
  },
  {
   "cell_type": "code",
   "execution_count": 94,
   "metadata": {},
   "outputs": [],
   "source": [
    "def impute_mode(df, cols):\n",
    "    for col in cols:\n",
    "        mode = df[col].mode()\n",
    "        df[col] = df[col].fillna(mode)\n",
    "impute_mode(df, [\"DEPTH\"])"
   ]
  },
  {
   "cell_type": "code",
   "execution_count": 95,
   "metadata": {},
   "outputs": [],
   "source": [
    "def impute_mean_within_trips(df, cols):\n",
    "    for col in cols:\n",
    "        na_trips = df[df[col].isna()].trip_id.unique()\n",
    "        for trip in na_trips:\n",
    "            tmp_df = df[df.trip_id==trip]\n",
    "            missing = list(tmp_df[tmp_df[col].isna()].index)\n",
    "            mean = tmp_df[col].mean()\n",
    "            df.loc[missing, col] = mean\n",
    "impute_mean_within_trips(df, [\"HEADING\", \"WIND_SPEED\", \"WIND_SPEED_TRUE\", \"WIND_ANGLE\", \"WIND_ANGLE_TRUE\"])"
   ]
  },
  {
   "cell_type": "code",
   "execution_count": 96,
   "metadata": {},
   "outputs": [
    {
     "data": {
      "text/plain": [
       "DEPTH                        187\n",
       "ENGINE_1_FLOWTEMPA           187\n",
       "ENGINE_1_FUEL_CONSUMPTION    187\n",
       "ENGINE_2_FLOWTEMPA           187\n",
       "ENGINE_2_FUEL_CONSUMPTION    187\n",
       "LATITUDE                     187\n",
       "LONGITUDE                    187\n",
       "PITCH_1                      187\n",
       "PITCH_2                      187\n",
       "POWER_1                      187\n",
       "POWER_2                      187\n",
       "SOG                          187\n",
       "SOG_SPEEDLOG_LONG            187\n",
       "SOG_SPEEDLOG_TRANS           187\n",
       "SPEED_1                      188\n",
       "SPEED_2                      187\n",
       "STW                          187\n",
       "THRUST_1                     187\n",
       "THRUST_2                     187\n",
       "TORQUE_1                     187\n",
       "TORQUE_2                     187\n",
       "dtype: int64"
      ]
     },
     "execution_count": 96,
     "metadata": {},
     "output_type": "execute_result"
    }
   ],
   "source": [
    "df.isna().sum()[df.isna().sum()>0]"
   ]
  },
  {
   "cell_type": "code",
   "execution_count": 97,
   "metadata": {},
   "outputs": [],
   "source": [
    "def impute_missing(df, cols):\n",
    "    for col in cols:\n",
    "        na_trips = df[df[col].isna()].trip_id.unique()\n",
    "        for trip in na_trips:\n",
    "            tmp_df = df[df.trip_id==trip]\n",
    "            missing = list(tmp_df[tmp_df[col].isna()].index)\n",
    "            prev_val = df.loc[missing[0]-1, col]\n",
    "            after_val = df.loc[missing[-1]+1, col]\n",
    "            if len(missing) > 1:\n",
    "                impute_diff = (after_val- prev_val)/(missing[-1]-missing[0]+1)\n",
    "            else:\n",
    "                impute_diff = (after_val- prev_val)/2\n",
    "            for i in range(len(missing)):\n",
    "                df.loc[missing[i], col] = prev_val + impute_diff*(i+1)\n",
    "impute_missing(df, df.columns)"
   ]
  },
  {
   "cell_type": "code",
   "execution_count": 98,
   "metadata": {},
   "outputs": [
    {
     "data": {
      "text/plain": [
       "Series([], dtype: int64)"
      ]
     },
     "execution_count": 98,
     "metadata": {},
     "output_type": "execute_result"
    }
   ],
   "source": [
    "df.isna().sum()[df.isna().sum()>0]"
   ]
  },
  {
   "cell_type": "code",
   "execution_count": 102,
   "metadata": {},
   "outputs": [],
   "source": [
    "df.to_csv(\"../../df_naive_impute.csv\", index=False)"
   ]
  }
 ],
 "metadata": {
  "kernelspec": {
   "display_name": "base",
   "language": "python",
   "name": "python3"
  },
  "language_info": {
   "codemirror_mode": {
    "name": "ipython",
    "version": 3
   },
   "file_extension": ".py",
   "mimetype": "text/x-python",
   "name": "python",
   "nbconvert_exporter": "python",
   "pygments_lexer": "ipython3",
   "version": "3.7.6"
  },
  "orig_nbformat": 4
 },
 "nbformat": 4,
 "nbformat_minor": 2
}
